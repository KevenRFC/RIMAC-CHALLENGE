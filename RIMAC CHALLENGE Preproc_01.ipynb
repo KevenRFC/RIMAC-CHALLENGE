{
 "cells": [
  {
   "cell_type": "markdown",
   "metadata": {},
   "source": [
    "# IMPORTAR DATOS"
   ]
  },
  {
   "cell_type": "code",
   "execution_count": 382,
   "metadata": {
    "collapsed": false
   },
   "outputs": [
    {
     "name": "stdout",
     "output_type": "stream",
     "text": [
      "\f",
      "\n"
     ]
    }
   ],
   "source": [
    "clear()"
   ]
  },
  {
   "cell_type": "code",
   "execution_count": 383,
   "metadata": {
    "collapsed": true
   },
   "outputs": [],
   "source": [
    "import pandas as pd\n",
    "import numpy as np"
   ]
  },
  {
   "cell_type": "markdown",
   "metadata": {},
   "source": [
    "## Cargar Base vehiculos"
   ]
  },
  {
   "cell_type": "code",
   "execution_count": 384,
   "metadata": {
    "collapsed": false,
    "scrolled": true
   },
   "outputs": [
    {
     "data": {
      "text/html": [
       "<div>\n",
       "<table border=\"1\" class=\"dataframe\">\n",
       "  <thead>\n",
       "    <tr style=\"text-align: right;\">\n",
       "      <th></th>\n",
       "      <th>PERIODO</th>\n",
       "      <th>NSE_RIMAC</th>\n",
       "      <th>NUM_PRODUCTOS</th>\n",
       "      <th>SEGMENTO_INTERNO</th>\n",
       "      <th>OK</th>\n",
       "      <th>CPP</th>\n",
       "      <th>DEFICIENTE</th>\n",
       "      <th>DUDOSO</th>\n",
       "      <th>PERDIDA</th>\n",
       "      <th>DEUDA_HIINI</th>\n",
       "      <th>...</th>\n",
       "      <th>ANOFABRIC</th>\n",
       "      <th>SUMASEG</th>\n",
       "      <th>NRO_SINIESTROS</th>\n",
       "      <th>MTO_SINIESTROS</th>\n",
       "      <th>FECHA_FIN</th>\n",
       "      <th>FECHA_INICIO</th>\n",
       "      <th>CUC</th>\n",
       "      <th>P_AUTO</th>\n",
       "      <th>ID_UNICO</th>\n",
       "      <th>ID_POLIZA</th>\n",
       "    </tr>\n",
       "  </thead>\n",
       "  <tbody>\n",
       "    <tr>\n",
       "      <th>0</th>\n",
       "      <td>201303</td>\n",
       "      <td>C2</td>\n",
       "      <td>1.0</td>\n",
       "      <td>6.MASIVO</td>\n",
       "      <td>NaN</td>\n",
       "      <td>NaN</td>\n",
       "      <td>NaN</td>\n",
       "      <td>NaN</td>\n",
       "      <td>NaN</td>\n",
       "      <td>NaN</td>\n",
       "      <td>...</td>\n",
       "      <td>2013.0</td>\n",
       "      <td>14780.0</td>\n",
       "      <td>0.0</td>\n",
       "      <td>0.0</td>\n",
       "      <td>2014-02-01</td>\n",
       "      <td>2013-03-01</td>\n",
       "      <td>4-33334660</td>\n",
       "      <td>G8T792</td>\n",
       "      <td>4-33334660-G8T792</td>\n",
       "      <td>6307555641</td>\n",
       "    </tr>\n",
       "    <tr>\n",
       "      <th>1</th>\n",
       "      <td>201304</td>\n",
       "      <td>C2</td>\n",
       "      <td>1.0</td>\n",
       "      <td>6.MASIVO</td>\n",
       "      <td>NaN</td>\n",
       "      <td>NaN</td>\n",
       "      <td>NaN</td>\n",
       "      <td>NaN</td>\n",
       "      <td>NaN</td>\n",
       "      <td>NaN</td>\n",
       "      <td>...</td>\n",
       "      <td>2013.0</td>\n",
       "      <td>14780.0</td>\n",
       "      <td>0.0</td>\n",
       "      <td>0.0</td>\n",
       "      <td>2014-02-01</td>\n",
       "      <td>2013-03-01</td>\n",
       "      <td>4-33334660</td>\n",
       "      <td>G8T792</td>\n",
       "      <td>4-33334660-G8T792</td>\n",
       "      <td>6307555641</td>\n",
       "    </tr>\n",
       "    <tr>\n",
       "      <th>2</th>\n",
       "      <td>201305</td>\n",
       "      <td>C2</td>\n",
       "      <td>1.0</td>\n",
       "      <td>6.MASIVO</td>\n",
       "      <td>NaN</td>\n",
       "      <td>NaN</td>\n",
       "      <td>NaN</td>\n",
       "      <td>NaN</td>\n",
       "      <td>NaN</td>\n",
       "      <td>NaN</td>\n",
       "      <td>...</td>\n",
       "      <td>2013.0</td>\n",
       "      <td>14780.0</td>\n",
       "      <td>0.0</td>\n",
       "      <td>0.0</td>\n",
       "      <td>2014-02-01</td>\n",
       "      <td>2013-03-01</td>\n",
       "      <td>4-33334660</td>\n",
       "      <td>G8T792</td>\n",
       "      <td>4-33334660-G8T792</td>\n",
       "      <td>6307555641</td>\n",
       "    </tr>\n",
       "    <tr>\n",
       "      <th>3</th>\n",
       "      <td>201306</td>\n",
       "      <td>C2</td>\n",
       "      <td>1.0</td>\n",
       "      <td>6.MASIVO</td>\n",
       "      <td>NaN</td>\n",
       "      <td>NaN</td>\n",
       "      <td>NaN</td>\n",
       "      <td>NaN</td>\n",
       "      <td>NaN</td>\n",
       "      <td>NaN</td>\n",
       "      <td>...</td>\n",
       "      <td>2013.0</td>\n",
       "      <td>14780.0</td>\n",
       "      <td>0.0</td>\n",
       "      <td>0.0</td>\n",
       "      <td>2014-02-01</td>\n",
       "      <td>2013-03-01</td>\n",
       "      <td>4-33334660</td>\n",
       "      <td>G8T792</td>\n",
       "      <td>4-33334660-G8T792</td>\n",
       "      <td>6307555641</td>\n",
       "    </tr>\n",
       "    <tr>\n",
       "      <th>4</th>\n",
       "      <td>201307</td>\n",
       "      <td>C2</td>\n",
       "      <td>1.0</td>\n",
       "      <td>6.MASIVO</td>\n",
       "      <td>NaN</td>\n",
       "      <td>NaN</td>\n",
       "      <td>NaN</td>\n",
       "      <td>NaN</td>\n",
       "      <td>NaN</td>\n",
       "      <td>NaN</td>\n",
       "      <td>...</td>\n",
       "      <td>2013.0</td>\n",
       "      <td>14780.0</td>\n",
       "      <td>0.0</td>\n",
       "      <td>0.0</td>\n",
       "      <td>2014-02-01</td>\n",
       "      <td>2013-03-01</td>\n",
       "      <td>4-33334660</td>\n",
       "      <td>G8T792</td>\n",
       "      <td>4-33334660-G8T792</td>\n",
       "      <td>6307555641</td>\n",
       "    </tr>\n",
       "  </tbody>\n",
       "</table>\n",
       "<p>5 rows × 34 columns</p>\n",
       "</div>"
      ],
      "text/plain": [
       "   PERIODO NSE_RIMAC  NUM_PRODUCTOS SEGMENTO_INTERNO  OK  CPP  DEFICIENTE  \\\n",
       "0   201303        C2            1.0         6.MASIVO NaN  NaN         NaN   \n",
       "1   201304        C2            1.0         6.MASIVO NaN  NaN         NaN   \n",
       "2   201305        C2            1.0         6.MASIVO NaN  NaN         NaN   \n",
       "3   201306        C2            1.0         6.MASIVO NaN  NaN         NaN   \n",
       "4   201307        C2            1.0         6.MASIVO NaN  NaN         NaN   \n",
       "\n",
       "   DUDOSO  PERDIDA  DEUDA_HIINI     ...      ANOFABRIC  SUMASEG  \\\n",
       "0     NaN      NaN          NaN     ...         2013.0  14780.0   \n",
       "1     NaN      NaN          NaN     ...         2013.0  14780.0   \n",
       "2     NaN      NaN          NaN     ...         2013.0  14780.0   \n",
       "3     NaN      NaN          NaN     ...         2013.0  14780.0   \n",
       "4     NaN      NaN          NaN     ...         2013.0  14780.0   \n",
       "\n",
       "   NRO_SINIESTROS  MTO_SINIESTROS   FECHA_FIN  FECHA_INICIO         CUC  \\\n",
       "0             0.0             0.0  2014-02-01    2013-03-01  4-33334660   \n",
       "1             0.0             0.0  2014-02-01    2013-03-01  4-33334660   \n",
       "2             0.0             0.0  2014-02-01    2013-03-01  4-33334660   \n",
       "3             0.0             0.0  2014-02-01    2013-03-01  4-33334660   \n",
       "4             0.0             0.0  2014-02-01    2013-03-01  4-33334660   \n",
       "\n",
       "   P_AUTO           ID_UNICO   ID_POLIZA  \n",
       "0  G8T792  4-33334660-G8T792  6307555641  \n",
       "1  G8T792  4-33334660-G8T792  6307555641  \n",
       "2  G8T792  4-33334660-G8T792  6307555641  \n",
       "3  G8T792  4-33334660-G8T792  6307555641  \n",
       "4  G8T792  4-33334660-G8T792  6307555641  \n",
       "\n",
       "[5 rows x 34 columns]"
      ]
     },
     "execution_count": 384,
     "metadata": {},
     "output_type": "execute_result"
    }
   ],
   "source": [
    "bd_vehiculos_ori = pd.read_csv('C:/Users/Keven/Desktop/RIMAC_CHALLENGE/Data/BD_VEHICULOS.csv', sep = ',', encoding='latin-1')\n",
    "bd_vehiculos_ori = bd_vehiculos_ori.ix[:,2:]\n",
    "bd_vehiculos_ori.head()"
   ]
  },
  {
   "cell_type": "code",
   "execution_count": 385,
   "metadata": {
    "collapsed": false
   },
   "outputs": [
    {
     "name": "stdout",
     "output_type": "stream",
     "text": [
      "<class 'pandas.core.frame.DataFrame'>\n",
      "RangeIndex: 1807616 entries, 0 to 1807615\n",
      "Data columns (total 34 columns):\n",
      "PERIODO              int64\n",
      "NSE_RIMAC            object\n",
      "NUM_PRODUCTOS        float64\n",
      "SEGMENTO_INTERNO     object\n",
      "OK                   float64\n",
      "CPP                  float64\n",
      "DEFICIENTE           float64\n",
      "DUDOSO               float64\n",
      "PERDIDA              float64\n",
      "DEUDA_HIINI          float64\n",
      "SALDO_SBS            float64\n",
      "SALDO_TC_SBS         float64\n",
      "SALDO_VEH_SBS        float64\n",
      "SALDO_HIP_SBS        float64\n",
      "SALDO_PP_SBS         float64\n",
      "SALDO_MICRO_SBS      float64\n",
      "SALDO_PEQUENA_SBS    float64\n",
      "SALDO_OTROS          float64\n",
      "PRIMA_TOTAL          float64\n",
      "PRIMA                float64\n",
      "CANALDES             object\n",
      "CLASEVEHDES          object\n",
      "MARCAVEHDES          object\n",
      "USOVEHDES            object\n",
      "ANOFABRIC            float64\n",
      "SUMASEG              float64\n",
      "NRO_SINIESTROS       float64\n",
      "MTO_SINIESTROS       float64\n",
      "FECHA_FIN            object\n",
      "FECHA_INICIO         object\n",
      "CUC                  object\n",
      "P_AUTO               object\n",
      "ID_UNICO             object\n",
      "ID_POLIZA            int64\n",
      "dtypes: float64(21), int64(2), object(11)\n",
      "memory usage: 468.9+ MB\n"
     ]
    }
   ],
   "source": [
    "bd_vehiculos_ori.info() "
   ]
  },
  {
   "cell_type": "code",
   "execution_count": 386,
   "metadata": {
    "collapsed": false
   },
   "outputs": [],
   "source": [
    "#bd_vehiculos = bd_vehiculos_ori[bd_vehiculos_ori['PERIODO']/100>2016]\n",
    "bd_vehiculos = bd_vehiculos_ori"
   ]
  },
  {
   "cell_type": "code",
   "execution_count": 387,
   "metadata": {
    "collapsed": false
   },
   "outputs": [
    {
     "data": {
      "text/html": [
       "<div>\n",
       "<table border=\"1\" class=\"dataframe\">\n",
       "  <thead>\n",
       "    <tr style=\"text-align: right;\">\n",
       "      <th></th>\n",
       "      <th>PERIODO</th>\n",
       "      <th>NUM_PRODUCTOS</th>\n",
       "      <th>OK</th>\n",
       "      <th>CPP</th>\n",
       "      <th>DEFICIENTE</th>\n",
       "      <th>DUDOSO</th>\n",
       "      <th>PERDIDA</th>\n",
       "      <th>DEUDA_HIINI</th>\n",
       "      <th>SALDO_SBS</th>\n",
       "      <th>SALDO_TC_SBS</th>\n",
       "      <th>...</th>\n",
       "      <th>SALDO_MICRO_SBS</th>\n",
       "      <th>SALDO_PEQUENA_SBS</th>\n",
       "      <th>SALDO_OTROS</th>\n",
       "      <th>PRIMA_TOTAL</th>\n",
       "      <th>PRIMA</th>\n",
       "      <th>ANOFABRIC</th>\n",
       "      <th>SUMASEG</th>\n",
       "      <th>NRO_SINIESTROS</th>\n",
       "      <th>MTO_SINIESTROS</th>\n",
       "      <th>ID_POLIZA</th>\n",
       "    </tr>\n",
       "  </thead>\n",
       "  <tbody>\n",
       "    <tr>\n",
       "      <th>count</th>\n",
       "      <td>1.807616e+06</td>\n",
       "      <td>1.803617e+06</td>\n",
       "      <td>1.624535e+06</td>\n",
       "      <td>1.624535e+06</td>\n",
       "      <td>1.624535e+06</td>\n",
       "      <td>1.624535e+06</td>\n",
       "      <td>1.624535e+06</td>\n",
       "      <td>1.624535e+06</td>\n",
       "      <td>1.624535e+06</td>\n",
       "      <td>1.624535e+06</td>\n",
       "      <td>...</td>\n",
       "      <td>1.624535e+06</td>\n",
       "      <td>1.624535e+06</td>\n",
       "      <td>1.624535e+06</td>\n",
       "      <td>1.807616e+06</td>\n",
       "      <td>1.807616e+06</td>\n",
       "      <td>1.799458e+06</td>\n",
       "      <td>1.787896e+06</td>\n",
       "      <td>1.807616e+06</td>\n",
       "      <td>1.807616e+06</td>\n",
       "      <td>1.807616e+06</td>\n",
       "    </tr>\n",
       "    <tr>\n",
       "      <th>mean</th>\n",
       "      <td>2.015028e+05</td>\n",
       "      <td>2.051611e+00</td>\n",
       "      <td>8.474212e+01</td>\n",
       "      <td>1.449083e+00</td>\n",
       "      <td>6.380911e-01</td>\n",
       "      <td>7.281850e-01</td>\n",
       "      <td>3.168422e+00</td>\n",
       "      <td>1.511762e+06</td>\n",
       "      <td>1.046210e+05</td>\n",
       "      <td>1.237139e+04</td>\n",
       "      <td>...</td>\n",
       "      <td>7.317665e+02</td>\n",
       "      <td>5.318754e+03</td>\n",
       "      <td>1.430851e+04</td>\n",
       "      <td>7.199485e+02</td>\n",
       "      <td>7.198287e+02</td>\n",
       "      <td>2.011257e+03</td>\n",
       "      <td>1.849850e+04</td>\n",
       "      <td>3.511531e-02</td>\n",
       "      <td>6.665090e+01</td>\n",
       "      <td>7.928197e+09</td>\n",
       "    </tr>\n",
       "    <tr>\n",
       "      <th>std</th>\n",
       "      <td>9.668718e+01</td>\n",
       "      <td>1.199787e+00</td>\n",
       "      <td>3.520982e+01</td>\n",
       "      <td>1.031444e+01</td>\n",
       "      <td>6.848463e+00</td>\n",
       "      <td>7.075058e+00</td>\n",
       "      <td>1.690391e+01</td>\n",
       "      <td>7.880948e+06</td>\n",
       "      <td>3.748886e+05</td>\n",
       "      <td>2.640227e+04</td>\n",
       "      <td>...</td>\n",
       "      <td>1.780307e+04</td>\n",
       "      <td>5.517942e+04</td>\n",
       "      <td>2.694057e+05</td>\n",
       "      <td>3.986879e+02</td>\n",
       "      <td>3.984225e+02</td>\n",
       "      <td>4.082031e+00</td>\n",
       "      <td>1.346965e+04</td>\n",
       "      <td>1.917003e-01</td>\n",
       "      <td>1.057417e+03</td>\n",
       "      <td>9.721846e+08</td>\n",
       "    </tr>\n",
       "    <tr>\n",
       "      <th>min</th>\n",
       "      <td>2.013030e+05</td>\n",
       "      <td>1.000000e+00</td>\n",
       "      <td>0.000000e+00</td>\n",
       "      <td>0.000000e+00</td>\n",
       "      <td>0.000000e+00</td>\n",
       "      <td>0.000000e+00</td>\n",
       "      <td>0.000000e+00</td>\n",
       "      <td>0.000000e+00</td>\n",
       "      <td>0.000000e+00</td>\n",
       "      <td>0.000000e+00</td>\n",
       "      <td>...</td>\n",
       "      <td>0.000000e+00</td>\n",
       "      <td>0.000000e+00</td>\n",
       "      <td>0.000000e+00</td>\n",
       "      <td>1.000000e-04</td>\n",
       "      <td>1.000000e-04</td>\n",
       "      <td>1.909000e+03</td>\n",
       "      <td>0.000000e+00</td>\n",
       "      <td>0.000000e+00</td>\n",
       "      <td>-3.922136e+04</td>\n",
       "      <td>3.046779e+08</td>\n",
       "    </tr>\n",
       "    <tr>\n",
       "      <th>25%</th>\n",
       "      <td>2.014100e+05</td>\n",
       "      <td>1.000000e+00</td>\n",
       "      <td>1.000000e+02</td>\n",
       "      <td>0.000000e+00</td>\n",
       "      <td>0.000000e+00</td>\n",
       "      <td>0.000000e+00</td>\n",
       "      <td>0.000000e+00</td>\n",
       "      <td>0.000000e+00</td>\n",
       "      <td>2.348115e+03</td>\n",
       "      <td>0.000000e+00</td>\n",
       "      <td>...</td>\n",
       "      <td>0.000000e+00</td>\n",
       "      <td>0.000000e+00</td>\n",
       "      <td>4.400000e-01</td>\n",
       "      <td>4.868700e+02</td>\n",
       "      <td>4.868500e+02</td>\n",
       "      <td>2.010000e+03</td>\n",
       "      <td>1.150000e+04</td>\n",
       "      <td>0.000000e+00</td>\n",
       "      <td>0.000000e+00</td>\n",
       "      <td>7.272352e+09</td>\n",
       "    </tr>\n",
       "    <tr>\n",
       "      <th>50%</th>\n",
       "      <td>2.015080e+05</td>\n",
       "      <td>2.000000e+00</td>\n",
       "      <td>1.000000e+02</td>\n",
       "      <td>0.000000e+00</td>\n",
       "      <td>0.000000e+00</td>\n",
       "      <td>0.000000e+00</td>\n",
       "      <td>0.000000e+00</td>\n",
       "      <td>0.000000e+00</td>\n",
       "      <td>2.250796e+04</td>\n",
       "      <td>2.498800e+03</td>\n",
       "      <td>...</td>\n",
       "      <td>0.000000e+00</td>\n",
       "      <td>0.000000e+00</td>\n",
       "      <td>7.944000e+01</td>\n",
       "      <td>6.365400e+02</td>\n",
       "      <td>6.365300e+02</td>\n",
       "      <td>2.012000e+03</td>\n",
       "      <td>1.572500e+04</td>\n",
       "      <td>0.000000e+00</td>\n",
       "      <td>0.000000e+00</td>\n",
       "      <td>8.045474e+09</td>\n",
       "    </tr>\n",
       "    <tr>\n",
       "      <th>75%</th>\n",
       "      <td>2.016040e+05</td>\n",
       "      <td>3.000000e+00</td>\n",
       "      <td>1.000000e+02</td>\n",
       "      <td>0.000000e+00</td>\n",
       "      <td>0.000000e+00</td>\n",
       "      <td>0.000000e+00</td>\n",
       "      <td>0.000000e+00</td>\n",
       "      <td>0.000000e+00</td>\n",
       "      <td>7.817214e+04</td>\n",
       "      <td>1.205230e+04</td>\n",
       "      <td>...</td>\n",
       "      <td>0.000000e+00</td>\n",
       "      <td>0.000000e+00</td>\n",
       "      <td>3.863550e+02</td>\n",
       "      <td>8.399700e+02</td>\n",
       "      <td>8.398500e+02</td>\n",
       "      <td>2.013000e+03</td>\n",
       "      <td>2.200000e+04</td>\n",
       "      <td>0.000000e+00</td>\n",
       "      <td>0.000000e+00</td>\n",
       "      <td>8.643466e+09</td>\n",
       "    </tr>\n",
       "    <tr>\n",
       "      <th>max</th>\n",
       "      <td>2.016120e+05</td>\n",
       "      <td>1.400000e+01</td>\n",
       "      <td>1.000000e+02</td>\n",
       "      <td>1.000000e+02</td>\n",
       "      <td>1.000000e+02</td>\n",
       "      <td>1.000000e+02</td>\n",
       "      <td>1.000000e+02</td>\n",
       "      <td>5.222897e+08</td>\n",
       "      <td>2.176395e+07</td>\n",
       "      <td>5.528262e+05</td>\n",
       "      <td>...</td>\n",
       "      <td>6.712000e+06</td>\n",
       "      <td>1.460500e+07</td>\n",
       "      <td>2.176395e+07</td>\n",
       "      <td>2.627641e+04</td>\n",
       "      <td>2.627641e+04</td>\n",
       "      <td>2.016000e+03</td>\n",
       "      <td>6.000000e+05</td>\n",
       "      <td>5.000000e+00</td>\n",
       "      <td>2.493490e+05</td>\n",
       "      <td>9.999895e+09</td>\n",
       "    </tr>\n",
       "  </tbody>\n",
       "</table>\n",
       "<p>8 rows × 23 columns</p>\n",
       "</div>"
      ],
      "text/plain": [
       "            PERIODO  NUM_PRODUCTOS            OK           CPP    DEFICIENTE  \\\n",
       "count  1.807616e+06   1.803617e+06  1.624535e+06  1.624535e+06  1.624535e+06   \n",
       "mean   2.015028e+05   2.051611e+00  8.474212e+01  1.449083e+00  6.380911e-01   \n",
       "std    9.668718e+01   1.199787e+00  3.520982e+01  1.031444e+01  6.848463e+00   \n",
       "min    2.013030e+05   1.000000e+00  0.000000e+00  0.000000e+00  0.000000e+00   \n",
       "25%    2.014100e+05   1.000000e+00  1.000000e+02  0.000000e+00  0.000000e+00   \n",
       "50%    2.015080e+05   2.000000e+00  1.000000e+02  0.000000e+00  0.000000e+00   \n",
       "75%    2.016040e+05   3.000000e+00  1.000000e+02  0.000000e+00  0.000000e+00   \n",
       "max    2.016120e+05   1.400000e+01  1.000000e+02  1.000000e+02  1.000000e+02   \n",
       "\n",
       "             DUDOSO       PERDIDA   DEUDA_HIINI     SALDO_SBS  SALDO_TC_SBS  \\\n",
       "count  1.624535e+06  1.624535e+06  1.624535e+06  1.624535e+06  1.624535e+06   \n",
       "mean   7.281850e-01  3.168422e+00  1.511762e+06  1.046210e+05  1.237139e+04   \n",
       "std    7.075058e+00  1.690391e+01  7.880948e+06  3.748886e+05  2.640227e+04   \n",
       "min    0.000000e+00  0.000000e+00  0.000000e+00  0.000000e+00  0.000000e+00   \n",
       "25%    0.000000e+00  0.000000e+00  0.000000e+00  2.348115e+03  0.000000e+00   \n",
       "50%    0.000000e+00  0.000000e+00  0.000000e+00  2.250796e+04  2.498800e+03   \n",
       "75%    0.000000e+00  0.000000e+00  0.000000e+00  7.817214e+04  1.205230e+04   \n",
       "max    1.000000e+02  1.000000e+02  5.222897e+08  2.176395e+07  5.528262e+05   \n",
       "\n",
       "           ...       SALDO_MICRO_SBS  SALDO_PEQUENA_SBS   SALDO_OTROS  \\\n",
       "count      ...          1.624535e+06       1.624535e+06  1.624535e+06   \n",
       "mean       ...          7.317665e+02       5.318754e+03  1.430851e+04   \n",
       "std        ...          1.780307e+04       5.517942e+04  2.694057e+05   \n",
       "min        ...          0.000000e+00       0.000000e+00  0.000000e+00   \n",
       "25%        ...          0.000000e+00       0.000000e+00  4.400000e-01   \n",
       "50%        ...          0.000000e+00       0.000000e+00  7.944000e+01   \n",
       "75%        ...          0.000000e+00       0.000000e+00  3.863550e+02   \n",
       "max        ...          6.712000e+06       1.460500e+07  2.176395e+07   \n",
       "\n",
       "        PRIMA_TOTAL         PRIMA     ANOFABRIC       SUMASEG  NRO_SINIESTROS  \\\n",
       "count  1.807616e+06  1.807616e+06  1.799458e+06  1.787896e+06    1.807616e+06   \n",
       "mean   7.199485e+02  7.198287e+02  2.011257e+03  1.849850e+04    3.511531e-02   \n",
       "std    3.986879e+02  3.984225e+02  4.082031e+00  1.346965e+04    1.917003e-01   \n",
       "min    1.000000e-04  1.000000e-04  1.909000e+03  0.000000e+00    0.000000e+00   \n",
       "25%    4.868700e+02  4.868500e+02  2.010000e+03  1.150000e+04    0.000000e+00   \n",
       "50%    6.365400e+02  6.365300e+02  2.012000e+03  1.572500e+04    0.000000e+00   \n",
       "75%    8.399700e+02  8.398500e+02  2.013000e+03  2.200000e+04    0.000000e+00   \n",
       "max    2.627641e+04  2.627641e+04  2.016000e+03  6.000000e+05    5.000000e+00   \n",
       "\n",
       "       MTO_SINIESTROS     ID_POLIZA  \n",
       "count    1.807616e+06  1.807616e+06  \n",
       "mean     6.665090e+01  7.928197e+09  \n",
       "std      1.057417e+03  9.721846e+08  \n",
       "min     -3.922136e+04  3.046779e+08  \n",
       "25%      0.000000e+00  7.272352e+09  \n",
       "50%      0.000000e+00  8.045474e+09  \n",
       "75%      0.000000e+00  8.643466e+09  \n",
       "max      2.493490e+05  9.999895e+09  \n",
       "\n",
       "[8 rows x 23 columns]"
      ]
     },
     "execution_count": 387,
     "metadata": {},
     "output_type": "execute_result"
    }
   ],
   "source": [
    "bd_vehiculos.describe()"
   ]
  },
  {
   "cell_type": "markdown",
   "metadata": {},
   "source": [
    "## Cargar Base Clientes"
   ]
  },
  {
   "cell_type": "code",
   "execution_count": 388,
   "metadata": {
    "collapsed": false,
    "scrolled": true
   },
   "outputs": [
    {
     "data": {
      "text/html": [
       "<div>\n",
       "<table border=\"1\" class=\"dataframe\">\n",
       "  <thead>\n",
       "    <tr style=\"text-align: right;\">\n",
       "      <th></th>\n",
       "      <th>SEXO</th>\n",
       "      <th>FEC_NACIMIENTO</th>\n",
       "      <th>UBICACION</th>\n",
       "      <th>DEPARTAMENTO</th>\n",
       "      <th>UBIGEO</th>\n",
       "      <th>CUC</th>\n",
       "    </tr>\n",
       "  </thead>\n",
       "  <tbody>\n",
       "    <tr>\n",
       "      <th>0</th>\n",
       "      <td>F</td>\n",
       "      <td>18/12/1959</td>\n",
       "      <td>PERU ORIENTE</td>\n",
       "      <td>UCAYALI</td>\n",
       "      <td>250101.0</td>\n",
       "      <td>4-33333475</td>\n",
       "    </tr>\n",
       "    <tr>\n",
       "      <th>1</th>\n",
       "      <td>M</td>\n",
       "      <td>08/06/1960</td>\n",
       "      <td>LIMA CENTRO</td>\n",
       "      <td>LIMA</td>\n",
       "      <td>150101.0</td>\n",
       "      <td>4-33334660</td>\n",
       "    </tr>\n",
       "    <tr>\n",
       "      <th>2</th>\n",
       "      <td>M</td>\n",
       "      <td>15/05/1960</td>\n",
       "      <td>PERU ORIENTE</td>\n",
       "      <td>UCAYALI</td>\n",
       "      <td>250101.0</td>\n",
       "      <td>4-33335980</td>\n",
       "    </tr>\n",
       "    <tr>\n",
       "      <th>3</th>\n",
       "      <td>F</td>\n",
       "      <td>18/10/1955</td>\n",
       "      <td>PERU ORIENTE</td>\n",
       "      <td>UCAYALI</td>\n",
       "      <td>250101.0</td>\n",
       "      <td>4-33336140</td>\n",
       "    </tr>\n",
       "    <tr>\n",
       "      <th>4</th>\n",
       "      <td>NaN</td>\n",
       "      <td>NaN</td>\n",
       "      <td>NaN</td>\n",
       "      <td>NaN</td>\n",
       "      <td>NaN</td>\n",
       "      <td>4-33337735</td>\n",
       "    </tr>\n",
       "  </tbody>\n",
       "</table>\n",
       "</div>"
      ],
      "text/plain": [
       "  SEXO FEC_NACIMIENTO     UBICACION DEPARTAMENTO    UBIGEO         CUC\n",
       "0    F     18/12/1959  PERU ORIENTE      UCAYALI  250101.0  4-33333475\n",
       "1    M     08/06/1960   LIMA CENTRO         LIMA  150101.0  4-33334660\n",
       "2    M     15/05/1960  PERU ORIENTE      UCAYALI  250101.0  4-33335980\n",
       "3    F     18/10/1955  PERU ORIENTE      UCAYALI  250101.0  4-33336140\n",
       "4  NaN            NaN           NaN          NaN       NaN  4-33337735"
      ]
     },
     "execution_count": 388,
     "metadata": {},
     "output_type": "execute_result"
    }
   ],
   "source": [
    "bd_clientes = pd.read_csv('C:/Users/Keven/Desktop/RIMAC_CHALLENGE/Data/BD_CLIENTES.csv', sep = ',')\n",
    "bd_clientes = bd_clientes.ix[:,1:]\n",
    "bd_clientes.head()"
   ]
  },
  {
   "cell_type": "markdown",
   "metadata": {},
   "source": [
    "## Cargar Base Cobranzas"
   ]
  },
  {
   "cell_type": "code",
   "execution_count": 389,
   "metadata": {
    "collapsed": false
   },
   "outputs": [
    {
     "data": {
      "text/html": [
       "<div>\n",
       "<table border=\"1\" class=\"dataframe\">\n",
       "  <thead>\n",
       "    <tr style=\"text-align: right;\">\n",
       "      <th></th>\n",
       "      <th>PERIODO</th>\n",
       "      <th>NUM_FACTURAS</th>\n",
       "      <th>MONTO_DOLARES</th>\n",
       "      <th>CUC</th>\n",
       "      <th>P_AUTO</th>\n",
       "    </tr>\n",
       "  </thead>\n",
       "  <tbody>\n",
       "    <tr>\n",
       "      <th>0</th>\n",
       "      <td>201404</td>\n",
       "      <td>1</td>\n",
       "      <td>826</td>\n",
       "      <td>4-33334660</td>\n",
       "      <td>G8T792</td>\n",
       "    </tr>\n",
       "    <tr>\n",
       "      <th>1</th>\n",
       "      <td>201405</td>\n",
       "      <td>1</td>\n",
       "      <td>826</td>\n",
       "      <td>4-33334660</td>\n",
       "      <td>G8T792</td>\n",
       "    </tr>\n",
       "    <tr>\n",
       "      <th>2</th>\n",
       "      <td>201406</td>\n",
       "      <td>1</td>\n",
       "      <td>826</td>\n",
       "      <td>4-33334660</td>\n",
       "      <td>G8T792</td>\n",
       "    </tr>\n",
       "    <tr>\n",
       "      <th>3</th>\n",
       "      <td>201304</td>\n",
       "      <td>1</td>\n",
       "      <td>182</td>\n",
       "      <td>4-33344342</td>\n",
       "      <td>G4J803</td>\n",
       "    </tr>\n",
       "    <tr>\n",
       "      <th>4</th>\n",
       "      <td>201305</td>\n",
       "      <td>1</td>\n",
       "      <td>178</td>\n",
       "      <td>4-33344342</td>\n",
       "      <td>G4J803</td>\n",
       "    </tr>\n",
       "  </tbody>\n",
       "</table>\n",
       "</div>"
      ],
      "text/plain": [
       "   PERIODO  NUM_FACTURAS  MONTO_DOLARES         CUC  P_AUTO\n",
       "0   201404             1            826  4-33334660  G8T792\n",
       "1   201405             1            826  4-33334660  G8T792\n",
       "2   201406             1            826  4-33334660  G8T792\n",
       "3   201304             1            182  4-33344342  G4J803\n",
       "4   201305             1            178  4-33344342  G4J803"
      ]
     },
     "execution_count": 389,
     "metadata": {},
     "output_type": "execute_result"
    }
   ],
   "source": [
    "bd_cobranzas = pd.read_csv('C:/Users/Keven/Desktop/RIMAC_CHALLENGE/Data/BD_COBRANZAS.csv', sep = ',')\n",
    "bd_cobranzas = bd_cobranzas.ix[:,2:]\n",
    "bd_cobranzas.head()"
   ]
  },
  {
   "cell_type": "markdown",
   "metadata": {},
   "source": [
    "## Cargar Base Interac_veh"
   ]
  },
  {
   "cell_type": "code",
   "execution_count": 390,
   "metadata": {
    "collapsed": false
   },
   "outputs": [
    {
     "data": {
      "text/html": [
       "<div>\n",
       "<table border=\"1\" class=\"dataframe\">\n",
       "  <thead>\n",
       "    <tr style=\"text-align: right;\">\n",
       "      <th></th>\n",
       "      <th>TIPCASO.RN_DESCRIPTOR</th>\n",
       "      <th>PERIODO</th>\n",
       "      <th>CUC</th>\n",
       "    </tr>\n",
       "  </thead>\n",
       "  <tbody>\n",
       "    <tr>\n",
       "      <th>0</th>\n",
       "      <td>Requerimientos</td>\n",
       "      <td>201608</td>\n",
       "      <td>4-33335077</td>\n",
       "    </tr>\n",
       "    <tr>\n",
       "      <th>1</th>\n",
       "      <td>Atenciones</td>\n",
       "      <td>201504</td>\n",
       "      <td>4-33336775</td>\n",
       "    </tr>\n",
       "    <tr>\n",
       "      <th>2</th>\n",
       "      <td>Atenciones</td>\n",
       "      <td>201509</td>\n",
       "      <td>4-33336775</td>\n",
       "    </tr>\n",
       "    <tr>\n",
       "      <th>3</th>\n",
       "      <td>Emergencia</td>\n",
       "      <td>201508</td>\n",
       "      <td>4-33336775</td>\n",
       "    </tr>\n",
       "    <tr>\n",
       "      <th>4</th>\n",
       "      <td>Atenciones</td>\n",
       "      <td>201510</td>\n",
       "      <td>4-33336775</td>\n",
       "    </tr>\n",
       "  </tbody>\n",
       "</table>\n",
       "</div>"
      ],
      "text/plain": [
       "  TIPCASO.RN_DESCRIPTOR  PERIODO         CUC\n",
       "0        Requerimientos   201608  4-33335077\n",
       "1            Atenciones   201504  4-33336775\n",
       "2            Atenciones   201509  4-33336775\n",
       "3            Emergencia   201508  4-33336775\n",
       "4            Atenciones   201510  4-33336775"
      ]
     },
     "execution_count": 390,
     "metadata": {},
     "output_type": "execute_result"
    }
   ],
   "source": [
    "bd_interac_veh = pd.read_csv('C:/Users/Keven/Desktop/RIMAC_CHALLENGE/Data/BD_INTERAC_VEH.csv', sep = ',')\n",
    "bd_interac_veh = bd_interac_veh.ix[:,1:]\n",
    "bd_interac_veh.head()"
   ]
  },
  {
   "cell_type": "markdown",
   "metadata": {},
   "source": [
    "## Cargar Base Interac_noveh"
   ]
  },
  {
   "cell_type": "code",
   "execution_count": 391,
   "metadata": {
    "collapsed": false
   },
   "outputs": [
    {
     "data": {
      "text/html": [
       "<div>\n",
       "<table border=\"1\" class=\"dataframe\">\n",
       "  <thead>\n",
       "    <tr style=\"text-align: right;\">\n",
       "      <th></th>\n",
       "      <th>TIPCASO.RN_DESCRIPTOR</th>\n",
       "      <th>PERIODO</th>\n",
       "      <th>CUC</th>\n",
       "    </tr>\n",
       "  </thead>\n",
       "  <tbody>\n",
       "    <tr>\n",
       "      <th>0</th>\n",
       "      <td>Atenciones</td>\n",
       "      <td>201506</td>\n",
       "      <td>4-33333370</td>\n",
       "    </tr>\n",
       "    <tr>\n",
       "      <th>1</th>\n",
       "      <td>Emergencia</td>\n",
       "      <td>201307</td>\n",
       "      <td>4-33333448</td>\n",
       "    </tr>\n",
       "    <tr>\n",
       "      <th>2</th>\n",
       "      <td>Atenciones</td>\n",
       "      <td>201410</td>\n",
       "      <td>4-33333448</td>\n",
       "    </tr>\n",
       "    <tr>\n",
       "      <th>3</th>\n",
       "      <td>Atenciones</td>\n",
       "      <td>201403</td>\n",
       "      <td>4-33333448</td>\n",
       "    </tr>\n",
       "    <tr>\n",
       "      <th>4</th>\n",
       "      <td>Atenciones</td>\n",
       "      <td>201508</td>\n",
       "      <td>4-33333592</td>\n",
       "    </tr>\n",
       "  </tbody>\n",
       "</table>\n",
       "</div>"
      ],
      "text/plain": [
       "  TIPCASO.RN_DESCRIPTOR  PERIODO         CUC\n",
       "0            Atenciones   201506  4-33333370\n",
       "1            Emergencia   201307  4-33333448\n",
       "2            Atenciones   201410  4-33333448\n",
       "3            Atenciones   201403  4-33333448\n",
       "4            Atenciones   201508  4-33333592"
      ]
     },
     "execution_count": 391,
     "metadata": {},
     "output_type": "execute_result"
    }
   ],
   "source": [
    "bd_interac_noveh = pd.read_csv('C:/Users/Keven/Desktop/RIMAC_CHALLENGE/Data/BD_INTERAC_NOVEH.csv', sep = ',')\n",
    "bd_interac_noveh = bd_interac_noveh.ix[:,1:]\n",
    "bd_interac_noveh.head()"
   ]
  },
  {
   "cell_type": "markdown",
   "metadata": {},
   "source": [
    "# ANALISIS EXPLORATORIO"
   ]
  },
  {
   "cell_type": "markdown",
   "metadata": {},
   "source": [
    "### Base Clientes"
   ]
  },
  {
   "cell_type": "code",
   "execution_count": 392,
   "metadata": {
    "collapsed": false,
    "scrolled": false
   },
   "outputs": [
    {
     "data": {
      "text/html": [
       "<div>\n",
       "<table border=\"1\" class=\"dataframe\">\n",
       "  <thead>\n",
       "    <tr style=\"text-align: right;\">\n",
       "      <th></th>\n",
       "      <th>SEXO</th>\n",
       "      <th>FEC_NACIMIENTO</th>\n",
       "      <th>UBICACION</th>\n",
       "      <th>DEPARTAMENTO</th>\n",
       "      <th>UBIGEO</th>\n",
       "      <th>CUC</th>\n",
       "    </tr>\n",
       "  </thead>\n",
       "  <tbody>\n",
       "    <tr>\n",
       "      <th>0</th>\n",
       "      <td>F</td>\n",
       "      <td>18/12/1959</td>\n",
       "      <td>PERU ORIENTE</td>\n",
       "      <td>UCAYALI</td>\n",
       "      <td>250101.0</td>\n",
       "      <td>4-33333475</td>\n",
       "    </tr>\n",
       "    <tr>\n",
       "      <th>1</th>\n",
       "      <td>M</td>\n",
       "      <td>08/06/1960</td>\n",
       "      <td>LIMA CENTRO</td>\n",
       "      <td>LIMA</td>\n",
       "      <td>150101.0</td>\n",
       "      <td>4-33334660</td>\n",
       "    </tr>\n",
       "    <tr>\n",
       "      <th>2</th>\n",
       "      <td>M</td>\n",
       "      <td>15/05/1960</td>\n",
       "      <td>PERU ORIENTE</td>\n",
       "      <td>UCAYALI</td>\n",
       "      <td>250101.0</td>\n",
       "      <td>4-33335980</td>\n",
       "    </tr>\n",
       "    <tr>\n",
       "      <th>3</th>\n",
       "      <td>F</td>\n",
       "      <td>18/10/1955</td>\n",
       "      <td>PERU ORIENTE</td>\n",
       "      <td>UCAYALI</td>\n",
       "      <td>250101.0</td>\n",
       "      <td>4-33336140</td>\n",
       "    </tr>\n",
       "    <tr>\n",
       "      <th>4</th>\n",
       "      <td>NaN</td>\n",
       "      <td>NaN</td>\n",
       "      <td>NaN</td>\n",
       "      <td>NaN</td>\n",
       "      <td>NaN</td>\n",
       "      <td>4-33337735</td>\n",
       "    </tr>\n",
       "  </tbody>\n",
       "</table>\n",
       "</div>"
      ],
      "text/plain": [
       "  SEXO FEC_NACIMIENTO     UBICACION DEPARTAMENTO    UBIGEO         CUC\n",
       "0    F     18/12/1959  PERU ORIENTE      UCAYALI  250101.0  4-33333475\n",
       "1    M     08/06/1960   LIMA CENTRO         LIMA  150101.0  4-33334660\n",
       "2    M     15/05/1960  PERU ORIENTE      UCAYALI  250101.0  4-33335980\n",
       "3    F     18/10/1955  PERU ORIENTE      UCAYALI  250101.0  4-33336140\n",
       "4  NaN            NaN           NaN          NaN       NaN  4-33337735"
      ]
     },
     "execution_count": 392,
     "metadata": {},
     "output_type": "execute_result"
    }
   ],
   "source": [
    "bd_clientes.head()"
   ]
  },
  {
   "cell_type": "code",
   "execution_count": 393,
   "metadata": {
    "collapsed": false
   },
   "outputs": [
    {
     "name": "stdout",
     "output_type": "stream",
     "text": [
      "<class 'pandas.core.frame.DataFrame'>\n",
      "RangeIndex: 244510 entries, 0 to 244509\n",
      "Data columns (total 6 columns):\n",
      "SEXO              243860 non-null object\n",
      "FEC_NACIMIENTO    243309 non-null object\n",
      "UBICACION         244065 non-null object\n",
      "DEPARTAMENTO      244091 non-null object\n",
      "UBIGEO            244091 non-null float64\n",
      "CUC               244510 non-null object\n",
      "dtypes: float64(1), object(5)\n",
      "memory usage: 11.2+ MB\n"
     ]
    }
   ],
   "source": [
    "bd_clientes.info()"
   ]
  },
  {
   "cell_type": "code",
   "execution_count": 394,
   "metadata": {
    "collapsed": false
   },
   "outputs": [
    {
     "data": {
      "text/plain": [
       "SEXO               650\n",
       "FEC_NACIMIENTO    1201\n",
       "UBICACION          445\n",
       "DEPARTAMENTO       419\n",
       "UBIGEO             419\n",
       "CUC                  0\n",
       "dtype: int64"
      ]
     },
     "execution_count": 394,
     "metadata": {},
     "output_type": "execute_result"
    }
   ],
   "source": [
    "#conteo de nulos\n",
    "bd_clientes.isnull().sum()"
   ]
  },
  {
   "cell_type": "code",
   "execution_count": 395,
   "metadata": {
    "collapsed": false
   },
   "outputs": [],
   "source": [
    "features_cat = list(bd_clientes.columns)"
   ]
  },
  {
   "cell_type": "code",
   "execution_count": 396,
   "metadata": {
    "collapsed": false,
    "scrolled": true
   },
   "outputs": [
    {
     "name": "stdout",
     "output_type": "stream",
     "text": [
      "-------------------------------------------------------------------------------\n",
      "SEXO\n",
      "M    146462\n",
      "F     97398\n",
      "Name: SEXO, dtype: int64\n",
      "-------------------------------------------------------------------------------\n",
      "FEC_NACIMIENTO\n",
      "01/01/1965    185\n",
      "01/01/1990    153\n",
      "01/01/1980    128\n",
      "01/01/1985    108\n",
      "01/01/1978     77\n",
      "01/01/1970     64\n",
      "01/05/1965     62\n",
      "01/01/1950     62\n",
      "21/09/1982     41\n",
      "04/05/1981     40\n",
      "01/01/1960     39\n",
      "05/02/1982     38\n",
      "24/08/1976     38\n",
      "29/06/1981     38\n",
      "18/04/1984     37\n",
      "05/03/1980     37\n",
      "04/04/1978     37\n",
      "02/06/1982     37\n",
      "26/04/1979     36\n",
      "15/07/1977     36\n",
      "10/08/1980     36\n",
      "21/06/1982     36\n",
      "01/10/1977     36\n",
      "30/08/1986     36\n",
      "02/09/1984     35\n",
      "29/07/1984     35\n",
      "20/10/1979     35\n",
      "29/04/1985     35\n",
      "12/09/1984     35\n",
      "29/03/1983     35\n",
      "             ... \n",
      "13/09/1936      1\n",
      "13/09/1934      1\n",
      "13/09/1931      1\n",
      "22/05/1995      1\n",
      "22/04/1934      1\n",
      "22/04/1933      1\n",
      "22/04/1932      1\n",
      "22/04/1928      1\n",
      "04/01/1944      1\n",
      "04/01/1943      1\n",
      "22/03/1938      1\n",
      "04/01/1941      1\n",
      "13/10/1947      1\n",
      "04/01/1936      1\n",
      "04/01/1935      1\n",
      "04/01/1933      1\n",
      "04/01/1931      1\n",
      "04/01/1927      1\n",
      "03/12/1994      1\n",
      "22/03/1941      1\n",
      "13/10/1940      1\n",
      "22/03/1945      1\n",
      "22/03/1948      1\n",
      "13/10/1935      1\n",
      "13/10/1934      1\n",
      "22/03/1997      1\n",
      "22/04/1922      1\n",
      "22/04/1923      1\n",
      "22/04/1926      1\n",
      "19/10/1998      1\n",
      "Name: FEC_NACIMIENTO, dtype: int64\n",
      "-------------------------------------------------------------------------------\n",
      "UBICACION\n",
      "LIMA TOP              81945\n",
      "LIMA MODERNA          30522\n",
      "PERU NORTE            22577\n",
      "LIMA NORTE            20566\n",
      "LIMA CENTRO           19023\n",
      "LIMA ESTE             18768\n",
      "PERU SUR              15784\n",
      "LIMA SUR              14888\n",
      "CALLAO                 9426\n",
      "PERU CENTRO            6499\n",
      "PERU ORIENTE           3688\n",
      "BALNEARIOS DEL SUR      379\n",
      "Name: UBICACION, dtype: int64\n",
      "-------------------------------------------------------------------------------\n",
      "DEPARTAMENTO\n",
      "LIMA                    187910\n",
      "PROV. CONST. DEL CAL      9426\n",
      "AREQUIPA                  8752\n",
      "LA LIBERTAD               7442\n",
      "PIURA                     5937\n",
      "LAMBAYEQUE                5711\n",
      "JUNIN                     3408\n",
      "CUSCO                     2596\n",
      "CAJAMARCA                 1858\n",
      "LORETO                    1688\n",
      "ICA                       1378\n",
      "ANCASH                    1327\n",
      "TACNA                      954\n",
      "UCAYALI                    838\n",
      "SAN MARTIN                 800\n",
      "HUANUCO                    771\n",
      "AYACUCHO                   627\n",
      "APURIMAC                   548\n",
      "PUNO                       524\n",
      "MOQUEGUA                   405\n",
      "PASCO                      330\n",
      "TUMBES                     302\n",
      "AMAZONAS                   209\n",
      "HUANCAVELICA               171\n",
      "MADRE DE DIOS              153\n",
      "ND                          26\n",
      "Name: DEPARTAMENTO, dtype: int64\n",
      "-------------------------------------------------------------------------------\n",
      "UBIGEO\n",
      "150140.0    29099\n",
      "150122.0    15049\n",
      "150114.0    13466\n",
      "150130.0    12902\n",
      "150131.0    11429\n",
      "150101.0     9504\n",
      "150136.0     7504\n",
      "150135.0     7247\n",
      "150132.0     6549\n",
      "150103.0     6275\n",
      "150108.0     5601\n",
      "150117.0     5469\n",
      "150121.0     5052\n",
      "150113.0     4681\n",
      "130101.0     4562\n",
      "70101.0      4545\n",
      "150141.0     4286\n",
      "150120.0     4023\n",
      "150110.0     3768\n",
      "150133.0     3641\n",
      "150115.0     3566\n",
      "140101.0     3482\n",
      "200101.0     2974\n",
      "150116.0     2928\n",
      "150137.0     2541\n",
      "150143.0     2469\n",
      "150142.0     2259\n",
      "150128.0     2141\n",
      "150105.0     2080\n",
      "150104.0     2048\n",
      "            ...  \n",
      "120414.0        1\n",
      "60112.0         1\n",
      "120413.0        1\n",
      "60202.0         1\n",
      "60203.0         1\n",
      "120410.0        1\n",
      "120409.0        1\n",
      "120404.0        1\n",
      "60310.0         1\n",
      "120605.0        1\n",
      "50802.0         1\n",
      "50801.0         1\n",
      "120903.0        1\n",
      "50303.0         1\n",
      "50402.0         1\n",
      "50407.0         1\n",
      "120907.0        1\n",
      "50502.0         1\n",
      "50505.0         1\n",
      "50507.0         1\n",
      "120809.0        1\n",
      "50707.0         1\n",
      "50605.0         1\n",
      "50606.0         1\n",
      "50608.0         1\n",
      "120802.0        1\n",
      "50619.0         1\n",
      "120709.0        1\n",
      "50703.0         1\n",
      "250303.0        1\n",
      "Name: UBIGEO, dtype: int64\n",
      "-------------------------------------------------------------------------------\n",
      "CUC\n",
      "I-U34580643333437    1\n",
      "4-39488668           1\n",
      "4-39489180           1\n",
      "4-39489111           1\n",
      "4-39489105           1\n",
      "4-39489098           1\n",
      "4-39489049           1\n",
      "4-39488980           1\n",
      "4-39488928           1\n",
      "4-39488910           1\n",
      "4-39488892           1\n",
      "4-39488881           1\n",
      "4-39488874           1\n",
      "4-39488744           1\n",
      "4-39488663           1\n",
      "4-39489373           1\n",
      "4-39488629           1\n",
      "4-39488614           1\n",
      "4-39488603           1\n",
      "4-39488581           1\n",
      "4-39488525           1\n",
      "4-39488522           1\n",
      "4-39488481           1\n",
      "4-39488471           1\n",
      "4-39488459           1\n",
      "4-39488435           1\n",
      "4-39488430           1\n",
      "4-39488372           1\n",
      "4-39489366           1\n",
      "4-39489411           1\n",
      "                    ..\n",
      "4-73722337           1\n",
      "4-73722393           1\n",
      "4-73722541           1\n",
      "4-73722708           1\n",
      "4-73724476           1\n",
      "4-73724475           1\n",
      "4-73724068           1\n",
      "4-73724023           1\n",
      "4-73723987           1\n",
      "4-73723941           1\n",
      "4-73723914           1\n",
      "4-73723900           1\n",
      "4-73723888           1\n",
      "4-73723605           1\n",
      "4-73723577           1\n",
      "4-73723573           1\n",
      "4-73723525           1\n",
      "4-73723523           1\n",
      "4-73723471           1\n",
      "4-73723456           1\n",
      "4-73723455           1\n",
      "4-73723439           1\n",
      "4-73723433           1\n",
      "4-73723386           1\n",
      "4-73723269           1\n",
      "4-73723111           1\n",
      "4-73722928           1\n",
      "4-73722927           1\n",
      "4-73722769           1\n",
      "0-001/45             1\n",
      "Name: CUC, dtype: int64\n"
     ]
    }
   ],
   "source": [
    "#distribución de las variables categóricas\n",
    "for feature in features_cat:\n",
    "    print(\"-------------------------------------------------------------------------------\")\n",
    "    print(bd_clientes.groupby(feature, axis = 0)[feature].count().sort_values(ascending = False))"
   ]
  },
  {
   "cell_type": "code",
   "execution_count": 397,
   "metadata": {
    "collapsed": false
   },
   "outputs": [
    {
     "data": {
      "text/plain": [
       "SEXO               650\n",
       "FEC_NACIMIENTO    1201\n",
       "UBICACION          445\n",
       "DEPARTAMENTO       419\n",
       "UBIGEO             419\n",
       "CUC                  0\n",
       "dtype: int64"
      ]
     },
     "execution_count": 397,
     "metadata": {},
     "output_type": "execute_result"
    }
   ],
   "source": [
    "#conteo de nulos\n",
    "bd_clientes.isnull().sum()"
   ]
  },
  {
   "cell_type": "code",
   "execution_count": 398,
   "metadata": {
    "collapsed": false,
    "scrolled": true
   },
   "outputs": [
    {
     "data": {
      "text/html": [
       "<div>\n",
       "<table border=\"1\" class=\"dataframe\">\n",
       "  <thead>\n",
       "    <tr style=\"text-align: right;\">\n",
       "      <th></th>\n",
       "      <th></th>\n",
       "      <th></th>\n",
       "      <th>CUC</th>\n",
       "    </tr>\n",
       "    <tr>\n",
       "      <th>UBIGEO</th>\n",
       "      <th>DEPARTAMENTO</th>\n",
       "      <th>UBICACION</th>\n",
       "      <th></th>\n",
       "    </tr>\n",
       "  </thead>\n",
       "  <tbody>\n",
       "    <tr>\n",
       "      <th>150140.0</th>\n",
       "      <th>LIMA</th>\n",
       "      <th>LIMA TOP</th>\n",
       "      <td>29099</td>\n",
       "    </tr>\n",
       "    <tr>\n",
       "      <th>150122.0</th>\n",
       "      <th>LIMA</th>\n",
       "      <th>LIMA TOP</th>\n",
       "      <td>15049</td>\n",
       "    </tr>\n",
       "    <tr>\n",
       "      <th>150114.0</th>\n",
       "      <th>LIMA</th>\n",
       "      <th>LIMA TOP</th>\n",
       "      <td>13466</td>\n",
       "    </tr>\n",
       "    <tr>\n",
       "      <th>150130.0</th>\n",
       "      <th>LIMA</th>\n",
       "      <th>LIMA TOP</th>\n",
       "      <td>12902</td>\n",
       "    </tr>\n",
       "    <tr>\n",
       "      <th>150131.0</th>\n",
       "      <th>LIMA</th>\n",
       "      <th>LIMA TOP</th>\n",
       "      <td>11429</td>\n",
       "    </tr>\n",
       "    <tr>\n",
       "      <th>150101.0</th>\n",
       "      <th>LIMA</th>\n",
       "      <th>LIMA CENTRO</th>\n",
       "      <td>9504</td>\n",
       "    </tr>\n",
       "    <tr>\n",
       "      <th>150136.0</th>\n",
       "      <th>LIMA</th>\n",
       "      <th>LIMA MODERNA</th>\n",
       "      <td>7504</td>\n",
       "    </tr>\n",
       "    <tr>\n",
       "      <th>150135.0</th>\n",
       "      <th>LIMA</th>\n",
       "      <th>LIMA NORTE</th>\n",
       "      <td>7247</td>\n",
       "    </tr>\n",
       "    <tr>\n",
       "      <th>150132.0</th>\n",
       "      <th>LIMA</th>\n",
       "      <th>LIMA ESTE</th>\n",
       "      <td>6549</td>\n",
       "    </tr>\n",
       "    <tr>\n",
       "      <th>150103.0</th>\n",
       "      <th>LIMA</th>\n",
       "      <th>LIMA ESTE</th>\n",
       "      <td>6275</td>\n",
       "    </tr>\n",
       "    <tr>\n",
       "      <th>150108.0</th>\n",
       "      <th>LIMA</th>\n",
       "      <th>LIMA SUR</th>\n",
       "      <td>5601</td>\n",
       "    </tr>\n",
       "    <tr>\n",
       "      <th>150117.0</th>\n",
       "      <th>LIMA</th>\n",
       "      <th>LIMA NORTE</th>\n",
       "      <td>5469</td>\n",
       "    </tr>\n",
       "    <tr>\n",
       "      <th>150121.0</th>\n",
       "      <th>LIMA</th>\n",
       "      <th>LIMA MODERNA</th>\n",
       "      <td>5052</td>\n",
       "    </tr>\n",
       "    <tr>\n",
       "      <th>150113.0</th>\n",
       "      <th>LIMA</th>\n",
       "      <th>LIMA MODERNA</th>\n",
       "      <td>4681</td>\n",
       "    </tr>\n",
       "    <tr>\n",
       "      <th>130101.0</th>\n",
       "      <th>LA LIBERTAD</th>\n",
       "      <th>PERU NORTE</th>\n",
       "      <td>4562</td>\n",
       "    </tr>\n",
       "    <tr>\n",
       "      <th>70101.0</th>\n",
       "      <th>PROV. CONST. DEL CAL</th>\n",
       "      <th>CALLAO</th>\n",
       "      <td>4545</td>\n",
       "    </tr>\n",
       "    <tr>\n",
       "      <th>150141.0</th>\n",
       "      <th>LIMA</th>\n",
       "      <th>LIMA MODERNA</th>\n",
       "      <td>4286</td>\n",
       "    </tr>\n",
       "    <tr>\n",
       "      <th>150120.0</th>\n",
       "      <th>LIMA</th>\n",
       "      <th>LIMA MODERNA</th>\n",
       "      <td>4023</td>\n",
       "    </tr>\n",
       "    <tr>\n",
       "      <th>150110.0</th>\n",
       "      <th>LIMA</th>\n",
       "      <th>LIMA NORTE</th>\n",
       "      <td>3768</td>\n",
       "    </tr>\n",
       "    <tr>\n",
       "      <th>150133.0</th>\n",
       "      <th>LIMA</th>\n",
       "      <th>LIMA SUR</th>\n",
       "      <td>3641</td>\n",
       "    </tr>\n",
       "    <tr>\n",
       "      <th>150115.0</th>\n",
       "      <th>LIMA</th>\n",
       "      <th>LIMA CENTRO</th>\n",
       "      <td>3566</td>\n",
       "    </tr>\n",
       "    <tr>\n",
       "      <th>140101.0</th>\n",
       "      <th>LAMBAYEQUE</th>\n",
       "      <th>PERU NORTE</th>\n",
       "      <td>3482</td>\n",
       "    </tr>\n",
       "    <tr>\n",
       "      <th>200101.0</th>\n",
       "      <th>PIURA</th>\n",
       "      <th>PERU NORTE</th>\n",
       "      <td>2974</td>\n",
       "    </tr>\n",
       "    <tr>\n",
       "      <th>150116.0</th>\n",
       "      <th>LIMA</th>\n",
       "      <th>LIMA MODERNA</th>\n",
       "      <td>2928</td>\n",
       "    </tr>\n",
       "    <tr>\n",
       "      <th>150137.0</th>\n",
       "      <th>LIMA</th>\n",
       "      <th>LIMA ESTE</th>\n",
       "      <td>2541</td>\n",
       "    </tr>\n",
       "    <tr>\n",
       "      <th>150143.0</th>\n",
       "      <th>LIMA</th>\n",
       "      <th>LIMA SUR</th>\n",
       "      <td>2469</td>\n",
       "    </tr>\n",
       "    <tr>\n",
       "      <th>150142.0</th>\n",
       "      <th>LIMA</th>\n",
       "      <th>LIMA SUR</th>\n",
       "      <td>2259</td>\n",
       "    </tr>\n",
       "    <tr>\n",
       "      <th>150128.0</th>\n",
       "      <th>LIMA</th>\n",
       "      <th>LIMA CENTRO</th>\n",
       "      <td>2141</td>\n",
       "    </tr>\n",
       "    <tr>\n",
       "      <th>150105.0</th>\n",
       "      <th>LIMA</th>\n",
       "      <th>LIMA CENTRO</th>\n",
       "      <td>2080</td>\n",
       "    </tr>\n",
       "    <tr>\n",
       "      <th>150104.0</th>\n",
       "      <th>LIMA</th>\n",
       "      <th>LIMA MODERNA</th>\n",
       "      <td>2048</td>\n",
       "    </tr>\n",
       "    <tr>\n",
       "      <th>...</th>\n",
       "      <th>...</th>\n",
       "      <th>...</th>\n",
       "      <td>...</td>\n",
       "    </tr>\n",
       "    <tr>\n",
       "      <th>210709.0</th>\n",
       "      <th>PUNO</th>\n",
       "      <th>PERU SUR</th>\n",
       "      <td>1</td>\n",
       "    </tr>\n",
       "    <tr>\n",
       "      <th>150723.0</th>\n",
       "      <th>LIMA</th>\n",
       "      <th>PERU CENTRO</th>\n",
       "      <td>1</td>\n",
       "    </tr>\n",
       "    <tr>\n",
       "      <th>120709.0</th>\n",
       "      <th>JUNIN</th>\n",
       "      <th>PERU CENTRO</th>\n",
       "      <td>1</td>\n",
       "    </tr>\n",
       "    <tr>\n",
       "      <th>90312.0</th>\n",
       "      <th>HUANCAVELICA</th>\n",
       "      <th>PERU CENTRO</th>\n",
       "      <td>1</td>\n",
       "    </tr>\n",
       "    <tr>\n",
       "      <th>50109.0</th>\n",
       "      <th>AYACUCHO</th>\n",
       "      <th>PERU SUR</th>\n",
       "      <td>1</td>\n",
       "    </tr>\n",
       "    <tr>\n",
       "      <th>200502.0</th>\n",
       "      <th>PIURA</th>\n",
       "      <th>PERU NORTE</th>\n",
       "      <td>1</td>\n",
       "    </tr>\n",
       "    <tr>\n",
       "      <th>61006.0</th>\n",
       "      <th>CAJAMARCA</th>\n",
       "      <th>PERU NORTE</th>\n",
       "      <td>1</td>\n",
       "    </tr>\n",
       "    <tr>\n",
       "      <th>50113.0</th>\n",
       "      <th>AYACUCHO</th>\n",
       "      <th>PERU SUR</th>\n",
       "      <td>1</td>\n",
       "    </tr>\n",
       "    <tr>\n",
       "      <th>90203.0</th>\n",
       "      <th>HUANCAVELICA</th>\n",
       "      <th>PERU CENTRO</th>\n",
       "      <td>1</td>\n",
       "    </tr>\n",
       "    <tr>\n",
       "      <th>210704.0</th>\n",
       "      <th>PUNO</th>\n",
       "      <th>PERU SUR</th>\n",
       "      <td>1</td>\n",
       "    </tr>\n",
       "    <tr>\n",
       "      <th>120414.0</th>\n",
       "      <th>JUNIN</th>\n",
       "      <th>PERU CENTRO</th>\n",
       "      <td>1</td>\n",
       "    </tr>\n",
       "    <tr>\n",
       "      <th>90405.0</th>\n",
       "      <th>HUANCAVELICA</th>\n",
       "      <th>PERU CENTRO</th>\n",
       "      <td>1</td>\n",
       "    </tr>\n",
       "    <tr>\n",
       "      <th>61106.0</th>\n",
       "      <th>CAJAMARCA</th>\n",
       "      <th>PERU NORTE</th>\n",
       "      <td>1</td>\n",
       "    </tr>\n",
       "    <tr>\n",
       "      <th>150715.0</th>\n",
       "      <th>LIMA</th>\n",
       "      <th>PERU CENTRO</th>\n",
       "      <td>1</td>\n",
       "    </tr>\n",
       "    <tr>\n",
       "      <th>40519.0</th>\n",
       "      <th>AREQUIPA</th>\n",
       "      <th>PERU SUR</th>\n",
       "      <td>1</td>\n",
       "    </tr>\n",
       "    <tr>\n",
       "      <th>150712.0</th>\n",
       "      <th>LIMA</th>\n",
       "      <th>PERU CENTRO</th>\n",
       "      <td>1</td>\n",
       "    </tr>\n",
       "    <tr>\n",
       "      <th>40504.0</th>\n",
       "      <th>AREQUIPA</th>\n",
       "      <th>PERU SUR</th>\n",
       "      <td>1</td>\n",
       "    </tr>\n",
       "    <tr>\n",
       "      <th>150713.0</th>\n",
       "      <th>LIMA</th>\n",
       "      <th>PERU CENTRO</th>\n",
       "      <td>1</td>\n",
       "    </tr>\n",
       "    <tr>\n",
       "      <th>40508.0</th>\n",
       "      <th>AREQUIPA</th>\n",
       "      <th>PERU SUR</th>\n",
       "      <td>1</td>\n",
       "    </tr>\n",
       "    <tr>\n",
       "      <th>90612.0</th>\n",
       "      <th>HUANCAVELICA</th>\n",
       "      <th>PERU CENTRO</th>\n",
       "      <td>1</td>\n",
       "    </tr>\n",
       "    <tr>\n",
       "      <th>40513.0</th>\n",
       "      <th>AREQUIPA</th>\n",
       "      <th>PERU SUR</th>\n",
       "      <td>1</td>\n",
       "    </tr>\n",
       "    <tr>\n",
       "      <th>90606.0</th>\n",
       "      <th>HUANCAVELICA</th>\n",
       "      <th>PERU CENTRO</th>\n",
       "      <td>1</td>\n",
       "    </tr>\n",
       "    <tr>\n",
       "      <th>90502.0</th>\n",
       "      <th>HUANCAVELICA</th>\n",
       "      <th>PERU CENTRO</th>\n",
       "      <td>1</td>\n",
       "    </tr>\n",
       "    <tr>\n",
       "      <th>90602.0</th>\n",
       "      <th>HUANCAVELICA</th>\n",
       "      <th>PERU CENTRO</th>\n",
       "      <td>1</td>\n",
       "    </tr>\n",
       "    <tr>\n",
       "      <th>40603.0</th>\n",
       "      <th>AREQUIPA</th>\n",
       "      <th>PERU SUR</th>\n",
       "      <td>1</td>\n",
       "    </tr>\n",
       "    <tr>\n",
       "      <th>40604.0</th>\n",
       "      <th>AREQUIPA</th>\n",
       "      <th>PERU SUR</th>\n",
       "      <td>1</td>\n",
       "    </tr>\n",
       "    <tr>\n",
       "      <th>90508.0</th>\n",
       "      <th>HUANCAVELICA</th>\n",
       "      <th>PERU CENTRO</th>\n",
       "      <td>1</td>\n",
       "    </tr>\n",
       "    <tr>\n",
       "      <th>90505.0</th>\n",
       "      <th>HUANCAVELICA</th>\n",
       "      <th>PERU CENTRO</th>\n",
       "      <td>1</td>\n",
       "    </tr>\n",
       "    <tr>\n",
       "      <th>210903.0</th>\n",
       "      <th>PUNO</th>\n",
       "      <th>PERU SUR</th>\n",
       "      <td>1</td>\n",
       "    </tr>\n",
       "    <tr>\n",
       "      <th>250303.0</th>\n",
       "      <th>UCAYALI</th>\n",
       "      <th>PERU ORIENTE</th>\n",
       "      <td>1</td>\n",
       "    </tr>\n",
       "  </tbody>\n",
       "</table>\n",
       "<p>1045 rows × 1 columns</p>\n",
       "</div>"
      ],
      "text/plain": [
       "                                              CUC\n",
       "UBIGEO   DEPARTAMENTO         UBICACION          \n",
       "150140.0 LIMA                 LIMA TOP      29099\n",
       "150122.0 LIMA                 LIMA TOP      15049\n",
       "150114.0 LIMA                 LIMA TOP      13466\n",
       "150130.0 LIMA                 LIMA TOP      12902\n",
       "150131.0 LIMA                 LIMA TOP      11429\n",
       "150101.0 LIMA                 LIMA CENTRO    9504\n",
       "150136.0 LIMA                 LIMA MODERNA   7504\n",
       "150135.0 LIMA                 LIMA NORTE     7247\n",
       "150132.0 LIMA                 LIMA ESTE      6549\n",
       "150103.0 LIMA                 LIMA ESTE      6275\n",
       "150108.0 LIMA                 LIMA SUR       5601\n",
       "150117.0 LIMA                 LIMA NORTE     5469\n",
       "150121.0 LIMA                 LIMA MODERNA   5052\n",
       "150113.0 LIMA                 LIMA MODERNA   4681\n",
       "130101.0 LA LIBERTAD          PERU NORTE     4562\n",
       "70101.0  PROV. CONST. DEL CAL CALLAO         4545\n",
       "150141.0 LIMA                 LIMA MODERNA   4286\n",
       "150120.0 LIMA                 LIMA MODERNA   4023\n",
       "150110.0 LIMA                 LIMA NORTE     3768\n",
       "150133.0 LIMA                 LIMA SUR       3641\n",
       "150115.0 LIMA                 LIMA CENTRO    3566\n",
       "140101.0 LAMBAYEQUE           PERU NORTE     3482\n",
       "200101.0 PIURA                PERU NORTE     2974\n",
       "150116.0 LIMA                 LIMA MODERNA   2928\n",
       "150137.0 LIMA                 LIMA ESTE      2541\n",
       "150143.0 LIMA                 LIMA SUR       2469\n",
       "150142.0 LIMA                 LIMA SUR       2259\n",
       "150128.0 LIMA                 LIMA CENTRO    2141\n",
       "150105.0 LIMA                 LIMA CENTRO    2080\n",
       "150104.0 LIMA                 LIMA MODERNA   2048\n",
       "...                                           ...\n",
       "210709.0 PUNO                 PERU SUR          1\n",
       "150723.0 LIMA                 PERU CENTRO       1\n",
       "120709.0 JUNIN                PERU CENTRO       1\n",
       "90312.0  HUANCAVELICA         PERU CENTRO       1\n",
       "50109.0  AYACUCHO             PERU SUR          1\n",
       "200502.0 PIURA                PERU NORTE        1\n",
       "61006.0  CAJAMARCA            PERU NORTE        1\n",
       "50113.0  AYACUCHO             PERU SUR          1\n",
       "90203.0  HUANCAVELICA         PERU CENTRO       1\n",
       "210704.0 PUNO                 PERU SUR          1\n",
       "120414.0 JUNIN                PERU CENTRO       1\n",
       "90405.0  HUANCAVELICA         PERU CENTRO       1\n",
       "61106.0  CAJAMARCA            PERU NORTE        1\n",
       "150715.0 LIMA                 PERU CENTRO       1\n",
       "40519.0  AREQUIPA             PERU SUR          1\n",
       "150712.0 LIMA                 PERU CENTRO       1\n",
       "40504.0  AREQUIPA             PERU SUR          1\n",
       "150713.0 LIMA                 PERU CENTRO       1\n",
       "40508.0  AREQUIPA             PERU SUR          1\n",
       "90612.0  HUANCAVELICA         PERU CENTRO       1\n",
       "40513.0  AREQUIPA             PERU SUR          1\n",
       "90606.0  HUANCAVELICA         PERU CENTRO       1\n",
       "90502.0  HUANCAVELICA         PERU CENTRO       1\n",
       "90602.0  HUANCAVELICA         PERU CENTRO       1\n",
       "40603.0  AREQUIPA             PERU SUR          1\n",
       "40604.0  AREQUIPA             PERU SUR          1\n",
       "90508.0  HUANCAVELICA         PERU CENTRO       1\n",
       "90505.0  HUANCAVELICA         PERU CENTRO       1\n",
       "210903.0 PUNO                 PERU SUR          1\n",
       "250303.0 UCAYALI              PERU ORIENTE      1\n",
       "\n",
       "[1045 rows x 1 columns]"
      ]
     },
     "execution_count": 398,
     "metadata": {},
     "output_type": "execute_result"
    }
   ],
   "source": [
    "agrup = ['UBIGEO','DEPARTAMENTO','UBICACION']\n",
    "temp = pd.DataFrame(bd_clientes.groupby(agrup, axis = 0)[feature].count().sort_values(ascending = False))\n",
    "temp"
   ]
  },
  {
   "cell_type": "code",
   "execution_count": 399,
   "metadata": {
    "collapsed": false
   },
   "outputs": [],
   "source": [
    "#Reemplazar Missings\n",
    "bd_clientes['UBIGEO'].fillna(temp.index[0][0], inplace=True)\n",
    "bd_clientes['DEPARTAMENTO'].fillna(temp.index[0][1], inplace=True)\n",
    "bd_clientes['UBICACION'].fillna(temp.index[0][2], inplace=True)\n",
    "from scipy.stats import mode\n",
    "bd_clientes['SEXO'].fillna('M', inplace=True) # Moda"
   ]
  },
  {
   "cell_type": "code",
   "execution_count": 400,
   "metadata": {
    "collapsed": true
   },
   "outputs": [],
   "source": [
    "bd_clientes['FEC_NACIMIENTO'].fillna('01/01/1900', inplace=True) # Valor antiguo - Representa NULO"
   ]
  },
  {
   "cell_type": "code",
   "execution_count": 401,
   "metadata": {
    "collapsed": false
   },
   "outputs": [
    {
     "data": {
      "text/plain": [
       "SEXO              0\n",
       "FEC_NACIMIENTO    0\n",
       "UBICACION         0\n",
       "DEPARTAMENTO      0\n",
       "UBIGEO            0\n",
       "CUC               0\n",
       "dtype: int64"
      ]
     },
     "execution_count": 401,
     "metadata": {},
     "output_type": "execute_result"
    }
   ],
   "source": [
    "#conteo de nulos\n",
    "bd_clientes.isnull().sum()"
   ]
  },
  {
   "cell_type": "markdown",
   "metadata": {},
   "source": [
    "### Base Cobranzas"
   ]
  },
  {
   "cell_type": "code",
   "execution_count": 402,
   "metadata": {
    "collapsed": false,
    "scrolled": false
   },
   "outputs": [
    {
     "data": {
      "text/html": [
       "<div>\n",
       "<table border=\"1\" class=\"dataframe\">\n",
       "  <thead>\n",
       "    <tr style=\"text-align: right;\">\n",
       "      <th></th>\n",
       "      <th>PERIODO</th>\n",
       "      <th>NUM_FACTURAS</th>\n",
       "      <th>MONTO_DOLARES</th>\n",
       "      <th>CUC</th>\n",
       "      <th>P_AUTO</th>\n",
       "    </tr>\n",
       "  </thead>\n",
       "  <tbody>\n",
       "    <tr>\n",
       "      <th>0</th>\n",
       "      <td>201404</td>\n",
       "      <td>1</td>\n",
       "      <td>826</td>\n",
       "      <td>4-33334660</td>\n",
       "      <td>G8T792</td>\n",
       "    </tr>\n",
       "    <tr>\n",
       "      <th>1</th>\n",
       "      <td>201405</td>\n",
       "      <td>1</td>\n",
       "      <td>826</td>\n",
       "      <td>4-33334660</td>\n",
       "      <td>G8T792</td>\n",
       "    </tr>\n",
       "    <tr>\n",
       "      <th>2</th>\n",
       "      <td>201406</td>\n",
       "      <td>1</td>\n",
       "      <td>826</td>\n",
       "      <td>4-33334660</td>\n",
       "      <td>G8T792</td>\n",
       "    </tr>\n",
       "    <tr>\n",
       "      <th>3</th>\n",
       "      <td>201304</td>\n",
       "      <td>1</td>\n",
       "      <td>182</td>\n",
       "      <td>4-33344342</td>\n",
       "      <td>G4J803</td>\n",
       "    </tr>\n",
       "    <tr>\n",
       "      <th>4</th>\n",
       "      <td>201305</td>\n",
       "      <td>1</td>\n",
       "      <td>178</td>\n",
       "      <td>4-33344342</td>\n",
       "      <td>G4J803</td>\n",
       "    </tr>\n",
       "  </tbody>\n",
       "</table>\n",
       "</div>"
      ],
      "text/plain": [
       "   PERIODO  NUM_FACTURAS  MONTO_DOLARES         CUC  P_AUTO\n",
       "0   201404             1            826  4-33334660  G8T792\n",
       "1   201405             1            826  4-33334660  G8T792\n",
       "2   201406             1            826  4-33334660  G8T792\n",
       "3   201304             1            182  4-33344342  G4J803\n",
       "4   201305             1            178  4-33344342  G4J803"
      ]
     },
     "execution_count": 402,
     "metadata": {},
     "output_type": "execute_result"
    }
   ],
   "source": [
    "bd_cobranzas.head()"
   ]
  },
  {
   "cell_type": "code",
   "execution_count": 403,
   "metadata": {
    "collapsed": false
   },
   "outputs": [
    {
     "name": "stdout",
     "output_type": "stream",
     "text": [
      "<class 'pandas.core.frame.DataFrame'>\n",
      "RangeIndex: 569355 entries, 0 to 569354\n",
      "Data columns (total 5 columns):\n",
      "PERIODO          569355 non-null int64\n",
      "NUM_FACTURAS     569355 non-null int64\n",
      "MONTO_DOLARES    569355 non-null int64\n",
      "CUC              569355 non-null object\n",
      "P_AUTO           569355 non-null object\n",
      "dtypes: int64(3), object(2)\n",
      "memory usage: 21.7+ MB\n"
     ]
    }
   ],
   "source": [
    "bd_cobranzas.info()"
   ]
  },
  {
   "cell_type": "code",
   "execution_count": 404,
   "metadata": {
    "collapsed": false
   },
   "outputs": [
    {
     "data": {
      "text/plain": [
       "PERIODO          0\n",
       "NUM_FACTURAS     0\n",
       "MONTO_DOLARES    0\n",
       "CUC              0\n",
       "P_AUTO           0\n",
       "dtype: int64"
      ]
     },
     "execution_count": 404,
     "metadata": {},
     "output_type": "execute_result"
    }
   ],
   "source": [
    "#conteo de nulos\n",
    "bd_cobranzas.isnull().sum()"
   ]
  },
  {
   "cell_type": "code",
   "execution_count": 405,
   "metadata": {
    "collapsed": false
   },
   "outputs": [
    {
     "data": {
      "text/html": [
       "<div>\n",
       "<table border=\"1\" class=\"dataframe\">\n",
       "  <thead>\n",
       "    <tr style=\"text-align: right;\">\n",
       "      <th></th>\n",
       "      <th>PERIODO</th>\n",
       "      <th>NUM_FACTURAS</th>\n",
       "      <th>MONTO_DOLARES</th>\n",
       "    </tr>\n",
       "  </thead>\n",
       "  <tbody>\n",
       "    <tr>\n",
       "      <th>count</th>\n",
       "      <td>569355.000000</td>\n",
       "      <td>569355.000000</td>\n",
       "      <td>569355.000000</td>\n",
       "    </tr>\n",
       "    <tr>\n",
       "      <th>mean</th>\n",
       "      <td>201467.219680</td>\n",
       "      <td>1.423265</td>\n",
       "      <td>376.390150</td>\n",
       "    </tr>\n",
       "    <tr>\n",
       "      <th>std</th>\n",
       "      <td>108.168783</td>\n",
       "      <td>0.884281</td>\n",
       "      <td>1435.582137</td>\n",
       "    </tr>\n",
       "    <tr>\n",
       "      <th>min</th>\n",
       "      <td>201301.000000</td>\n",
       "      <td>1.000000</td>\n",
       "      <td>0.000000</td>\n",
       "    </tr>\n",
       "    <tr>\n",
       "      <th>25%</th>\n",
       "      <td>201403.000000</td>\n",
       "      <td>1.000000</td>\n",
       "      <td>106.000000</td>\n",
       "    </tr>\n",
       "    <tr>\n",
       "      <th>50%</th>\n",
       "      <td>201502.000000</td>\n",
       "      <td>1.000000</td>\n",
       "      <td>183.000000</td>\n",
       "    </tr>\n",
       "    <tr>\n",
       "      <th>75%</th>\n",
       "      <td>201602.000000</td>\n",
       "      <td>2.000000</td>\n",
       "      <td>396.000000</td>\n",
       "    </tr>\n",
       "    <tr>\n",
       "      <th>max</th>\n",
       "      <td>201612.000000</td>\n",
       "      <td>132.000000</td>\n",
       "      <td>396719.000000</td>\n",
       "    </tr>\n",
       "  </tbody>\n",
       "</table>\n",
       "</div>"
      ],
      "text/plain": [
       "             PERIODO   NUM_FACTURAS  MONTO_DOLARES\n",
       "count  569355.000000  569355.000000  569355.000000\n",
       "mean   201467.219680       1.423265     376.390150\n",
       "std       108.168783       0.884281    1435.582137\n",
       "min    201301.000000       1.000000       0.000000\n",
       "25%    201403.000000       1.000000     106.000000\n",
       "50%    201502.000000       1.000000     183.000000\n",
       "75%    201602.000000       2.000000     396.000000\n",
       "max    201612.000000     132.000000  396719.000000"
      ]
     },
     "execution_count": 405,
     "metadata": {},
     "output_type": "execute_result"
    }
   ],
   "source": [
    "bd_cobranzas.describe()"
   ]
  },
  {
   "cell_type": "markdown",
   "metadata": {},
   "source": [
    "#### NUM_FACTURAS"
   ]
  },
  {
   "cell_type": "code",
   "execution_count": 406,
   "metadata": {
    "collapsed": false
   },
   "outputs": [
    {
     "data": {
      "image/png": "[encoded data removed]",
      "text/plain": [
       "<matplotlib.figure.Figure at 0xa644acdb70>"
      ]
     },
     "metadata": {},
     "output_type": "display_data"
    }
   ],
   "source": [
    "import matplotlib.pyplot as plt\n",
    "bd_cobranzas['NUM_FACTURAS'].hist(bins=80 , log = True)\n",
    "plt.xlabel('NUM_FACTURAS')\n",
    "plt.ylabel('Frecuencia')\n",
    "plt.show()"
   ]
  },
  {
   "cell_type": "code",
   "execution_count": 407,
   "metadata": {
    "collapsed": false,
    "scrolled": true
   },
   "outputs": [
    {
     "name": "stdout",
     "output_type": "stream",
     "text": [
      "NUM_FACTURAS\n",
      "1      411336\n",
      "2       98921\n",
      "3       46371\n",
      "4        6358\n",
      "5        4532\n",
      "6         906\n",
      "8         345\n",
      "7         298\n",
      "9         106\n",
      "10         97\n",
      "11         43\n",
      "15          7\n",
      "12          5\n",
      "14          4\n",
      "13          2\n",
      "37          2\n",
      "32          2\n",
      "39          2\n",
      "17          2\n",
      "132         1\n",
      "16          1\n",
      "88          1\n",
      "19          1\n",
      "20          1\n",
      "23          1\n",
      "29          1\n",
      "31          1\n",
      "36          1\n",
      "38          1\n",
      "52          1\n",
      "59          1\n",
      "65          1\n",
      "73          1\n",
      "85          1\n",
      "18          1\n",
      "Name: NUM_FACTURAS, dtype: int64\n"
     ]
    }
   ],
   "source": [
    "print(bd_cobranzas.groupby('NUM_FACTURAS', axis = 0)['NUM_FACTURAS'].count().sort_values(ascending = False))"
   ]
  },
  {
   "cell_type": "code",
   "execution_count": 408,
   "metadata": {
    "collapsed": false
   },
   "outputs": [],
   "source": [
    "p99 = np.percentile(bd_cobranzas['NUM_FACTURAS'],99)\n",
    "bd_cobranzas.loc[bd_cobranzas['NUM_FACTURAS'] > p99, 'NUM_FACTURAS'] = p99 + 1"
   ]
  },
  {
   "cell_type": "code",
   "execution_count": 409,
   "metadata": {
    "collapsed": false
   },
   "outputs": [
    {
     "name": "stdout",
     "output_type": "stream",
     "text": [
      "NUM_FACTURAS\n",
      "1.0    411336\n",
      "2.0     98921\n",
      "3.0     46371\n",
      "4.0      6358\n",
      "5.0      4532\n",
      "6.0      1837\n",
      "Name: NUM_FACTURAS, dtype: int64\n"
     ]
    }
   ],
   "source": [
    "print(bd_cobranzas.groupby('NUM_FACTURAS', axis = 0)['NUM_FACTURAS'].count().sort_values(ascending = False))"
   ]
  },
  {
   "cell_type": "markdown",
   "metadata": {},
   "source": [
    "#### MONTO_DOLARES"
   ]
  },
  {
   "cell_type": "code",
   "execution_count": 410,
   "metadata": {
    "collapsed": false
   },
   "outputs": [
    {
     "data": {
      "image/png": "[encoded data removed]",
      "text/plain": [
       "<matplotlib.figure.Figure at 0xa55956e518>"
      ]
     },
     "metadata": {},
     "output_type": "display_data"
    }
   ],
   "source": [
    "import matplotlib.pyplot as plt\n",
    "bd_cobranzas['MONTO_DOLARES'].hist(bins=80)\n",
    "plt.xlabel('MONTO_DOLARES')\n",
    "plt.ylabel('Frecuencia')\n",
    "plt.show()"
   ]
  },
  {
   "cell_type": "code",
   "execution_count": 411,
   "metadata": {
    "collapsed": false
   },
   "outputs": [
    {
     "data": {
      "image/png": "[encoded data removed]",
      "text/plain": [
       "<matplotlib.figure.Figure at 0xa5631ba358>"
      ]
     },
     "metadata": {},
     "output_type": "display_data"
    }
   ],
   "source": [
    "plt.boxplot(bd_cobranzas['MONTO_DOLARES'])\n",
    "plt.title('MONTO_DOLARES')\n",
    "plt.show()"
   ]
  },
  {
   "cell_type": "code",
   "execution_count": 412,
   "metadata": {
    "collapsed": false
   },
   "outputs": [],
   "source": [
    "p99 = np.percentile(bd_cobranzas['MONTO_DOLARES'],99)\n",
    "bd_cobranzas.loc[bd_cobranzas['MONTO_DOLARES'] > p99, 'MONTO_DOLARES'] = p99"
   ]
  },
  {
   "cell_type": "code",
   "execution_count": 414,
   "metadata": {
    "collapsed": false
   },
   "outputs": [
    {
     "data": {
      "image/png": "[encoded data removed]",
      "text/plain": [
       "<matplotlib.figure.Figure at 0xa62769c898>"
      ]
     },
     "metadata": {},
     "output_type": "display_data"
    }
   ],
   "source": [
    "import matplotlib.pyplot as plt\n",
    "bd_cobranzas['MONTO_DOLARES'].hist(bins=80)\n",
    "plt.xlabel('MONTO_DOLARES')\n",
    "plt.ylabel('Frecuencia')\n",
    "plt.show()"
   ]
  },
  {
   "cell_type": "markdown",
   "metadata": {},
   "source": [
    "### Base Interac_veh"
   ]
  },
  {
   "cell_type": "code",
   "execution_count": 415,
   "metadata": {
    "collapsed": false,
    "scrolled": false
   },
   "outputs": [
    {
     "data": {
      "text/html": [
       "<div>\n",
       "<table border=\"1\" class=\"dataframe\">\n",
       "  <thead>\n",
       "    <tr style=\"text-align: right;\">\n",
       "      <th></th>\n",
       "      <th>TIPCASO.RN_DESCRIPTOR</th>\n",
       "      <th>PERIODO</th>\n",
       "      <th>CUC</th>\n",
       "    </tr>\n",
       "  </thead>\n",
       "  <tbody>\n",
       "    <tr>\n",
       "      <th>0</th>\n",
       "      <td>Requerimientos</td>\n",
       "      <td>201608</td>\n",
       "      <td>4-33335077</td>\n",
       "    </tr>\n",
       "    <tr>\n",
       "      <th>1</th>\n",
       "      <td>Atenciones</td>\n",
       "      <td>201504</td>\n",
       "      <td>4-33336775</td>\n",
       "    </tr>\n",
       "    <tr>\n",
       "      <th>2</th>\n",
       "      <td>Atenciones</td>\n",
       "      <td>201509</td>\n",
       "      <td>4-33336775</td>\n",
       "    </tr>\n",
       "    <tr>\n",
       "      <th>3</th>\n",
       "      <td>Emergencia</td>\n",
       "      <td>201508</td>\n",
       "      <td>4-33336775</td>\n",
       "    </tr>\n",
       "    <tr>\n",
       "      <th>4</th>\n",
       "      <td>Atenciones</td>\n",
       "      <td>201510</td>\n",
       "      <td>4-33336775</td>\n",
       "    </tr>\n",
       "  </tbody>\n",
       "</table>\n",
       "</div>"
      ],
      "text/plain": [
       "  TIPCASO.RN_DESCRIPTOR  PERIODO         CUC\n",
       "0        Requerimientos   201608  4-33335077\n",
       "1            Atenciones   201504  4-33336775\n",
       "2            Atenciones   201509  4-33336775\n",
       "3            Emergencia   201508  4-33336775\n",
       "4            Atenciones   201510  4-33336775"
      ]
     },
     "execution_count": 415,
     "metadata": {},
     "output_type": "execute_result"
    }
   ],
   "source": [
    "bd_interac_veh.head()"
   ]
  },
  {
   "cell_type": "code",
   "execution_count": 416,
   "metadata": {
    "collapsed": false,
    "scrolled": true
   },
   "outputs": [
    {
     "name": "stdout",
     "output_type": "stream",
     "text": [
      "<class 'pandas.core.frame.DataFrame'>\n",
      "RangeIndex: 1021912 entries, 0 to 1021911\n",
      "Data columns (total 3 columns):\n",
      "TIPCASO.RN_DESCRIPTOR    1021912 non-null object\n",
      "PERIODO                  1021912 non-null int64\n",
      "CUC                      1021912 non-null object\n",
      "dtypes: int64(1), object(2)\n",
      "memory usage: 23.4+ MB\n"
     ]
    }
   ],
   "source": [
    "bd_interac_veh.info()"
   ]
  },
  {
   "cell_type": "code",
   "execution_count": 417,
   "metadata": {
    "collapsed": false
   },
   "outputs": [
    {
     "data": {
      "text/plain": [
       "TIPCASO.RN_DESCRIPTOR    0\n",
       "PERIODO                  0\n",
       "CUC                      0\n",
       "dtype: int64"
      ]
     },
     "execution_count": 417,
     "metadata": {},
     "output_type": "execute_result"
    }
   ],
   "source": [
    "#conteo de nulos\n",
    "bd_interac_veh.isnull().sum()"
   ]
  },
  {
   "cell_type": "markdown",
   "metadata": {},
   "source": [
    "#### Convirtiendo a dummies "
   ]
  },
  {
   "cell_type": "code",
   "execution_count": 418,
   "metadata": {
    "collapsed": false,
    "scrolled": true
   },
   "outputs": [
    {
     "data": {
      "text/html": [
       "<div>\n",
       "<table border=\"1\" class=\"dataframe\">\n",
       "  <thead>\n",
       "    <tr style=\"text-align: right;\">\n",
       "      <th></th>\n",
       "      <th>TIPCASO.RN_DESCRIPTOR</th>\n",
       "      <th>PERIODO</th>\n",
       "      <th>CUC</th>\n",
       "      <th>TIPCASO.RN_DESCRIPTOR_VEH_Atenciones</th>\n",
       "      <th>TIPCASO.RN_DESCRIPTOR_VEH_Consulta</th>\n",
       "      <th>TIPCASO.RN_DESCRIPTOR_VEH_Disconformidades</th>\n",
       "      <th>TIPCASO.RN_DESCRIPTOR_VEH_Emergencia</th>\n",
       "      <th>TIPCASO.RN_DESCRIPTOR_VEH_Fidelizacion</th>\n",
       "      <th>TIPCASO.RN_DESCRIPTOR_VEH_Operacion</th>\n",
       "      <th>TIPCASO.RN_DESCRIPTOR_VEH_Operaciones</th>\n",
       "      <th>TIPCASO.RN_DESCRIPTOR_VEH_Reclamo</th>\n",
       "      <th>TIPCASO.RN_DESCRIPTOR_VEH_Relacionamiento</th>\n",
       "      <th>TIPCASO.RN_DESCRIPTOR_VEH_Requerimientos</th>\n",
       "      <th>TIPCASO.RN_DESCRIPTOR_VEH_Solicitud</th>\n",
       "      <th>TIPCASO.RN_DESCRIPTOR_VEH_Sugerencias</th>\n",
       "    </tr>\n",
       "  </thead>\n",
       "  <tbody>\n",
       "    <tr>\n",
       "      <th>0</th>\n",
       "      <td>Requerimientos</td>\n",
       "      <td>201608</td>\n",
       "      <td>4-33335077</td>\n",
       "      <td>0</td>\n",
       "      <td>0</td>\n",
       "      <td>0</td>\n",
       "      <td>0</td>\n",
       "      <td>0</td>\n",
       "      <td>0</td>\n",
       "      <td>0</td>\n",
       "      <td>0</td>\n",
       "      <td>0</td>\n",
       "      <td>1</td>\n",
       "      <td>0</td>\n",
       "      <td>0</td>\n",
       "    </tr>\n",
       "    <tr>\n",
       "      <th>1</th>\n",
       "      <td>Atenciones</td>\n",
       "      <td>201504</td>\n",
       "      <td>4-33336775</td>\n",
       "      <td>1</td>\n",
       "      <td>0</td>\n",
       "      <td>0</td>\n",
       "      <td>0</td>\n",
       "      <td>0</td>\n",
       "      <td>0</td>\n",
       "      <td>0</td>\n",
       "      <td>0</td>\n",
       "      <td>0</td>\n",
       "      <td>0</td>\n",
       "      <td>0</td>\n",
       "      <td>0</td>\n",
       "    </tr>\n",
       "    <tr>\n",
       "      <th>2</th>\n",
       "      <td>Atenciones</td>\n",
       "      <td>201509</td>\n",
       "      <td>4-33336775</td>\n",
       "      <td>1</td>\n",
       "      <td>0</td>\n",
       "      <td>0</td>\n",
       "      <td>0</td>\n",
       "      <td>0</td>\n",
       "      <td>0</td>\n",
       "      <td>0</td>\n",
       "      <td>0</td>\n",
       "      <td>0</td>\n",
       "      <td>0</td>\n",
       "      <td>0</td>\n",
       "      <td>0</td>\n",
       "    </tr>\n",
       "    <tr>\n",
       "      <th>3</th>\n",
       "      <td>Emergencia</td>\n",
       "      <td>201508</td>\n",
       "      <td>4-33336775</td>\n",
       "      <td>0</td>\n",
       "      <td>0</td>\n",
       "      <td>0</td>\n",
       "      <td>1</td>\n",
       "      <td>0</td>\n",
       "      <td>0</td>\n",
       "      <td>0</td>\n",
       "      <td>0</td>\n",
       "      <td>0</td>\n",
       "      <td>0</td>\n",
       "      <td>0</td>\n",
       "      <td>0</td>\n",
       "    </tr>\n",
       "    <tr>\n",
       "      <th>4</th>\n",
       "      <td>Atenciones</td>\n",
       "      <td>201510</td>\n",
       "      <td>4-33336775</td>\n",
       "      <td>1</td>\n",
       "      <td>0</td>\n",
       "      <td>0</td>\n",
       "      <td>0</td>\n",
       "      <td>0</td>\n",
       "      <td>0</td>\n",
       "      <td>0</td>\n",
       "      <td>0</td>\n",
       "      <td>0</td>\n",
       "      <td>0</td>\n",
       "      <td>0</td>\n",
       "      <td>0</td>\n",
       "    </tr>\n",
       "  </tbody>\n",
       "</table>\n",
       "</div>"
      ],
      "text/plain": [
       "  TIPCASO.RN_DESCRIPTOR  PERIODO         CUC  \\\n",
       "0        Requerimientos   201608  4-33335077   \n",
       "1            Atenciones   201504  4-33336775   \n",
       "2            Atenciones   201509  4-33336775   \n",
       "3            Emergencia   201508  4-33336775   \n",
       "4            Atenciones   201510  4-33336775   \n",
       "\n",
       "   TIPCASO.RN_DESCRIPTOR_VEH_Atenciones  TIPCASO.RN_DESCRIPTOR_VEH_Consulta  \\\n",
       "0                                     0                                   0   \n",
       "1                                     1                                   0   \n",
       "2                                     1                                   0   \n",
       "3                                     0                                   0   \n",
       "4                                     1                                   0   \n",
       "\n",
       "   TIPCASO.RN_DESCRIPTOR_VEH_Disconformidades  \\\n",
       "0                                           0   \n",
       "1                                           0   \n",
       "2                                           0   \n",
       "3                                           0   \n",
       "4                                           0   \n",
       "\n",
       "   TIPCASO.RN_DESCRIPTOR_VEH_Emergencia  \\\n",
       "0                                     0   \n",
       "1                                     0   \n",
       "2                                     0   \n",
       "3                                     1   \n",
       "4                                     0   \n",
       "\n",
       "   TIPCASO.RN_DESCRIPTOR_VEH_Fidelizacion  \\\n",
       "0                                       0   \n",
       "1                                       0   \n",
       "2                                       0   \n",
       "3                                       0   \n",
       "4                                       0   \n",
       "\n",
       "   TIPCASO.RN_DESCRIPTOR_VEH_Operacion  TIPCASO.RN_DESCRIPTOR_VEH_Operaciones  \\\n",
       "0                                    0                                      0   \n",
       "1                                    0                                      0   \n",
       "2                                    0                                      0   \n",
       "3                                    0                                      0   \n",
       "4                                    0                                      0   \n",
       "\n",
       "   TIPCASO.RN_DESCRIPTOR_VEH_Reclamo  \\\n",
       "0                                  0   \n",
       "1                                  0   \n",
       "2                                  0   \n",
       "3                                  0   \n",
       "4                                  0   \n",
       "\n",
       "   TIPCASO.RN_DESCRIPTOR_VEH_Relacionamiento  \\\n",
       "0                                          0   \n",
       "1                                          0   \n",
       "2                                          0   \n",
       "3                                          0   \n",
       "4                                          0   \n",
       "\n",
       "   TIPCASO.RN_DESCRIPTOR_VEH_Requerimientos  \\\n",
       "0                                         1   \n",
       "1                                         0   \n",
       "2                                         0   \n",
       "3                                         0   \n",
       "4                                         0   \n",
       "\n",
       "   TIPCASO.RN_DESCRIPTOR_VEH_Solicitud  TIPCASO.RN_DESCRIPTOR_VEH_Sugerencias  \n",
       "0                                    0                                      0  \n",
       "1                                    0                                      0  \n",
       "2                                    0                                      0  \n",
       "3                                    0                                      0  \n",
       "4                                    0                                      0  "
      ]
     },
     "execution_count": 418,
     "metadata": {},
     "output_type": "execute_result"
    }
   ],
   "source": [
    "dummies = pd.get_dummies(bd_interac_veh['TIPCASO.RN_DESCRIPTOR'], prefix='TIPCASO.RN_DESCRIPTOR_VEH')\n",
    "bd_interac_veh = pd.concat([bd_interac_veh, dummies], axis=1)\n",
    "bd_interac_veh.head()"
   ]
  },
  {
   "cell_type": "markdown",
   "metadata": {},
   "source": [
    "#### Agrupando"
   ]
  },
  {
   "cell_type": "code",
   "execution_count": 419,
   "metadata": {
    "collapsed": false
   },
   "outputs": [
    {
     "data": {
      "text/plain": [
       "['TIPCASO.RN_DESCRIPTOR_VEH_Atenciones',\n",
       " 'TIPCASO.RN_DESCRIPTOR_VEH_Consulta',\n",
       " 'TIPCASO.RN_DESCRIPTOR_VEH_Disconformidades',\n",
       " 'TIPCASO.RN_DESCRIPTOR_VEH_Emergencia',\n",
       " 'TIPCASO.RN_DESCRIPTOR_VEH_Fidelizacion',\n",
       " 'TIPCASO.RN_DESCRIPTOR_VEH_Operacion',\n",
       " 'TIPCASO.RN_DESCRIPTOR_VEH_Operaciones',\n",
       " 'TIPCASO.RN_DESCRIPTOR_VEH_Reclamo',\n",
       " 'TIPCASO.RN_DESCRIPTOR_VEH_Relacionamiento',\n",
       " 'TIPCASO.RN_DESCRIPTOR_VEH_Requerimientos',\n",
       " 'TIPCASO.RN_DESCRIPTOR_VEH_Solicitud',\n",
       " 'TIPCASO.RN_DESCRIPTOR_VEH_Sugerencias']"
      ]
     },
     "execution_count": 419,
     "metadata": {},
     "output_type": "execute_result"
    }
   ],
   "source": [
    "bd_interac_veh_feat = list(bd_interac_veh.columns)[3:]\n",
    "bd_interac_veh_feat"
   ]
  },
  {
   "cell_type": "code",
   "execution_count": 420,
   "metadata": {
    "collapsed": false
   },
   "outputs": [
    {
     "data": {
      "text/plain": [
       "['PERIODO',\n",
       " 'CUC',\n",
       " 'TIPCASO.RN_DESCRIPTOR_VEH_Atenciones',\n",
       " 'TIPCASO.RN_DESCRIPTOR_VEH_Consulta',\n",
       " 'TIPCASO.RN_DESCRIPTOR_VEH_Disconformidades',\n",
       " 'TIPCASO.RN_DESCRIPTOR_VEH_Emergencia',\n",
       " 'TIPCASO.RN_DESCRIPTOR_VEH_Fidelizacion',\n",
       " 'TIPCASO.RN_DESCRIPTOR_VEH_Operacion',\n",
       " 'TIPCASO.RN_DESCRIPTOR_VEH_Operaciones',\n",
       " 'TIPCASO.RN_DESCRIPTOR_VEH_Reclamo',\n",
       " 'TIPCASO.RN_DESCRIPTOR_VEH_Relacionamiento',\n",
       " 'TIPCASO.RN_DESCRIPTOR_VEH_Requerimientos',\n",
       " 'TIPCASO.RN_DESCRIPTOR_VEH_Solicitud',\n",
       " 'TIPCASO.RN_DESCRIPTOR_VEH_Sugerencias']"
      ]
     },
     "execution_count": 420,
     "metadata": {},
     "output_type": "execute_result"
    }
   ],
   "source": [
    "bd_interac_veh_columns = list(bd_interac_veh.columns)[1:]\n",
    "bd_interac_veh_columns"
   ]
  },
  {
   "cell_type": "code",
   "execution_count": 421,
   "metadata": {
    "collapsed": false
   },
   "outputs": [
    {
     "data": {
      "text/html": [
       "<div>\n",
       "<table border=\"1\" class=\"dataframe\">\n",
       "  <thead>\n",
       "    <tr style=\"text-align: right;\">\n",
       "      <th></th>\n",
       "      <th>PERIODO</th>\n",
       "      <th>CUC</th>\n",
       "      <th>TIPCASO.RN_DESCRIPTOR_VEH_Atenciones</th>\n",
       "      <th>TIPCASO.RN_DESCRIPTOR_VEH_Consulta</th>\n",
       "      <th>TIPCASO.RN_DESCRIPTOR_VEH_Disconformidades</th>\n",
       "      <th>TIPCASO.RN_DESCRIPTOR_VEH_Emergencia</th>\n",
       "      <th>TIPCASO.RN_DESCRIPTOR_VEH_Fidelizacion</th>\n",
       "      <th>TIPCASO.RN_DESCRIPTOR_VEH_Operacion</th>\n",
       "      <th>TIPCASO.RN_DESCRIPTOR_VEH_Operaciones</th>\n",
       "      <th>TIPCASO.RN_DESCRIPTOR_VEH_Reclamo</th>\n",
       "      <th>TIPCASO.RN_DESCRIPTOR_VEH_Relacionamiento</th>\n",
       "      <th>TIPCASO.RN_DESCRIPTOR_VEH_Requerimientos</th>\n",
       "      <th>TIPCASO.RN_DESCRIPTOR_VEH_Solicitud</th>\n",
       "      <th>TIPCASO.RN_DESCRIPTOR_VEH_Sugerencias</th>\n",
       "    </tr>\n",
       "  </thead>\n",
       "  <tbody>\n",
       "    <tr>\n",
       "      <th>0</th>\n",
       "      <td>201301</td>\n",
       "      <td>0-4239743</td>\n",
       "      <td>0</td>\n",
       "      <td>0</td>\n",
       "      <td>0</td>\n",
       "      <td>1</td>\n",
       "      <td>0</td>\n",
       "      <td>0</td>\n",
       "      <td>0</td>\n",
       "      <td>0</td>\n",
       "      <td>0</td>\n",
       "      <td>0</td>\n",
       "      <td>0</td>\n",
       "      <td>0</td>\n",
       "    </tr>\n",
       "    <tr>\n",
       "      <th>1</th>\n",
       "      <td>201301</td>\n",
       "      <td>0-6231815</td>\n",
       "      <td>0</td>\n",
       "      <td>0</td>\n",
       "      <td>0</td>\n",
       "      <td>1</td>\n",
       "      <td>0</td>\n",
       "      <td>0</td>\n",
       "      <td>0</td>\n",
       "      <td>0</td>\n",
       "      <td>0</td>\n",
       "      <td>0</td>\n",
       "      <td>0</td>\n",
       "      <td>0</td>\n",
       "    </tr>\n",
       "    <tr>\n",
       "      <th>2</th>\n",
       "      <td>201301</td>\n",
       "      <td>4-03004194</td>\n",
       "      <td>0</td>\n",
       "      <td>0</td>\n",
       "      <td>0</td>\n",
       "      <td>1</td>\n",
       "      <td>0</td>\n",
       "      <td>0</td>\n",
       "      <td>0</td>\n",
       "      <td>0</td>\n",
       "      <td>0</td>\n",
       "      <td>0</td>\n",
       "      <td>0</td>\n",
       "      <td>0</td>\n",
       "    </tr>\n",
       "    <tr>\n",
       "      <th>3</th>\n",
       "      <td>201301</td>\n",
       "      <td>4-03079668</td>\n",
       "      <td>1</td>\n",
       "      <td>0</td>\n",
       "      <td>0</td>\n",
       "      <td>1</td>\n",
       "      <td>0</td>\n",
       "      <td>0</td>\n",
       "      <td>0</td>\n",
       "      <td>0</td>\n",
       "      <td>0</td>\n",
       "      <td>0</td>\n",
       "      <td>0</td>\n",
       "      <td>0</td>\n",
       "    </tr>\n",
       "    <tr>\n",
       "      <th>4</th>\n",
       "      <td>201301</td>\n",
       "      <td>4-03355945</td>\n",
       "      <td>0</td>\n",
       "      <td>0</td>\n",
       "      <td>0</td>\n",
       "      <td>1</td>\n",
       "      <td>0</td>\n",
       "      <td>0</td>\n",
       "      <td>0</td>\n",
       "      <td>0</td>\n",
       "      <td>0</td>\n",
       "      <td>0</td>\n",
       "      <td>0</td>\n",
       "      <td>0</td>\n",
       "    </tr>\n",
       "  </tbody>\n",
       "</table>\n",
       "</div>"
      ],
      "text/plain": [
       "  PERIODO         CUC TIPCASO.RN_DESCRIPTOR_VEH_Atenciones  \\\n",
       "0  201301   0-4239743                                    0   \n",
       "1  201301   0-6231815                                    0   \n",
       "2  201301  4-03004194                                    0   \n",
       "3  201301  4-03079668                                    1   \n",
       "4  201301  4-03355945                                    0   \n",
       "\n",
       "  TIPCASO.RN_DESCRIPTOR_VEH_Consulta  \\\n",
       "0                                  0   \n",
       "1                                  0   \n",
       "2                                  0   \n",
       "3                                  0   \n",
       "4                                  0   \n",
       "\n",
       "  TIPCASO.RN_DESCRIPTOR_VEH_Disconformidades  \\\n",
       "0                                          0   \n",
       "1                                          0   \n",
       "2                                          0   \n",
       "3                                          0   \n",
       "4                                          0   \n",
       "\n",
       "  TIPCASO.RN_DESCRIPTOR_VEH_Emergencia TIPCASO.RN_DESCRIPTOR_VEH_Fidelizacion  \\\n",
       "0                                    1                                      0   \n",
       "1                                    1                                      0   \n",
       "2                                    1                                      0   \n",
       "3                                    1                                      0   \n",
       "4                                    1                                      0   \n",
       "\n",
       "  TIPCASO.RN_DESCRIPTOR_VEH_Operacion TIPCASO.RN_DESCRIPTOR_VEH_Operaciones  \\\n",
       "0                                   0                                     0   \n",
       "1                                   0                                     0   \n",
       "2                                   0                                     0   \n",
       "3                                   0                                     0   \n",
       "4                                   0                                     0   \n",
       "\n",
       "  TIPCASO.RN_DESCRIPTOR_VEH_Reclamo TIPCASO.RN_DESCRIPTOR_VEH_Relacionamiento  \\\n",
       "0                                 0                                         0   \n",
       "1                                 0                                         0   \n",
       "2                                 0                                         0   \n",
       "3                                 0                                         0   \n",
       "4                                 0                                         0   \n",
       "\n",
       "  TIPCASO.RN_DESCRIPTOR_VEH_Requerimientos  \\\n",
       "0                                        0   \n",
       "1                                        0   \n",
       "2                                        0   \n",
       "3                                        0   \n",
       "4                                        0   \n",
       "\n",
       "  TIPCASO.RN_DESCRIPTOR_VEH_Solicitud TIPCASO.RN_DESCRIPTOR_VEH_Sugerencias  \n",
       "0                                   0                                     0  \n",
       "1                                   0                                     0  \n",
       "2                                   0                                     0  \n",
       "3                                   0                                     0  \n",
       "4                                   0                                     0  "
      ]
     },
     "execution_count": 421,
     "metadata": {},
     "output_type": "execute_result"
    }
   ],
   "source": [
    "bd_interac_veh_t = pd.DataFrame(np.array(bd_interac_veh.groupby([\"PERIODO\",\"CUC\"], as_index = False, axis = 0)[bd_interac_veh_feat].sum()),\n",
    "                         columns = bd_interac_veh_columns)\n",
    "bd_interac_veh_t.head()"
   ]
  },
  {
   "cell_type": "code",
   "execution_count": 422,
   "metadata": {
    "collapsed": false
   },
   "outputs": [
    {
     "data": {
      "text/plain": [
       "(1021912, 732187)"
      ]
     },
     "execution_count": 422,
     "metadata": {},
     "output_type": "execute_result"
    }
   ],
   "source": [
    "len(bd_interac_veh), len(bd_interac_veh_t)"
   ]
  },
  {
   "cell_type": "markdown",
   "metadata": {},
   "source": [
    "### Base Interac_noveh"
   ]
  },
  {
   "cell_type": "code",
   "execution_count": 423,
   "metadata": {
    "collapsed": false,
    "scrolled": false
   },
   "outputs": [
    {
     "data": {
      "text/html": [
       "<div>\n",
       "<table border=\"1\" class=\"dataframe\">\n",
       "  <thead>\n",
       "    <tr style=\"text-align: right;\">\n",
       "      <th></th>\n",
       "      <th>TIPCASO.RN_DESCRIPTOR</th>\n",
       "      <th>PERIODO</th>\n",
       "      <th>CUC</th>\n",
       "    </tr>\n",
       "  </thead>\n",
       "  <tbody>\n",
       "    <tr>\n",
       "      <th>0</th>\n",
       "      <td>Atenciones</td>\n",
       "      <td>201506</td>\n",
       "      <td>4-33333370</td>\n",
       "    </tr>\n",
       "    <tr>\n",
       "      <th>1</th>\n",
       "      <td>Emergencia</td>\n",
       "      <td>201307</td>\n",
       "      <td>4-33333448</td>\n",
       "    </tr>\n",
       "    <tr>\n",
       "      <th>2</th>\n",
       "      <td>Atenciones</td>\n",
       "      <td>201410</td>\n",
       "      <td>4-33333448</td>\n",
       "    </tr>\n",
       "    <tr>\n",
       "      <th>3</th>\n",
       "      <td>Atenciones</td>\n",
       "      <td>201403</td>\n",
       "      <td>4-33333448</td>\n",
       "    </tr>\n",
       "    <tr>\n",
       "      <th>4</th>\n",
       "      <td>Atenciones</td>\n",
       "      <td>201508</td>\n",
       "      <td>4-33333592</td>\n",
       "    </tr>\n",
       "  </tbody>\n",
       "</table>\n",
       "</div>"
      ],
      "text/plain": [
       "  TIPCASO.RN_DESCRIPTOR  PERIODO         CUC\n",
       "0            Atenciones   201506  4-33333370\n",
       "1            Emergencia   201307  4-33333448\n",
       "2            Atenciones   201410  4-33333448\n",
       "3            Atenciones   201403  4-33333448\n",
       "4            Atenciones   201508  4-33333592"
      ]
     },
     "execution_count": 423,
     "metadata": {},
     "output_type": "execute_result"
    }
   ],
   "source": [
    "bd_interac_noveh.head()"
   ]
  },
  {
   "cell_type": "code",
   "execution_count": 424,
   "metadata": {
    "collapsed": false
   },
   "outputs": [
    {
     "name": "stdout",
     "output_type": "stream",
     "text": [
      "<class 'pandas.core.frame.DataFrame'>\n",
      "RangeIndex: 2956229 entries, 0 to 2956228\n",
      "Data columns (total 3 columns):\n",
      "TIPCASO.RN_DESCRIPTOR    object\n",
      "PERIODO                  int64\n",
      "CUC                      object\n",
      "dtypes: int64(1), object(2)\n",
      "memory usage: 67.7+ MB\n"
     ]
    }
   ],
   "source": [
    "bd_interac_noveh.info()"
   ]
  },
  {
   "cell_type": "code",
   "execution_count": 425,
   "metadata": {
    "collapsed": false
   },
   "outputs": [
    {
     "data": {
      "text/plain": [
       "TIPCASO.RN_DESCRIPTOR    0\n",
       "PERIODO                  0\n",
       "CUC                      0\n",
       "dtype: int64"
      ]
     },
     "execution_count": 425,
     "metadata": {},
     "output_type": "execute_result"
    }
   ],
   "source": [
    "#conteo de nulos\n",
    "bd_interac_noveh.isnull().sum()"
   ]
  },
  {
   "cell_type": "markdown",
   "metadata": {},
   "source": [
    "#### Convirtiendo a dummies "
   ]
  },
  {
   "cell_type": "code",
   "execution_count": 426,
   "metadata": {
    "collapsed": false,
    "scrolled": true
   },
   "outputs": [
    {
     "data": {
      "text/html": [
       "<div>\n",
       "<table border=\"1\" class=\"dataframe\">\n",
       "  <thead>\n",
       "    <tr style=\"text-align: right;\">\n",
       "      <th></th>\n",
       "      <th>TIPCASO.RN_DESCRIPTOR</th>\n",
       "      <th>PERIODO</th>\n",
       "      <th>CUC</th>\n",
       "      <th>TIPCASO.RN_DESCRIPTOR_noveh_Atenciones</th>\n",
       "      <th>TIPCASO.RN_DESCRIPTOR_noveh_Consulta</th>\n",
       "      <th>TIPCASO.RN_DESCRIPTOR_noveh_Disconformidades</th>\n",
       "      <th>TIPCASO.RN_DESCRIPTOR_noveh_Emergencia</th>\n",
       "      <th>TIPCASO.RN_DESCRIPTOR_noveh_Fidelizacion</th>\n",
       "      <th>TIPCASO.RN_DESCRIPTOR_noveh_Operacion</th>\n",
       "      <th>TIPCASO.RN_DESCRIPTOR_noveh_Operaciones</th>\n",
       "      <th>TIPCASO.RN_DESCRIPTOR_noveh_Reclamo</th>\n",
       "      <th>TIPCASO.RN_DESCRIPTOR_noveh_Relacionamiento</th>\n",
       "      <th>TIPCASO.RN_DESCRIPTOR_noveh_Requerimientos</th>\n",
       "      <th>TIPCASO.RN_DESCRIPTOR_noveh_Solicitud</th>\n",
       "      <th>TIPCASO.RN_DESCRIPTOR_noveh_Sugerencias</th>\n",
       "    </tr>\n",
       "  </thead>\n",
       "  <tbody>\n",
       "    <tr>\n",
       "      <th>0</th>\n",
       "      <td>Atenciones</td>\n",
       "      <td>201506</td>\n",
       "      <td>4-33333370</td>\n",
       "      <td>1</td>\n",
       "      <td>0</td>\n",
       "      <td>0</td>\n",
       "      <td>0</td>\n",
       "      <td>0</td>\n",
       "      <td>0</td>\n",
       "      <td>0</td>\n",
       "      <td>0</td>\n",
       "      <td>0</td>\n",
       "      <td>0</td>\n",
       "      <td>0</td>\n",
       "      <td>0</td>\n",
       "    </tr>\n",
       "    <tr>\n",
       "      <th>1</th>\n",
       "      <td>Emergencia</td>\n",
       "      <td>201307</td>\n",
       "      <td>4-33333448</td>\n",
       "      <td>0</td>\n",
       "      <td>0</td>\n",
       "      <td>0</td>\n",
       "      <td>1</td>\n",
       "      <td>0</td>\n",
       "      <td>0</td>\n",
       "      <td>0</td>\n",
       "      <td>0</td>\n",
       "      <td>0</td>\n",
       "      <td>0</td>\n",
       "      <td>0</td>\n",
       "      <td>0</td>\n",
       "    </tr>\n",
       "    <tr>\n",
       "      <th>2</th>\n",
       "      <td>Atenciones</td>\n",
       "      <td>201410</td>\n",
       "      <td>4-33333448</td>\n",
       "      <td>1</td>\n",
       "      <td>0</td>\n",
       "      <td>0</td>\n",
       "      <td>0</td>\n",
       "      <td>0</td>\n",
       "      <td>0</td>\n",
       "      <td>0</td>\n",
       "      <td>0</td>\n",
       "      <td>0</td>\n",
       "      <td>0</td>\n",
       "      <td>0</td>\n",
       "      <td>0</td>\n",
       "    </tr>\n",
       "    <tr>\n",
       "      <th>3</th>\n",
       "      <td>Atenciones</td>\n",
       "      <td>201403</td>\n",
       "      <td>4-33333448</td>\n",
       "      <td>1</td>\n",
       "      <td>0</td>\n",
       "      <td>0</td>\n",
       "      <td>0</td>\n",
       "      <td>0</td>\n",
       "      <td>0</td>\n",
       "      <td>0</td>\n",
       "      <td>0</td>\n",
       "      <td>0</td>\n",
       "      <td>0</td>\n",
       "      <td>0</td>\n",
       "      <td>0</td>\n",
       "    </tr>\n",
       "    <tr>\n",
       "      <th>4</th>\n",
       "      <td>Atenciones</td>\n",
       "      <td>201508</td>\n",
       "      <td>4-33333592</td>\n",
       "      <td>1</td>\n",
       "      <td>0</td>\n",
       "      <td>0</td>\n",
       "      <td>0</td>\n",
       "      <td>0</td>\n",
       "      <td>0</td>\n",
       "      <td>0</td>\n",
       "      <td>0</td>\n",
       "      <td>0</td>\n",
       "      <td>0</td>\n",
       "      <td>0</td>\n",
       "      <td>0</td>\n",
       "    </tr>\n",
       "  </tbody>\n",
       "</table>\n",
       "</div>"
      ],
      "text/plain": [
       "  TIPCASO.RN_DESCRIPTOR  PERIODO         CUC  \\\n",
       "0            Atenciones   201506  4-33333370   \n",
       "1            Emergencia   201307  4-33333448   \n",
       "2            Atenciones   201410  4-33333448   \n",
       "3            Atenciones   201403  4-33333448   \n",
       "4            Atenciones   201508  4-33333592   \n",
       "\n",
       "   TIPCASO.RN_DESCRIPTOR_noveh_Atenciones  \\\n",
       "0                                       1   \n",
       "1                                       0   \n",
       "2                                       1   \n",
       "3                                       1   \n",
       "4                                       1   \n",
       "\n",
       "   TIPCASO.RN_DESCRIPTOR_noveh_Consulta  \\\n",
       "0                                     0   \n",
       "1                                     0   \n",
       "2                                     0   \n",
       "3                                     0   \n",
       "4                                     0   \n",
       "\n",
       "   TIPCASO.RN_DESCRIPTOR_noveh_Disconformidades  \\\n",
       "0                                             0   \n",
       "1                                             0   \n",
       "2                                             0   \n",
       "3                                             0   \n",
       "4                                             0   \n",
       "\n",
       "   TIPCASO.RN_DESCRIPTOR_noveh_Emergencia  \\\n",
       "0                                       0   \n",
       "1                                       1   \n",
       "2                                       0   \n",
       "3                                       0   \n",
       "4                                       0   \n",
       "\n",
       "   TIPCASO.RN_DESCRIPTOR_noveh_Fidelizacion  \\\n",
       "0                                         0   \n",
       "1                                         0   \n",
       "2                                         0   \n",
       "3                                         0   \n",
       "4                                         0   \n",
       "\n",
       "   TIPCASO.RN_DESCRIPTOR_noveh_Operacion  \\\n",
       "0                                      0   \n",
       "1                                      0   \n",
       "2                                      0   \n",
       "3                                      0   \n",
       "4                                      0   \n",
       "\n",
       "   TIPCASO.RN_DESCRIPTOR_noveh_Operaciones  \\\n",
       "0                                        0   \n",
       "1                                        0   \n",
       "2                                        0   \n",
       "3                                        0   \n",
       "4                                        0   \n",
       "\n",
       "   TIPCASO.RN_DESCRIPTOR_noveh_Reclamo  \\\n",
       "0                                    0   \n",
       "1                                    0   \n",
       "2                                    0   \n",
       "3                                    0   \n",
       "4                                    0   \n",
       "\n",
       "   TIPCASO.RN_DESCRIPTOR_noveh_Relacionamiento  \\\n",
       "0                                            0   \n",
       "1                                            0   \n",
       "2                                            0   \n",
       "3                                            0   \n",
       "4                                            0   \n",
       "\n",
       "   TIPCASO.RN_DESCRIPTOR_noveh_Requerimientos  \\\n",
       "0                                           0   \n",
       "1                                           0   \n",
       "2                                           0   \n",
       "3                                           0   \n",
       "4                                           0   \n",
       "\n",
       "   TIPCASO.RN_DESCRIPTOR_noveh_Solicitud  \\\n",
       "0                                      0   \n",
       "1                                      0   \n",
       "2                                      0   \n",
       "3                                      0   \n",
       "4                                      0   \n",
       "\n",
       "   TIPCASO.RN_DESCRIPTOR_noveh_Sugerencias  \n",
       "0                                        0  \n",
       "1                                        0  \n",
       "2                                        0  \n",
       "3                                        0  \n",
       "4                                        0  "
      ]
     },
     "execution_count": 426,
     "metadata": {},
     "output_type": "execute_result"
    }
   ],
   "source": [
    "dummies = pd.get_dummies(bd_interac_noveh['TIPCASO.RN_DESCRIPTOR'], prefix='TIPCASO.RN_DESCRIPTOR_noveh')\n",
    "bd_interac_noveh = pd.concat([bd_interac_noveh, dummies], axis=1)\n",
    "bd_interac_noveh.head()"
   ]
  },
  {
   "cell_type": "markdown",
   "metadata": {},
   "source": [
    "#### Agrupando"
   ]
  },
  {
   "cell_type": "code",
   "execution_count": 427,
   "metadata": {
    "collapsed": false
   },
   "outputs": [
    {
     "data": {
      "text/plain": [
       "['TIPCASO.RN_DESCRIPTOR_noveh_Atenciones',\n",
       " 'TIPCASO.RN_DESCRIPTOR_noveh_Consulta',\n",
       " 'TIPCASO.RN_DESCRIPTOR_noveh_Disconformidades',\n",
       " 'TIPCASO.RN_DESCRIPTOR_noveh_Emergencia',\n",
       " 'TIPCASO.RN_DESCRIPTOR_noveh_Fidelizacion',\n",
       " 'TIPCASO.RN_DESCRIPTOR_noveh_Operacion',\n",
       " 'TIPCASO.RN_DESCRIPTOR_noveh_Operaciones',\n",
       " 'TIPCASO.RN_DESCRIPTOR_noveh_Reclamo',\n",
       " 'TIPCASO.RN_DESCRIPTOR_noveh_Relacionamiento',\n",
       " 'TIPCASO.RN_DESCRIPTOR_noveh_Requerimientos',\n",
       " 'TIPCASO.RN_DESCRIPTOR_noveh_Solicitud',\n",
       " 'TIPCASO.RN_DESCRIPTOR_noveh_Sugerencias']"
      ]
     },
     "execution_count": 427,
     "metadata": {},
     "output_type": "execute_result"
    }
   ],
   "source": [
    "bd_interac_noveh_feat = list(bd_interac_noveh.columns)[3:]\n",
    "bd_interac_noveh_feat"
   ]
  },
  {
   "cell_type": "code",
   "execution_count": 428,
   "metadata": {
    "collapsed": false
   },
   "outputs": [
    {
     "data": {
      "text/plain": [
       "['PERIODO',\n",
       " 'CUC',\n",
       " 'TIPCASO.RN_DESCRIPTOR_noveh_Atenciones',\n",
       " 'TIPCASO.RN_DESCRIPTOR_noveh_Consulta',\n",
       " 'TIPCASO.RN_DESCRIPTOR_noveh_Disconformidades',\n",
       " 'TIPCASO.RN_DESCRIPTOR_noveh_Emergencia',\n",
       " 'TIPCASO.RN_DESCRIPTOR_noveh_Fidelizacion',\n",
       " 'TIPCASO.RN_DESCRIPTOR_noveh_Operacion',\n",
       " 'TIPCASO.RN_DESCRIPTOR_noveh_Operaciones',\n",
       " 'TIPCASO.RN_DESCRIPTOR_noveh_Reclamo',\n",
       " 'TIPCASO.RN_DESCRIPTOR_noveh_Relacionamiento',\n",
       " 'TIPCASO.RN_DESCRIPTOR_noveh_Requerimientos',\n",
       " 'TIPCASO.RN_DESCRIPTOR_noveh_Solicitud',\n",
       " 'TIPCASO.RN_DESCRIPTOR_noveh_Sugerencias']"
      ]
     },
     "execution_count": 428,
     "metadata": {},
     "output_type": "execute_result"
    }
   ],
   "source": [
    "bd_interac_noveh_columns = list(bd_interac_noveh.columns)[1:]\n",
    "bd_interac_noveh_columns"
   ]
  },
  {
   "cell_type": "code",
   "execution_count": 429,
   "metadata": {
    "collapsed": false
   },
   "outputs": [
    {
     "data": {
      "text/html": [
       "<div>\n",
       "<table border=\"1\" class=\"dataframe\">\n",
       "  <thead>\n",
       "    <tr style=\"text-align: right;\">\n",
       "      <th></th>\n",
       "      <th>PERIODO</th>\n",
       "      <th>CUC</th>\n",
       "      <th>TIPCASO.RN_DESCRIPTOR_noveh_Atenciones</th>\n",
       "      <th>TIPCASO.RN_DESCRIPTOR_noveh_Consulta</th>\n",
       "      <th>TIPCASO.RN_DESCRIPTOR_noveh_Disconformidades</th>\n",
       "      <th>TIPCASO.RN_DESCRIPTOR_noveh_Emergencia</th>\n",
       "      <th>TIPCASO.RN_DESCRIPTOR_noveh_Fidelizacion</th>\n",
       "      <th>TIPCASO.RN_DESCRIPTOR_noveh_Operacion</th>\n",
       "      <th>TIPCASO.RN_DESCRIPTOR_noveh_Operaciones</th>\n",
       "      <th>TIPCASO.RN_DESCRIPTOR_noveh_Reclamo</th>\n",
       "      <th>TIPCASO.RN_DESCRIPTOR_noveh_Relacionamiento</th>\n",
       "      <th>TIPCASO.RN_DESCRIPTOR_noveh_Requerimientos</th>\n",
       "      <th>TIPCASO.RN_DESCRIPTOR_noveh_Solicitud</th>\n",
       "      <th>TIPCASO.RN_DESCRIPTOR_noveh_Sugerencias</th>\n",
       "    </tr>\n",
       "  </thead>\n",
       "  <tbody>\n",
       "    <tr>\n",
       "      <th>0</th>\n",
       "      <td>201301</td>\n",
       "      <td>0-45703646</td>\n",
       "      <td>0</td>\n",
       "      <td>0</td>\n",
       "      <td>0</td>\n",
       "      <td>1</td>\n",
       "      <td>0</td>\n",
       "      <td>0</td>\n",
       "      <td>0</td>\n",
       "      <td>0</td>\n",
       "      <td>0</td>\n",
       "      <td>0</td>\n",
       "      <td>0</td>\n",
       "      <td>0</td>\n",
       "    </tr>\n",
       "    <tr>\n",
       "      <th>1</th>\n",
       "      <td>201301</td>\n",
       "      <td>0-48991583-3</td>\n",
       "      <td>0</td>\n",
       "      <td>0</td>\n",
       "      <td>0</td>\n",
       "      <td>1</td>\n",
       "      <td>0</td>\n",
       "      <td>0</td>\n",
       "      <td>0</td>\n",
       "      <td>0</td>\n",
       "      <td>0</td>\n",
       "      <td>0</td>\n",
       "      <td>0</td>\n",
       "      <td>0</td>\n",
       "    </tr>\n",
       "    <tr>\n",
       "      <th>2</th>\n",
       "      <td>201301</td>\n",
       "      <td>0-BD6308313</td>\n",
       "      <td>0</td>\n",
       "      <td>0</td>\n",
       "      <td>0</td>\n",
       "      <td>1</td>\n",
       "      <td>0</td>\n",
       "      <td>0</td>\n",
       "      <td>0</td>\n",
       "      <td>0</td>\n",
       "      <td>0</td>\n",
       "      <td>0</td>\n",
       "      <td>0</td>\n",
       "      <td>0</td>\n",
       "    </tr>\n",
       "    <tr>\n",
       "      <th>3</th>\n",
       "      <td>201301</td>\n",
       "      <td>0-DDI9351866</td>\n",
       "      <td>0</td>\n",
       "      <td>0</td>\n",
       "      <td>0</td>\n",
       "      <td>1</td>\n",
       "      <td>0</td>\n",
       "      <td>0</td>\n",
       "      <td>0</td>\n",
       "      <td>0</td>\n",
       "      <td>0</td>\n",
       "      <td>0</td>\n",
       "      <td>0</td>\n",
       "      <td>0</td>\n",
       "    </tr>\n",
       "    <tr>\n",
       "      <th>4</th>\n",
       "      <td>201301</td>\n",
       "      <td>1-43467747</td>\n",
       "      <td>0</td>\n",
       "      <td>0</td>\n",
       "      <td>0</td>\n",
       "      <td>1</td>\n",
       "      <td>0</td>\n",
       "      <td>0</td>\n",
       "      <td>0</td>\n",
       "      <td>0</td>\n",
       "      <td>0</td>\n",
       "      <td>0</td>\n",
       "      <td>0</td>\n",
       "      <td>0</td>\n",
       "    </tr>\n",
       "  </tbody>\n",
       "</table>\n",
       "</div>"
      ],
      "text/plain": [
       "  PERIODO           CUC TIPCASO.RN_DESCRIPTOR_noveh_Atenciones  \\\n",
       "0  201301    0-45703646                                      0   \n",
       "1  201301  0-48991583-3                                      0   \n",
       "2  201301   0-BD6308313                                      0   \n",
       "3  201301  0-DDI9351866                                      0   \n",
       "4  201301    1-43467747                                      0   \n",
       "\n",
       "  TIPCASO.RN_DESCRIPTOR_noveh_Consulta  \\\n",
       "0                                    0   \n",
       "1                                    0   \n",
       "2                                    0   \n",
       "3                                    0   \n",
       "4                                    0   \n",
       "\n",
       "  TIPCASO.RN_DESCRIPTOR_noveh_Disconformidades  \\\n",
       "0                                            0   \n",
       "1                                            0   \n",
       "2                                            0   \n",
       "3                                            0   \n",
       "4                                            0   \n",
       "\n",
       "  TIPCASO.RN_DESCRIPTOR_noveh_Emergencia  \\\n",
       "0                                      1   \n",
       "1                                      1   \n",
       "2                                      1   \n",
       "3                                      1   \n",
       "4                                      1   \n",
       "\n",
       "  TIPCASO.RN_DESCRIPTOR_noveh_Fidelizacion  \\\n",
       "0                                        0   \n",
       "1                                        0   \n",
       "2                                        0   \n",
       "3                                        0   \n",
       "4                                        0   \n",
       "\n",
       "  TIPCASO.RN_DESCRIPTOR_noveh_Operacion  \\\n",
       "0                                     0   \n",
       "1                                     0   \n",
       "2                                     0   \n",
       "3                                     0   \n",
       "4                                     0   \n",
       "\n",
       "  TIPCASO.RN_DESCRIPTOR_noveh_Operaciones TIPCASO.RN_DESCRIPTOR_noveh_Reclamo  \\\n",
       "0                                       0                                   0   \n",
       "1                                       0                                   0   \n",
       "2                                       0                                   0   \n",
       "3                                       0                                   0   \n",
       "4                                       0                                   0   \n",
       "\n",
       "  TIPCASO.RN_DESCRIPTOR_noveh_Relacionamiento  \\\n",
       "0                                           0   \n",
       "1                                           0   \n",
       "2                                           0   \n",
       "3                                           0   \n",
       "4                                           0   \n",
       "\n",
       "  TIPCASO.RN_DESCRIPTOR_noveh_Requerimientos  \\\n",
       "0                                          0   \n",
       "1                                          0   \n",
       "2                                          0   \n",
       "3                                          0   \n",
       "4                                          0   \n",
       "\n",
       "  TIPCASO.RN_DESCRIPTOR_noveh_Solicitud  \\\n",
       "0                                     0   \n",
       "1                                     0   \n",
       "2                                     0   \n",
       "3                                     0   \n",
       "4                                     0   \n",
       "\n",
       "  TIPCASO.RN_DESCRIPTOR_noveh_Sugerencias  \n",
       "0                                       0  \n",
       "1                                       0  \n",
       "2                                       0  \n",
       "3                                       0  \n",
       "4                                       0  "
      ]
     },
     "execution_count": 429,
     "metadata": {},
     "output_type": "execute_result"
    }
   ],
   "source": [
    "bd_interac_noveh_t = pd.DataFrame(np.array(bd_interac_noveh.groupby([\"PERIODO\",\"CUC\"], as_index = False, axis = 0)[bd_interac_noveh_feat].sum()),\n",
    "                         columns = bd_interac_noveh_columns)\n",
    "bd_interac_noveh_t.head()"
   ]
  },
  {
   "cell_type": "code",
   "execution_count": 430,
   "metadata": {
    "collapsed": false
   },
   "outputs": [
    {
     "data": {
      "text/plain": [
       "(2956229, 2226200)"
      ]
     },
     "execution_count": 430,
     "metadata": {},
     "output_type": "execute_result"
    }
   ],
   "source": [
    "len(bd_interac_noveh), len(bd_interac_noveh_t)"
   ]
  },
  {
   "cell_type": "markdown",
   "metadata": {},
   "source": [
    "### Base Vehiculos"
   ]
  },
  {
   "cell_type": "code",
   "execution_count": 431,
   "metadata": {
    "collapsed": false,
    "scrolled": false
   },
   "outputs": [
    {
     "data": {
      "text/html": [
       "<div>\n",
       "<table border=\"1\" class=\"dataframe\">\n",
       "  <thead>\n",
       "    <tr style=\"text-align: right;\">\n",
       "      <th></th>\n",
       "      <th>PERIODO</th>\n",
       "      <th>NSE_RIMAC</th>\n",
       "      <th>NUM_PRODUCTOS</th>\n",
       "      <th>SEGMENTO_INTERNO</th>\n",
       "      <th>OK</th>\n",
       "      <th>CPP</th>\n",
       "      <th>DEFICIENTE</th>\n",
       "      <th>DUDOSO</th>\n",
       "      <th>PERDIDA</th>\n",
       "      <th>DEUDA_HIINI</th>\n",
       "      <th>...</th>\n",
       "      <th>ANOFABRIC</th>\n",
       "      <th>SUMASEG</th>\n",
       "      <th>NRO_SINIESTROS</th>\n",
       "      <th>MTO_SINIESTROS</th>\n",
       "      <th>FECHA_FIN</th>\n",
       "      <th>FECHA_INICIO</th>\n",
       "      <th>CUC</th>\n",
       "      <th>P_AUTO</th>\n",
       "      <th>ID_UNICO</th>\n",
       "      <th>ID_POLIZA</th>\n",
       "    </tr>\n",
       "  </thead>\n",
       "  <tbody>\n",
       "    <tr>\n",
       "      <th>0</th>\n",
       "      <td>201303</td>\n",
       "      <td>C2</td>\n",
       "      <td>1.0</td>\n",
       "      <td>6.MASIVO</td>\n",
       "      <td>NaN</td>\n",
       "      <td>NaN</td>\n",
       "      <td>NaN</td>\n",
       "      <td>NaN</td>\n",
       "      <td>NaN</td>\n",
       "      <td>NaN</td>\n",
       "      <td>...</td>\n",
       "      <td>2013.0</td>\n",
       "      <td>14780.0</td>\n",
       "      <td>0.0</td>\n",
       "      <td>0.0</td>\n",
       "      <td>2014-02-01</td>\n",
       "      <td>2013-03-01</td>\n",
       "      <td>4-33334660</td>\n",
       "      <td>G8T792</td>\n",
       "      <td>4-33334660-G8T792</td>\n",
       "      <td>6307555641</td>\n",
       "    </tr>\n",
       "    <tr>\n",
       "      <th>1</th>\n",
       "      <td>201304</td>\n",
       "      <td>C2</td>\n",
       "      <td>1.0</td>\n",
       "      <td>6.MASIVO</td>\n",
       "      <td>NaN</td>\n",
       "      <td>NaN</td>\n",
       "      <td>NaN</td>\n",
       "      <td>NaN</td>\n",
       "      <td>NaN</td>\n",
       "      <td>NaN</td>\n",
       "      <td>...</td>\n",
       "      <td>2013.0</td>\n",
       "      <td>14780.0</td>\n",
       "      <td>0.0</td>\n",
       "      <td>0.0</td>\n",
       "      <td>2014-02-01</td>\n",
       "      <td>2013-03-01</td>\n",
       "      <td>4-33334660</td>\n",
       "      <td>G8T792</td>\n",
       "      <td>4-33334660-G8T792</td>\n",
       "      <td>6307555641</td>\n",
       "    </tr>\n",
       "    <tr>\n",
       "      <th>2</th>\n",
       "      <td>201305</td>\n",
       "      <td>C2</td>\n",
       "      <td>1.0</td>\n",
       "      <td>6.MASIVO</td>\n",
       "      <td>NaN</td>\n",
       "      <td>NaN</td>\n",
       "      <td>NaN</td>\n",
       "      <td>NaN</td>\n",
       "      <td>NaN</td>\n",
       "      <td>NaN</td>\n",
       "      <td>...</td>\n",
       "      <td>2013.0</td>\n",
       "      <td>14780.0</td>\n",
       "      <td>0.0</td>\n",
       "      <td>0.0</td>\n",
       "      <td>2014-02-01</td>\n",
       "      <td>2013-03-01</td>\n",
       "      <td>4-33334660</td>\n",
       "      <td>G8T792</td>\n",
       "      <td>4-33334660-G8T792</td>\n",
       "      <td>6307555641</td>\n",
       "    </tr>\n",
       "    <tr>\n",
       "      <th>3</th>\n",
       "      <td>201306</td>\n",
       "      <td>C2</td>\n",
       "      <td>1.0</td>\n",
       "      <td>6.MASIVO</td>\n",
       "      <td>NaN</td>\n",
       "      <td>NaN</td>\n",
       "      <td>NaN</td>\n",
       "      <td>NaN</td>\n",
       "      <td>NaN</td>\n",
       "      <td>NaN</td>\n",
       "      <td>...</td>\n",
       "      <td>2013.0</td>\n",
       "      <td>14780.0</td>\n",
       "      <td>0.0</td>\n",
       "      <td>0.0</td>\n",
       "      <td>2014-02-01</td>\n",
       "      <td>2013-03-01</td>\n",
       "      <td>4-33334660</td>\n",
       "      <td>G8T792</td>\n",
       "      <td>4-33334660-G8T792</td>\n",
       "      <td>6307555641</td>\n",
       "    </tr>\n",
       "    <tr>\n",
       "      <th>4</th>\n",
       "      <td>201307</td>\n",
       "      <td>C2</td>\n",
       "      <td>1.0</td>\n",
       "      <td>6.MASIVO</td>\n",
       "      <td>NaN</td>\n",
       "      <td>NaN</td>\n",
       "      <td>NaN</td>\n",
       "      <td>NaN</td>\n",
       "      <td>NaN</td>\n",
       "      <td>NaN</td>\n",
       "      <td>...</td>\n",
       "      <td>2013.0</td>\n",
       "      <td>14780.0</td>\n",
       "      <td>0.0</td>\n",
       "      <td>0.0</td>\n",
       "      <td>2014-02-01</td>\n",
       "      <td>2013-03-01</td>\n",
       "      <td>4-33334660</td>\n",
       "      <td>G8T792</td>\n",
       "      <td>4-33334660-G8T792</td>\n",
       "      <td>6307555641</td>\n",
       "    </tr>\n",
       "  </tbody>\n",
       "</table>\n",
       "<p>5 rows × 34 columns</p>\n",
       "</div>"
      ],
      "text/plain": [
       "   PERIODO NSE_RIMAC  NUM_PRODUCTOS SEGMENTO_INTERNO  OK  CPP  DEFICIENTE  \\\n",
       "0   201303        C2            1.0         6.MASIVO NaN  NaN         NaN   \n",
       "1   201304        C2            1.0         6.MASIVO NaN  NaN         NaN   \n",
       "2   201305        C2            1.0         6.MASIVO NaN  NaN         NaN   \n",
       "3   201306        C2            1.0         6.MASIVO NaN  NaN         NaN   \n",
       "4   201307        C2            1.0         6.MASIVO NaN  NaN         NaN   \n",
       "\n",
       "   DUDOSO  PERDIDA  DEUDA_HIINI     ...      ANOFABRIC  SUMASEG  \\\n",
       "0     NaN      NaN          NaN     ...         2013.0  14780.0   \n",
       "1     NaN      NaN          NaN     ...         2013.0  14780.0   \n",
       "2     NaN      NaN          NaN     ...         2013.0  14780.0   \n",
       "3     NaN      NaN          NaN     ...         2013.0  14780.0   \n",
       "4     NaN      NaN          NaN     ...         2013.0  14780.0   \n",
       "\n",
       "   NRO_SINIESTROS  MTO_SINIESTROS   FECHA_FIN  FECHA_INICIO         CUC  \\\n",
       "0             0.0             0.0  2014-02-01    2013-03-01  4-33334660   \n",
       "1             0.0             0.0  2014-02-01    2013-03-01  4-33334660   \n",
       "2             0.0             0.0  2014-02-01    2013-03-01  4-33334660   \n",
       "3             0.0             0.0  2014-02-01    2013-03-01  4-33334660   \n",
       "4             0.0             0.0  2014-02-01    2013-03-01  4-33334660   \n",
       "\n",
       "   P_AUTO           ID_UNICO   ID_POLIZA  \n",
       "0  G8T792  4-33334660-G8T792  6307555641  \n",
       "1  G8T792  4-33334660-G8T792  6307555641  \n",
       "2  G8T792  4-33334660-G8T792  6307555641  \n",
       "3  G8T792  4-33334660-G8T792  6307555641  \n",
       "4  G8T792  4-33334660-G8T792  6307555641  \n",
       "\n",
       "[5 rows x 34 columns]"
      ]
     },
     "execution_count": 431,
     "metadata": {},
     "output_type": "execute_result"
    }
   ],
   "source": [
    "bd_vehiculos.head()"
   ]
  },
  {
   "cell_type": "code",
   "execution_count": 432,
   "metadata": {
    "collapsed": false
   },
   "outputs": [
    {
     "name": "stdout",
     "output_type": "stream",
     "text": [
      "<class 'pandas.core.frame.DataFrame'>\n",
      "RangeIndex: 1807616 entries, 0 to 1807615\n",
      "Data columns (total 34 columns):\n",
      "PERIODO              int64\n",
      "NSE_RIMAC            object\n",
      "NUM_PRODUCTOS        float64\n",
      "SEGMENTO_INTERNO     object\n",
      "OK                   float64\n",
      "CPP                  float64\n",
      "DEFICIENTE           float64\n",
      "DUDOSO               float64\n",
      "PERDIDA              float64\n",
      "DEUDA_HIINI          float64\n",
      "SALDO_SBS            float64\n",
      "SALDO_TC_SBS         float64\n",
      "SALDO_VEH_SBS        float64\n",
      "SALDO_HIP_SBS        float64\n",
      "SALDO_PP_SBS         float64\n",
      "SALDO_MICRO_SBS      float64\n",
      "SALDO_PEQUENA_SBS    float64\n",
      "SALDO_OTROS          float64\n",
      "PRIMA_TOTAL          float64\n",
      "PRIMA                float64\n",
      "CANALDES             object\n",
      "CLASEVEHDES          object\n",
      "MARCAVEHDES          object\n",
      "USOVEHDES            object\n",
      "ANOFABRIC            float64\n",
      "SUMASEG              float64\n",
      "NRO_SINIESTROS       float64\n",
      "MTO_SINIESTROS       float64\n",
      "FECHA_FIN            object\n",
      "FECHA_INICIO         object\n",
      "CUC                  object\n",
      "P_AUTO               object\n",
      "ID_UNICO             object\n",
      "ID_POLIZA            int64\n",
      "dtypes: float64(21), int64(2), object(11)\n",
      "memory usage: 468.9+ MB\n"
     ]
    }
   ],
   "source": [
    "bd_vehiculos.info()"
   ]
  },
  {
   "cell_type": "code",
   "execution_count": 433,
   "metadata": {
    "collapsed": false
   },
   "outputs": [
    {
     "data": {
      "text/plain": [
       "PERIODO                   0\n",
       "NSE_RIMAC             63697\n",
       "NUM_PRODUCTOS          3999\n",
       "SEGMENTO_INTERNO       3999\n",
       "OK                   183081\n",
       "CPP                  183081\n",
       "DEFICIENTE           183081\n",
       "DUDOSO               183081\n",
       "PERDIDA              183081\n",
       "DEUDA_HIINI          183081\n",
       "SALDO_SBS            183081\n",
       "SALDO_TC_SBS         183081\n",
       "SALDO_VEH_SBS        183081\n",
       "SALDO_HIP_SBS        183081\n",
       "SALDO_PP_SBS         183081\n",
       "SALDO_MICRO_SBS      183081\n",
       "SALDO_PEQUENA_SBS    183081\n",
       "SALDO_OTROS          183081\n",
       "PRIMA_TOTAL               0\n",
       "PRIMA                     0\n",
       "CANALDES                175\n",
       "CLASEVEHDES            9769\n",
       "MARCAVEHDES            8846\n",
       "USOVEHDES               949\n",
       "ANOFABRIC              8158\n",
       "SUMASEG               19720\n",
       "NRO_SINIESTROS            0\n",
       "MTO_SINIESTROS            0\n",
       "FECHA_FIN                 0\n",
       "FECHA_INICIO              0\n",
       "CUC                       0\n",
       "P_AUTO                    0\n",
       "ID_UNICO                  0\n",
       "ID_POLIZA                 0\n",
       "dtype: int64"
      ]
     },
     "execution_count": 433,
     "metadata": {},
     "output_type": "execute_result"
    }
   ],
   "source": [
    "#conteo de nulos\n",
    "bd_vehiculos.isnull().sum()"
   ]
  },
  {
   "cell_type": "code",
   "execution_count": 434,
   "metadata": {
    "collapsed": false
   },
   "outputs": [],
   "source": [
    "bd_vehiculos.loc[bd_vehiculos['SALDO_SBS'].isnull(),\"Flag_Bancari\"] = 0\n",
    "bd_vehiculos.loc[(-bd_vehiculos['SALDO_SBS'].isnull()),\"Flag_Bancari\"] = 1"
   ]
  },
  {
   "cell_type": "code",
   "execution_count": 435,
   "metadata": {
    "collapsed": false,
    "scrolled": true
   },
   "outputs": [
    {
     "data": {
      "text/html": [
       "<div>\n",
       "<table border=\"1\" class=\"dataframe\">\n",
       "  <thead>\n",
       "    <tr style=\"text-align: right;\">\n",
       "      <th></th>\n",
       "      <th>PERIODO</th>\n",
       "      <th>NSE_RIMAC</th>\n",
       "      <th>NUM_PRODUCTOS</th>\n",
       "      <th>SEGMENTO_INTERNO</th>\n",
       "      <th>OK</th>\n",
       "      <th>CPP</th>\n",
       "      <th>DEFICIENTE</th>\n",
       "      <th>DUDOSO</th>\n",
       "      <th>PERDIDA</th>\n",
       "      <th>DEUDA_HIINI</th>\n",
       "      <th>...</th>\n",
       "      <th>SUMASEG</th>\n",
       "      <th>NRO_SINIESTROS</th>\n",
       "      <th>MTO_SINIESTROS</th>\n",
       "      <th>FECHA_FIN</th>\n",
       "      <th>FECHA_INICIO</th>\n",
       "      <th>CUC</th>\n",
       "      <th>P_AUTO</th>\n",
       "      <th>ID_UNICO</th>\n",
       "      <th>ID_POLIZA</th>\n",
       "      <th>Flag_Bancari</th>\n",
       "    </tr>\n",
       "  </thead>\n",
       "  <tbody>\n",
       "    <tr>\n",
       "      <th>0</th>\n",
       "      <td>201303</td>\n",
       "      <td>C2</td>\n",
       "      <td>1.0</td>\n",
       "      <td>6.MASIVO</td>\n",
       "      <td>NaN</td>\n",
       "      <td>NaN</td>\n",
       "      <td>NaN</td>\n",
       "      <td>NaN</td>\n",
       "      <td>NaN</td>\n",
       "      <td>NaN</td>\n",
       "      <td>...</td>\n",
       "      <td>14780.0</td>\n",
       "      <td>0.0</td>\n",
       "      <td>0.0</td>\n",
       "      <td>2014-02-01</td>\n",
       "      <td>2013-03-01</td>\n",
       "      <td>4-33334660</td>\n",
       "      <td>G8T792</td>\n",
       "      <td>4-33334660-G8T792</td>\n",
       "      <td>6307555641</td>\n",
       "      <td>0.0</td>\n",
       "    </tr>\n",
       "    <tr>\n",
       "      <th>1</th>\n",
       "      <td>201304</td>\n",
       "      <td>C2</td>\n",
       "      <td>1.0</td>\n",
       "      <td>6.MASIVO</td>\n",
       "      <td>NaN</td>\n",
       "      <td>NaN</td>\n",
       "      <td>NaN</td>\n",
       "      <td>NaN</td>\n",
       "      <td>NaN</td>\n",
       "      <td>NaN</td>\n",
       "      <td>...</td>\n",
       "      <td>14780.0</td>\n",
       "      <td>0.0</td>\n",
       "      <td>0.0</td>\n",
       "      <td>2014-02-01</td>\n",
       "      <td>2013-03-01</td>\n",
       "      <td>4-33334660</td>\n",
       "      <td>G8T792</td>\n",
       "      <td>4-33334660-G8T792</td>\n",
       "      <td>6307555641</td>\n",
       "      <td>0.0</td>\n",
       "    </tr>\n",
       "    <tr>\n",
       "      <th>2</th>\n",
       "      <td>201305</td>\n",
       "      <td>C2</td>\n",
       "      <td>1.0</td>\n",
       "      <td>6.MASIVO</td>\n",
       "      <td>NaN</td>\n",
       "      <td>NaN</td>\n",
       "      <td>NaN</td>\n",
       "      <td>NaN</td>\n",
       "      <td>NaN</td>\n",
       "      <td>NaN</td>\n",
       "      <td>...</td>\n",
       "      <td>14780.0</td>\n",
       "      <td>0.0</td>\n",
       "      <td>0.0</td>\n",
       "      <td>2014-02-01</td>\n",
       "      <td>2013-03-01</td>\n",
       "      <td>4-33334660</td>\n",
       "      <td>G8T792</td>\n",
       "      <td>4-33334660-G8T792</td>\n",
       "      <td>6307555641</td>\n",
       "      <td>0.0</td>\n",
       "    </tr>\n",
       "    <tr>\n",
       "      <th>3</th>\n",
       "      <td>201306</td>\n",
       "      <td>C2</td>\n",
       "      <td>1.0</td>\n",
       "      <td>6.MASIVO</td>\n",
       "      <td>NaN</td>\n",
       "      <td>NaN</td>\n",
       "      <td>NaN</td>\n",
       "      <td>NaN</td>\n",
       "      <td>NaN</td>\n",
       "      <td>NaN</td>\n",
       "      <td>...</td>\n",
       "      <td>14780.0</td>\n",
       "      <td>0.0</td>\n",
       "      <td>0.0</td>\n",
       "      <td>2014-02-01</td>\n",
       "      <td>2013-03-01</td>\n",
       "      <td>4-33334660</td>\n",
       "      <td>G8T792</td>\n",
       "      <td>4-33334660-G8T792</td>\n",
       "      <td>6307555641</td>\n",
       "      <td>0.0</td>\n",
       "    </tr>\n",
       "    <tr>\n",
       "      <th>4</th>\n",
       "      <td>201307</td>\n",
       "      <td>C2</td>\n",
       "      <td>1.0</td>\n",
       "      <td>6.MASIVO</td>\n",
       "      <td>NaN</td>\n",
       "      <td>NaN</td>\n",
       "      <td>NaN</td>\n",
       "      <td>NaN</td>\n",
       "      <td>NaN</td>\n",
       "      <td>NaN</td>\n",
       "      <td>...</td>\n",
       "      <td>14780.0</td>\n",
       "      <td>0.0</td>\n",
       "      <td>0.0</td>\n",
       "      <td>2014-02-01</td>\n",
       "      <td>2013-03-01</td>\n",
       "      <td>4-33334660</td>\n",
       "      <td>G8T792</td>\n",
       "      <td>4-33334660-G8T792</td>\n",
       "      <td>6307555641</td>\n",
       "      <td>0.0</td>\n",
       "    </tr>\n",
       "  </tbody>\n",
       "</table>\n",
       "<p>5 rows × 35 columns</p>\n",
       "</div>"
      ],
      "text/plain": [
       "   PERIODO NSE_RIMAC  NUM_PRODUCTOS SEGMENTO_INTERNO  OK  CPP  DEFICIENTE  \\\n",
       "0   201303        C2            1.0         6.MASIVO NaN  NaN         NaN   \n",
       "1   201304        C2            1.0         6.MASIVO NaN  NaN         NaN   \n",
       "2   201305        C2            1.0         6.MASIVO NaN  NaN         NaN   \n",
       "3   201306        C2            1.0         6.MASIVO NaN  NaN         NaN   \n",
       "4   201307        C2            1.0         6.MASIVO NaN  NaN         NaN   \n",
       "\n",
       "   DUDOSO  PERDIDA  DEUDA_HIINI      ...       SUMASEG  NRO_SINIESTROS  \\\n",
       "0     NaN      NaN          NaN      ...       14780.0             0.0   \n",
       "1     NaN      NaN          NaN      ...       14780.0             0.0   \n",
       "2     NaN      NaN          NaN      ...       14780.0             0.0   \n",
       "3     NaN      NaN          NaN      ...       14780.0             0.0   \n",
       "4     NaN      NaN          NaN      ...       14780.0             0.0   \n",
       "\n",
       "   MTO_SINIESTROS   FECHA_FIN  FECHA_INICIO         CUC  P_AUTO  \\\n",
       "0             0.0  2014-02-01    2013-03-01  4-33334660  G8T792   \n",
       "1             0.0  2014-02-01    2013-03-01  4-33334660  G8T792   \n",
       "2             0.0  2014-02-01    2013-03-01  4-33334660  G8T792   \n",
       "3             0.0  2014-02-01    2013-03-01  4-33334660  G8T792   \n",
       "4             0.0  2014-02-01    2013-03-01  4-33334660  G8T792   \n",
       "\n",
       "            ID_UNICO   ID_POLIZA  Flag_Bancari  \n",
       "0  4-33334660-G8T792  6307555641           0.0  \n",
       "1  4-33334660-G8T792  6307555641           0.0  \n",
       "2  4-33334660-G8T792  6307555641           0.0  \n",
       "3  4-33334660-G8T792  6307555641           0.0  \n",
       "4  4-33334660-G8T792  6307555641           0.0  \n",
       "\n",
       "[5 rows x 35 columns]"
      ]
     },
     "execution_count": 435,
     "metadata": {},
     "output_type": "execute_result"
    }
   ],
   "source": [
    "bd_vehiculos.head()"
   ]
  },
  {
   "cell_type": "code",
   "execution_count": 436,
   "metadata": {
    "collapsed": false
   },
   "outputs": [
    {
     "name": "stdout",
     "output_type": "stream",
     "text": [
      "Flag_Bancari\n",
      "1.0    1624535\n",
      "0.0     183081\n",
      "Name: Flag_Bancari, dtype: int64\n"
     ]
    }
   ],
   "source": [
    "print(bd_vehiculos.groupby('Flag_Bancari', axis = 0)['Flag_Bancari'].count().sort_values(ascending = False))"
   ]
  },
  {
   "cell_type": "code",
   "execution_count": 437,
   "metadata": {
    "collapsed": false,
    "scrolled": true
   },
   "outputs": [
    {
     "data": {
      "text/html": [
       "<div>\n",
       "<table border=\"1\" class=\"dataframe\">\n",
       "  <thead>\n",
       "    <tr style=\"text-align: right;\">\n",
       "      <th></th>\n",
       "      <th>0</th>\n",
       "    </tr>\n",
       "  </thead>\n",
       "  <tbody>\n",
       "    <tr>\n",
       "      <th>PERIODO</th>\n",
       "      <td>0</td>\n",
       "    </tr>\n",
       "    <tr>\n",
       "      <th>NSE_RIMAC</th>\n",
       "      <td>19086</td>\n",
       "    </tr>\n",
       "    <tr>\n",
       "      <th>NUM_PRODUCTOS</th>\n",
       "      <td>2061</td>\n",
       "    </tr>\n",
       "    <tr>\n",
       "      <th>SEGMENTO_INTERNO</th>\n",
       "      <td>2061</td>\n",
       "    </tr>\n",
       "    <tr>\n",
       "      <th>OK</th>\n",
       "      <td>0</td>\n",
       "    </tr>\n",
       "    <tr>\n",
       "      <th>CPP</th>\n",
       "      <td>0</td>\n",
       "    </tr>\n",
       "    <tr>\n",
       "      <th>DEFICIENTE</th>\n",
       "      <td>0</td>\n",
       "    </tr>\n",
       "    <tr>\n",
       "      <th>DUDOSO</th>\n",
       "      <td>0</td>\n",
       "    </tr>\n",
       "    <tr>\n",
       "      <th>PERDIDA</th>\n",
       "      <td>0</td>\n",
       "    </tr>\n",
       "    <tr>\n",
       "      <th>DEUDA_HIINI</th>\n",
       "      <td>0</td>\n",
       "    </tr>\n",
       "    <tr>\n",
       "      <th>SALDO_SBS</th>\n",
       "      <td>0</td>\n",
       "    </tr>\n",
       "    <tr>\n",
       "      <th>SALDO_TC_SBS</th>\n",
       "      <td>0</td>\n",
       "    </tr>\n",
       "    <tr>\n",
       "      <th>SALDO_VEH_SBS</th>\n",
       "      <td>0</td>\n",
       "    </tr>\n",
       "    <tr>\n",
       "      <th>SALDO_HIP_SBS</th>\n",
       "      <td>0</td>\n",
       "    </tr>\n",
       "    <tr>\n",
       "      <th>SALDO_PP_SBS</th>\n",
       "      <td>0</td>\n",
       "    </tr>\n",
       "    <tr>\n",
       "      <th>SALDO_MICRO_SBS</th>\n",
       "      <td>0</td>\n",
       "    </tr>\n",
       "    <tr>\n",
       "      <th>SALDO_PEQUENA_SBS</th>\n",
       "      <td>0</td>\n",
       "    </tr>\n",
       "    <tr>\n",
       "      <th>SALDO_OTROS</th>\n",
       "      <td>0</td>\n",
       "    </tr>\n",
       "    <tr>\n",
       "      <th>PRIMA_TOTAL</th>\n",
       "      <td>0</td>\n",
       "    </tr>\n",
       "    <tr>\n",
       "      <th>PRIMA</th>\n",
       "      <td>0</td>\n",
       "    </tr>\n",
       "    <tr>\n",
       "      <th>CANALDES</th>\n",
       "      <td>175</td>\n",
       "    </tr>\n",
       "    <tr>\n",
       "      <th>CLASEVEHDES</th>\n",
       "      <td>9020</td>\n",
       "    </tr>\n",
       "    <tr>\n",
       "      <th>MARCAVEHDES</th>\n",
       "      <td>8233</td>\n",
       "    </tr>\n",
       "    <tr>\n",
       "      <th>USOVEHDES</th>\n",
       "      <td>873</td>\n",
       "    </tr>\n",
       "    <tr>\n",
       "      <th>ANOFABRIC</th>\n",
       "      <td>7562</td>\n",
       "    </tr>\n",
       "    <tr>\n",
       "      <th>SUMASEG</th>\n",
       "      <td>15448</td>\n",
       "    </tr>\n",
       "    <tr>\n",
       "      <th>NRO_SINIESTROS</th>\n",
       "      <td>0</td>\n",
       "    </tr>\n",
       "    <tr>\n",
       "      <th>MTO_SINIESTROS</th>\n",
       "      <td>0</td>\n",
       "    </tr>\n",
       "    <tr>\n",
       "      <th>FECHA_FIN</th>\n",
       "      <td>0</td>\n",
       "    </tr>\n",
       "    <tr>\n",
       "      <th>FECHA_INICIO</th>\n",
       "      <td>0</td>\n",
       "    </tr>\n",
       "    <tr>\n",
       "      <th>CUC</th>\n",
       "      <td>0</td>\n",
       "    </tr>\n",
       "    <tr>\n",
       "      <th>P_AUTO</th>\n",
       "      <td>0</td>\n",
       "    </tr>\n",
       "    <tr>\n",
       "      <th>ID_UNICO</th>\n",
       "      <td>0</td>\n",
       "    </tr>\n",
       "    <tr>\n",
       "      <th>ID_POLIZA</th>\n",
       "      <td>0</td>\n",
       "    </tr>\n",
       "    <tr>\n",
       "      <th>Flag_Bancari</th>\n",
       "      <td>0</td>\n",
       "    </tr>\n",
       "  </tbody>\n",
       "</table>\n",
       "</div>"
      ],
      "text/plain": [
       "                       0\n",
       "PERIODO                0\n",
       "NSE_RIMAC          19086\n",
       "NUM_PRODUCTOS       2061\n",
       "SEGMENTO_INTERNO    2061\n",
       "OK                     0\n",
       "CPP                    0\n",
       "DEFICIENTE             0\n",
       "DUDOSO                 0\n",
       "PERDIDA                0\n",
       "DEUDA_HIINI            0\n",
       "SALDO_SBS              0\n",
       "SALDO_TC_SBS           0\n",
       "SALDO_VEH_SBS          0\n",
       "SALDO_HIP_SBS          0\n",
       "SALDO_PP_SBS           0\n",
       "SALDO_MICRO_SBS        0\n",
       "SALDO_PEQUENA_SBS      0\n",
       "SALDO_OTROS            0\n",
       "PRIMA_TOTAL            0\n",
       "PRIMA                  0\n",
       "CANALDES             175\n",
       "CLASEVEHDES         9020\n",
       "MARCAVEHDES         8233\n",
       "USOVEHDES            873\n",
       "ANOFABRIC           7562\n",
       "SUMASEG            15448\n",
       "NRO_SINIESTROS         0\n",
       "MTO_SINIESTROS         0\n",
       "FECHA_FIN              0\n",
       "FECHA_INICIO           0\n",
       "CUC                    0\n",
       "P_AUTO                 0\n",
       "ID_UNICO               0\n",
       "ID_POLIZA              0\n",
       "Flag_Bancari           0"
      ]
     },
     "execution_count": 437,
     "metadata": {},
     "output_type": "execute_result"
    }
   ],
   "source": [
    "#conteo de nulos x Segementos\n",
    "pd.DataFrame(bd_vehiculos[bd_vehiculos['Flag_Bancari'] == 1].isnull().sum())"
   ]
  },
  {
   "cell_type": "code",
   "execution_count": 438,
   "metadata": {
    "collapsed": false,
    "scrolled": true
   },
   "outputs": [
    {
     "data": {
      "text/plain": [
       "PERIODO                   0\n",
       "NSE_RIMAC             44611\n",
       "NUM_PRODUCTOS          1938\n",
       "SEGMENTO_INTERNO       1938\n",
       "OK                   183081\n",
       "CPP                  183081\n",
       "DEFICIENTE           183081\n",
       "DUDOSO               183081\n",
       "PERDIDA              183081\n",
       "DEUDA_HIINI          183081\n",
       "SALDO_SBS            183081\n",
       "SALDO_TC_SBS         183081\n",
       "SALDO_VEH_SBS        183081\n",
       "SALDO_HIP_SBS        183081\n",
       "SALDO_PP_SBS         183081\n",
       "SALDO_MICRO_SBS      183081\n",
       "SALDO_PEQUENA_SBS    183081\n",
       "SALDO_OTROS          183081\n",
       "PRIMA_TOTAL               0\n",
       "PRIMA                     0\n",
       "CANALDES                  0\n",
       "CLASEVEHDES             749\n",
       "MARCAVEHDES             613\n",
       "USOVEHDES                76\n",
       "ANOFABRIC               596\n",
       "SUMASEG                4272\n",
       "NRO_SINIESTROS            0\n",
       "MTO_SINIESTROS            0\n",
       "FECHA_FIN                 0\n",
       "FECHA_INICIO              0\n",
       "CUC                       0\n",
       "P_AUTO                    0\n",
       "ID_UNICO                  0\n",
       "ID_POLIZA                 0\n",
       "Flag_Bancari              0\n",
       "dtype: int64"
      ]
     },
     "execution_count": 438,
     "metadata": {},
     "output_type": "execute_result"
    }
   ],
   "source": [
    "bd_vehiculos[bd_vehiculos['Flag_Bancari'] == 0].isnull().sum()"
   ]
  },
  {
   "cell_type": "code",
   "execution_count": 439,
   "metadata": {
    "collapsed": true
   },
   "outputs": [],
   "source": [
    "bd_vehiculos.loc[bd_vehiculos['MTO_SINIESTROS']<0,\"MTO_SINIESTROS\"] = 0"
   ]
  },
  {
   "cell_type": "code",
   "execution_count": 440,
   "metadata": {
    "collapsed": true
   },
   "outputs": [],
   "source": [
    "bd_vehiculos_banca1 = bd_vehiculos[bd_vehiculos['Flag_Bancari'] == 1]\n",
    "bd_vehiculos_banca0 = bd_vehiculos[bd_vehiculos['Flag_Bancari'] == 0]"
   ]
  },
  {
   "cell_type": "code",
   "execution_count": 441,
   "metadata": {
    "collapsed": false
   },
   "outputs": [
    {
     "data": {
      "text/plain": [
       "(1624535, 183081)"
      ]
     },
     "execution_count": 441,
     "metadata": {},
     "output_type": "execute_result"
    }
   ],
   "source": [
    "len(bd_vehiculos_banca1), len(bd_vehiculos_banca0)"
   ]
  },
  {
   "cell_type": "markdown",
   "metadata": {},
   "source": [
    "## Bancarizados"
   ]
  },
  {
   "cell_type": "code",
   "execution_count": 442,
   "metadata": {
    "collapsed": false
   },
   "outputs": [
    {
     "data": {
      "text/html": [
       "<div>\n",
       "<table border=\"1\" class=\"dataframe\">\n",
       "  <thead>\n",
       "    <tr style=\"text-align: right;\">\n",
       "      <th></th>\n",
       "      <th>PERIODO</th>\n",
       "      <th>NUM_PRODUCTOS</th>\n",
       "      <th>OK</th>\n",
       "      <th>CPP</th>\n",
       "      <th>DEFICIENTE</th>\n",
       "      <th>DUDOSO</th>\n",
       "      <th>PERDIDA</th>\n",
       "      <th>DEUDA_HIINI</th>\n",
       "      <th>SALDO_SBS</th>\n",
       "      <th>SALDO_TC_SBS</th>\n",
       "      <th>...</th>\n",
       "      <th>SALDO_PEQUENA_SBS</th>\n",
       "      <th>SALDO_OTROS</th>\n",
       "      <th>PRIMA_TOTAL</th>\n",
       "      <th>PRIMA</th>\n",
       "      <th>ANOFABRIC</th>\n",
       "      <th>SUMASEG</th>\n",
       "      <th>NRO_SINIESTROS</th>\n",
       "      <th>MTO_SINIESTROS</th>\n",
       "      <th>ID_POLIZA</th>\n",
       "      <th>Flag_Bancari</th>\n",
       "    </tr>\n",
       "  </thead>\n",
       "  <tbody>\n",
       "    <tr>\n",
       "      <th>count</th>\n",
       "      <td>1.624535e+06</td>\n",
       "      <td>1.622474e+06</td>\n",
       "      <td>1.624535e+06</td>\n",
       "      <td>1.624535e+06</td>\n",
       "      <td>1.624535e+06</td>\n",
       "      <td>1.624535e+06</td>\n",
       "      <td>1.624535e+06</td>\n",
       "      <td>1.624535e+06</td>\n",
       "      <td>1.624535e+06</td>\n",
       "      <td>1.624535e+06</td>\n",
       "      <td>...</td>\n",
       "      <td>1.624535e+06</td>\n",
       "      <td>1.624535e+06</td>\n",
       "      <td>1.624535e+06</td>\n",
       "      <td>1.624535e+06</td>\n",
       "      <td>1.616973e+06</td>\n",
       "      <td>1.609087e+06</td>\n",
       "      <td>1.624535e+06</td>\n",
       "      <td>1.624535e+06</td>\n",
       "      <td>1.624535e+06</td>\n",
       "      <td>1624535.0</td>\n",
       "    </tr>\n",
       "    <tr>\n",
       "      <th>mean</th>\n",
       "      <td>2.015026e+05</td>\n",
       "      <td>2.117990e+00</td>\n",
       "      <td>8.474212e+01</td>\n",
       "      <td>1.449083e+00</td>\n",
       "      <td>6.380911e-01</td>\n",
       "      <td>7.281850e-01</td>\n",
       "      <td>3.168422e+00</td>\n",
       "      <td>1.511762e+06</td>\n",
       "      <td>1.046210e+05</td>\n",
       "      <td>1.237139e+04</td>\n",
       "      <td>...</td>\n",
       "      <td>5.318754e+03</td>\n",
       "      <td>1.430851e+04</td>\n",
       "      <td>7.227803e+02</td>\n",
       "      <td>7.226618e+02</td>\n",
       "      <td>2.011279e+03</td>\n",
       "      <td>1.863179e+04</td>\n",
       "      <td>3.557387e-02</td>\n",
       "      <td>6.771200e+01</td>\n",
       "      <td>7.922074e+09</td>\n",
       "      <td>1.0</td>\n",
       "    </tr>\n",
       "    <tr>\n",
       "      <th>std</th>\n",
       "      <td>9.654314e+01</td>\n",
       "      <td>1.227442e+00</td>\n",
       "      <td>3.520982e+01</td>\n",
       "      <td>1.031444e+01</td>\n",
       "      <td>6.848463e+00</td>\n",
       "      <td>7.075058e+00</td>\n",
       "      <td>1.690391e+01</td>\n",
       "      <td>7.880948e+06</td>\n",
       "      <td>3.748886e+05</td>\n",
       "      <td>2.640227e+04</td>\n",
       "      <td>...</td>\n",
       "      <td>5.517942e+04</td>\n",
       "      <td>2.694057e+05</td>\n",
       "      <td>4.023668e+02</td>\n",
       "      <td>4.021464e+02</td>\n",
       "      <td>3.995927e+00</td>\n",
       "      <td>1.370562e+04</td>\n",
       "      <td>1.929025e-01</td>\n",
       "      <td>1.055704e+03</td>\n",
       "      <td>9.672602e+08</td>\n",
       "      <td>0.0</td>\n",
       "    </tr>\n",
       "    <tr>\n",
       "      <th>min</th>\n",
       "      <td>2.013030e+05</td>\n",
       "      <td>1.000000e+00</td>\n",
       "      <td>0.000000e+00</td>\n",
       "      <td>0.000000e+00</td>\n",
       "      <td>0.000000e+00</td>\n",
       "      <td>0.000000e+00</td>\n",
       "      <td>0.000000e+00</td>\n",
       "      <td>0.000000e+00</td>\n",
       "      <td>0.000000e+00</td>\n",
       "      <td>0.000000e+00</td>\n",
       "      <td>...</td>\n",
       "      <td>0.000000e+00</td>\n",
       "      <td>0.000000e+00</td>\n",
       "      <td>1.000000e-04</td>\n",
       "      <td>1.000000e-04</td>\n",
       "      <td>1.909000e+03</td>\n",
       "      <td>0.000000e+00</td>\n",
       "      <td>0.000000e+00</td>\n",
       "      <td>0.000000e+00</td>\n",
       "      <td>3.046779e+08</td>\n",
       "      <td>1.0</td>\n",
       "    </tr>\n",
       "    <tr>\n",
       "      <th>25%</th>\n",
       "      <td>2.014100e+05</td>\n",
       "      <td>1.000000e+00</td>\n",
       "      <td>1.000000e+02</td>\n",
       "      <td>0.000000e+00</td>\n",
       "      <td>0.000000e+00</td>\n",
       "      <td>0.000000e+00</td>\n",
       "      <td>0.000000e+00</td>\n",
       "      <td>0.000000e+00</td>\n",
       "      <td>2.348115e+03</td>\n",
       "      <td>0.000000e+00</td>\n",
       "      <td>...</td>\n",
       "      <td>0.000000e+00</td>\n",
       "      <td>4.400000e-01</td>\n",
       "      <td>4.893800e+02</td>\n",
       "      <td>4.893400e+02</td>\n",
       "      <td>2.010000e+03</td>\n",
       "      <td>1.152000e+04</td>\n",
       "      <td>0.000000e+00</td>\n",
       "      <td>0.000000e+00</td>\n",
       "      <td>7.270467e+09</td>\n",
       "      <td>1.0</td>\n",
       "    </tr>\n",
       "    <tr>\n",
       "      <th>50%</th>\n",
       "      <td>2.015070e+05</td>\n",
       "      <td>2.000000e+00</td>\n",
       "      <td>1.000000e+02</td>\n",
       "      <td>0.000000e+00</td>\n",
       "      <td>0.000000e+00</td>\n",
       "      <td>0.000000e+00</td>\n",
       "      <td>0.000000e+00</td>\n",
       "      <td>0.000000e+00</td>\n",
       "      <td>2.250796e+04</td>\n",
       "      <td>2.498800e+03</td>\n",
       "      <td>...</td>\n",
       "      <td>0.000000e+00</td>\n",
       "      <td>7.944000e+01</td>\n",
       "      <td>6.375200e+02</td>\n",
       "      <td>6.375000e+02</td>\n",
       "      <td>2.012000e+03</td>\n",
       "      <td>1.575000e+04</td>\n",
       "      <td>0.000000e+00</td>\n",
       "      <td>0.000000e+00</td>\n",
       "      <td>8.043186e+09</td>\n",
       "      <td>1.0</td>\n",
       "    </tr>\n",
       "    <tr>\n",
       "      <th>75%</th>\n",
       "      <td>2.016040e+05</td>\n",
       "      <td>3.000000e+00</td>\n",
       "      <td>1.000000e+02</td>\n",
       "      <td>0.000000e+00</td>\n",
       "      <td>0.000000e+00</td>\n",
       "      <td>0.000000e+00</td>\n",
       "      <td>0.000000e+00</td>\n",
       "      <td>0.000000e+00</td>\n",
       "      <td>7.817214e+04</td>\n",
       "      <td>1.205230e+04</td>\n",
       "      <td>...</td>\n",
       "      <td>0.000000e+00</td>\n",
       "      <td>3.863550e+02</td>\n",
       "      <td>8.411400e+02</td>\n",
       "      <td>8.410500e+02</td>\n",
       "      <td>2.013000e+03</td>\n",
       "      <td>2.204000e+04</td>\n",
       "      <td>0.000000e+00</td>\n",
       "      <td>0.000000e+00</td>\n",
       "      <td>8.633303e+09</td>\n",
       "      <td>1.0</td>\n",
       "    </tr>\n",
       "    <tr>\n",
       "      <th>max</th>\n",
       "      <td>2.016120e+05</td>\n",
       "      <td>1.400000e+01</td>\n",
       "      <td>1.000000e+02</td>\n",
       "      <td>1.000000e+02</td>\n",
       "      <td>1.000000e+02</td>\n",
       "      <td>1.000000e+02</td>\n",
       "      <td>1.000000e+02</td>\n",
       "      <td>5.222897e+08</td>\n",
       "      <td>2.176395e+07</td>\n",
       "      <td>5.528262e+05</td>\n",
       "      <td>...</td>\n",
       "      <td>1.460500e+07</td>\n",
       "      <td>2.176395e+07</td>\n",
       "      <td>2.627641e+04</td>\n",
       "      <td>2.627641e+04</td>\n",
       "      <td>2.016000e+03</td>\n",
       "      <td>6.000000e+05</td>\n",
       "      <td>5.000000e+00</td>\n",
       "      <td>2.493490e+05</td>\n",
       "      <td>9.999895e+09</td>\n",
       "      <td>1.0</td>\n",
       "    </tr>\n",
       "  </tbody>\n",
       "</table>\n",
       "<p>8 rows × 24 columns</p>\n",
       "</div>"
      ],
      "text/plain": [
       "            PERIODO  NUM_PRODUCTOS            OK           CPP    DEFICIENTE  \\\n",
       "count  1.624535e+06   1.622474e+06  1.624535e+06  1.624535e+06  1.624535e+06   \n",
       "mean   2.015026e+05   2.117990e+00  8.474212e+01  1.449083e+00  6.380911e-01   \n",
       "std    9.654314e+01   1.227442e+00  3.520982e+01  1.031444e+01  6.848463e+00   \n",
       "min    2.013030e+05   1.000000e+00  0.000000e+00  0.000000e+00  0.000000e+00   \n",
       "25%    2.014100e+05   1.000000e+00  1.000000e+02  0.000000e+00  0.000000e+00   \n",
       "50%    2.015070e+05   2.000000e+00  1.000000e+02  0.000000e+00  0.000000e+00   \n",
       "75%    2.016040e+05   3.000000e+00  1.000000e+02  0.000000e+00  0.000000e+00   \n",
       "max    2.016120e+05   1.400000e+01  1.000000e+02  1.000000e+02  1.000000e+02   \n",
       "\n",
       "             DUDOSO       PERDIDA   DEUDA_HIINI     SALDO_SBS  SALDO_TC_SBS  \\\n",
       "count  1.624535e+06  1.624535e+06  1.624535e+06  1.624535e+06  1.624535e+06   \n",
       "mean   7.281850e-01  3.168422e+00  1.511762e+06  1.046210e+05  1.237139e+04   \n",
       "std    7.075058e+00  1.690391e+01  7.880948e+06  3.748886e+05  2.640227e+04   \n",
       "min    0.000000e+00  0.000000e+00  0.000000e+00  0.000000e+00  0.000000e+00   \n",
       "25%    0.000000e+00  0.000000e+00  0.000000e+00  2.348115e+03  0.000000e+00   \n",
       "50%    0.000000e+00  0.000000e+00  0.000000e+00  2.250796e+04  2.498800e+03   \n",
       "75%    0.000000e+00  0.000000e+00  0.000000e+00  7.817214e+04  1.205230e+04   \n",
       "max    1.000000e+02  1.000000e+02  5.222897e+08  2.176395e+07  5.528262e+05   \n",
       "\n",
       "           ...       SALDO_PEQUENA_SBS   SALDO_OTROS   PRIMA_TOTAL  \\\n",
       "count      ...            1.624535e+06  1.624535e+06  1.624535e+06   \n",
       "mean       ...            5.318754e+03  1.430851e+04  7.227803e+02   \n",
       "std        ...            5.517942e+04  2.694057e+05  4.023668e+02   \n",
       "min        ...            0.000000e+00  0.000000e+00  1.000000e-04   \n",
       "25%        ...            0.000000e+00  4.400000e-01  4.893800e+02   \n",
       "50%        ...            0.000000e+00  7.944000e+01  6.375200e+02   \n",
       "75%        ...            0.000000e+00  3.863550e+02  8.411400e+02   \n",
       "max        ...            1.460500e+07  2.176395e+07  2.627641e+04   \n",
       "\n",
       "              PRIMA     ANOFABRIC       SUMASEG  NRO_SINIESTROS  \\\n",
       "count  1.624535e+06  1.616973e+06  1.609087e+06    1.624535e+06   \n",
       "mean   7.226618e+02  2.011279e+03  1.863179e+04    3.557387e-02   \n",
       "std    4.021464e+02  3.995927e+00  1.370562e+04    1.929025e-01   \n",
       "min    1.000000e-04  1.909000e+03  0.000000e+00    0.000000e+00   \n",
       "25%    4.893400e+02  2.010000e+03  1.152000e+04    0.000000e+00   \n",
       "50%    6.375000e+02  2.012000e+03  1.575000e+04    0.000000e+00   \n",
       "75%    8.410500e+02  2.013000e+03  2.204000e+04    0.000000e+00   \n",
       "max    2.627641e+04  2.016000e+03  6.000000e+05    5.000000e+00   \n",
       "\n",
       "       MTO_SINIESTROS     ID_POLIZA  Flag_Bancari  \n",
       "count    1.624535e+06  1.624535e+06     1624535.0  \n",
       "mean     6.771200e+01  7.922074e+09           1.0  \n",
       "std      1.055704e+03  9.672602e+08           0.0  \n",
       "min      0.000000e+00  3.046779e+08           1.0  \n",
       "25%      0.000000e+00  7.270467e+09           1.0  \n",
       "50%      0.000000e+00  8.043186e+09           1.0  \n",
       "75%      0.000000e+00  8.633303e+09           1.0  \n",
       "max      2.493490e+05  9.999895e+09           1.0  \n",
       "\n",
       "[8 rows x 24 columns]"
      ]
     },
     "execution_count": 442,
     "metadata": {},
     "output_type": "execute_result"
    }
   ],
   "source": [
    "# Analizando bancarizados:\n",
    "bd_vehiculos_banca1.describe()"
   ]
  },
  {
   "cell_type": "code",
   "execution_count": 443,
   "metadata": {
    "collapsed": true
   },
   "outputs": [],
   "source": [
    "temp_feat = ['NSE_RIMAC',\n",
    "             'NUM_PRODUCTOS',\n",
    "             'SEGMENTO_INTERNO',\n",
    "             'CANALDES',\n",
    "             'CLASEVEHDES',\n",
    "             'MARCAVEHDES',\n",
    "             'USOVEHDES',\n",
    "             'ANOFABRIC',\n",
    "             'SUMASEG']"
   ]
  },
  {
   "cell_type": "code",
   "execution_count": 444,
   "metadata": {
    "collapsed": false
   },
   "outputs": [
    {
     "name": "stdout",
     "output_type": "stream",
     "text": [
      "-------------------------------------------------------------------------------\n",
      "NSE_RIMAC\n",
      "A2    442145\n",
      "A1    281566\n",
      "B1    267084\n",
      "A     191567\n",
      "B2    184385\n",
      "C1    111693\n",
      "C2     64050\n",
      "D1     32053\n",
      "D2     30173\n",
      "E        733\n",
      "Name: NSE_RIMAC, dtype: int64\n",
      "-------------------------------------------------------------------------------\n",
      "NUM_PRODUCTOS\n",
      "1.0     601538\n",
      "2.0     552555\n",
      "3.0     272471\n",
      "4.0     117769\n",
      "5.0      47291\n",
      "6.0      18993\n",
      "7.0       7119\n",
      "8.0       2772\n",
      "9.0       1307\n",
      "10.0       351\n",
      "11.0       184\n",
      "12.0        93\n",
      "13.0        22\n",
      "14.0         9\n",
      "Name: NUM_PRODUCTOS, dtype: int64\n",
      "-------------------------------------------------------------------------------\n",
      "SEGMENTO_INTERNO\n",
      "4.ORO 2        400644\n",
      "5.ORO 3        338812\n",
      "3.ORO 1        318310\n",
      "6.MASIVO       247411\n",
      "2.PLATINO 2    220147\n",
      "1.PLATINO 1     97150\n",
      "Name: SEGMENTO_INTERNO, dtype: int64\n",
      "-------------------------------------------------------------------------------\n",
      "CANALDES\n",
      "CORREDOR            1164103\n",
      "DIRECTO              253990\n",
      "NO TRADICIONAL       157923\n",
      "FUERZA DE VENTAS      48344\n",
      "Name: CANALDES, dtype: int64\n",
      "-------------------------------------------------------------------------------\n",
      "CLASEVEHDES\n",
      "AUTOMOVIL                     871997\n",
      "CAMIONETA PANEL               586373\n",
      "CAMIONETA                      73134\n",
      "CAMION                         31688\n",
      "MICROBUS                       12948\n",
      "REMOLCADOR                     11058\n",
      "MINIBUS                         8725\n",
      "CAMIONETA COASTER               5220\n",
      "MOTO                            2806\n",
      "CAMIONETA PICK UP 4X4           2614\n",
      "MOTOCICLETA                     2592\n",
      "OMNIBUS                         1969\n",
      "CAMIONETA TODO TERRENO 4X4      1424\n",
      "SEMI REMOLQUE                   1056\n",
      "CAMIONETA VAN                    942\n",
      "CAMIONETA CROSSOVER              774\n",
      "CAMIONETA STATION WAGON           59\n",
      "TRIMOTO                           52\n",
      "TODO TERRENO 4X4                  26\n",
      "BUS                               24\n",
      "CAMIONETA RURAL                   18\n",
      "CAMIÓN FURGÓN                     12\n",
      "CUATRIMOTO                         4\n",
      "Name: CLASEVEHDES, dtype: int64\n",
      "-------------------------------------------------------------------------------\n",
      "MARCAVEHDES\n",
      "TOYOTA                  239073\n",
      "HYUNDAI                 203074\n",
      "KIA                     191933\n",
      "NISSAN                  168194\n",
      "SUZUKI                  105735\n",
      "VOLKSWAGEN               89796\n",
      "CHEVROLET                86263\n",
      "HONDA                    63466\n",
      "MAZDA                    45772\n",
      "SUBARU                   39212\n",
      "RENAULT                  33557\n",
      "BMW                      31014\n",
      "MITSUBISHI               30099\n",
      "JEEP                     30041\n",
      "PEUGEOT                  23963\n",
      "FORD                     21487\n",
      "AUDI                     21463\n",
      "MERCEDES BENZ            19441\n",
      "VOLVO                    15554\n",
      "GREAT WALL               10588\n",
      "JAC                      10038\n",
      "SSANGYONG                 8004\n",
      "DAIHATSU                  7912\n",
      "CHERY                     7343\n",
      "CITROEN                   6228\n",
      "SEAT                      5859\n",
      "SSANG YONG                5417\n",
      "DODGE                     5322\n",
      "FOTON                     4874\n",
      "ISUZU                     4469\n",
      "                         ...  \n",
      "ARFAMET                      6\n",
      "INKATRAYLER                  6\n",
      "TRAIL                        5\n",
      "FLOOR                        5\n",
      "JUTIZA                       5\n",
      "ITALIKA                      5\n",
      "SEMAFASH                     5\n",
      "CARROCERIAS PRIMO            5\n",
      "ELENITA                      5\n",
      "YUTONG                       5\n",
      "AWA                          5\n",
      "POLARIS.                     4\n",
      "INMEPO                       4\n",
      "SCHMITZ                      4\n",
      "SANTA ROSA                   4\n",
      "NASSI                        3\n",
      "SERVIMET                     3\n",
      "RMC                          3\n",
      "FABRIMETAL                   3\n",
      "KINSGTAR                     3\n",
      "APOLO                        3\n",
      "ALYER                        3\n",
      "ROYAL ENFIELD                3\n",
      "JAG MOBILE SOLUTIONS         1\n",
      "FIGHTER                      1\n",
      "VIRGENCITA DE CHAPI          1\n",
      "MERCURY                      1\n",
      "YEMA AUTO                    1\n",
      "CMASAC                       1\n",
      "APPLE BUS                    1\n",
      "Name: MARCAVEHDES, dtype: int64\n",
      "-------------------------------------------------------------------------------\n",
      "USOVEHDES\n",
      "PARTICULAR                 1417072\n",
      "TAXI URBANO                  70530\n",
      "COMERCIAL                    60959\n",
      "TRANSPORTE DE PERSONAL       22551\n",
      "VEHICULO DE ALQUILER         13957\n",
      "PUBLICO                      11160\n",
      "SERVICIO ESCOLAR              8677\n",
      "CARGA                         7596\n",
      "PUBLICO URBANO                6928\n",
      "TURISMO                       2308\n",
      "PUBLICO INTERPROVINCIAL       1841\n",
      "DIPLOMATICO                     83\n",
      "Name: USOVEHDES, dtype: int64\n",
      "-------------------------------------------------------------------------------\n",
      "ANOFABRIC\n",
      "2013.0    364018\n",
      "2012.0    295485\n",
      "2014.0    236765\n",
      "2011.0    147709\n",
      "2015.0    126388\n",
      "2010.0    112434\n",
      "2008.0     87265\n",
      "2009.0     53618\n",
      "2007.0     43017\n",
      "2006.0     29652\n",
      "2016.0     25488\n",
      "2005.0     18038\n",
      "2004.0     10323\n",
      "2003.0      9361\n",
      "1998.0      8571\n",
      "1997.0      7339\n",
      "2002.0      6821\n",
      "2001.0      5260\n",
      "2000.0      5134\n",
      "1996.0      4787\n",
      "1995.0      3842\n",
      "1999.0      2589\n",
      "1994.0      2227\n",
      "1992.0      1681\n",
      "1993.0      1396\n",
      "1991.0      1362\n",
      "1981.0       581\n",
      "1985.0       565\n",
      "1987.0       503\n",
      "1990.0       490\n",
      "1989.0       489\n",
      "1984.0       477\n",
      "1988.0       461\n",
      "1982.0       406\n",
      "1983.0       376\n",
      "1986.0       358\n",
      "1980.0       257\n",
      "1965.0       139\n",
      "1979.0       129\n",
      "1974.0       127\n",
      "1967.0       121\n",
      "1977.0        97\n",
      "1975.0        96\n",
      "1969.0        90\n",
      "1973.0        85\n",
      "1971.0        82\n",
      "1976.0        71\n",
      "1972.0        65\n",
      "1978.0        65\n",
      "1964.0        61\n",
      "1952.0        60\n",
      "1968.0        38\n",
      "1966.0        38\n",
      "1961.0        29\n",
      "1970.0        27\n",
      "1909.0        12\n",
      "1963.0         7\n",
      "1950.0         1\n",
      "Name: ANOFABRIC, dtype: int64\n",
      "-------------------------------------------------------------------------------\n",
      "SUMASEG\n",
      "0.0000        47588\n",
      "10000.0000    21447\n",
      "15000.0000    20998\n",
      "12000.0000    17200\n",
      "18000.0000    16681\n",
      "20000.0000    15541\n",
      "9000.0000     15213\n",
      "14000.0000    14812\n",
      "13000.0000    14431\n",
      "16000.0000    13473\n",
      "11000.0000    13210\n",
      "13500.0000    12126\n",
      "17000.0000    11606\n",
      "13990.0000     9327\n",
      "14990.0000     9019\n",
      "15990.0000     8883\n",
      "8000.0000      8841\n",
      "19000.0000     8475\n",
      "25000.0000     8384\n",
      "12500.0000     8227\n",
      "12990.0000     7368\n",
      "17990.0000     7108\n",
      "16990.0000     6844\n",
      "22000.0000     6771\n",
      "9500.0000      6608\n",
      "18990.0000     6513\n",
      "10990.0000     6370\n",
      "10500.0000     6222\n",
      "11500.0000     6128\n",
      "30000.0000     6111\n",
      "              ...  \n",
      "15121.0000        1\n",
      "11385.7600        1\n",
      "22252.5000        1\n",
      "22246.2000        1\n",
      "17756.4900        1\n",
      "14235.7400        1\n",
      "22991.0000        1\n",
      "19855.8000        1\n",
      "29467.8000        1\n",
      "5822.2800         1\n",
      "10171.0700        1\n",
      "12540.6000        1\n",
      "11369.8100        1\n",
      "29461.1700        1\n",
      "11362.4800        1\n",
      "15115.9100        1\n",
      "15913.4400        1\n",
      "10176.3000        1\n",
      "7870.9832         1\n",
      "10177.4900        1\n",
      "10180.3000        1\n",
      "15111.3600        1\n",
      "25848.0000        1\n",
      "20663.1000        1\n",
      "20667.0400        1\n",
      "12887.3400        1\n",
      "15918.9200        1\n",
      "7268.1300         1\n",
      "22228.0000        1\n",
      "32511.5900        1\n",
      "Name: SUMASEG, dtype: int64\n"
     ]
    }
   ],
   "source": [
    "#distribución de las variables que posee nulos\n",
    "for feature in temp_feat:\n",
    "    print(\"-------------------------------------------------------------------------------\")\n",
    "    print(bd_vehiculos_banca1.groupby(feature, axis = 0)[feature].count().sort_values(ascending = False))"
   ]
  },
  {
   "cell_type": "markdown",
   "metadata": {},
   "source": [
    "### Imputar Valores Nulos"
   ]
  },
  {
   "cell_type": "code",
   "execution_count": 445,
   "metadata": {
    "collapsed": false
   },
   "outputs": [
    {
     "name": "stderr",
     "output_type": "stream",
     "text": [
      "C:\\ProgramData\\Anaconda3\\lib\\site-packages\\pandas\\core\\generic.py:3295: SettingWithCopyWarning: \n",
      "A value is trying to be set on a copy of a slice from a DataFrame\n",
      "\n",
      "See the caveats in the documentation: http://pandas.pydata.org/pandas-docs/stable/indexing.html#indexing-view-versus-copy\n",
      "  self._update_inplace(new_data)\n"
     ]
    }
   ],
   "source": [
    "bd_vehiculos_banca1['NSE_RIMAC'].fillna('A2', inplace=True)\n",
    "bd_vehiculos_banca1['SEGMENTO_INTERNO'].fillna('4.ORO 2', inplace=True)\n",
    "bd_vehiculos_banca1['CANALDES'].fillna('CORREDOR', inplace=True)\n",
    "bd_vehiculos_banca1['CLASEVEHDES'].fillna('AUTOMOVIL', inplace=True)\n",
    "bd_vehiculos_banca1['MARCAVEHDES'].fillna('TOYOTA', inplace=True)\n",
    "bd_vehiculos_banca1['USOVEHDES'].fillna('PARTICULAR', inplace=True)\n",
    "bd_vehiculos_banca1['ANOFABRIC'].fillna(2013, inplace=True)\n",
    "bd_vehiculos_banca1['NUM_PRODUCTOS'].fillna(bd_vehiculos_banca1['NUM_PRODUCTOS'].median(), inplace=True)\n",
    "bd_vehiculos_banca1['SUMASEG'].fillna(bd_vehiculos_banca1['SUMASEG'].median(), inplace=True)"
   ]
  },
  {
   "cell_type": "code",
   "execution_count": 446,
   "metadata": {
    "collapsed": false,
    "scrolled": true
   },
   "outputs": [
    {
     "data": {
      "text/plain": [
       "PERIODO              0\n",
       "NSE_RIMAC            0\n",
       "NUM_PRODUCTOS        0\n",
       "SEGMENTO_INTERNO     0\n",
       "OK                   0\n",
       "CPP                  0\n",
       "DEFICIENTE           0\n",
       "DUDOSO               0\n",
       "PERDIDA              0\n",
       "DEUDA_HIINI          0\n",
       "SALDO_SBS            0\n",
       "SALDO_TC_SBS         0\n",
       "SALDO_VEH_SBS        0\n",
       "SALDO_HIP_SBS        0\n",
       "SALDO_PP_SBS         0\n",
       "SALDO_MICRO_SBS      0\n",
       "SALDO_PEQUENA_SBS    0\n",
       "SALDO_OTROS          0\n",
       "PRIMA_TOTAL          0\n",
       "PRIMA                0\n",
       "CANALDES             0\n",
       "CLASEVEHDES          0\n",
       "MARCAVEHDES          0\n",
       "USOVEHDES            0\n",
       "ANOFABRIC            0\n",
       "SUMASEG              0\n",
       "NRO_SINIESTROS       0\n",
       "MTO_SINIESTROS       0\n",
       "FECHA_FIN            0\n",
       "FECHA_INICIO         0\n",
       "CUC                  0\n",
       "P_AUTO               0\n",
       "ID_UNICO             0\n",
       "ID_POLIZA            0\n",
       "Flag_Bancari         0\n",
       "dtype: int64"
      ]
     },
     "execution_count": 446,
     "metadata": {},
     "output_type": "execute_result"
    }
   ],
   "source": [
    "bd_vehiculos_banca1.isnull().sum()"
   ]
  },
  {
   "cell_type": "markdown",
   "metadata": {},
   "source": [
    "### Tratamiento de Outliers"
   ]
  },
  {
   "cell_type": "code",
   "execution_count": 447,
   "metadata": {
    "collapsed": true
   },
   "outputs": [],
   "source": [
    "feat_to_repla_num = ['DEUDA_HIINI',\n",
    "                 'SALDO_SBS',\n",
    "                 'SALDO_TC_SBS',\n",
    "                 'SALDO_VEH_SBS',\n",
    "                 'SALDO_HIP_SBS',\n",
    "                 'SALDO_PP_SBS',\n",
    "                 'SALDO_MICRO_SBS',\n",
    "                 'SALDO_PEQUENA_SBS',\n",
    "                 'SALDO_OTROS',\n",
    "                 'PRIMA_TOTAL',\n",
    "                 'PRIMA',\n",
    "                 'SUMASEG',\n",
    "                 'MTO_SINIESTROS']\n",
    "feat_to_repla_disc = ['NUM_PRODUCTOS','NRO_SINIESTROS']"
   ]
  },
  {
   "cell_type": "code",
   "execution_count": 448,
   "metadata": {
    "collapsed": false,
    "scrolled": true
   },
   "outputs": [
    {
     "data": {
      "image/png": "[encoded data removed]",
      "text/plain": [
       "<matplotlib.figure.Figure at 0xa62067d3c8>"
      ]
     },
     "metadata": {},
     "output_type": "display_data"
    },
    {
     "name": "stderr",
     "output_type": "stream",
     "text": [
      "C:\\ProgramData\\Anaconda3\\lib\\site-packages\\pandas\\core\\indexing.py:477: SettingWithCopyWarning: \n",
      "A value is trying to be set on a copy of a slice from a DataFrame.\n",
      "Try using .loc[row_indexer,col_indexer] = value instead\n",
      "\n",
      "See the caveats in the documentation: http://pandas.pydata.org/pandas-docs/stable/indexing.html#indexing-view-versus-copy\n",
      "  self.obj[item] = s\n"
     ]
    },
    {
     "data": {
      "image/png": "[encoded data removed]",
      "text/plain": [
       "<matplotlib.figure.Figure at 0xa5641f5ac8>"
      ]
     },
     "metadata": {},
     "output_type": "display_data"
    },
    {
     "data": {
      "image/png": "[encoded data removed]",
      "text/plain": [
       "<matplotlib.figure.Figure at 0xa5d0a5f160>"
      ]
     },
     "metadata": {},
     "output_type": "display_data"
    },
    {
     "data": {
      "image/png": "[encoded data removed]",
      "text/plain": [
       "<matplotlib.figure.Figure at 0xa562d08d68>"
      ]
     },
     "metadata": {},
     "output_type": "display_data"
    },
    {
     "data": {
      "image/png": "[encoded data removed]",
      "text/plain": [
       "<matplotlib.figure.Figure at 0xa562d452b0>"
      ]
     },
     "metadata": {},
     "output_type": "display_data"
    },
    {
     "data": {
      "image/png": "[encoded data removed]",
      "text/plain": [
       "<matplotlib.figure.Figure at 0xa51ea73ac8>"
      ]
     },
     "metadata": {},
     "output_type": "display_data"
    },
    {
     "data": {
      "image/png": "[encoded data removed]",
      "text/plain": [
       "<matplotlib.figure.Figure at 0xa5cfe6d358>"
      ]
     },
     "metadata": {},
     "output_type": "display_data"
    },
    {
     "data": {
      "image/png": "[encoded data removed]",
      "text/plain": [
       "<matplotlib.figure.Figure at 0xa5538dcbe0>"
      ]
     },
     "metadata": {},
     "output_type": "display_data"
    },
    {
     "data": {
      "image/png": "[encoded data removed]",
      "text/plain": [
       "<matplotlib.figure.Figure at 0xa562f26ac8>"
      ]
     },
     "metadata": {},
     "output_type": "display_data"
    },
    {
     "data": {
      "image/png": "[encoded data removed]",
      "text/plain": [
       "<matplotlib.figure.Figure at 0xa620673908>"
      ]
     },
     "metadata": {},
     "output_type": "display_data"
    },
    {
     "data": {
      "image/png": "[encoded data removed]",
      "text/plain": [
       "<matplotlib.figure.Figure at 0xa56f438be0>"
      ]
     },
     "metadata": {},
     "output_type": "display_data"
    },
    {
     "data": {
      "image/png": "[encoded data removed]",
      "text/plain": [
       "<matplotlib.figure.Figure at 0xa54c062668>"
      ]
     },
     "metadata": {},
     "output_type": "display_data"
    },
    {
     "data": {
      "image/png": "[encoded data removed]",
      "text/plain": [
       "<matplotlib.figure.Figure at 0xa6275cc9e8>"
      ]
     },
     "metadata": {},
     "output_type": "display_data"
    },
    {
     "data": {
      "image/png": "[encoded data removed]",
      "text/plain": [
       "<matplotlib.figure.Figure at 0xa51ea73ac8>"
      ]
     },
     "metadata": {},
     "output_type": "display_data"
    },
    {
     "data": {
      "image/png": "[encoded data removed]",
      "text/plain": [
       "<matplotlib.figure.Figure at 0xa54c0014e0>"
      ]
     },
     "metadata": {},
     "output_type": "display_data"
    },
    {
     "data": {
      "image/png": "[encoded data removed]",
      "text/plain": [
       "<matplotlib.figure.Figure at 0xa51eaa6be0>"
      ]
     },
     "metadata": {},
     "output_type": "display_data"
    },
    {
     "data": {
      "image/png": "[encoded data removed]",
      "text/plain": [
       "<matplotlib.figure.Figure at 0xa6297d1dd8>"
      ]
     },
     "metadata": {},
     "output_type": "display_data"
    },
    {
     "data": {
      "image/png": "[encoded data removed]",
      "text/plain": [
       "<matplotlib.figure.Figure at 0xa5d0a651d0>"
      ]
     },
     "metadata": {},
     "output_type": "display_data"
    },
    {
     "data": {
      "image/png": "[encoded data removed]",
      "text/plain": [
       "<matplotlib.figure.Figure at 0xa54c0675c0>"
      ]
     },
     "metadata": {},
     "output_type": "display_data"
    },
    {
     "data": {
      "image/png": "[encoded data removed]",
      "text/plain": [
       "<matplotlib.figure.Figure at 0xa562d6c400>"
      ]
     },
     "metadata": {},
     "output_type": "display_data"
    },
    {
     "data": {
      "image/png": "[encoded data removed]",
      "text/plain": [
       "<matplotlib.figure.Figure at 0xa562ffa5c0>"
      ]
     },
     "metadata": {},
     "output_type": "display_data"
    },
    {
     "data": {
      "image/png": "[encoded data removed]",
      "text/plain": [
       "<matplotlib.figure.Figure at 0xa556ee9f28>"
      ]
     },
     "metadata": {},
     "output_type": "display_data"
    },
    {
     "data": {
      "image/png": "[encoded data removed]",
      "text/plain": [
       "<matplotlib.figure.Figure at 0xa562cc1668>"
      ]
     },
     "metadata": {},
     "output_type": "display_data"
    },
    {
     "data": {
      "image/png": "[encoded data removed]",
      "text/plain": [
       "<matplotlib.figure.Figure at 0xa6283db7b8>"
      ]
     },
     "metadata": {},
     "output_type": "display_data"
    },
    {
     "data": {
      "image/png": "[encoded data removed]",
      "text/plain": [
       "<matplotlib.figure.Figure at 0xa5630bfb70>"
      ]
     },
     "metadata": {},
     "output_type": "display_data"
    },
    {
     "data": {
      "image/png": "[encoded data removed]",
      "text/plain": [
       "<matplotlib.figure.Figure at 0xa5538dcbe0>"
      ]
     },
     "metadata": {},
     "output_type": "display_data"
    }
   ],
   "source": [
    "for feature in feat_to_repla_num:\n",
    "    bd_vehiculos_banca1[feature].hist(bins=80)\n",
    "    plt.xlabel(feature)\n",
    "    plt.ylabel('Frecuencia')\n",
    "    plt.show()\n",
    "    p99 = np.percentile(bd_vehiculos_banca1[feature],99)\n",
    "    bd_vehiculos_banca1.loc[bd_vehiculos_banca1[feature] > p99, feature] = p99\n",
    "    bd_vehiculos_banca1[feature].hist(bins=80)\n",
    "    plt.xlabel(feature)\n",
    "    plt.ylabel('Frecuencia')\n",
    "    plt.show()"
   ]
  },
  {
   "cell_type": "code",
   "execution_count": 449,
   "metadata": {
    "collapsed": false,
    "scrolled": true
   },
   "outputs": [
    {
     "data": {
      "image/png": "[encoded data removed]",
      "text/plain": [
       "<matplotlib.figure.Figure at 0xa6290a9be0>"
      ]
     },
     "metadata": {},
     "output_type": "display_data"
    },
    {
     "name": "stderr",
     "output_type": "stream",
     "text": [
      "C:\\ProgramData\\Anaconda3\\lib\\site-packages\\pandas\\core\\indexing.py:477: SettingWithCopyWarning: \n",
      "A value is trying to be set on a copy of a slice from a DataFrame.\n",
      "Try using .loc[row_indexer,col_indexer] = value instead\n",
      "\n",
      "See the caveats in the documentation: http://pandas.pydata.org/pandas-docs/stable/indexing.html#indexing-view-versus-copy\n",
      "  self.obj[item] = s\n"
     ]
    },
    {
     "data": {
      "image/png": "[encoded data removed]",
      "text/plain": [
       "<matplotlib.figure.Figure at 0xa5d0a651d0>"
      ]
     },
     "metadata": {},
     "output_type": "display_data"
    },
    {
     "data": {
      "image/png": "[encoded data removed]",
      "text/plain": [
       "<matplotlib.figure.Figure at 0xa562d13b38>"
      ]
     },
     "metadata": {},
     "output_type": "display_data"
    },
    {
     "data": {
      "image/png": "[encoded data removed]",
      "text/plain": [
       "<matplotlib.figure.Figure at 0xa562d27518>"
      ]
     },
     "metadata": {},
     "output_type": "display_data"
    }
   ],
   "source": [
    "for feature in feat_to_repla_disc:\n",
    "    bd_vehiculos_banca0[feature].hist(bins=80)\n",
    "    plt.xlabel(feature)\n",
    "    plt.ylabel('Frecuencia')\n",
    "    plt.show()\n",
    "    p99 = np.percentile(bd_vehiculos_banca1[feature],99)\n",
    "    bd_vehiculos_banca1.loc[bd_vehiculos_banca1[feature] > p99, feature] = p99 + 1\n",
    "    bd_vehiculos_banca1[feature].hist(bins=80)\n",
    "    plt.xlabel(feature)\n",
    "    plt.ylabel('Frecuencia')\n",
    "    plt.show()"
   ]
  },
  {
   "cell_type": "markdown",
   "metadata": {},
   "source": [
    "## No Bancarizados"
   ]
  },
  {
   "cell_type": "code",
   "execution_count": 450,
   "metadata": {
    "collapsed": false
   },
   "outputs": [
    {
     "data": {
      "text/plain": [
       "PERIODO                   0\n",
       "NSE_RIMAC             44611\n",
       "NUM_PRODUCTOS          1938\n",
       "SEGMENTO_INTERNO       1938\n",
       "OK                   183081\n",
       "CPP                  183081\n",
       "DEFICIENTE           183081\n",
       "DUDOSO               183081\n",
       "PERDIDA              183081\n",
       "DEUDA_HIINI          183081\n",
       "SALDO_SBS            183081\n",
       "SALDO_TC_SBS         183081\n",
       "SALDO_VEH_SBS        183081\n",
       "SALDO_HIP_SBS        183081\n",
       "SALDO_PP_SBS         183081\n",
       "SALDO_MICRO_SBS      183081\n",
       "SALDO_PEQUENA_SBS    183081\n",
       "SALDO_OTROS          183081\n",
       "PRIMA_TOTAL               0\n",
       "PRIMA                     0\n",
       "CANALDES                  0\n",
       "CLASEVEHDES             749\n",
       "MARCAVEHDES             613\n",
       "USOVEHDES                76\n",
       "ANOFABRIC               596\n",
       "SUMASEG                4272\n",
       "NRO_SINIESTROS            0\n",
       "MTO_SINIESTROS            0\n",
       "FECHA_FIN                 0\n",
       "FECHA_INICIO              0\n",
       "CUC                       0\n",
       "P_AUTO                    0\n",
       "ID_UNICO                  0\n",
       "ID_POLIZA                 0\n",
       "Flag_Bancari              0\n",
       "dtype: int64"
      ]
     },
     "execution_count": 450,
     "metadata": {},
     "output_type": "execute_result"
    }
   ],
   "source": [
    "bd_vehiculos_banca0.isnull().sum()"
   ]
  },
  {
   "cell_type": "code",
   "execution_count": 451,
   "metadata": {
    "collapsed": true
   },
   "outputs": [],
   "source": [
    "features_nulls_banca0 = ['NSE_RIMAC','NUM_PRODUCTOS','SEGMENTO_INTERNO','CLASEVEHDES','MARCAVEHDES','USOVEHDES','ANOFABRIC']"
   ]
  },
  {
   "cell_type": "code",
   "execution_count": 452,
   "metadata": {
    "collapsed": false
   },
   "outputs": [
    {
     "name": "stdout",
     "output_type": "stream",
     "text": [
      "-------------------------------------------------------------------------------\n",
      "NSE_RIMAC\n",
      "C2    28482\n",
      "A2    22895\n",
      "B2    20467\n",
      "C1    20044\n",
      "B1    13506\n",
      "D2    11307\n",
      "A      8423\n",
      "D1     6582\n",
      "A1     4914\n",
      "E      1850\n",
      "Name: NSE_RIMAC, dtype: int64\n",
      "-------------------------------------------------------------------------------\n",
      "NUM_PRODUCTOS\n",
      "1.0    111917\n",
      "2.0     58769\n",
      "3.0      8216\n",
      "4.0      1630\n",
      "5.0       389\n",
      "6.0       196\n",
      "7.0        15\n",
      "8.0        11\n",
      "Name: NUM_PRODUCTOS, dtype: int64\n",
      "-------------------------------------------------------------------------------\n",
      "SEGMENTO_INTERNO\n",
      "6.MASIVO       105213\n",
      "3.ORO 1         25123\n",
      "5.ORO 3         21649\n",
      "1.PLATINO 1     13887\n",
      "2.PLATINO 2      8980\n",
      "4.ORO 2          6291\n",
      "Name: SEGMENTO_INTERNO, dtype: int64\n",
      "-------------------------------------------------------------------------------\n",
      "CLASEVEHDES\n",
      "AUTOMOVIL                     98784\n",
      "CAMIONETA PANEL               61824\n",
      "CAMIONETA                     11311\n",
      "CAMION                         3933\n",
      "MICROBUS                       2368\n",
      "MINIBUS                        1452\n",
      "REMOLCADOR                      736\n",
      "CAMIONETA COASTER               640\n",
      "MOTOCICLETA                     385\n",
      "MOTO                            383\n",
      "CAMIONETA PICK UP 4X4           262\n",
      "CAMIONETA VAN                   116\n",
      "OMNIBUS                          64\n",
      "CAMIONETA CROSSOVER              44\n",
      "CAMIONETA TODO TERRENO 4X4       18\n",
      "TODO TERRENO 4X4                 12\n",
      "Name: CLASEVEHDES, dtype: int64\n",
      "-------------------------------------------------------------------------------\n",
      "MARCAVEHDES\n",
      "TOYOTA             35733\n",
      "HYUNDAI            24715\n",
      "NISSAN             20097\n",
      "KIA                17771\n",
      "SUZUKI             10369\n",
      "VOLKSWAGEN         10278\n",
      "CHEVROLET           7937\n",
      "HONDA               6938\n",
      "MAZDA               4170\n",
      "SUBARU              4009\n",
      "RENAULT             3711\n",
      "MITSUBISHI          3294\n",
      "JEEP                2910\n",
      "BMW                 2618\n",
      "FORD                2476\n",
      "PEUGEOT             2453\n",
      "AUDI                1959\n",
      "MERCEDES BENZ       1864\n",
      "VOLVO               1659\n",
      "JAC                 1237\n",
      "DAIHATSU            1057\n",
      "GREAT WALL           841\n",
      "CHERY                672\n",
      "CITROEN              636\n",
      "MG                   602\n",
      "SSANGYONG            587\n",
      "CHANGAN              554\n",
      "SEAT                 553\n",
      "FIAT                 542\n",
      "FOTON                474\n",
      "                   ...  \n",
      "HIGER                 12\n",
      "RTM                   12\n",
      "CROSS                 12\n",
      "JOYLONG               12\n",
      "GMC                   12\n",
      "CAMC                  12\n",
      "HAVAL                 12\n",
      "ZX AUTO               11\n",
      "RMC                    9\n",
      "DUCATI                 9\n",
      "SACHS                  8\n",
      "HARLEY DAVIDSON        8\n",
      "CAR VAZ 2121           8\n",
      "YUTONG                 7\n",
      "BAWM                   7\n",
      "BARBOZA                6\n",
      "SCANIA                 6\n",
      "JINCHENG               5\n",
      "TRIUMPH                5\n",
      "OPEL                   4\n",
      "MAVILA                 4\n",
      "NAVECO                 4\n",
      "INTERNACIONAL          4\n",
      "RAM                    4\n",
      "KANBO                  3\n",
      "DAF                    3\n",
      "SCION                  2\n",
      "PIAGGIO                1\n",
      "DIMEX                  1\n",
      "TRIUNFOO               1\n",
      "Name: MARCAVEHDES, dtype: int64\n",
      "-------------------------------------------------------------------------------\n",
      "USOVEHDES\n",
      "PARTICULAR                 150286\n",
      "TAXI URBANO                 12579\n",
      "COMERCIAL                    7572\n",
      "TRANSPORTE DE PERSONAL       4094\n",
      "DIPLOMATICO                  2239\n",
      "VEHICULO DE ALQUILER         1987\n",
      "PUBLICO                      1435\n",
      "PUBLICO URBANO               1012\n",
      "CARGA                         816\n",
      "SERVICIO ESCOLAR              610\n",
      "TURISMO                       301\n",
      "PUBLICO INTERPROVINCIAL        71\n",
      "AMBULANCIA                      3\n",
      "Name: USOVEHDES, dtype: int64\n",
      "-------------------------------------------------------------------------------\n",
      "ANOFABRIC\n",
      "2013.0    39108\n",
      "2014.0    30042\n",
      "2012.0    29023\n",
      "2015.0    17105\n",
      "2011.0    13333\n",
      "2010.0    11811\n",
      "2008.0     9714\n",
      "2009.0     5563\n",
      "2007.0     5026\n",
      "2016.0     3661\n",
      "2006.0     3601\n",
      "2005.0     2236\n",
      "2004.0     1558\n",
      "1998.0     1185\n",
      "2003.0     1135\n",
      "2002.0     1115\n",
      "1997.0     1104\n",
      "2000.0      919\n",
      "1996.0      867\n",
      "2001.0      729\n",
      "1999.0      505\n",
      "1995.0      445\n",
      "1993.0      372\n",
      "1994.0      353\n",
      "1992.0      348\n",
      "1991.0      265\n",
      "1981.0      190\n",
      "1982.0      157\n",
      "1983.0      136\n",
      "1986.0      125\n",
      "1990.0      123\n",
      "1979.0       90\n",
      "1985.0       90\n",
      "1984.0       84\n",
      "1972.0       54\n",
      "1980.0       47\n",
      "1959.0       40\n",
      "1973.0       33\n",
      "1975.0       33\n",
      "1987.0       29\n",
      "1970.0       28\n",
      "1976.0       24\n",
      "1988.0       16\n",
      "1964.0       16\n",
      "1977.0       15\n",
      "1966.0       12\n",
      "1989.0        8\n",
      "1963.0        8\n",
      "1974.0        4\n",
      "Name: ANOFABRIC, dtype: int64\n"
     ]
    }
   ],
   "source": [
    "#distribución de las variables categóricas\n",
    "for feature in features_nulls_banca0:\n",
    "    print(\"-------------------------------------------------------------------------------\")\n",
    "    print(bd_vehiculos_banca0.groupby(feature, axis = 0)[feature].count().sort_values(ascending = False))"
   ]
  },
  {
   "cell_type": "markdown",
   "metadata": {},
   "source": [
    "### Imputar Valores Nulos"
   ]
  },
  {
   "cell_type": "code",
   "execution_count": 453,
   "metadata": {
    "collapsed": false
   },
   "outputs": [
    {
     "name": "stderr",
     "output_type": "stream",
     "text": [
      "C:\\ProgramData\\Anaconda3\\lib\\site-packages\\pandas\\core\\generic.py:3295: SettingWithCopyWarning: \n",
      "A value is trying to be set on a copy of a slice from a DataFrame\n",
      "\n",
      "See the caveats in the documentation: http://pandas.pydata.org/pandas-docs/stable/indexing.html#indexing-view-versus-copy\n",
      "  self._update_inplace(new_data)\n"
     ]
    }
   ],
   "source": [
    "#Reemplazar Missings\n",
    "bd_vehiculos_banca0['NSE_RIMAC'].fillna('A2', inplace=True)\n",
    "bd_vehiculos_banca0['NUM_PRODUCTOS'].fillna(bd_vehiculos_banca0.NUM_PRODUCTOS.median(), inplace=True) # Mediana\n",
    "bd_vehiculos_banca0['SEGMENTO_INTERNO'].fillna('6.MASIVO', inplace=True)\n",
    "bd_vehiculos_banca0['CLASEVEHDES'].fillna('AUTOMOVIL', inplace=True)\n",
    "bd_vehiculos_banca0['MARCAVEHDES'].fillna('TOYOTA', inplace=True)\n",
    "bd_vehiculos_banca0['USOVEHDES'].fillna('PARTICULAR', inplace=True)\n",
    "bd_vehiculos_banca0['ANOFABRIC'].fillna(2013, inplace=True)\n",
    "from scipy.stats import mode\n",
    "bd_vehiculos_banca0['SUMASEG'].fillna(bd_vehiculos_banca0.SUMASEG.median(), inplace=True) # Mediana"
   ]
  },
  {
   "cell_type": "code",
   "execution_count": 454,
   "metadata": {
    "collapsed": false
   },
   "outputs": [
    {
     "data": {
      "text/plain": [
       "PERIODO                   0\n",
       "NSE_RIMAC                 0\n",
       "NUM_PRODUCTOS             0\n",
       "SEGMENTO_INTERNO          0\n",
       "OK                   183081\n",
       "CPP                  183081\n",
       "DEFICIENTE           183081\n",
       "DUDOSO               183081\n",
       "PERDIDA              183081\n",
       "DEUDA_HIINI          183081\n",
       "SALDO_SBS            183081\n",
       "SALDO_TC_SBS         183081\n",
       "SALDO_VEH_SBS        183081\n",
       "SALDO_HIP_SBS        183081\n",
       "SALDO_PP_SBS         183081\n",
       "SALDO_MICRO_SBS      183081\n",
       "SALDO_PEQUENA_SBS    183081\n",
       "SALDO_OTROS          183081\n",
       "PRIMA_TOTAL               0\n",
       "PRIMA                     0\n",
       "CANALDES                  0\n",
       "CLASEVEHDES               0\n",
       "MARCAVEHDES               0\n",
       "USOVEHDES                 0\n",
       "ANOFABRIC                 0\n",
       "SUMASEG                   0\n",
       "NRO_SINIESTROS            0\n",
       "MTO_SINIESTROS            0\n",
       "FECHA_FIN                 0\n",
       "FECHA_INICIO              0\n",
       "CUC                       0\n",
       "P_AUTO                    0\n",
       "ID_UNICO                  0\n",
       "ID_POLIZA                 0\n",
       "Flag_Bancari              0\n",
       "dtype: int64"
      ]
     },
     "execution_count": 454,
     "metadata": {},
     "output_type": "execute_result"
    }
   ],
   "source": [
    "bd_vehiculos_banca0.isnull().sum()"
   ]
  },
  {
   "cell_type": "markdown",
   "metadata": {},
   "source": [
    "### Tratamiento de Outliers"
   ]
  },
  {
   "cell_type": "code",
   "execution_count": 455,
   "metadata": {
    "collapsed": false
   },
   "outputs": [
    {
     "data": {
      "text/plain": [
       "['PERIODO',\n",
       " 'NUM_PRODUCTOS',\n",
       " 'OK',\n",
       " 'CPP',\n",
       " 'DEFICIENTE',\n",
       " 'DUDOSO',\n",
       " 'PERDIDA',\n",
       " 'DEUDA_HIINI',\n",
       " 'SALDO_SBS',\n",
       " 'SALDO_TC_SBS',\n",
       " 'SALDO_VEH_SBS',\n",
       " 'SALDO_HIP_SBS',\n",
       " 'SALDO_PP_SBS',\n",
       " 'SALDO_MICRO_SBS',\n",
       " 'SALDO_PEQUENA_SBS',\n",
       " 'SALDO_OTROS',\n",
       " 'PRIMA_TOTAL',\n",
       " 'PRIMA',\n",
       " 'ANOFABRIC',\n",
       " 'SUMASEG',\n",
       " 'NRO_SINIESTROS',\n",
       " 'MTO_SINIESTROS',\n",
       " 'ID_POLIZA',\n",
       " 'Flag_Bancari']"
      ]
     },
     "execution_count": 455,
     "metadata": {},
     "output_type": "execute_result"
    }
   ],
   "source": [
    "#características numéricas\n",
    "features_num = list(bd_vehiculos_banca0.describe().columns)\n",
    "features_num"
   ]
  },
  {
   "cell_type": "code",
   "execution_count": 460,
   "metadata": {
    "collapsed": false
   },
   "outputs": [
    {
     "data": {
      "image/png": "[encoded data removed]",
      "text/plain": [
       "<matplotlib.figure.Figure at 0xa562bf0e10>"
      ]
     },
     "metadata": {},
     "output_type": "display_data"
    },
    {
     "data": {
      "image/png": "[encoded data removed]",
      "text/plain": [
       "<matplotlib.figure.Figure at 0xa5cf479828>"
      ]
     },
     "metadata": {},
     "output_type": "display_data"
    },
    {
     "name": "stderr",
     "output_type": "stream",
     "text": [
      "C:\\ProgramData\\Anaconda3\\lib\\site-packages\\numpy\\lib\\function_base.py:3834: RuntimeWarning: Invalid value encountered in percentile\n",
      "  RuntimeWarning)\n"
     ]
    },
    {
     "data": {
      "image/png": "[encoded data removed]",
      "text/plain": [
       "<matplotlib.figure.Figure at 0xa562ffa898>"
      ]
     },
     "metadata": {},
     "output_type": "display_data"
    },
    {
     "data": {
      "image/png": "[encoded data removed]",
      "text/plain": [
       "<matplotlib.figure.Figure at 0xa55dd7d278>"
      ]
     },
     "metadata": {},
     "output_type": "display_data"
    },
    {
     "data": {
      "image/png": "[encoded data removed]",
      "text/plain": [
       "<matplotlib.figure.Figure at 0xa624a079e8>"
      ]
     },
     "metadata": {},
     "output_type": "display_data"
    },
    {
     "data": {
      "image/png": "[encoded data removed]",
      "text/plain": [
       "<matplotlib.figure.Figure at 0xa60eb63748>"
      ]
     },
     "metadata": {},
     "output_type": "display_data"
    },
    {
     "data": {
      "image/png": "[encoded data removed]",
      "text/plain": [
       "<matplotlib.figure.Figure at 0xa62afb52b0>"
      ]
     },
     "metadata": {},
     "output_type": "display_data"
    },
    {
     "data": {
      "image/png": "[encoded data removed]",
      "text/plain": [
       "<matplotlib.figure.Figure at 0xa62af68b00>"
      ]
     },
     "metadata": {},
     "output_type": "display_data"
    },
    {
     "data": {
      "image/png": "[encoded data removed]",
      "text/plain": [
       "<matplotlib.figure.Figure at 0xa63a833fd0>"
      ]
     },
     "metadata": {},
     "output_type": "display_data"
    },
    {
     "data": {
      "image/png": "[encoded data removed]",
      "text/plain": [
       "<matplotlib.figure.Figure at 0xa62b00a710>"
      ]
     },
     "metadata": {},
     "output_type": "display_data"
    },
    {
     "data": {
      "image/png": "[encoded data removed]",
      "text/plain": [
       "<matplotlib.figure.Figure at 0xa562d13b38>"
      ]
     },
     "metadata": {},
     "output_type": "display_data"
    },
    {
     "data": {
      "image/png": "[encoded data removed]",
      "text/plain": [
       "<matplotlib.figure.Figure at 0xa5630309b0>"
      ]
     },
     "metadata": {},
     "output_type": "display_data"
    },
    {
     "data": {
      "image/png": "[encoded data removed]",
      "text/plain": [
       "<matplotlib.figure.Figure at 0xa5cf479518>"
      ]
     },
     "metadata": {},
     "output_type": "display_data"
    },
    {
     "data": {
      "image/png": "[encoded data removed]",
      "text/plain": [
       "<matplotlib.figure.Figure at 0xa562c5a358>"
      ]
     },
     "metadata": {},
     "output_type": "display_data"
    },
    {
     "data": {
      "image/png": "[encoded data removed]",
      "text/plain": [
       "<matplotlib.figure.Figure at 0xa54c067860>"
      ]
     },
     "metadata": {},
     "output_type": "display_data"
    },
    {
     "data": {
      "image/png": "[encoded data removed]",
      "text/plain": [
       "<matplotlib.figure.Figure at 0xa624a13470>"
      ]
     },
     "metadata": {},
     "output_type": "display_data"
    },
    {
     "data": {
      "image/png": "[encoded data removed]",
      "text/plain": [
       "<matplotlib.figure.Figure at 0xa51ea5a9b0>"
      ]
     },
     "metadata": {},
     "output_type": "display_data"
    },
    {
     "data": {
      "image/png": "[encoded data removed]",
      "text/plain": [
       "<matplotlib.figure.Figure at 0xa63a807da0>"
      ]
     },
     "metadata": {},
     "output_type": "display_data"
    },
    {
     "data": {
      "image/png": "[encoded data removed]",
      "text/plain": [
       "<matplotlib.figure.Figure at 0xa62b019ac8>"
      ]
     },
     "metadata": {},
     "output_type": "display_data"
    },
    {
     "data": {
      "image/png": "[encoded data removed]",
      "text/plain": [
       "<matplotlib.figure.Figure at 0xa62af8eb00>"
      ]
     },
     "metadata": {},
     "output_type": "display_data"
    },
    {
     "data": {
      "image/png": "[encoded data removed]",
      "text/plain": [
       "<matplotlib.figure.Figure at 0xa63a63c908>"
      ]
     },
     "metadata": {},
     "output_type": "display_data"
    },
    {
     "data": {
      "image/png": "[encoded data removed]",
      "text/plain": [
       "<matplotlib.figure.Figure at 0xa5cfe729b0>"
      ]
     },
     "metadata": {},
     "output_type": "display_data"
    },
    {
     "data": {
      "image/png": "[encoded data removed]",
      "text/plain": [
       "<matplotlib.figure.Figure at 0xa5630dea20>"
      ]
     },
     "metadata": {},
     "output_type": "display_data"
    },
    {
     "data": {
      "image/png": "[encoded data removed]",
      "text/plain": [
       "<matplotlib.figure.Figure at 0xa562c5a208>"
      ]
     },
     "metadata": {},
     "output_type": "display_data"
    }
   ],
   "source": [
    "import matplotlib.pyplot as plt\n",
    "for feature in features_num:\n",
    "    plt.boxplot(bd_vehiculos_banca0[feature])\n",
    "    plt.title(feature)\n",
    "    plt.show()"
   ]
  },
  {
   "cell_type": "code",
   "execution_count": 457,
   "metadata": {
    "collapsed": true
   },
   "outputs": [],
   "source": [
    "features_num_cont_banca0 = ['PRIMA_TOTAL','PRIMA','SUMASEG','MTO_SINIESTROS']\n",
    "features_num_disc_banca0 = ['NUM_PRODUCTOS','NRO_SINIESTROS']"
   ]
  },
  {
   "cell_type": "code",
   "execution_count": 458,
   "metadata": {
    "collapsed": false
   },
   "outputs": [
    {
     "data": {
      "image/png": "[encoded data removed]",
      "text/plain": [
       "<matplotlib.figure.Figure at 0xa63a7e1668>"
      ]
     },
     "metadata": {},
     "output_type": "display_data"
    },
    {
     "name": "stderr",
     "output_type": "stream",
     "text": [
      "C:\\ProgramData\\Anaconda3\\lib\\site-packages\\pandas\\core\\indexing.py:477: SettingWithCopyWarning: \n",
      "A value is trying to be set on a copy of a slice from a DataFrame.\n",
      "Try using .loc[row_indexer,col_indexer] = value instead\n",
      "\n",
      "See the caveats in the documentation: http://pandas.pydata.org/pandas-docs/stable/indexing.html#indexing-view-versus-copy\n",
      "  self.obj[item] = s\n"
     ]
    },
    {
     "data": {
      "image/png": "[encoded data removed]",
      "text/plain": [
       "<matplotlib.figure.Figure at 0xa6283db7b8>"
      ]
     },
     "metadata": {},
     "output_type": "display_data"
    },
    {
     "data": {
      "image/png": "[encoded data removed]",
      "text/plain": [
       "<matplotlib.figure.Figure at 0xa644acd940>"
      ]
     },
     "metadata": {},
     "output_type": "display_data"
    },
    {
     "data": {
      "image/png": "[encoded data removed]",
      "text/plain": [
       "<matplotlib.figure.Figure at 0xa620047160>"
      ]
     },
     "metadata": {},
     "output_type": "display_data"
    },
    {
     "data": {
      "image/png": "[encoded data removed]",
      "text/plain": [
       "<matplotlib.figure.Figure at 0xa62cd074e0>"
      ]
     },
     "metadata": {},
     "output_type": "display_data"
    },
    {
     "data": {
      "image/png": "[encoded data removed]",
      "text/plain": [
       "<matplotlib.figure.Figure at 0xa51ea73ac8>"
      ]
     },
     "metadata": {},
     "output_type": "display_data"
    },
    {
     "data": {
      "image/png": "[encoded data removed]",
      "text/plain": [
       "<matplotlib.figure.Figure at 0xa60eb77320>"
      ]
     },
     "metadata": {},
     "output_type": "display_data"
    },
    {
     "data": {
      "image/png": "[encoded data removed]",
      "text/plain": [
       "<matplotlib.figure.Figure at 0xa62121de10>"
      ]
     },
     "metadata": {},
     "output_type": "display_data"
    }
   ],
   "source": [
    "for feature in features_num_cont_banca0:\n",
    "    bd_vehiculos_banca0[feature].hist(bins=80 , log = True)\n",
    "    plt.xlabel(feature)\n",
    "    plt.ylabel('Frecuencia')\n",
    "    plt.show()\n",
    "    p99 = np.percentile(bd_vehiculos_banca0[feature],99)\n",
    "    bd_vehiculos_banca0.loc[bd_vehiculos_banca0[feature] > p99, feature] = p99\n",
    "    bd_vehiculos_banca0[feature].hist(bins=80)\n",
    "    plt.xlabel(feature)\n",
    "    plt.ylabel('Frecuencia')\n",
    "    plt.show()"
   ]
  },
  {
   "cell_type": "code",
   "execution_count": 459,
   "metadata": {
    "collapsed": false,
    "scrolled": true
   },
   "outputs": [
    {
     "data": {
      "image/png": "[encoded data removed]",
      "text/plain": [
       "<matplotlib.figure.Figure at 0xa562fa2588>"
      ]
     },
     "metadata": {},
     "output_type": "display_data"
    },
    {
     "name": "stderr",
     "output_type": "stream",
     "text": [
      "C:\\ProgramData\\Anaconda3\\lib\\site-packages\\pandas\\core\\indexing.py:477: SettingWithCopyWarning: \n",
      "A value is trying to be set on a copy of a slice from a DataFrame.\n",
      "Try using .loc[row_indexer,col_indexer] = value instead\n",
      "\n",
      "See the caveats in the documentation: http://pandas.pydata.org/pandas-docs/stable/indexing.html#indexing-view-versus-copy\n",
      "  self.obj[item] = s\n"
     ]
    },
    {
     "data": {
      "image/png": "[encoded data removed]",
      "text/plain": [
       "<matplotlib.figure.Figure at 0xa62b03e668>"
      ]
     },
     "metadata": {},
     "output_type": "display_data"
    },
    {
     "data": {
      "image/png": "[encoded data removed]",
      "text/plain": [
       "<matplotlib.figure.Figure at 0xa6243ffe48>"
      ]
     },
     "metadata": {},
     "output_type": "display_data"
    },
    {
     "data": {
      "image/png": "[encoded data removed]",
      "text/plain": [
       "<matplotlib.figure.Figure at 0xa5d292d4a8>"
      ]
     },
     "metadata": {},
     "output_type": "display_data"
    }
   ],
   "source": [
    "for feature in features_num_disc_banca0:\n",
    "    bd_vehiculos_banca0[feature].hist(bins=80 , log = True)\n",
    "    plt.xlabel(feature)\n",
    "    plt.ylabel('Frecuencia')\n",
    "    plt.show()\n",
    "    p99 = np.percentile(bd_vehiculos_banca0[feature],99)\n",
    "    bd_vehiculos_banca0.loc[bd_vehiculos_banca0[feature] > p99, feature] = p99 + 1\n",
    "    bd_vehiculos_banca0[feature].hist(bins=80)\n",
    "    plt.xlabel(feature)\n",
    "    plt.ylabel('Frecuencia')\n",
    "    plt.show()"
   ]
  },
  {
   "cell_type": "markdown",
   "metadata": {},
   "source": [
    "## Union Segmentos"
   ]
  },
  {
   "cell_type": "code",
   "execution_count": 481,
   "metadata": {
    "collapsed": false
   },
   "outputs": [
    {
     "data": {
      "text/html": [
       "<div>\n",
       "<table border=\"1\" class=\"dataframe\">\n",
       "  <thead>\n",
       "    <tr style=\"text-align: right;\">\n",
       "      <th></th>\n",
       "      <th>PERIODO</th>\n",
       "      <th>NSE_RIMAC</th>\n",
       "      <th>NUM_PRODUCTOS</th>\n",
       "      <th>SEGMENTO_INTERNO</th>\n",
       "      <th>OK</th>\n",
       "      <th>CPP</th>\n",
       "      <th>DEFICIENTE</th>\n",
       "      <th>DUDOSO</th>\n",
       "      <th>PERDIDA</th>\n",
       "      <th>DEUDA_HIINI</th>\n",
       "      <th>...</th>\n",
       "      <th>SUMASEG</th>\n",
       "      <th>NRO_SINIESTROS</th>\n",
       "      <th>MTO_SINIESTROS</th>\n",
       "      <th>FECHA_FIN</th>\n",
       "      <th>FECHA_INICIO</th>\n",
       "      <th>CUC</th>\n",
       "      <th>P_AUTO</th>\n",
       "      <th>ID_UNICO</th>\n",
       "      <th>ID_POLIZA</th>\n",
       "      <th>Flag_Bancari</th>\n",
       "    </tr>\n",
       "  </thead>\n",
       "  <tbody>\n",
       "    <tr>\n",
       "      <th>0</th>\n",
       "      <td>201303</td>\n",
       "      <td>C2</td>\n",
       "      <td>1.0</td>\n",
       "      <td>6.MASIVO</td>\n",
       "      <td>NaN</td>\n",
       "      <td>NaN</td>\n",
       "      <td>NaN</td>\n",
       "      <td>NaN</td>\n",
       "      <td>NaN</td>\n",
       "      <td>NaN</td>\n",
       "      <td>...</td>\n",
       "      <td>14780.0</td>\n",
       "      <td>0.0</td>\n",
       "      <td>0.0</td>\n",
       "      <td>2014-02-01</td>\n",
       "      <td>2013-03-01</td>\n",
       "      <td>4-33334660</td>\n",
       "      <td>G8T792</td>\n",
       "      <td>4-33334660-G8T792</td>\n",
       "      <td>6307555641</td>\n",
       "      <td>0.0</td>\n",
       "    </tr>\n",
       "    <tr>\n",
       "      <th>1</th>\n",
       "      <td>201304</td>\n",
       "      <td>C2</td>\n",
       "      <td>1.0</td>\n",
       "      <td>6.MASIVO</td>\n",
       "      <td>NaN</td>\n",
       "      <td>NaN</td>\n",
       "      <td>NaN</td>\n",
       "      <td>NaN</td>\n",
       "      <td>NaN</td>\n",
       "      <td>NaN</td>\n",
       "      <td>...</td>\n",
       "      <td>14780.0</td>\n",
       "      <td>0.0</td>\n",
       "      <td>0.0</td>\n",
       "      <td>2014-02-01</td>\n",
       "      <td>2013-03-01</td>\n",
       "      <td>4-33334660</td>\n",
       "      <td>G8T792</td>\n",
       "      <td>4-33334660-G8T792</td>\n",
       "      <td>6307555641</td>\n",
       "      <td>0.0</td>\n",
       "    </tr>\n",
       "    <tr>\n",
       "      <th>2</th>\n",
       "      <td>201305</td>\n",
       "      <td>C2</td>\n",
       "      <td>1.0</td>\n",
       "      <td>6.MASIVO</td>\n",
       "      <td>NaN</td>\n",
       "      <td>NaN</td>\n",
       "      <td>NaN</td>\n",
       "      <td>NaN</td>\n",
       "      <td>NaN</td>\n",
       "      <td>NaN</td>\n",
       "      <td>...</td>\n",
       "      <td>14780.0</td>\n",
       "      <td>0.0</td>\n",
       "      <td>0.0</td>\n",
       "      <td>2014-02-01</td>\n",
       "      <td>2013-03-01</td>\n",
       "      <td>4-33334660</td>\n",
       "      <td>G8T792</td>\n",
       "      <td>4-33334660-G8T792</td>\n",
       "      <td>6307555641</td>\n",
       "      <td>0.0</td>\n",
       "    </tr>\n",
       "    <tr>\n",
       "      <th>3</th>\n",
       "      <td>201306</td>\n",
       "      <td>C2</td>\n",
       "      <td>1.0</td>\n",
       "      <td>6.MASIVO</td>\n",
       "      <td>NaN</td>\n",
       "      <td>NaN</td>\n",
       "      <td>NaN</td>\n",
       "      <td>NaN</td>\n",
       "      <td>NaN</td>\n",
       "      <td>NaN</td>\n",
       "      <td>...</td>\n",
       "      <td>14780.0</td>\n",
       "      <td>0.0</td>\n",
       "      <td>0.0</td>\n",
       "      <td>2014-02-01</td>\n",
       "      <td>2013-03-01</td>\n",
       "      <td>4-33334660</td>\n",
       "      <td>G8T792</td>\n",
       "      <td>4-33334660-G8T792</td>\n",
       "      <td>6307555641</td>\n",
       "      <td>0.0</td>\n",
       "    </tr>\n",
       "    <tr>\n",
       "      <th>4</th>\n",
       "      <td>201307</td>\n",
       "      <td>C2</td>\n",
       "      <td>1.0</td>\n",
       "      <td>6.MASIVO</td>\n",
       "      <td>NaN</td>\n",
       "      <td>NaN</td>\n",
       "      <td>NaN</td>\n",
       "      <td>NaN</td>\n",
       "      <td>NaN</td>\n",
       "      <td>NaN</td>\n",
       "      <td>...</td>\n",
       "      <td>14780.0</td>\n",
       "      <td>0.0</td>\n",
       "      <td>0.0</td>\n",
       "      <td>2014-02-01</td>\n",
       "      <td>2013-03-01</td>\n",
       "      <td>4-33334660</td>\n",
       "      <td>G8T792</td>\n",
       "      <td>4-33334660-G8T792</td>\n",
       "      <td>6307555641</td>\n",
       "      <td>0.0</td>\n",
       "    </tr>\n",
       "  </tbody>\n",
       "</table>\n",
       "<p>5 rows × 35 columns</p>\n",
       "</div>"
      ],
      "text/plain": [
       "   PERIODO NSE_RIMAC  NUM_PRODUCTOS SEGMENTO_INTERNO  OK  CPP  DEFICIENTE  \\\n",
       "0   201303        C2            1.0         6.MASIVO NaN  NaN         NaN   \n",
       "1   201304        C2            1.0         6.MASIVO NaN  NaN         NaN   \n",
       "2   201305        C2            1.0         6.MASIVO NaN  NaN         NaN   \n",
       "3   201306        C2            1.0         6.MASIVO NaN  NaN         NaN   \n",
       "4   201307        C2            1.0         6.MASIVO NaN  NaN         NaN   \n",
       "\n",
       "   DUDOSO  PERDIDA  DEUDA_HIINI      ...       SUMASEG  NRO_SINIESTROS  \\\n",
       "0     NaN      NaN          NaN      ...       14780.0             0.0   \n",
       "1     NaN      NaN          NaN      ...       14780.0             0.0   \n",
       "2     NaN      NaN          NaN      ...       14780.0             0.0   \n",
       "3     NaN      NaN          NaN      ...       14780.0             0.0   \n",
       "4     NaN      NaN          NaN      ...       14780.0             0.0   \n",
       "\n",
       "   MTO_SINIESTROS   FECHA_FIN  FECHA_INICIO         CUC  P_AUTO  \\\n",
       "0             0.0  2014-02-01    2013-03-01  4-33334660  G8T792   \n",
       "1             0.0  2014-02-01    2013-03-01  4-33334660  G8T792   \n",
       "2             0.0  2014-02-01    2013-03-01  4-33334660  G8T792   \n",
       "3             0.0  2014-02-01    2013-03-01  4-33334660  G8T792   \n",
       "4             0.0  2014-02-01    2013-03-01  4-33334660  G8T792   \n",
       "\n",
       "            ID_UNICO   ID_POLIZA  Flag_Bancari  \n",
       "0  4-33334660-G8T792  6307555641           0.0  \n",
       "1  4-33334660-G8T792  6307555641           0.0  \n",
       "2  4-33334660-G8T792  6307555641           0.0  \n",
       "3  4-33334660-G8T792  6307555641           0.0  \n",
       "4  4-33334660-G8T792  6307555641           0.0  \n",
       "\n",
       "[5 rows x 35 columns]"
      ]
     },
     "execution_count": 481,
     "metadata": {},
     "output_type": "execute_result"
    }
   ],
   "source": [
    "bd_vehiculos_new = pd.concat([bd_vehiculos_banca0, bd_vehiculos_banca1], axis=0)\n",
    "bd_vehiculos_new.head()"
   ]
  },
  {
   "cell_type": "code",
   "execution_count": 482,
   "metadata": {
    "collapsed": false
   },
   "outputs": [
    {
     "data": {
      "text/plain": [
       "1807616"
      ]
     },
     "execution_count": 482,
     "metadata": {},
     "output_type": "execute_result"
    }
   ],
   "source": [
    "len(bd_vehiculos_new)"
   ]
  },
  {
   "cell_type": "code",
   "execution_count": null,
   "metadata": {
    "collapsed": true
   },
   "outputs": [],
   "source": []
  },
  {
   "cell_type": "markdown",
   "metadata": {},
   "source": [
    "# Cruce de Datos"
   ]
  },
  {
   "cell_type": "markdown",
   "metadata": {},
   "source": [
    "## Vehiculos vs Clientes"
   ]
  },
  {
   "cell_type": "code",
   "execution_count": 483,
   "metadata": {
    "collapsed": false
   },
   "outputs": [
    {
     "data": {
      "text/plain": [
       "1807616"
      ]
     },
     "execution_count": 483,
     "metadata": {},
     "output_type": "execute_result"
    }
   ],
   "source": [
    "len(bd_vehiculos_new)"
   ]
  },
  {
   "cell_type": "code",
   "execution_count": 485,
   "metadata": {
    "collapsed": false
   },
   "outputs": [
    {
     "data": {
      "text/html": [
       "<div>\n",
       "<table border=\"1\" class=\"dataframe\">\n",
       "  <thead>\n",
       "    <tr style=\"text-align: right;\">\n",
       "      <th></th>\n",
       "      <th>PERIODO</th>\n",
       "      <th>NSE_RIMAC</th>\n",
       "      <th>NUM_PRODUCTOS</th>\n",
       "      <th>SEGMENTO_INTERNO</th>\n",
       "      <th>OK</th>\n",
       "      <th>CPP</th>\n",
       "      <th>DEFICIENTE</th>\n",
       "      <th>DUDOSO</th>\n",
       "      <th>PERDIDA</th>\n",
       "      <th>DEUDA_HIINI</th>\n",
       "      <th>...</th>\n",
       "      <th>CUC</th>\n",
       "      <th>P_AUTO</th>\n",
       "      <th>ID_UNICO</th>\n",
       "      <th>ID_POLIZA</th>\n",
       "      <th>Flag_Bancari</th>\n",
       "      <th>SEXO</th>\n",
       "      <th>FEC_NACIMIENTO</th>\n",
       "      <th>UBICACION</th>\n",
       "      <th>DEPARTAMENTO</th>\n",
       "      <th>UBIGEO</th>\n",
       "    </tr>\n",
       "  </thead>\n",
       "  <tbody>\n",
       "    <tr>\n",
       "      <th>0</th>\n",
       "      <td>201303</td>\n",
       "      <td>C2</td>\n",
       "      <td>1.0</td>\n",
       "      <td>6.MASIVO</td>\n",
       "      <td>NaN</td>\n",
       "      <td>NaN</td>\n",
       "      <td>NaN</td>\n",
       "      <td>NaN</td>\n",
       "      <td>NaN</td>\n",
       "      <td>NaN</td>\n",
       "      <td>...</td>\n",
       "      <td>4-33334660</td>\n",
       "      <td>G8T792</td>\n",
       "      <td>4-33334660-G8T792</td>\n",
       "      <td>6307555641</td>\n",
       "      <td>0.0</td>\n",
       "      <td>M</td>\n",
       "      <td>08/06/1960</td>\n",
       "      <td>LIMA CENTRO</td>\n",
       "      <td>LIMA</td>\n",
       "      <td>150101.0</td>\n",
       "    </tr>\n",
       "    <tr>\n",
       "      <th>1</th>\n",
       "      <td>201304</td>\n",
       "      <td>C2</td>\n",
       "      <td>1.0</td>\n",
       "      <td>6.MASIVO</td>\n",
       "      <td>NaN</td>\n",
       "      <td>NaN</td>\n",
       "      <td>NaN</td>\n",
       "      <td>NaN</td>\n",
       "      <td>NaN</td>\n",
       "      <td>NaN</td>\n",
       "      <td>...</td>\n",
       "      <td>4-33334660</td>\n",
       "      <td>G8T792</td>\n",
       "      <td>4-33334660-G8T792</td>\n",
       "      <td>6307555641</td>\n",
       "      <td>0.0</td>\n",
       "      <td>M</td>\n",
       "      <td>08/06/1960</td>\n",
       "      <td>LIMA CENTRO</td>\n",
       "      <td>LIMA</td>\n",
       "      <td>150101.0</td>\n",
       "    </tr>\n",
       "    <tr>\n",
       "      <th>2</th>\n",
       "      <td>201305</td>\n",
       "      <td>C2</td>\n",
       "      <td>1.0</td>\n",
       "      <td>6.MASIVO</td>\n",
       "      <td>NaN</td>\n",
       "      <td>NaN</td>\n",
       "      <td>NaN</td>\n",
       "      <td>NaN</td>\n",
       "      <td>NaN</td>\n",
       "      <td>NaN</td>\n",
       "      <td>...</td>\n",
       "      <td>4-33334660</td>\n",
       "      <td>G8T792</td>\n",
       "      <td>4-33334660-G8T792</td>\n",
       "      <td>6307555641</td>\n",
       "      <td>0.0</td>\n",
       "      <td>M</td>\n",
       "      <td>08/06/1960</td>\n",
       "      <td>LIMA CENTRO</td>\n",
       "      <td>LIMA</td>\n",
       "      <td>150101.0</td>\n",
       "    </tr>\n",
       "    <tr>\n",
       "      <th>3</th>\n",
       "      <td>201306</td>\n",
       "      <td>C2</td>\n",
       "      <td>1.0</td>\n",
       "      <td>6.MASIVO</td>\n",
       "      <td>NaN</td>\n",
       "      <td>NaN</td>\n",
       "      <td>NaN</td>\n",
       "      <td>NaN</td>\n",
       "      <td>NaN</td>\n",
       "      <td>NaN</td>\n",
       "      <td>...</td>\n",
       "      <td>4-33334660</td>\n",
       "      <td>G8T792</td>\n",
       "      <td>4-33334660-G8T792</td>\n",
       "      <td>6307555641</td>\n",
       "      <td>0.0</td>\n",
       "      <td>M</td>\n",
       "      <td>08/06/1960</td>\n",
       "      <td>LIMA CENTRO</td>\n",
       "      <td>LIMA</td>\n",
       "      <td>150101.0</td>\n",
       "    </tr>\n",
       "    <tr>\n",
       "      <th>4</th>\n",
       "      <td>201307</td>\n",
       "      <td>C2</td>\n",
       "      <td>1.0</td>\n",
       "      <td>6.MASIVO</td>\n",
       "      <td>NaN</td>\n",
       "      <td>NaN</td>\n",
       "      <td>NaN</td>\n",
       "      <td>NaN</td>\n",
       "      <td>NaN</td>\n",
       "      <td>NaN</td>\n",
       "      <td>...</td>\n",
       "      <td>4-33334660</td>\n",
       "      <td>G8T792</td>\n",
       "      <td>4-33334660-G8T792</td>\n",
       "      <td>6307555641</td>\n",
       "      <td>0.0</td>\n",
       "      <td>M</td>\n",
       "      <td>08/06/1960</td>\n",
       "      <td>LIMA CENTRO</td>\n",
       "      <td>LIMA</td>\n",
       "      <td>150101.0</td>\n",
       "    </tr>\n",
       "  </tbody>\n",
       "</table>\n",
       "<p>5 rows × 40 columns</p>\n",
       "</div>"
      ],
      "text/plain": [
       "   PERIODO NSE_RIMAC  NUM_PRODUCTOS SEGMENTO_INTERNO  OK  CPP  DEFICIENTE  \\\n",
       "0   201303        C2            1.0         6.MASIVO NaN  NaN         NaN   \n",
       "1   201304        C2            1.0         6.MASIVO NaN  NaN         NaN   \n",
       "2   201305        C2            1.0         6.MASIVO NaN  NaN         NaN   \n",
       "3   201306        C2            1.0         6.MASIVO NaN  NaN         NaN   \n",
       "4   201307        C2            1.0         6.MASIVO NaN  NaN         NaN   \n",
       "\n",
       "   DUDOSO  PERDIDA  DEUDA_HIINI    ...            CUC  P_AUTO  \\\n",
       "0     NaN      NaN          NaN    ...     4-33334660  G8T792   \n",
       "1     NaN      NaN          NaN    ...     4-33334660  G8T792   \n",
       "2     NaN      NaN          NaN    ...     4-33334660  G8T792   \n",
       "3     NaN      NaN          NaN    ...     4-33334660  G8T792   \n",
       "4     NaN      NaN          NaN    ...     4-33334660  G8T792   \n",
       "\n",
       "            ID_UNICO   ID_POLIZA  Flag_Bancari  SEXO  FEC_NACIMIENTO  \\\n",
       "0  4-33334660-G8T792  6307555641           0.0     M      08/06/1960   \n",
       "1  4-33334660-G8T792  6307555641           0.0     M      08/06/1960   \n",
       "2  4-33334660-G8T792  6307555641           0.0     M      08/06/1960   \n",
       "3  4-33334660-G8T792  6307555641           0.0     M      08/06/1960   \n",
       "4  4-33334660-G8T792  6307555641           0.0     M      08/06/1960   \n",
       "\n",
       "     UBICACION  DEPARTAMENTO    UBIGEO  \n",
       "0  LIMA CENTRO          LIMA  150101.0  \n",
       "1  LIMA CENTRO          LIMA  150101.0  \n",
       "2  LIMA CENTRO          LIMA  150101.0  \n",
       "3  LIMA CENTRO          LIMA  150101.0  \n",
       "4  LIMA CENTRO          LIMA  150101.0  \n",
       "\n",
       "[5 rows x 40 columns]"
      ]
     },
     "execution_count": 485,
     "metadata": {},
     "output_type": "execute_result"
    }
   ],
   "source": [
    "# Vehiculos vs Clientes\n",
    "dataset_temp = pd.merge(bd_vehiculos_new, bd_clientes, how=\"left\", on = \"CUC\")\n",
    "dataset_temp.head()"
   ]
  },
  {
   "cell_type": "code",
   "execution_count": 486,
   "metadata": {
    "collapsed": false
   },
   "outputs": [
    {
     "data": {
      "text/plain": [
       "1807616"
      ]
     },
     "execution_count": 486,
     "metadata": {},
     "output_type": "execute_result"
    }
   ],
   "source": [
    "len(dataset_temp)"
   ]
  },
  {
   "cell_type": "markdown",
   "metadata": {},
   "source": [
    "## Vehiculos vs Cobranzas"
   ]
  },
  {
   "cell_type": "code",
   "execution_count": 487,
   "metadata": {
    "collapsed": false
   },
   "outputs": [
    {
     "data": {
      "text/html": [
       "<div>\n",
       "<table border=\"1\" class=\"dataframe\">\n",
       "  <thead>\n",
       "    <tr style=\"text-align: right;\">\n",
       "      <th></th>\n",
       "      <th>PERIODO</th>\n",
       "      <th>NSE_RIMAC</th>\n",
       "      <th>NUM_PRODUCTOS</th>\n",
       "      <th>SEGMENTO_INTERNO</th>\n",
       "      <th>OK</th>\n",
       "      <th>CPP</th>\n",
       "      <th>DEFICIENTE</th>\n",
       "      <th>DUDOSO</th>\n",
       "      <th>PERDIDA</th>\n",
       "      <th>DEUDA_HIINI</th>\n",
       "      <th>...</th>\n",
       "      <th>ID_UNICO</th>\n",
       "      <th>ID_POLIZA</th>\n",
       "      <th>Flag_Bancari</th>\n",
       "      <th>SEXO</th>\n",
       "      <th>FEC_NACIMIENTO</th>\n",
       "      <th>UBICACION</th>\n",
       "      <th>DEPARTAMENTO</th>\n",
       "      <th>UBIGEO</th>\n",
       "      <th>NUM_FACTURAS</th>\n",
       "      <th>MONTO_DOLARES</th>\n",
       "    </tr>\n",
       "  </thead>\n",
       "  <tbody>\n",
       "    <tr>\n",
       "      <th>0</th>\n",
       "      <td>201303</td>\n",
       "      <td>C2</td>\n",
       "      <td>1.0</td>\n",
       "      <td>6.MASIVO</td>\n",
       "      <td>NaN</td>\n",
       "      <td>NaN</td>\n",
       "      <td>NaN</td>\n",
       "      <td>NaN</td>\n",
       "      <td>NaN</td>\n",
       "      <td>NaN</td>\n",
       "      <td>...</td>\n",
       "      <td>4-33334660-G8T792</td>\n",
       "      <td>6307555641</td>\n",
       "      <td>0.0</td>\n",
       "      <td>M</td>\n",
       "      <td>08/06/1960</td>\n",
       "      <td>LIMA CENTRO</td>\n",
       "      <td>LIMA</td>\n",
       "      <td>150101.0</td>\n",
       "      <td>NaN</td>\n",
       "      <td>NaN</td>\n",
       "    </tr>\n",
       "    <tr>\n",
       "      <th>1</th>\n",
       "      <td>201304</td>\n",
       "      <td>C2</td>\n",
       "      <td>1.0</td>\n",
       "      <td>6.MASIVO</td>\n",
       "      <td>NaN</td>\n",
       "      <td>NaN</td>\n",
       "      <td>NaN</td>\n",
       "      <td>NaN</td>\n",
       "      <td>NaN</td>\n",
       "      <td>NaN</td>\n",
       "      <td>...</td>\n",
       "      <td>4-33334660-G8T792</td>\n",
       "      <td>6307555641</td>\n",
       "      <td>0.0</td>\n",
       "      <td>M</td>\n",
       "      <td>08/06/1960</td>\n",
       "      <td>LIMA CENTRO</td>\n",
       "      <td>LIMA</td>\n",
       "      <td>150101.0</td>\n",
       "      <td>NaN</td>\n",
       "      <td>NaN</td>\n",
       "    </tr>\n",
       "    <tr>\n",
       "      <th>2</th>\n",
       "      <td>201305</td>\n",
       "      <td>C2</td>\n",
       "      <td>1.0</td>\n",
       "      <td>6.MASIVO</td>\n",
       "      <td>NaN</td>\n",
       "      <td>NaN</td>\n",
       "      <td>NaN</td>\n",
       "      <td>NaN</td>\n",
       "      <td>NaN</td>\n",
       "      <td>NaN</td>\n",
       "      <td>...</td>\n",
       "      <td>4-33334660-G8T792</td>\n",
       "      <td>6307555641</td>\n",
       "      <td>0.0</td>\n",
       "      <td>M</td>\n",
       "      <td>08/06/1960</td>\n",
       "      <td>LIMA CENTRO</td>\n",
       "      <td>LIMA</td>\n",
       "      <td>150101.0</td>\n",
       "      <td>NaN</td>\n",
       "      <td>NaN</td>\n",
       "    </tr>\n",
       "    <tr>\n",
       "      <th>3</th>\n",
       "      <td>201306</td>\n",
       "      <td>C2</td>\n",
       "      <td>1.0</td>\n",
       "      <td>6.MASIVO</td>\n",
       "      <td>NaN</td>\n",
       "      <td>NaN</td>\n",
       "      <td>NaN</td>\n",
       "      <td>NaN</td>\n",
       "      <td>NaN</td>\n",
       "      <td>NaN</td>\n",
       "      <td>...</td>\n",
       "      <td>4-33334660-G8T792</td>\n",
       "      <td>6307555641</td>\n",
       "      <td>0.0</td>\n",
       "      <td>M</td>\n",
       "      <td>08/06/1960</td>\n",
       "      <td>LIMA CENTRO</td>\n",
       "      <td>LIMA</td>\n",
       "      <td>150101.0</td>\n",
       "      <td>NaN</td>\n",
       "      <td>NaN</td>\n",
       "    </tr>\n",
       "    <tr>\n",
       "      <th>4</th>\n",
       "      <td>201307</td>\n",
       "      <td>C2</td>\n",
       "      <td>1.0</td>\n",
       "      <td>6.MASIVO</td>\n",
       "      <td>NaN</td>\n",
       "      <td>NaN</td>\n",
       "      <td>NaN</td>\n",
       "      <td>NaN</td>\n",
       "      <td>NaN</td>\n",
       "      <td>NaN</td>\n",
       "      <td>...</td>\n",
       "      <td>4-33334660-G8T792</td>\n",
       "      <td>6307555641</td>\n",
       "      <td>0.0</td>\n",
       "      <td>M</td>\n",
       "      <td>08/06/1960</td>\n",
       "      <td>LIMA CENTRO</td>\n",
       "      <td>LIMA</td>\n",
       "      <td>150101.0</td>\n",
       "      <td>NaN</td>\n",
       "      <td>NaN</td>\n",
       "    </tr>\n",
       "  </tbody>\n",
       "</table>\n",
       "<p>5 rows × 42 columns</p>\n",
       "</div>"
      ],
      "text/plain": [
       "   PERIODO NSE_RIMAC  NUM_PRODUCTOS SEGMENTO_INTERNO  OK  CPP  DEFICIENTE  \\\n",
       "0   201303        C2            1.0         6.MASIVO NaN  NaN         NaN   \n",
       "1   201304        C2            1.0         6.MASIVO NaN  NaN         NaN   \n",
       "2   201305        C2            1.0         6.MASIVO NaN  NaN         NaN   \n",
       "3   201306        C2            1.0         6.MASIVO NaN  NaN         NaN   \n",
       "4   201307        C2            1.0         6.MASIVO NaN  NaN         NaN   \n",
       "\n",
       "   DUDOSO  PERDIDA  DEUDA_HIINI      ...                 ID_UNICO   ID_POLIZA  \\\n",
       "0     NaN      NaN          NaN      ...        4-33334660-G8T792  6307555641   \n",
       "1     NaN      NaN          NaN      ...        4-33334660-G8T792  6307555641   \n",
       "2     NaN      NaN          NaN      ...        4-33334660-G8T792  6307555641   \n",
       "3     NaN      NaN          NaN      ...        4-33334660-G8T792  6307555641   \n",
       "4     NaN      NaN          NaN      ...        4-33334660-G8T792  6307555641   \n",
       "\n",
       "   Flag_Bancari  SEXO  FEC_NACIMIENTO    UBICACION  DEPARTAMENTO    UBIGEO  \\\n",
       "0           0.0     M      08/06/1960  LIMA CENTRO          LIMA  150101.0   \n",
       "1           0.0     M      08/06/1960  LIMA CENTRO          LIMA  150101.0   \n",
       "2           0.0     M      08/06/1960  LIMA CENTRO          LIMA  150101.0   \n",
       "3           0.0     M      08/06/1960  LIMA CENTRO          LIMA  150101.0   \n",
       "4           0.0     M      08/06/1960  LIMA CENTRO          LIMA  150101.0   \n",
       "\n",
       "   NUM_FACTURAS  MONTO_DOLARES  \n",
       "0           NaN            NaN  \n",
       "1           NaN            NaN  \n",
       "2           NaN            NaN  \n",
       "3           NaN            NaN  \n",
       "4           NaN            NaN  \n",
       "\n",
       "[5 rows x 42 columns]"
      ]
     },
     "execution_count": 487,
     "metadata": {},
     "output_type": "execute_result"
    }
   ],
   "source": [
    "# Vehiculos vs Cobranzas\n",
    "dataset_temp1 = pd.merge(dataset_temp, bd_cobranzas, how=\"left\", on = [\"CUC\",\"P_AUTO\",\"PERIODO\"])\n",
    "dataset_temp1.head()"
   ]
  },
  {
   "cell_type": "code",
   "execution_count": 488,
   "metadata": {
    "collapsed": false
   },
   "outputs": [
    {
     "data": {
      "text/plain": [
       "PERIODO                    0\n",
       "NSE_RIMAC                  0\n",
       "NUM_PRODUCTOS              0\n",
       "SEGMENTO_INTERNO           0\n",
       "OK                    183081\n",
       "CPP                   183081\n",
       "DEFICIENTE            183081\n",
       "DUDOSO                183081\n",
       "PERDIDA               183081\n",
       "DEUDA_HIINI           183081\n",
       "SALDO_SBS             183081\n",
       "SALDO_TC_SBS          183081\n",
       "SALDO_VEH_SBS         183081\n",
       "SALDO_HIP_SBS         183081\n",
       "SALDO_PP_SBS          183081\n",
       "SALDO_MICRO_SBS       183081\n",
       "SALDO_PEQUENA_SBS     183081\n",
       "SALDO_OTROS           183081\n",
       "PRIMA_TOTAL                0\n",
       "PRIMA                      0\n",
       "CANALDES                   0\n",
       "CLASEVEHDES                0\n",
       "MARCAVEHDES                0\n",
       "USOVEHDES                  0\n",
       "ANOFABRIC                  0\n",
       "SUMASEG                    0\n",
       "NRO_SINIESTROS             0\n",
       "MTO_SINIESTROS             0\n",
       "FECHA_FIN                  0\n",
       "FECHA_INICIO               0\n",
       "CUC                        0\n",
       "P_AUTO                     0\n",
       "ID_UNICO                   0\n",
       "ID_POLIZA                  0\n",
       "Flag_Bancari               0\n",
       "SEXO                    1786\n",
       "FEC_NACIMIENTO          1786\n",
       "UBICACION               1786\n",
       "DEPARTAMENTO            1786\n",
       "UBIGEO                  1786\n",
       "NUM_FACTURAS         1479485\n",
       "MONTO_DOLARES        1479485\n",
       "dtype: int64"
      ]
     },
     "execution_count": 488,
     "metadata": {},
     "output_type": "execute_result"
    }
   ],
   "source": [
    "dataset_temp1.isnull().sum()"
   ]
  },
  {
   "cell_type": "code",
   "execution_count": 489,
   "metadata": {
    "collapsed": false
   },
   "outputs": [
    {
     "data": {
      "text/plain": [
       "1807616"
      ]
     },
     "execution_count": 489,
     "metadata": {},
     "output_type": "execute_result"
    }
   ],
   "source": [
    "len(dataset_temp1)"
   ]
  },
  {
   "cell_type": "markdown",
   "metadata": {},
   "source": [
    "## Vehiculos vs Interac_veh"
   ]
  },
  {
   "cell_type": "code",
   "execution_count": 490,
   "metadata": {
    "collapsed": false
   },
   "outputs": [
    {
     "data": {
      "text/html": [
       "<div>\n",
       "<table border=\"1\" class=\"dataframe\">\n",
       "  <thead>\n",
       "    <tr style=\"text-align: right;\">\n",
       "      <th></th>\n",
       "      <th>PERIODO</th>\n",
       "      <th>NSE_RIMAC</th>\n",
       "      <th>NUM_PRODUCTOS</th>\n",
       "      <th>SEGMENTO_INTERNO</th>\n",
       "      <th>OK</th>\n",
       "      <th>CPP</th>\n",
       "      <th>DEFICIENTE</th>\n",
       "      <th>DUDOSO</th>\n",
       "      <th>PERDIDA</th>\n",
       "      <th>DEUDA_HIINI</th>\n",
       "      <th>...</th>\n",
       "      <th>TIPCASO.RN_DESCRIPTOR_VEH_Disconformidades</th>\n",
       "      <th>TIPCASO.RN_DESCRIPTOR_VEH_Emergencia</th>\n",
       "      <th>TIPCASO.RN_DESCRIPTOR_VEH_Fidelizacion</th>\n",
       "      <th>TIPCASO.RN_DESCRIPTOR_VEH_Operacion</th>\n",
       "      <th>TIPCASO.RN_DESCRIPTOR_VEH_Operaciones</th>\n",
       "      <th>TIPCASO.RN_DESCRIPTOR_VEH_Reclamo</th>\n",
       "      <th>TIPCASO.RN_DESCRIPTOR_VEH_Relacionamiento</th>\n",
       "      <th>TIPCASO.RN_DESCRIPTOR_VEH_Requerimientos</th>\n",
       "      <th>TIPCASO.RN_DESCRIPTOR_VEH_Solicitud</th>\n",
       "      <th>TIPCASO.RN_DESCRIPTOR_VEH_Sugerencias</th>\n",
       "    </tr>\n",
       "  </thead>\n",
       "  <tbody>\n",
       "    <tr>\n",
       "      <th>0</th>\n",
       "      <td>201303</td>\n",
       "      <td>C2</td>\n",
       "      <td>1.0</td>\n",
       "      <td>6.MASIVO</td>\n",
       "      <td>NaN</td>\n",
       "      <td>NaN</td>\n",
       "      <td>NaN</td>\n",
       "      <td>NaN</td>\n",
       "      <td>NaN</td>\n",
       "      <td>NaN</td>\n",
       "      <td>...</td>\n",
       "      <td>NaN</td>\n",
       "      <td>NaN</td>\n",
       "      <td>NaN</td>\n",
       "      <td>NaN</td>\n",
       "      <td>NaN</td>\n",
       "      <td>NaN</td>\n",
       "      <td>NaN</td>\n",
       "      <td>NaN</td>\n",
       "      <td>NaN</td>\n",
       "      <td>NaN</td>\n",
       "    </tr>\n",
       "    <tr>\n",
       "      <th>1</th>\n",
       "      <td>201304</td>\n",
       "      <td>C2</td>\n",
       "      <td>1.0</td>\n",
       "      <td>6.MASIVO</td>\n",
       "      <td>NaN</td>\n",
       "      <td>NaN</td>\n",
       "      <td>NaN</td>\n",
       "      <td>NaN</td>\n",
       "      <td>NaN</td>\n",
       "      <td>NaN</td>\n",
       "      <td>...</td>\n",
       "      <td>NaN</td>\n",
       "      <td>NaN</td>\n",
       "      <td>NaN</td>\n",
       "      <td>NaN</td>\n",
       "      <td>NaN</td>\n",
       "      <td>NaN</td>\n",
       "      <td>NaN</td>\n",
       "      <td>NaN</td>\n",
       "      <td>NaN</td>\n",
       "      <td>NaN</td>\n",
       "    </tr>\n",
       "    <tr>\n",
       "      <th>2</th>\n",
       "      <td>201305</td>\n",
       "      <td>C2</td>\n",
       "      <td>1.0</td>\n",
       "      <td>6.MASIVO</td>\n",
       "      <td>NaN</td>\n",
       "      <td>NaN</td>\n",
       "      <td>NaN</td>\n",
       "      <td>NaN</td>\n",
       "      <td>NaN</td>\n",
       "      <td>NaN</td>\n",
       "      <td>...</td>\n",
       "      <td>NaN</td>\n",
       "      <td>NaN</td>\n",
       "      <td>NaN</td>\n",
       "      <td>NaN</td>\n",
       "      <td>NaN</td>\n",
       "      <td>NaN</td>\n",
       "      <td>NaN</td>\n",
       "      <td>NaN</td>\n",
       "      <td>NaN</td>\n",
       "      <td>NaN</td>\n",
       "    </tr>\n",
       "    <tr>\n",
       "      <th>3</th>\n",
       "      <td>201306</td>\n",
       "      <td>C2</td>\n",
       "      <td>1.0</td>\n",
       "      <td>6.MASIVO</td>\n",
       "      <td>NaN</td>\n",
       "      <td>NaN</td>\n",
       "      <td>NaN</td>\n",
       "      <td>NaN</td>\n",
       "      <td>NaN</td>\n",
       "      <td>NaN</td>\n",
       "      <td>...</td>\n",
       "      <td>NaN</td>\n",
       "      <td>NaN</td>\n",
       "      <td>NaN</td>\n",
       "      <td>NaN</td>\n",
       "      <td>NaN</td>\n",
       "      <td>NaN</td>\n",
       "      <td>NaN</td>\n",
       "      <td>NaN</td>\n",
       "      <td>NaN</td>\n",
       "      <td>NaN</td>\n",
       "    </tr>\n",
       "    <tr>\n",
       "      <th>4</th>\n",
       "      <td>201307</td>\n",
       "      <td>C2</td>\n",
       "      <td>1.0</td>\n",
       "      <td>6.MASIVO</td>\n",
       "      <td>NaN</td>\n",
       "      <td>NaN</td>\n",
       "      <td>NaN</td>\n",
       "      <td>NaN</td>\n",
       "      <td>NaN</td>\n",
       "      <td>NaN</td>\n",
       "      <td>...</td>\n",
       "      <td>NaN</td>\n",
       "      <td>NaN</td>\n",
       "      <td>NaN</td>\n",
       "      <td>NaN</td>\n",
       "      <td>NaN</td>\n",
       "      <td>NaN</td>\n",
       "      <td>NaN</td>\n",
       "      <td>NaN</td>\n",
       "      <td>NaN</td>\n",
       "      <td>NaN</td>\n",
       "    </tr>\n",
       "  </tbody>\n",
       "</table>\n",
       "<p>5 rows × 54 columns</p>\n",
       "</div>"
      ],
      "text/plain": [
       "   PERIODO NSE_RIMAC  NUM_PRODUCTOS SEGMENTO_INTERNO  OK  CPP  DEFICIENTE  \\\n",
       "0   201303        C2            1.0         6.MASIVO NaN  NaN         NaN   \n",
       "1   201304        C2            1.0         6.MASIVO NaN  NaN         NaN   \n",
       "2   201305        C2            1.0         6.MASIVO NaN  NaN         NaN   \n",
       "3   201306        C2            1.0         6.MASIVO NaN  NaN         NaN   \n",
       "4   201307        C2            1.0         6.MASIVO NaN  NaN         NaN   \n",
       "\n",
       "   DUDOSO  PERDIDA  DEUDA_HIINI                  ...                    \\\n",
       "0     NaN      NaN          NaN                  ...                     \n",
       "1     NaN      NaN          NaN                  ...                     \n",
       "2     NaN      NaN          NaN                  ...                     \n",
       "3     NaN      NaN          NaN                  ...                     \n",
       "4     NaN      NaN          NaN                  ...                     \n",
       "\n",
       "   TIPCASO.RN_DESCRIPTOR_VEH_Disconformidades  \\\n",
       "0                                         NaN   \n",
       "1                                         NaN   \n",
       "2                                         NaN   \n",
       "3                                         NaN   \n",
       "4                                         NaN   \n",
       "\n",
       "   TIPCASO.RN_DESCRIPTOR_VEH_Emergencia  \\\n",
       "0                                   NaN   \n",
       "1                                   NaN   \n",
       "2                                   NaN   \n",
       "3                                   NaN   \n",
       "4                                   NaN   \n",
       "\n",
       "   TIPCASO.RN_DESCRIPTOR_VEH_Fidelizacion  \\\n",
       "0                                     NaN   \n",
       "1                                     NaN   \n",
       "2                                     NaN   \n",
       "3                                     NaN   \n",
       "4                                     NaN   \n",
       "\n",
       "   TIPCASO.RN_DESCRIPTOR_VEH_Operacion  TIPCASO.RN_DESCRIPTOR_VEH_Operaciones  \\\n",
       "0                                  NaN                                    NaN   \n",
       "1                                  NaN                                    NaN   \n",
       "2                                  NaN                                    NaN   \n",
       "3                                  NaN                                    NaN   \n",
       "4                                  NaN                                    NaN   \n",
       "\n",
       "   TIPCASO.RN_DESCRIPTOR_VEH_Reclamo  \\\n",
       "0                                NaN   \n",
       "1                                NaN   \n",
       "2                                NaN   \n",
       "3                                NaN   \n",
       "4                                NaN   \n",
       "\n",
       "   TIPCASO.RN_DESCRIPTOR_VEH_Relacionamiento  \\\n",
       "0                                        NaN   \n",
       "1                                        NaN   \n",
       "2                                        NaN   \n",
       "3                                        NaN   \n",
       "4                                        NaN   \n",
       "\n",
       "   TIPCASO.RN_DESCRIPTOR_VEH_Requerimientos  \\\n",
       "0                                       NaN   \n",
       "1                                       NaN   \n",
       "2                                       NaN   \n",
       "3                                       NaN   \n",
       "4                                       NaN   \n",
       "\n",
       "   TIPCASO.RN_DESCRIPTOR_VEH_Solicitud  TIPCASO.RN_DESCRIPTOR_VEH_Sugerencias  \n",
       "0                                  NaN                                    NaN  \n",
       "1                                  NaN                                    NaN  \n",
       "2                                  NaN                                    NaN  \n",
       "3                                  NaN                                    NaN  \n",
       "4                                  NaN                                    NaN  \n",
       "\n",
       "[5 rows x 54 columns]"
      ]
     },
     "execution_count": 490,
     "metadata": {},
     "output_type": "execute_result"
    }
   ],
   "source": [
    "# Vehiculos\n",
    "dataset_temp2 = pd.merge(dataset_temp1, bd_interac_veh_t, how=\"left\", on = [\"CUC\",\"PERIODO\"])\n",
    "dataset_temp2.head()"
   ]
  },
  {
   "cell_type": "code",
   "execution_count": 491,
   "metadata": {
    "collapsed": false
   },
   "outputs": [
    {
     "data": {
      "text/plain": [
       "PERIODO                                             0\n",
       "NSE_RIMAC                                           0\n",
       "NUM_PRODUCTOS                                       0\n",
       "SEGMENTO_INTERNO                                    0\n",
       "OK                                             183081\n",
       "CPP                                            183081\n",
       "DEFICIENTE                                     183081\n",
       "DUDOSO                                         183081\n",
       "PERDIDA                                        183081\n",
       "DEUDA_HIINI                                    183081\n",
       "SALDO_SBS                                      183081\n",
       "SALDO_TC_SBS                                   183081\n",
       "SALDO_VEH_SBS                                  183081\n",
       "SALDO_HIP_SBS                                  183081\n",
       "SALDO_PP_SBS                                   183081\n",
       "SALDO_MICRO_SBS                                183081\n",
       "SALDO_PEQUENA_SBS                              183081\n",
       "SALDO_OTROS                                    183081\n",
       "PRIMA_TOTAL                                         0\n",
       "PRIMA                                               0\n",
       "CANALDES                                            0\n",
       "CLASEVEHDES                                         0\n",
       "MARCAVEHDES                                         0\n",
       "USOVEHDES                                           0\n",
       "ANOFABRIC                                           0\n",
       "SUMASEG                                             0\n",
       "NRO_SINIESTROS                                      0\n",
       "MTO_SINIESTROS                                      0\n",
       "FECHA_FIN                                           0\n",
       "FECHA_INICIO                                        0\n",
       "CUC                                                 0\n",
       "P_AUTO                                              0\n",
       "ID_UNICO                                            0\n",
       "ID_POLIZA                                           0\n",
       "Flag_Bancari                                        0\n",
       "SEXO                                             1786\n",
       "FEC_NACIMIENTO                                   1786\n",
       "UBICACION                                        1786\n",
       "DEPARTAMENTO                                     1786\n",
       "UBIGEO                                           1786\n",
       "NUM_FACTURAS                                  1479485\n",
       "MONTO_DOLARES                                 1479485\n",
       "TIPCASO.RN_DESCRIPTOR_VEH_Atenciones          1520993\n",
       "TIPCASO.RN_DESCRIPTOR_VEH_Consulta            1520993\n",
       "TIPCASO.RN_DESCRIPTOR_VEH_Disconformidades    1520993\n",
       "TIPCASO.RN_DESCRIPTOR_VEH_Emergencia          1520993\n",
       "TIPCASO.RN_DESCRIPTOR_VEH_Fidelizacion        1520993\n",
       "TIPCASO.RN_DESCRIPTOR_VEH_Operacion           1520993\n",
       "TIPCASO.RN_DESCRIPTOR_VEH_Operaciones         1520993\n",
       "TIPCASO.RN_DESCRIPTOR_VEH_Reclamo             1520993\n",
       "TIPCASO.RN_DESCRIPTOR_VEH_Relacionamiento     1520993\n",
       "TIPCASO.RN_DESCRIPTOR_VEH_Requerimientos      1520993\n",
       "TIPCASO.RN_DESCRIPTOR_VEH_Solicitud           1520993\n",
       "TIPCASO.RN_DESCRIPTOR_VEH_Sugerencias         1520993\n",
       "dtype: int64"
      ]
     },
     "execution_count": 491,
     "metadata": {},
     "output_type": "execute_result"
    }
   ],
   "source": [
    "dataset_temp2.isnull().sum()"
   ]
  },
  {
   "cell_type": "code",
   "execution_count": 492,
   "metadata": {
    "collapsed": false
   },
   "outputs": [
    {
     "data": {
      "text/plain": [
       "1807616"
      ]
     },
     "execution_count": 492,
     "metadata": {},
     "output_type": "execute_result"
    }
   ],
   "source": [
    "len(dataset_temp2)"
   ]
  },
  {
   "cell_type": "markdown",
   "metadata": {},
   "source": [
    "## Vehiculos vs Interac_noveh"
   ]
  },
  {
   "cell_type": "code",
   "execution_count": 493,
   "metadata": {
    "collapsed": false
   },
   "outputs": [
    {
     "data": {
      "text/html": [
       "<div>\n",
       "<table border=\"1\" class=\"dataframe\">\n",
       "  <thead>\n",
       "    <tr style=\"text-align: right;\">\n",
       "      <th></th>\n",
       "      <th>PERIODO</th>\n",
       "      <th>NSE_RIMAC</th>\n",
       "      <th>NUM_PRODUCTOS</th>\n",
       "      <th>SEGMENTO_INTERNO</th>\n",
       "      <th>OK</th>\n",
       "      <th>CPP</th>\n",
       "      <th>DEFICIENTE</th>\n",
       "      <th>DUDOSO</th>\n",
       "      <th>PERDIDA</th>\n",
       "      <th>DEUDA_HIINI</th>\n",
       "      <th>...</th>\n",
       "      <th>TIPCASO.RN_DESCRIPTOR_noveh_Disconformidades</th>\n",
       "      <th>TIPCASO.RN_DESCRIPTOR_noveh_Emergencia</th>\n",
       "      <th>TIPCASO.RN_DESCRIPTOR_noveh_Fidelizacion</th>\n",
       "      <th>TIPCASO.RN_DESCRIPTOR_noveh_Operacion</th>\n",
       "      <th>TIPCASO.RN_DESCRIPTOR_noveh_Operaciones</th>\n",
       "      <th>TIPCASO.RN_DESCRIPTOR_noveh_Reclamo</th>\n",
       "      <th>TIPCASO.RN_DESCRIPTOR_noveh_Relacionamiento</th>\n",
       "      <th>TIPCASO.RN_DESCRIPTOR_noveh_Requerimientos</th>\n",
       "      <th>TIPCASO.RN_DESCRIPTOR_noveh_Solicitud</th>\n",
       "      <th>TIPCASO.RN_DESCRIPTOR_noveh_Sugerencias</th>\n",
       "    </tr>\n",
       "  </thead>\n",
       "  <tbody>\n",
       "    <tr>\n",
       "      <th>0</th>\n",
       "      <td>201303</td>\n",
       "      <td>C2</td>\n",
       "      <td>1.0</td>\n",
       "      <td>6.MASIVO</td>\n",
       "      <td>NaN</td>\n",
       "      <td>NaN</td>\n",
       "      <td>NaN</td>\n",
       "      <td>NaN</td>\n",
       "      <td>NaN</td>\n",
       "      <td>NaN</td>\n",
       "      <td>...</td>\n",
       "      <td>NaN</td>\n",
       "      <td>NaN</td>\n",
       "      <td>NaN</td>\n",
       "      <td>NaN</td>\n",
       "      <td>NaN</td>\n",
       "      <td>NaN</td>\n",
       "      <td>NaN</td>\n",
       "      <td>NaN</td>\n",
       "      <td>NaN</td>\n",
       "      <td>NaN</td>\n",
       "    </tr>\n",
       "    <tr>\n",
       "      <th>1</th>\n",
       "      <td>201304</td>\n",
       "      <td>C2</td>\n",
       "      <td>1.0</td>\n",
       "      <td>6.MASIVO</td>\n",
       "      <td>NaN</td>\n",
       "      <td>NaN</td>\n",
       "      <td>NaN</td>\n",
       "      <td>NaN</td>\n",
       "      <td>NaN</td>\n",
       "      <td>NaN</td>\n",
       "      <td>...</td>\n",
       "      <td>NaN</td>\n",
       "      <td>NaN</td>\n",
       "      <td>NaN</td>\n",
       "      <td>NaN</td>\n",
       "      <td>NaN</td>\n",
       "      <td>NaN</td>\n",
       "      <td>NaN</td>\n",
       "      <td>NaN</td>\n",
       "      <td>NaN</td>\n",
       "      <td>NaN</td>\n",
       "    </tr>\n",
       "    <tr>\n",
       "      <th>2</th>\n",
       "      <td>201305</td>\n",
       "      <td>C2</td>\n",
       "      <td>1.0</td>\n",
       "      <td>6.MASIVO</td>\n",
       "      <td>NaN</td>\n",
       "      <td>NaN</td>\n",
       "      <td>NaN</td>\n",
       "      <td>NaN</td>\n",
       "      <td>NaN</td>\n",
       "      <td>NaN</td>\n",
       "      <td>...</td>\n",
       "      <td>NaN</td>\n",
       "      <td>NaN</td>\n",
       "      <td>NaN</td>\n",
       "      <td>NaN</td>\n",
       "      <td>NaN</td>\n",
       "      <td>NaN</td>\n",
       "      <td>NaN</td>\n",
       "      <td>NaN</td>\n",
       "      <td>NaN</td>\n",
       "      <td>NaN</td>\n",
       "    </tr>\n",
       "    <tr>\n",
       "      <th>3</th>\n",
       "      <td>201306</td>\n",
       "      <td>C2</td>\n",
       "      <td>1.0</td>\n",
       "      <td>6.MASIVO</td>\n",
       "      <td>NaN</td>\n",
       "      <td>NaN</td>\n",
       "      <td>NaN</td>\n",
       "      <td>NaN</td>\n",
       "      <td>NaN</td>\n",
       "      <td>NaN</td>\n",
       "      <td>...</td>\n",
       "      <td>NaN</td>\n",
       "      <td>NaN</td>\n",
       "      <td>NaN</td>\n",
       "      <td>NaN</td>\n",
       "      <td>NaN</td>\n",
       "      <td>NaN</td>\n",
       "      <td>NaN</td>\n",
       "      <td>NaN</td>\n",
       "      <td>NaN</td>\n",
       "      <td>NaN</td>\n",
       "    </tr>\n",
       "    <tr>\n",
       "      <th>4</th>\n",
       "      <td>201307</td>\n",
       "      <td>C2</td>\n",
       "      <td>1.0</td>\n",
       "      <td>6.MASIVO</td>\n",
       "      <td>NaN</td>\n",
       "      <td>NaN</td>\n",
       "      <td>NaN</td>\n",
       "      <td>NaN</td>\n",
       "      <td>NaN</td>\n",
       "      <td>NaN</td>\n",
       "      <td>...</td>\n",
       "      <td>NaN</td>\n",
       "      <td>NaN</td>\n",
       "      <td>NaN</td>\n",
       "      <td>NaN</td>\n",
       "      <td>NaN</td>\n",
       "      <td>NaN</td>\n",
       "      <td>NaN</td>\n",
       "      <td>NaN</td>\n",
       "      <td>NaN</td>\n",
       "      <td>NaN</td>\n",
       "    </tr>\n",
       "  </tbody>\n",
       "</table>\n",
       "<p>5 rows × 66 columns</p>\n",
       "</div>"
      ],
      "text/plain": [
       "   PERIODO NSE_RIMAC  NUM_PRODUCTOS SEGMENTO_INTERNO  OK  CPP  DEFICIENTE  \\\n",
       "0   201303        C2            1.0         6.MASIVO NaN  NaN         NaN   \n",
       "1   201304        C2            1.0         6.MASIVO NaN  NaN         NaN   \n",
       "2   201305        C2            1.0         6.MASIVO NaN  NaN         NaN   \n",
       "3   201306        C2            1.0         6.MASIVO NaN  NaN         NaN   \n",
       "4   201307        C2            1.0         6.MASIVO NaN  NaN         NaN   \n",
       "\n",
       "   DUDOSO  PERDIDA  DEUDA_HIINI                   ...                     \\\n",
       "0     NaN      NaN          NaN                   ...                      \n",
       "1     NaN      NaN          NaN                   ...                      \n",
       "2     NaN      NaN          NaN                   ...                      \n",
       "3     NaN      NaN          NaN                   ...                      \n",
       "4     NaN      NaN          NaN                   ...                      \n",
       "\n",
       "   TIPCASO.RN_DESCRIPTOR_noveh_Disconformidades  \\\n",
       "0                                           NaN   \n",
       "1                                           NaN   \n",
       "2                                           NaN   \n",
       "3                                           NaN   \n",
       "4                                           NaN   \n",
       "\n",
       "   TIPCASO.RN_DESCRIPTOR_noveh_Emergencia  \\\n",
       "0                                     NaN   \n",
       "1                                     NaN   \n",
       "2                                     NaN   \n",
       "3                                     NaN   \n",
       "4                                     NaN   \n",
       "\n",
       "   TIPCASO.RN_DESCRIPTOR_noveh_Fidelizacion  \\\n",
       "0                                       NaN   \n",
       "1                                       NaN   \n",
       "2                                       NaN   \n",
       "3                                       NaN   \n",
       "4                                       NaN   \n",
       "\n",
       "   TIPCASO.RN_DESCRIPTOR_noveh_Operacion  \\\n",
       "0                                    NaN   \n",
       "1                                    NaN   \n",
       "2                                    NaN   \n",
       "3                                    NaN   \n",
       "4                                    NaN   \n",
       "\n",
       "   TIPCASO.RN_DESCRIPTOR_noveh_Operaciones  \\\n",
       "0                                      NaN   \n",
       "1                                      NaN   \n",
       "2                                      NaN   \n",
       "3                                      NaN   \n",
       "4                                      NaN   \n",
       "\n",
       "   TIPCASO.RN_DESCRIPTOR_noveh_Reclamo  \\\n",
       "0                                  NaN   \n",
       "1                                  NaN   \n",
       "2                                  NaN   \n",
       "3                                  NaN   \n",
       "4                                  NaN   \n",
       "\n",
       "   TIPCASO.RN_DESCRIPTOR_noveh_Relacionamiento  \\\n",
       "0                                          NaN   \n",
       "1                                          NaN   \n",
       "2                                          NaN   \n",
       "3                                          NaN   \n",
       "4                                          NaN   \n",
       "\n",
       "   TIPCASO.RN_DESCRIPTOR_noveh_Requerimientos  \\\n",
       "0                                         NaN   \n",
       "1                                         NaN   \n",
       "2                                         NaN   \n",
       "3                                         NaN   \n",
       "4                                         NaN   \n",
       "\n",
       "   TIPCASO.RN_DESCRIPTOR_noveh_Solicitud  \\\n",
       "0                                    NaN   \n",
       "1                                    NaN   \n",
       "2                                    NaN   \n",
       "3                                    NaN   \n",
       "4                                    NaN   \n",
       "\n",
       "   TIPCASO.RN_DESCRIPTOR_noveh_Sugerencias  \n",
       "0                                      NaN  \n",
       "1                                      NaN  \n",
       "2                                      NaN  \n",
       "3                                      NaN  \n",
       "4                                      NaN  \n",
       "\n",
       "[5 rows x 66 columns]"
      ]
     },
     "execution_count": 493,
     "metadata": {},
     "output_type": "execute_result"
    }
   ],
   "source": [
    "# Vehiculos\n",
    "dataset = pd.merge(dataset_temp2, bd_interac_noveh_t, how=\"left\", on = [\"CUC\",\"PERIODO\"])\n",
    "dataset.head()"
   ]
  },
  {
   "cell_type": "code",
   "execution_count": 496,
   "metadata": {
    "collapsed": false
   },
   "outputs": [
    {
     "data": {
      "text/plain": [
       "1807616"
      ]
     },
     "execution_count": 496,
     "metadata": {},
     "output_type": "execute_result"
    }
   ],
   "source": [
    "len(dataset)"
   ]
  },
  {
   "cell_type": "code",
   "execution_count": 498,
   "metadata": {
    "collapsed": false
   },
   "outputs": [
    {
     "data": {
      "text/plain": [
       "PERIODO                                               0\n",
       "NSE_RIMAC                                             0\n",
       "NUM_PRODUCTOS                                         0\n",
       "SEGMENTO_INTERNO                                      0\n",
       "OK                                               183081\n",
       "CPP                                              183081\n",
       "DEFICIENTE                                       183081\n",
       "DUDOSO                                           183081\n",
       "PERDIDA                                          183081\n",
       "DEUDA_HIINI                                      183081\n",
       "SALDO_SBS                                        183081\n",
       "SALDO_TC_SBS                                     183081\n",
       "SALDO_VEH_SBS                                    183081\n",
       "SALDO_HIP_SBS                                    183081\n",
       "SALDO_PP_SBS                                     183081\n",
       "SALDO_MICRO_SBS                                  183081\n",
       "SALDO_PEQUENA_SBS                                183081\n",
       "SALDO_OTROS                                      183081\n",
       "PRIMA_TOTAL                                           0\n",
       "PRIMA                                                 0\n",
       "CANALDES                                              0\n",
       "CLASEVEHDES                                           0\n",
       "MARCAVEHDES                                           0\n",
       "USOVEHDES                                             0\n",
       "ANOFABRIC                                             0\n",
       "SUMASEG                                               0\n",
       "NRO_SINIESTROS                                        0\n",
       "MTO_SINIESTROS                                        0\n",
       "FECHA_FIN                                             0\n",
       "FECHA_INICIO                                          0\n",
       "                                                 ...   \n",
       "FEC_NACIMIENTO                                     1786\n",
       "UBICACION                                          1786\n",
       "DEPARTAMENTO                                       1786\n",
       "UBIGEO                                             1786\n",
       "NUM_FACTURAS                                    1479485\n",
       "MONTO_DOLARES                                   1479485\n",
       "TIPCASO.RN_DESCRIPTOR_VEH_Atenciones            1520993\n",
       "TIPCASO.RN_DESCRIPTOR_VEH_Consulta              1520993\n",
       "TIPCASO.RN_DESCRIPTOR_VEH_Disconformidades      1520993\n",
       "TIPCASO.RN_DESCRIPTOR_VEH_Emergencia            1520993\n",
       "TIPCASO.RN_DESCRIPTOR_VEH_Fidelizacion          1520993\n",
       "TIPCASO.RN_DESCRIPTOR_VEH_Operacion             1520993\n",
       "TIPCASO.RN_DESCRIPTOR_VEH_Operaciones           1520993\n",
       "TIPCASO.RN_DESCRIPTOR_VEH_Reclamo               1520993\n",
       "TIPCASO.RN_DESCRIPTOR_VEH_Relacionamiento       1520993\n",
       "TIPCASO.RN_DESCRIPTOR_VEH_Requerimientos        1520993\n",
       "TIPCASO.RN_DESCRIPTOR_VEH_Solicitud             1520993\n",
       "TIPCASO.RN_DESCRIPTOR_VEH_Sugerencias           1520993\n",
       "TIPCASO.RN_DESCRIPTOR_noveh_Atenciones          1713728\n",
       "TIPCASO.RN_DESCRIPTOR_noveh_Consulta            1713728\n",
       "TIPCASO.RN_DESCRIPTOR_noveh_Disconformidades    1713728\n",
       "TIPCASO.RN_DESCRIPTOR_noveh_Emergencia          1713728\n",
       "TIPCASO.RN_DESCRIPTOR_noveh_Fidelizacion        1713728\n",
       "TIPCASO.RN_DESCRIPTOR_noveh_Operacion           1713728\n",
       "TIPCASO.RN_DESCRIPTOR_noveh_Operaciones         1713728\n",
       "TIPCASO.RN_DESCRIPTOR_noveh_Reclamo             1713728\n",
       "TIPCASO.RN_DESCRIPTOR_noveh_Relacionamiento     1713728\n",
       "TIPCASO.RN_DESCRIPTOR_noveh_Requerimientos      1713728\n",
       "TIPCASO.RN_DESCRIPTOR_noveh_Solicitud           1713728\n",
       "TIPCASO.RN_DESCRIPTOR_noveh_Sugerencias         1713728\n",
       "dtype: int64"
      ]
     },
     "execution_count": 498,
     "metadata": {},
     "output_type": "execute_result"
    }
   ],
   "source": [
    "dataset.isnull().sum()"
   ]
  },
  {
   "cell_type": "code",
   "execution_count": 499,
   "metadata": {
    "collapsed": false,
    "scrolled": true
   },
   "outputs": [
    {
     "data": {
      "text/html": [
       "<div>\n",
       "<table border=\"1\" class=\"dataframe\">\n",
       "  <thead>\n",
       "    <tr style=\"text-align: right;\">\n",
       "      <th></th>\n",
       "      <th>PERIODO</th>\n",
       "      <th>NUM_PRODUCTOS</th>\n",
       "      <th>OK</th>\n",
       "      <th>CPP</th>\n",
       "      <th>DEFICIENTE</th>\n",
       "      <th>DUDOSO</th>\n",
       "      <th>PERDIDA</th>\n",
       "      <th>DEUDA_HIINI</th>\n",
       "      <th>SALDO_SBS</th>\n",
       "      <th>SALDO_TC_SBS</th>\n",
       "      <th>...</th>\n",
       "      <th>PRIMA</th>\n",
       "      <th>ANOFABRIC</th>\n",
       "      <th>SUMASEG</th>\n",
       "      <th>NRO_SINIESTROS</th>\n",
       "      <th>MTO_SINIESTROS</th>\n",
       "      <th>ID_POLIZA</th>\n",
       "      <th>Flag_Bancari</th>\n",
       "      <th>UBIGEO</th>\n",
       "      <th>NUM_FACTURAS</th>\n",
       "      <th>MONTO_DOLARES</th>\n",
       "    </tr>\n",
       "  </thead>\n",
       "  <tbody>\n",
       "    <tr>\n",
       "      <th>count</th>\n",
       "      <td>1.807616e+06</td>\n",
       "      <td>1.807616e+06</td>\n",
       "      <td>1.624535e+06</td>\n",
       "      <td>1.624535e+06</td>\n",
       "      <td>1.624535e+06</td>\n",
       "      <td>1.624535e+06</td>\n",
       "      <td>1.624535e+06</td>\n",
       "      <td>1.624535e+06</td>\n",
       "      <td>1.624535e+06</td>\n",
       "      <td>1.624535e+06</td>\n",
       "      <td>...</td>\n",
       "      <td>1.807616e+06</td>\n",
       "      <td>1.807616e+06</td>\n",
       "      <td>1.807616e+06</td>\n",
       "      <td>1.807616e+06</td>\n",
       "      <td>1.807616e+06</td>\n",
       "      <td>1.807616e+06</td>\n",
       "      <td>1.807616e+06</td>\n",
       "      <td>1.805830e+06</td>\n",
       "      <td>328131.000000</td>\n",
       "      <td>328131.000000</td>\n",
       "    </tr>\n",
       "    <tr>\n",
       "      <th>mean</th>\n",
       "      <td>2.015028e+05</td>\n",
       "      <td>2.045947e+00</td>\n",
       "      <td>8.474212e+01</td>\n",
       "      <td>1.449083e+00</td>\n",
       "      <td>6.380911e-01</td>\n",
       "      <td>7.281850e-01</td>\n",
       "      <td>3.168422e+00</td>\n",
       "      <td>1.222432e+06</td>\n",
       "      <td>9.092271e+04</td>\n",
       "      <td>1.184391e+04</td>\n",
       "      <td>...</td>\n",
       "      <td>7.138822e+02</td>\n",
       "      <td>2.011265e+03</td>\n",
       "      <td>1.816876e+04</td>\n",
       "      <td>3.506497e-02</td>\n",
       "      <td>2.395303e+01</td>\n",
       "      <td>7.928197e+09</td>\n",
       "      <td>8.987169e-01</td>\n",
       "      <td>1.420082e+05</td>\n",
       "      <td>1.351363</td>\n",
       "      <td>291.121552</td>\n",
       "    </tr>\n",
       "    <tr>\n",
       "      <th>std</th>\n",
       "      <td>9.668718e+01</td>\n",
       "      <td>1.176330e+00</td>\n",
       "      <td>3.520982e+01</td>\n",
       "      <td>1.031444e+01</td>\n",
       "      <td>6.848463e+00</td>\n",
       "      <td>7.075058e+00</td>\n",
       "      <td>1.690391e+01</td>\n",
       "      <td>3.863130e+06</td>\n",
       "      <td>1.883879e+05</td>\n",
       "      <td>2.270569e+04</td>\n",
       "      <td>...</td>\n",
       "      <td>3.570669e+02</td>\n",
       "      <td>4.074484e+00</td>\n",
       "      <td>1.131407e+04</td>\n",
       "      <td>1.910345e-01</td>\n",
       "      <td>1.701320e+02</td>\n",
       "      <td>9.721846e+08</td>\n",
       "      <td>3.017033e-01</td>\n",
       "      <td>2.883027e+04</td>\n",
       "      <td>0.686366</td>\n",
       "      <td>355.076494</td>\n",
       "    </tr>\n",
       "    <tr>\n",
       "      <th>min</th>\n",
       "      <td>2.013030e+05</td>\n",
       "      <td>1.000000e+00</td>\n",
       "      <td>0.000000e+00</td>\n",
       "      <td>0.000000e+00</td>\n",
       "      <td>0.000000e+00</td>\n",
       "      <td>0.000000e+00</td>\n",
       "      <td>0.000000e+00</td>\n",
       "      <td>0.000000e+00</td>\n",
       "      <td>0.000000e+00</td>\n",
       "      <td>0.000000e+00</td>\n",
       "      <td>...</td>\n",
       "      <td>1.000000e-04</td>\n",
       "      <td>1.909000e+03</td>\n",
       "      <td>0.000000e+00</td>\n",
       "      <td>0.000000e+00</td>\n",
       "      <td>0.000000e+00</td>\n",
       "      <td>3.046779e+08</td>\n",
       "      <td>0.000000e+00</td>\n",
       "      <td>0.000000e+00</td>\n",
       "      <td>1.000000</td>\n",
       "      <td>0.000000</td>\n",
       "    </tr>\n",
       "    <tr>\n",
       "      <th>25%</th>\n",
       "      <td>2.014100e+05</td>\n",
       "      <td>1.000000e+00</td>\n",
       "      <td>1.000000e+02</td>\n",
       "      <td>0.000000e+00</td>\n",
       "      <td>0.000000e+00</td>\n",
       "      <td>0.000000e+00</td>\n",
       "      <td>0.000000e+00</td>\n",
       "      <td>0.000000e+00</td>\n",
       "      <td>2.348115e+03</td>\n",
       "      <td>0.000000e+00</td>\n",
       "      <td>...</td>\n",
       "      <td>4.868500e+02</td>\n",
       "      <td>2.010000e+03</td>\n",
       "      <td>1.151011e+04</td>\n",
       "      <td>0.000000e+00</td>\n",
       "      <td>0.000000e+00</td>\n",
       "      <td>7.272352e+09</td>\n",
       "      <td>1.000000e+00</td>\n",
       "      <td>1.501080e+05</td>\n",
       "      <td>1.000000</td>\n",
       "      <td>100.000000</td>\n",
       "    </tr>\n",
       "    <tr>\n",
       "      <th>50%</th>\n",
       "      <td>2.015080e+05</td>\n",
       "      <td>2.000000e+00</td>\n",
       "      <td>1.000000e+02</td>\n",
       "      <td>0.000000e+00</td>\n",
       "      <td>0.000000e+00</td>\n",
       "      <td>0.000000e+00</td>\n",
       "      <td>0.000000e+00</td>\n",
       "      <td>0.000000e+00</td>\n",
       "      <td>2.250796e+04</td>\n",
       "      <td>2.498800e+03</td>\n",
       "      <td>...</td>\n",
       "      <td>6.365300e+02</td>\n",
       "      <td>2.012000e+03</td>\n",
       "      <td>1.575000e+04</td>\n",
       "      <td>0.000000e+00</td>\n",
       "      <td>0.000000e+00</td>\n",
       "      <td>8.045474e+09</td>\n",
       "      <td>1.000000e+00</td>\n",
       "      <td>1.501220e+05</td>\n",
       "      <td>1.000000</td>\n",
       "      <td>166.000000</td>\n",
       "    </tr>\n",
       "    <tr>\n",
       "      <th>75%</th>\n",
       "      <td>2.016040e+05</td>\n",
       "      <td>3.000000e+00</td>\n",
       "      <td>1.000000e+02</td>\n",
       "      <td>0.000000e+00</td>\n",
       "      <td>0.000000e+00</td>\n",
       "      <td>0.000000e+00</td>\n",
       "      <td>0.000000e+00</td>\n",
       "      <td>0.000000e+00</td>\n",
       "      <td>7.817214e+04</td>\n",
       "      <td>1.205230e+04</td>\n",
       "      <td>...</td>\n",
       "      <td>8.398500e+02</td>\n",
       "      <td>2.013000e+03</td>\n",
       "      <td>2.199000e+04</td>\n",
       "      <td>0.000000e+00</td>\n",
       "      <td>0.000000e+00</td>\n",
       "      <td>8.643466e+09</td>\n",
       "      <td>1.000000e+00</td>\n",
       "      <td>1.501360e+05</td>\n",
       "      <td>2.000000</td>\n",
       "      <td>322.000000</td>\n",
       "    </tr>\n",
       "    <tr>\n",
       "      <th>max</th>\n",
       "      <td>2.016120e+05</td>\n",
       "      <td>7.000000e+00</td>\n",
       "      <td>1.000000e+02</td>\n",
       "      <td>1.000000e+02</td>\n",
       "      <td>1.000000e+02</td>\n",
       "      <td>1.000000e+02</td>\n",
       "      <td>1.000000e+02</td>\n",
       "      <td>2.525600e+07</td>\n",
       "      <td>1.183147e+06</td>\n",
       "      <td>1.308703e+05</td>\n",
       "      <td>...</td>\n",
       "      <td>2.217150e+03</td>\n",
       "      <td>2.016000e+03</td>\n",
       "      <td>7.326400e+04</td>\n",
       "      <td>2.000000e+00</td>\n",
       "      <td>1.500807e+03</td>\n",
       "      <td>9.999895e+09</td>\n",
       "      <td>1.000000e+00</td>\n",
       "      <td>2.503030e+05</td>\n",
       "      <td>6.000000</td>\n",
       "      <td>2425.000000</td>\n",
       "    </tr>\n",
       "  </tbody>\n",
       "</table>\n",
       "<p>8 rows × 27 columns</p>\n",
       "</div>"
      ],
      "text/plain": [
       "            PERIODO  NUM_PRODUCTOS            OK           CPP    DEFICIENTE  \\\n",
       "count  1.807616e+06   1.807616e+06  1.624535e+06  1.624535e+06  1.624535e+06   \n",
       "mean   2.015028e+05   2.045947e+00  8.474212e+01  1.449083e+00  6.380911e-01   \n",
       "std    9.668718e+01   1.176330e+00  3.520982e+01  1.031444e+01  6.848463e+00   \n",
       "min    2.013030e+05   1.000000e+00  0.000000e+00  0.000000e+00  0.000000e+00   \n",
       "25%    2.014100e+05   1.000000e+00  1.000000e+02  0.000000e+00  0.000000e+00   \n",
       "50%    2.015080e+05   2.000000e+00  1.000000e+02  0.000000e+00  0.000000e+00   \n",
       "75%    2.016040e+05   3.000000e+00  1.000000e+02  0.000000e+00  0.000000e+00   \n",
       "max    2.016120e+05   7.000000e+00  1.000000e+02  1.000000e+02  1.000000e+02   \n",
       "\n",
       "             DUDOSO       PERDIDA   DEUDA_HIINI     SALDO_SBS  SALDO_TC_SBS  \\\n",
       "count  1.624535e+06  1.624535e+06  1.624535e+06  1.624535e+06  1.624535e+06   \n",
       "mean   7.281850e-01  3.168422e+00  1.222432e+06  9.092271e+04  1.184391e+04   \n",
       "std    7.075058e+00  1.690391e+01  3.863130e+06  1.883879e+05  2.270569e+04   \n",
       "min    0.000000e+00  0.000000e+00  0.000000e+00  0.000000e+00  0.000000e+00   \n",
       "25%    0.000000e+00  0.000000e+00  0.000000e+00  2.348115e+03  0.000000e+00   \n",
       "50%    0.000000e+00  0.000000e+00  0.000000e+00  2.250796e+04  2.498800e+03   \n",
       "75%    0.000000e+00  0.000000e+00  0.000000e+00  7.817214e+04  1.205230e+04   \n",
       "max    1.000000e+02  1.000000e+02  2.525600e+07  1.183147e+06  1.308703e+05   \n",
       "\n",
       "           ...               PRIMA     ANOFABRIC       SUMASEG  \\\n",
       "count      ...        1.807616e+06  1.807616e+06  1.807616e+06   \n",
       "mean       ...        7.138822e+02  2.011265e+03  1.816876e+04   \n",
       "std        ...        3.570669e+02  4.074484e+00  1.131407e+04   \n",
       "min        ...        1.000000e-04  1.909000e+03  0.000000e+00   \n",
       "25%        ...        4.868500e+02  2.010000e+03  1.151011e+04   \n",
       "50%        ...        6.365300e+02  2.012000e+03  1.575000e+04   \n",
       "75%        ...        8.398500e+02  2.013000e+03  2.199000e+04   \n",
       "max        ...        2.217150e+03  2.016000e+03  7.326400e+04   \n",
       "\n",
       "       NRO_SINIESTROS  MTO_SINIESTROS     ID_POLIZA  Flag_Bancari  \\\n",
       "count    1.807616e+06    1.807616e+06  1.807616e+06  1.807616e+06   \n",
       "mean     3.506497e-02    2.395303e+01  7.928197e+09  8.987169e-01   \n",
       "std      1.910345e-01    1.701320e+02  9.721846e+08  3.017033e-01   \n",
       "min      0.000000e+00    0.000000e+00  3.046779e+08  0.000000e+00   \n",
       "25%      0.000000e+00    0.000000e+00  7.272352e+09  1.000000e+00   \n",
       "50%      0.000000e+00    0.000000e+00  8.045474e+09  1.000000e+00   \n",
       "75%      0.000000e+00    0.000000e+00  8.643466e+09  1.000000e+00   \n",
       "max      2.000000e+00    1.500807e+03  9.999895e+09  1.000000e+00   \n",
       "\n",
       "             UBIGEO   NUM_FACTURAS  MONTO_DOLARES  \n",
       "count  1.805830e+06  328131.000000  328131.000000  \n",
       "mean   1.420082e+05       1.351363     291.121552  \n",
       "std    2.883027e+04       0.686366     355.076494  \n",
       "min    0.000000e+00       1.000000       0.000000  \n",
       "25%    1.501080e+05       1.000000     100.000000  \n",
       "50%    1.501220e+05       1.000000     166.000000  \n",
       "75%    1.501360e+05       2.000000     322.000000  \n",
       "max    2.503030e+05       6.000000    2425.000000  \n",
       "\n",
       "[8 rows x 27 columns]"
      ]
     },
     "execution_count": 499,
     "metadata": {},
     "output_type": "execute_result"
    }
   ],
   "source": [
    "dataset.describe()"
   ]
  },
  {
   "cell_type": "code",
   "execution_count": 502,
   "metadata": {
    "collapsed": false
   },
   "outputs": [
    {
     "data": {
      "text/plain": [
       "['PERIODO',\n",
       " 'NSE_RIMAC',\n",
       " 'NUM_PRODUCTOS',\n",
       " 'SEGMENTO_INTERNO',\n",
       " 'OK',\n",
       " 'CPP',\n",
       " 'DEFICIENTE',\n",
       " 'DUDOSO',\n",
       " 'PERDIDA',\n",
       " 'DEUDA_HIINI',\n",
       " 'SALDO_SBS',\n",
       " 'SALDO_TC_SBS',\n",
       " 'SALDO_VEH_SBS',\n",
       " 'SALDO_HIP_SBS',\n",
       " 'SALDO_PP_SBS',\n",
       " 'SALDO_MICRO_SBS',\n",
       " 'SALDO_PEQUENA_SBS',\n",
       " 'SALDO_OTROS',\n",
       " 'PRIMA_TOTAL',\n",
       " 'PRIMA',\n",
       " 'CANALDES',\n",
       " 'CLASEVEHDES',\n",
       " 'MARCAVEHDES',\n",
       " 'USOVEHDES',\n",
       " 'ANOFABRIC',\n",
       " 'SUMASEG',\n",
       " 'NRO_SINIESTROS',\n",
       " 'MTO_SINIESTROS',\n",
       " 'FECHA_FIN',\n",
       " 'FECHA_INICIO',\n",
       " 'CUC',\n",
       " 'P_AUTO',\n",
       " 'ID_UNICO',\n",
       " 'ID_POLIZA',\n",
       " 'Flag_Bancari',\n",
       " 'SEXO',\n",
       " 'FEC_NACIMIENTO',\n",
       " 'UBICACION',\n",
       " 'DEPARTAMENTO',\n",
       " 'UBIGEO',\n",
       " 'NUM_FACTURAS',\n",
       " 'MONTO_DOLARES',\n",
       " 'TIPCASO.RN_DESCRIPTOR_VEH_Atenciones',\n",
       " 'TIPCASO.RN_DESCRIPTOR_VEH_Consulta',\n",
       " 'TIPCASO.RN_DESCRIPTOR_VEH_Disconformidades',\n",
       " 'TIPCASO.RN_DESCRIPTOR_VEH_Emergencia',\n",
       " 'TIPCASO.RN_DESCRIPTOR_VEH_Fidelizacion',\n",
       " 'TIPCASO.RN_DESCRIPTOR_VEH_Operacion',\n",
       " 'TIPCASO.RN_DESCRIPTOR_VEH_Operaciones',\n",
       " 'TIPCASO.RN_DESCRIPTOR_VEH_Reclamo',\n",
       " 'TIPCASO.RN_DESCRIPTOR_VEH_Relacionamiento',\n",
       " 'TIPCASO.RN_DESCRIPTOR_VEH_Requerimientos',\n",
       " 'TIPCASO.RN_DESCRIPTOR_VEH_Solicitud',\n",
       " 'TIPCASO.RN_DESCRIPTOR_VEH_Sugerencias',\n",
       " 'TIPCASO.RN_DESCRIPTOR_noveh_Atenciones',\n",
       " 'TIPCASO.RN_DESCRIPTOR_noveh_Consulta',\n",
       " 'TIPCASO.RN_DESCRIPTOR_noveh_Disconformidades',\n",
       " 'TIPCASO.RN_DESCRIPTOR_noveh_Emergencia',\n",
       " 'TIPCASO.RN_DESCRIPTOR_noveh_Fidelizacion',\n",
       " 'TIPCASO.RN_DESCRIPTOR_noveh_Operacion',\n",
       " 'TIPCASO.RN_DESCRIPTOR_noveh_Operaciones',\n",
       " 'TIPCASO.RN_DESCRIPTOR_noveh_Reclamo',\n",
       " 'TIPCASO.RN_DESCRIPTOR_noveh_Relacionamiento',\n",
       " 'TIPCASO.RN_DESCRIPTOR_noveh_Requerimientos',\n",
       " 'TIPCASO.RN_DESCRIPTOR_noveh_Solicitud',\n",
       " 'TIPCASO.RN_DESCRIPTOR_noveh_Sugerencias']"
      ]
     },
     "execution_count": 502,
     "metadata": {},
     "output_type": "execute_result"
    }
   ],
   "source": [
    "list(dataset.columns)"
   ]
  },
  {
   "cell_type": "code",
   "execution_count": 508,
   "metadata": {
    "collapsed": false
   },
   "outputs": [],
   "source": [
    "bd_cobranzas.to_csv(\"C:/Users/Keven/Desktop/RIMAC_CHALLENGE/DS_Generados/BD_ProcDatos_Parte_02.txt\", sep = ',', index = False)"
   ]
  },
  {
   "cell_type": "code",
   "execution_count": null,
   "metadata": {
    "collapsed": true
   },
   "outputs": [],
   "source": []
  },
  {
   "cell_type": "code",
   "execution_count": null,
   "metadata": {
    "collapsed": true
   },
   "outputs": [],
   "source": []
  }
 ],
 "metadata": {
  "kernelspec": {
   "display_name": "Python 3",
   "language": "python",
   "name": "python3"
  },
  "language_info": {
   "codemirror_mode": {
    "name": "ipython",
    "version": 3
   },
   "file_extension": ".py",
   "mimetype": "text/x-python",
   "name": "python",
   "nbconvert_exporter": "python",
   "pygments_lexer": "ipython3",
   "version": "3.6.0"
  }
 },
 "nbformat": 4,
 "nbformat_minor": 2
}
