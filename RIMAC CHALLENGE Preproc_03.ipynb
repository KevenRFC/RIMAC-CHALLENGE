{
 "cells": [
  {
   "cell_type": "code",
   "execution_count": 1,
   "metadata": {
    "collapsed": true
   },
   "outputs": [],
   "source": [
    "import pandas as pd\n",
    "import numpy as np"
   ]
  },
  {
   "cell_type": "code",
   "execution_count": 2,
   "metadata": {
    "collapsed": true
   },
   "outputs": [],
   "source": [
    "dataset_ini = pd.read_csv('C:/Users/Keven/Desktop/RIMAC_CHALLENGE/DS_Generados/BD_ProcDatos_Parte_02.txt', \n",
    "                          sep = ',', encoding='latin-1')"
   ]
  },
  {
   "cell_type": "code",
   "execution_count": 3,
   "metadata": {
    "collapsed": false,
    "scrolled": false
   },
   "outputs": [
    {
     "data": {
      "text/plain": [
       "PERIODO                                               0\n",
       "NSE_RIMAC                                             0\n",
       "NUM_PRODUCTOS                                         0\n",
       "SEGMENTO_INTERNO                                      0\n",
       "OK                                               183081\n",
       "CPP                                              183081\n",
       "DEFICIENTE                                       183081\n",
       "DUDOSO                                           183081\n",
       "PERDIDA                                          183081\n",
       "DEUDA_HIINI                                      183081\n",
       "SALDO_SBS                                        183081\n",
       "SALDO_TC_SBS                                     183081\n",
       "SALDO_VEH_SBS                                    183081\n",
       "SALDO_HIP_SBS                                    183081\n",
       "SALDO_PP_SBS                                     183081\n",
       "SALDO_MICRO_SBS                                  183081\n",
       "SALDO_PEQUENA_SBS                                183081\n",
       "SALDO_OTROS                                      183081\n",
       "PRIMA_TOTAL                                           0\n",
       "PRIMA                                                 0\n",
       "CANALDES                                              0\n",
       "CLASEVEHDES                                           0\n",
       "MARCAVEHDES                                           0\n",
       "USOVEHDES                                             0\n",
       "ANOFABRIC                                             0\n",
       "SUMASEG                                               0\n",
       "NRO_SINIESTROS                                        0\n",
       "MTO_SINIESTROS                                        0\n",
       "FECHA_FIN                                             0\n",
       "FECHA_INICIO                                          0\n",
       "                                                 ...   \n",
       "TIPCASO.RN_DESCRIPTOR_noveh_Consulta            1713728\n",
       "TIPCASO.RN_DESCRIPTOR_noveh_Disconformidades    1713728\n",
       "TIPCASO.RN_DESCRIPTOR_noveh_Emergencia          1713728\n",
       "TIPCASO.RN_DESCRIPTOR_noveh_Fidelizacion        1713728\n",
       "TIPCASO.RN_DESCRIPTOR_noveh_Operacion           1713728\n",
       "TIPCASO.RN_DESCRIPTOR_noveh_Operaciones         1713728\n",
       "TIPCASO.RN_DESCRIPTOR_noveh_Reclamo             1713728\n",
       "TIPCASO.RN_DESCRIPTOR_noveh_Relacionamiento     1713728\n",
       "TIPCASO.RN_DESCRIPTOR_noveh_Requerimientos      1713728\n",
       "TIPCASO.RN_DESCRIPTOR_noveh_Solicitud           1713728\n",
       "TIPCASO.RN_DESCRIPTOR_noveh_Sugerencias         1713728\n",
       "MONTO_DOLARES_01                                      0\n",
       "NUM_FACTURAS_01                                       0\n",
       "MONTO_DOLARES_02                                      0\n",
       "NUM_FACTURAS_02                                       0\n",
       "MONTO_DOLARES_03                                      0\n",
       "NUM_FACTURAS_03                                       0\n",
       "MONTO_DOLARES_04                                      0\n",
       "NUM_FACTURAS_04                                       0\n",
       "MONTO_DOLARES_05                                      0\n",
       "NUM_FACTURAS_05                                       0\n",
       "MONTO_DOLARES_06                                      0\n",
       "NUM_FACTURAS_06                                       0\n",
       "MONTO_DOLARES_07                                      0\n",
       "NUM_FACTURAS_07                                       0\n",
       "MONTO_DOLARES_08                                      0\n",
       "NUM_FACTURAS_08                                       0\n",
       "MONTO_DOLARES_09                                      0\n",
       "NUM_FACTURAS_09                                       0\n",
       "TARGET                                                0\n",
       "dtype: int64"
      ]
     },
     "execution_count": 3,
     "metadata": {},
     "output_type": "execute_result"
    }
   ],
   "source": [
    "dataset_ini.isnull().sum()"
   ]
  },
  {
   "cell_type": "code",
   "execution_count": 4,
   "metadata": {
    "collapsed": false
   },
   "outputs": [
    {
     "data": {
      "text/html": [
       "<div>\n",
       "<table border=\"1\" class=\"dataframe\">\n",
       "  <thead>\n",
       "    <tr style=\"text-align: right;\">\n",
       "      <th></th>\n",
       "      <th>cantidad</th>\n",
       "    </tr>\n",
       "  </thead>\n",
       "  <tbody>\n",
       "    <tr>\n",
       "      <th>PERIODO</th>\n",
       "      <td>0</td>\n",
       "    </tr>\n",
       "    <tr>\n",
       "      <th>NSE_RIMAC</th>\n",
       "      <td>0</td>\n",
       "    </tr>\n",
       "    <tr>\n",
       "      <th>NUM_PRODUCTOS</th>\n",
       "      <td>0</td>\n",
       "    </tr>\n",
       "    <tr>\n",
       "      <th>SEGMENTO_INTERNO</th>\n",
       "      <td>0</td>\n",
       "    </tr>\n",
       "    <tr>\n",
       "      <th>OK</th>\n",
       "      <td>183081</td>\n",
       "    </tr>\n",
       "  </tbody>\n",
       "</table>\n",
       "</div>"
      ],
      "text/plain": [
       "                  cantidad\n",
       "PERIODO                  0\n",
       "NSE_RIMAC                0\n",
       "NUM_PRODUCTOS            0\n",
       "SEGMENTO_INTERNO         0\n",
       "OK                  183081"
      ]
     },
     "execution_count": 4,
     "metadata": {},
     "output_type": "execute_result"
    }
   ],
   "source": [
    "nulos = pd.DataFrame(dataset_ini.isnull().sum(), columns = ['cantidad'])\n",
    "nulos.head()"
   ]
  },
  {
   "cell_type": "code",
   "execution_count": 5,
   "metadata": {
    "collapsed": false
   },
   "outputs": [
    {
     "data": {
      "text/plain": [
       "['OK',\n",
       " 'CPP',\n",
       " 'DEFICIENTE',\n",
       " 'DUDOSO',\n",
       " 'PERDIDA',\n",
       " 'DEUDA_HIINI',\n",
       " 'SALDO_SBS',\n",
       " 'SALDO_TC_SBS',\n",
       " 'SALDO_VEH_SBS',\n",
       " 'SALDO_HIP_SBS',\n",
       " 'SALDO_PP_SBS',\n",
       " 'SALDO_MICRO_SBS',\n",
       " 'SALDO_PEQUENA_SBS',\n",
       " 'SALDO_OTROS',\n",
       " 'SEXO',\n",
       " 'FEC_NACIMIENTO',\n",
       " 'UBICACION',\n",
       " 'DEPARTAMENTO',\n",
       " 'UBIGEO',\n",
       " 'NUM_FACTURAS',\n",
       " 'MONTO_DOLARES',\n",
       " 'TIPCASO.RN_DESCRIPTOR_VEH_Atenciones',\n",
       " 'TIPCASO.RN_DESCRIPTOR_VEH_Consulta',\n",
       " 'TIPCASO.RN_DESCRIPTOR_VEH_Disconformidades',\n",
       " 'TIPCASO.RN_DESCRIPTOR_VEH_Emergencia',\n",
       " 'TIPCASO.RN_DESCRIPTOR_VEH_Fidelizacion',\n",
       " 'TIPCASO.RN_DESCRIPTOR_VEH_Operacion',\n",
       " 'TIPCASO.RN_DESCRIPTOR_VEH_Operaciones',\n",
       " 'TIPCASO.RN_DESCRIPTOR_VEH_Reclamo',\n",
       " 'TIPCASO.RN_DESCRIPTOR_VEH_Relacionamiento',\n",
       " 'TIPCASO.RN_DESCRIPTOR_VEH_Requerimientos',\n",
       " 'TIPCASO.RN_DESCRIPTOR_VEH_Solicitud',\n",
       " 'TIPCASO.RN_DESCRIPTOR_VEH_Sugerencias',\n",
       " 'TIPCASO.RN_DESCRIPTOR_noveh_Atenciones',\n",
       " 'TIPCASO.RN_DESCRIPTOR_noveh_Consulta',\n",
       " 'TIPCASO.RN_DESCRIPTOR_noveh_Disconformidades',\n",
       " 'TIPCASO.RN_DESCRIPTOR_noveh_Emergencia',\n",
       " 'TIPCASO.RN_DESCRIPTOR_noveh_Fidelizacion',\n",
       " 'TIPCASO.RN_DESCRIPTOR_noveh_Operacion',\n",
       " 'TIPCASO.RN_DESCRIPTOR_noveh_Operaciones',\n",
       " 'TIPCASO.RN_DESCRIPTOR_noveh_Reclamo',\n",
       " 'TIPCASO.RN_DESCRIPTOR_noveh_Relacionamiento',\n",
       " 'TIPCASO.RN_DESCRIPTOR_noveh_Requerimientos',\n",
       " 'TIPCASO.RN_DESCRIPTOR_noveh_Solicitud',\n",
       " 'TIPCASO.RN_DESCRIPTOR_noveh_Sugerencias']"
      ]
     },
     "execution_count": 5,
     "metadata": {},
     "output_type": "execute_result"
    }
   ],
   "source": [
    "features_na = list(nulos[nulos['cantidad']>0].index)\n",
    "features_na"
   ]
  },
  {
   "cell_type": "code",
   "execution_count": 9,
   "metadata": {
    "collapsed": false
   },
   "outputs": [],
   "source": [
    "feat_num = ['OK',\n",
    " 'CPP',\n",
    " 'DEFICIENTE',\n",
    " 'DUDOSO',\n",
    " 'PERDIDA',\n",
    " 'DEUDA_HIINI',\n",
    " 'SALDO_SBS',\n",
    " 'SALDO_TC_SBS',\n",
    " 'SALDO_VEH_SBS',\n",
    " 'SALDO_HIP_SBS',\n",
    " 'SALDO_PP_SBS',\n",
    " 'SALDO_MICRO_SBS',\n",
    " 'SALDO_PEQUENA_SBS',\n",
    " 'SALDO_OTROS',\n",
    " #'SEXO',\n",
    " #'FEC_NACIMIENTO',\n",
    " #'UBICACION',\n",
    " #'DEPARTAMENTO',\n",
    " #'UBIGEO',\n",
    " 'NUM_FACTURAS',\n",
    " 'MONTO_DOLARES',\n",
    " 'TIPCASO.RN_DESCRIPTOR_VEH_Atenciones',\n",
    " 'TIPCASO.RN_DESCRIPTOR_VEH_Consulta',\n",
    " 'TIPCASO.RN_DESCRIPTOR_VEH_Disconformidades',\n",
    " 'TIPCASO.RN_DESCRIPTOR_VEH_Emergencia',\n",
    " 'TIPCASO.RN_DESCRIPTOR_VEH_Fidelizacion',\n",
    " 'TIPCASO.RN_DESCRIPTOR_VEH_Operacion',\n",
    " 'TIPCASO.RN_DESCRIPTOR_VEH_Operaciones',\n",
    " 'TIPCASO.RN_DESCRIPTOR_VEH_Reclamo',\n",
    " 'TIPCASO.RN_DESCRIPTOR_VEH_Relacionamiento',\n",
    " 'TIPCASO.RN_DESCRIPTOR_VEH_Requerimientos',\n",
    " 'TIPCASO.RN_DESCRIPTOR_VEH_Solicitud',\n",
    " 'TIPCASO.RN_DESCRIPTOR_VEH_Sugerencias',\n",
    " 'TIPCASO.RN_DESCRIPTOR_noveh_Atenciones',\n",
    " 'TIPCASO.RN_DESCRIPTOR_noveh_Consulta',\n",
    " 'TIPCASO.RN_DESCRIPTOR_noveh_Disconformidades',\n",
    " 'TIPCASO.RN_DESCRIPTOR_noveh_Emergencia',\n",
    " 'TIPCASO.RN_DESCRIPTOR_noveh_Fidelizacion',\n",
    " 'TIPCASO.RN_DESCRIPTOR_noveh_Operacion',\n",
    " 'TIPCASO.RN_DESCRIPTOR_noveh_Operaciones',\n",
    " 'TIPCASO.RN_DESCRIPTOR_noveh_Reclamo',\n",
    " 'TIPCASO.RN_DESCRIPTOR_noveh_Relacionamiento',\n",
    " 'TIPCASO.RN_DESCRIPTOR_noveh_Requerimientos',\n",
    " 'TIPCASO.RN_DESCRIPTOR_noveh_Solicitud',\n",
    " 'TIPCASO.RN_DESCRIPTOR_noveh_Sugerencias']"
   ]
  },
  {
   "cell_type": "code",
   "execution_count": 10,
   "metadata": {
    "collapsed": false
   },
   "outputs": [],
   "source": [
    "for feature in feat_num:\n",
    "    dataset_ini[feature].fillna(0, inplace=True)"
   ]
  },
  {
   "cell_type": "code",
   "execution_count": 12,
   "metadata": {
    "collapsed": false
   },
   "outputs": [
    {
     "data": {
      "text/plain": [
       "['SEXO', 'FEC_NACIMIENTO', 'UBICACION', 'DEPARTAMENTO', 'UBIGEO']"
      ]
     },
     "execution_count": 12,
     "metadata": {},
     "output_type": "execute_result"
    }
   ],
   "source": [
    "nulos = pd.DataFrame(dataset_ini.isnull().sum(), columns = ['cantidad'])\n",
    "features_na = list(nulos[nulos['cantidad']>0].index)\n",
    "features_na"
   ]
  },
  {
   "cell_type": "code",
   "execution_count": 13,
   "metadata": {
    "collapsed": true
   },
   "outputs": [],
   "source": [
    "dataset_ini['FEC_NACIMIENTO'].fillna('01/01/1900', inplace=True)\n",
    "dataset_ini['SEXO'].fillna('M', inplace=True)\n",
    "dataset_ini['UBIGEO'].fillna('150140', inplace=True)\n",
    "dataset_ini['UBICACION'].fillna('LIMA TOP', inplace=True)\n",
    "dataset_ini['DEPARTAMENTO'].fillna('LIMA', inplace=True)"
   ]
  },
  {
   "cell_type": "code",
   "execution_count": 14,
   "metadata": {
    "collapsed": false
   },
   "outputs": [
    {
     "data": {
      "text/plain": [
       "[]"
      ]
     },
     "execution_count": 14,
     "metadata": {},
     "output_type": "execute_result"
    }
   ],
   "source": [
    "nulos = pd.DataFrame(dataset_ini.isnull().sum(), columns = ['cantidad'])\n",
    "features_na = list(nulos[nulos['cantidad']>0].index)\n",
    "features_na"
   ]
  },
  {
   "cell_type": "code",
   "execution_count": 15,
   "metadata": {
    "collapsed": true
   },
   "outputs": [],
   "source": [
    "dataset_final = dataset_ini[dataset_ini['PERIODO'] > 201401]"
   ]
  },
  {
   "cell_type": "code",
   "execution_count": 16,
   "metadata": {
    "collapsed": true
   },
   "outputs": [],
   "source": [
    "dataset_final.to_csv(\"C:/Users/Keven/Desktop/RIMAC_CHALLENGE/DS_Generados/BD_ProcDatos_Parte_03.txt\", sep = ',', index = False)"
   ]
  },
  {
   "cell_type": "code",
   "execution_count": null,
   "metadata": {
    "collapsed": true
   },
   "outputs": [],
   "source": []
  },
  {
   "cell_type": "code",
   "execution_count": null,
   "metadata": {
    "collapsed": true
   },
   "outputs": [],
   "source": []
  }
 ],
 "metadata": {
  "kernelspec": {
   "display_name": "Python 3",
   "language": "python",
   "name": "python3"
  },
  "language_info": {
   "codemirror_mode": {
    "name": "ipython",
    "version": 3
   },
   "file_extension": ".py",
   "mimetype": "text/x-python",
   "name": "python",
   "nbconvert_exporter": "python",
   "pygments_lexer": "ipython3",
   "version": "3.6.0"
  }
 },
 "nbformat": 4,
 "nbformat_minor": 2
}
