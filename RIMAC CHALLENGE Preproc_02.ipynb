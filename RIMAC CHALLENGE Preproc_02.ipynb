{
 "cells": [
  {
   "cell_type": "code",
   "execution_count": 1,
   "metadata": {
    "collapsed": true
   },
   "outputs": [],
   "source": [
    "import pandas as pd\n",
    "import numpy as np"
   ]
  },
  {
   "cell_type": "code",
   "execution_count": 2,
   "metadata": {
    "collapsed": false
   },
   "outputs": [],
   "source": [
    "dataset_ini = pd.read_csv('C:/Users/Keven/Desktop/RIMAC_CHALLENGE/DS_Generados/BD_ProcDatos_Parte_01.txt', \n",
    "                          sep = ',', encoding='latin-1')"
   ]
  },
  {
   "cell_type": "code",
   "execution_count": 3,
   "metadata": {
    "collapsed": false,
    "scrolled": false
   },
   "outputs": [
    {
     "data": {
      "text/html": [
       "<div>\n",
       "<table border=\"1\" class=\"dataframe\">\n",
       "  <thead>\n",
       "    <tr style=\"text-align: right;\">\n",
       "      <th></th>\n",
       "      <th>PERIODO</th>\n",
       "      <th>NSE_RIMAC</th>\n",
       "      <th>NUM_PRODUCTOS</th>\n",
       "      <th>SEGMENTO_INTERNO</th>\n",
       "      <th>OK</th>\n",
       "      <th>CPP</th>\n",
       "      <th>DEFICIENTE</th>\n",
       "      <th>DUDOSO</th>\n",
       "      <th>PERDIDA</th>\n",
       "      <th>DEUDA_HIINI</th>\n",
       "      <th>...</th>\n",
       "      <th>TIPCASO.RN_DESCRIPTOR_noveh_Disconformidades</th>\n",
       "      <th>TIPCASO.RN_DESCRIPTOR_noveh_Emergencia</th>\n",
       "      <th>TIPCASO.RN_DESCRIPTOR_noveh_Fidelizacion</th>\n",
       "      <th>TIPCASO.RN_DESCRIPTOR_noveh_Operacion</th>\n",
       "      <th>TIPCASO.RN_DESCRIPTOR_noveh_Operaciones</th>\n",
       "      <th>TIPCASO.RN_DESCRIPTOR_noveh_Reclamo</th>\n",
       "      <th>TIPCASO.RN_DESCRIPTOR_noveh_Relacionamiento</th>\n",
       "      <th>TIPCASO.RN_DESCRIPTOR_noveh_Requerimientos</th>\n",
       "      <th>TIPCASO.RN_DESCRIPTOR_noveh_Solicitud</th>\n",
       "      <th>TIPCASO.RN_DESCRIPTOR_noveh_Sugerencias</th>\n",
       "    </tr>\n",
       "  </thead>\n",
       "  <tbody>\n",
       "    <tr>\n",
       "      <th>0</th>\n",
       "      <td>201303</td>\n",
       "      <td>C2</td>\n",
       "      <td>1.0</td>\n",
       "      <td>6.MASIVO</td>\n",
       "      <td>NaN</td>\n",
       "      <td>NaN</td>\n",
       "      <td>NaN</td>\n",
       "      <td>NaN</td>\n",
       "      <td>NaN</td>\n",
       "      <td>NaN</td>\n",
       "      <td>...</td>\n",
       "      <td>NaN</td>\n",
       "      <td>NaN</td>\n",
       "      <td>NaN</td>\n",
       "      <td>NaN</td>\n",
       "      <td>NaN</td>\n",
       "      <td>NaN</td>\n",
       "      <td>NaN</td>\n",
       "      <td>NaN</td>\n",
       "      <td>NaN</td>\n",
       "      <td>NaN</td>\n",
       "    </tr>\n",
       "    <tr>\n",
       "      <th>1</th>\n",
       "      <td>201304</td>\n",
       "      <td>C2</td>\n",
       "      <td>1.0</td>\n",
       "      <td>6.MASIVO</td>\n",
       "      <td>NaN</td>\n",
       "      <td>NaN</td>\n",
       "      <td>NaN</td>\n",
       "      <td>NaN</td>\n",
       "      <td>NaN</td>\n",
       "      <td>NaN</td>\n",
       "      <td>...</td>\n",
       "      <td>NaN</td>\n",
       "      <td>NaN</td>\n",
       "      <td>NaN</td>\n",
       "      <td>NaN</td>\n",
       "      <td>NaN</td>\n",
       "      <td>NaN</td>\n",
       "      <td>NaN</td>\n",
       "      <td>NaN</td>\n",
       "      <td>NaN</td>\n",
       "      <td>NaN</td>\n",
       "    </tr>\n",
       "    <tr>\n",
       "      <th>2</th>\n",
       "      <td>201305</td>\n",
       "      <td>C2</td>\n",
       "      <td>1.0</td>\n",
       "      <td>6.MASIVO</td>\n",
       "      <td>NaN</td>\n",
       "      <td>NaN</td>\n",
       "      <td>NaN</td>\n",
       "      <td>NaN</td>\n",
       "      <td>NaN</td>\n",
       "      <td>NaN</td>\n",
       "      <td>...</td>\n",
       "      <td>NaN</td>\n",
       "      <td>NaN</td>\n",
       "      <td>NaN</td>\n",
       "      <td>NaN</td>\n",
       "      <td>NaN</td>\n",
       "      <td>NaN</td>\n",
       "      <td>NaN</td>\n",
       "      <td>NaN</td>\n",
       "      <td>NaN</td>\n",
       "      <td>NaN</td>\n",
       "    </tr>\n",
       "    <tr>\n",
       "      <th>3</th>\n",
       "      <td>201306</td>\n",
       "      <td>C2</td>\n",
       "      <td>1.0</td>\n",
       "      <td>6.MASIVO</td>\n",
       "      <td>NaN</td>\n",
       "      <td>NaN</td>\n",
       "      <td>NaN</td>\n",
       "      <td>NaN</td>\n",
       "      <td>NaN</td>\n",
       "      <td>NaN</td>\n",
       "      <td>...</td>\n",
       "      <td>NaN</td>\n",
       "      <td>NaN</td>\n",
       "      <td>NaN</td>\n",
       "      <td>NaN</td>\n",
       "      <td>NaN</td>\n",
       "      <td>NaN</td>\n",
       "      <td>NaN</td>\n",
       "      <td>NaN</td>\n",
       "      <td>NaN</td>\n",
       "      <td>NaN</td>\n",
       "    </tr>\n",
       "    <tr>\n",
       "      <th>4</th>\n",
       "      <td>201307</td>\n",
       "      <td>C2</td>\n",
       "      <td>1.0</td>\n",
       "      <td>6.MASIVO</td>\n",
       "      <td>NaN</td>\n",
       "      <td>NaN</td>\n",
       "      <td>NaN</td>\n",
       "      <td>NaN</td>\n",
       "      <td>NaN</td>\n",
       "      <td>NaN</td>\n",
       "      <td>...</td>\n",
       "      <td>NaN</td>\n",
       "      <td>NaN</td>\n",
       "      <td>NaN</td>\n",
       "      <td>NaN</td>\n",
       "      <td>NaN</td>\n",
       "      <td>NaN</td>\n",
       "      <td>NaN</td>\n",
       "      <td>NaN</td>\n",
       "      <td>NaN</td>\n",
       "      <td>NaN</td>\n",
       "    </tr>\n",
       "  </tbody>\n",
       "</table>\n",
       "<p>5 rows × 66 columns</p>\n",
       "</div>"
      ],
      "text/plain": [
       "   PERIODO NSE_RIMAC  NUM_PRODUCTOS SEGMENTO_INTERNO  OK  CPP  DEFICIENTE  \\\n",
       "0   201303        C2            1.0         6.MASIVO NaN  NaN         NaN   \n",
       "1   201304        C2            1.0         6.MASIVO NaN  NaN         NaN   \n",
       "2   201305        C2            1.0         6.MASIVO NaN  NaN         NaN   \n",
       "3   201306        C2            1.0         6.MASIVO NaN  NaN         NaN   \n",
       "4   201307        C2            1.0         6.MASIVO NaN  NaN         NaN   \n",
       "\n",
       "   DUDOSO  PERDIDA  DEUDA_HIINI                   ...                     \\\n",
       "0     NaN      NaN          NaN                   ...                      \n",
       "1     NaN      NaN          NaN                   ...                      \n",
       "2     NaN      NaN          NaN                   ...                      \n",
       "3     NaN      NaN          NaN                   ...                      \n",
       "4     NaN      NaN          NaN                   ...                      \n",
       "\n",
       "   TIPCASO.RN_DESCRIPTOR_noveh_Disconformidades  \\\n",
       "0                                           NaN   \n",
       "1                                           NaN   \n",
       "2                                           NaN   \n",
       "3                                           NaN   \n",
       "4                                           NaN   \n",
       "\n",
       "   TIPCASO.RN_DESCRIPTOR_noveh_Emergencia  \\\n",
       "0                                     NaN   \n",
       "1                                     NaN   \n",
       "2                                     NaN   \n",
       "3                                     NaN   \n",
       "4                                     NaN   \n",
       "\n",
       "   TIPCASO.RN_DESCRIPTOR_noveh_Fidelizacion  \\\n",
       "0                                       NaN   \n",
       "1                                       NaN   \n",
       "2                                       NaN   \n",
       "3                                       NaN   \n",
       "4                                       NaN   \n",
       "\n",
       "   TIPCASO.RN_DESCRIPTOR_noveh_Operacion  \\\n",
       "0                                    NaN   \n",
       "1                                    NaN   \n",
       "2                                    NaN   \n",
       "3                                    NaN   \n",
       "4                                    NaN   \n",
       "\n",
       "   TIPCASO.RN_DESCRIPTOR_noveh_Operaciones  \\\n",
       "0                                      NaN   \n",
       "1                                      NaN   \n",
       "2                                      NaN   \n",
       "3                                      NaN   \n",
       "4                                      NaN   \n",
       "\n",
       "   TIPCASO.RN_DESCRIPTOR_noveh_Reclamo  \\\n",
       "0                                  NaN   \n",
       "1                                  NaN   \n",
       "2                                  NaN   \n",
       "3                                  NaN   \n",
       "4                                  NaN   \n",
       "\n",
       "   TIPCASO.RN_DESCRIPTOR_noveh_Relacionamiento  \\\n",
       "0                                          NaN   \n",
       "1                                          NaN   \n",
       "2                                          NaN   \n",
       "3                                          NaN   \n",
       "4                                          NaN   \n",
       "\n",
       "   TIPCASO.RN_DESCRIPTOR_noveh_Requerimientos  \\\n",
       "0                                         NaN   \n",
       "1                                         NaN   \n",
       "2                                         NaN   \n",
       "3                                         NaN   \n",
       "4                                         NaN   \n",
       "\n",
       "   TIPCASO.RN_DESCRIPTOR_noveh_Solicitud  \\\n",
       "0                                    NaN   \n",
       "1                                    NaN   \n",
       "2                                    NaN   \n",
       "3                                    NaN   \n",
       "4                                    NaN   \n",
       "\n",
       "   TIPCASO.RN_DESCRIPTOR_noveh_Sugerencias  \n",
       "0                                      NaN  \n",
       "1                                      NaN  \n",
       "2                                      NaN  \n",
       "3                                      NaN  \n",
       "4                                      NaN  \n",
       "\n",
       "[5 rows x 66 columns]"
      ]
     },
     "execution_count": 3,
     "metadata": {},
     "output_type": "execute_result"
    }
   ],
   "source": [
    "dataset_ini.head()"
   ]
  },
  {
   "cell_type": "code",
   "execution_count": 4,
   "metadata": {
    "collapsed": false
   },
   "outputs": [
    {
     "data": {
      "text/plain": [
       "1807616"
      ]
     },
     "execution_count": 4,
     "metadata": {},
     "output_type": "execute_result"
    }
   ],
   "source": [
    "len(dataset_ini)"
   ]
  },
  {
   "cell_type": "code",
   "execution_count": 5,
   "metadata": {
    "collapsed": true
   },
   "outputs": [],
   "source": [
    "bd_cobranzas_proc = pd.read_csv('C:/Users/Keven/Desktop/RIMAC_CHALLENGE/DS_Generados/BD_Cobranza_ProcDatos_01.txt', \n",
    "                                sep = ',', encoding='latin-1')"
   ]
  },
  {
   "cell_type": "code",
   "execution_count": 6,
   "metadata": {
    "collapsed": false,
    "scrolled": true
   },
   "outputs": [
    {
     "data": {
      "text/html": [
       "<div>\n",
       "<table border=\"1\" class=\"dataframe\">\n",
       "  <thead>\n",
       "    <tr style=\"text-align: right;\">\n",
       "      <th></th>\n",
       "      <th>PERIODO</th>\n",
       "      <th>NUM_FACTURAS</th>\n",
       "      <th>MONTO_DOLARES</th>\n",
       "      <th>CUC</th>\n",
       "      <th>P_AUTO</th>\n",
       "    </tr>\n",
       "  </thead>\n",
       "  <tbody>\n",
       "    <tr>\n",
       "      <th>0</th>\n",
       "      <td>201404</td>\n",
       "      <td>1.0</td>\n",
       "      <td>826.0</td>\n",
       "      <td>4-33334660</td>\n",
       "      <td>G8T792</td>\n",
       "    </tr>\n",
       "    <tr>\n",
       "      <th>1</th>\n",
       "      <td>201405</td>\n",
       "      <td>1.0</td>\n",
       "      <td>826.0</td>\n",
       "      <td>4-33334660</td>\n",
       "      <td>G8T792</td>\n",
       "    </tr>\n",
       "    <tr>\n",
       "      <th>2</th>\n",
       "      <td>201406</td>\n",
       "      <td>1.0</td>\n",
       "      <td>826.0</td>\n",
       "      <td>4-33334660</td>\n",
       "      <td>G8T792</td>\n",
       "    </tr>\n",
       "    <tr>\n",
       "      <th>3</th>\n",
       "      <td>201304</td>\n",
       "      <td>1.0</td>\n",
       "      <td>182.0</td>\n",
       "      <td>4-33344342</td>\n",
       "      <td>G4J803</td>\n",
       "    </tr>\n",
       "    <tr>\n",
       "      <th>4</th>\n",
       "      <td>201305</td>\n",
       "      <td>1.0</td>\n",
       "      <td>178.0</td>\n",
       "      <td>4-33344342</td>\n",
       "      <td>G4J803</td>\n",
       "    </tr>\n",
       "  </tbody>\n",
       "</table>\n",
       "</div>"
      ],
      "text/plain": [
       "   PERIODO  NUM_FACTURAS  MONTO_DOLARES         CUC  P_AUTO\n",
       "0   201404           1.0          826.0  4-33334660  G8T792\n",
       "1   201405           1.0          826.0  4-33334660  G8T792\n",
       "2   201406           1.0          826.0  4-33334660  G8T792\n",
       "3   201304           1.0          182.0  4-33344342  G4J803\n",
       "4   201305           1.0          178.0  4-33344342  G4J803"
      ]
     },
     "execution_count": 6,
     "metadata": {},
     "output_type": "execute_result"
    }
   ],
   "source": [
    "bd_cobranzas_proc.head()"
   ]
  },
  {
   "cell_type": "code",
   "execution_count": 7,
   "metadata": {
    "collapsed": true
   },
   "outputs": [],
   "source": [
    "homologador_fechas = pd.read_csv('C:/Users/Keven/Desktop/RIMAC_CHALLENGE/homologador.csv', sep = ',')"
   ]
  },
  {
   "cell_type": "code",
   "execution_count": 8,
   "metadata": {
    "collapsed": false
   },
   "outputs": [
    {
     "data": {
      "text/html": [
       "<div>\n",
       "<table border=\"1\" class=\"dataframe\">\n",
       "  <thead>\n",
       "    <tr style=\"text-align: right;\">\n",
       "      <th></th>\n",
       "      <th>PERIODO</th>\n",
       "      <th>NUMEROS</th>\n",
       "    </tr>\n",
       "  </thead>\n",
       "  <tbody>\n",
       "    <tr>\n",
       "      <th>0</th>\n",
       "      <td>201301</td>\n",
       "      <td>1</td>\n",
       "    </tr>\n",
       "    <tr>\n",
       "      <th>1</th>\n",
       "      <td>201302</td>\n",
       "      <td>2</td>\n",
       "    </tr>\n",
       "    <tr>\n",
       "      <th>2</th>\n",
       "      <td>201303</td>\n",
       "      <td>3</td>\n",
       "    </tr>\n",
       "    <tr>\n",
       "      <th>3</th>\n",
       "      <td>201304</td>\n",
       "      <td>4</td>\n",
       "    </tr>\n",
       "    <tr>\n",
       "      <th>4</th>\n",
       "      <td>201305</td>\n",
       "      <td>5</td>\n",
       "    </tr>\n",
       "  </tbody>\n",
       "</table>\n",
       "</div>"
      ],
      "text/plain": [
       "   PERIODO  NUMEROS\n",
       "0   201301        1\n",
       "1   201302        2\n",
       "2   201303        3\n",
       "3   201304        4\n",
       "4   201305        5"
      ]
     },
     "execution_count": 8,
     "metadata": {},
     "output_type": "execute_result"
    }
   ],
   "source": [
    "homologador_fechas.head()"
   ]
  },
  {
   "cell_type": "code",
   "execution_count": 9,
   "metadata": {
    "collapsed": false
   },
   "outputs": [
    {
     "data": {
      "text/plain": [
       "Index(['PERIODO', 'NSE_RIMAC', 'NUM_PRODUCTOS', 'SEGMENTO_INTERNO', 'OK',\n",
       "       'CPP', 'DEFICIENTE', 'DUDOSO', 'PERDIDA', 'DEUDA_HIINI', 'SALDO_SBS',\n",
       "       'SALDO_TC_SBS', 'SALDO_VEH_SBS', 'SALDO_HIP_SBS', 'SALDO_PP_SBS',\n",
       "       'SALDO_MICRO_SBS', 'SALDO_PEQUENA_SBS', 'SALDO_OTROS', 'PRIMA_TOTAL',\n",
       "       'PRIMA', 'CANALDES', 'CLASEVEHDES', 'MARCAVEHDES', 'USOVEHDES',\n",
       "       'ANOFABRIC', 'SUMASEG', 'NRO_SINIESTROS', 'MTO_SINIESTROS', 'FECHA_FIN',\n",
       "       'FECHA_INICIO', 'CUC', 'P_AUTO', 'ID_UNICO', 'ID_POLIZA',\n",
       "       'Flag_Bancari', 'SEXO', 'FEC_NACIMIENTO', 'UBICACION', 'DEPARTAMENTO',\n",
       "       'UBIGEO', 'NUM_FACTURAS', 'MONTO_DOLARES',\n",
       "       'TIPCASO.RN_DESCRIPTOR_VEH_Atenciones',\n",
       "       'TIPCASO.RN_DESCRIPTOR_VEH_Consulta',\n",
       "       'TIPCASO.RN_DESCRIPTOR_VEH_Disconformidades',\n",
       "       'TIPCASO.RN_DESCRIPTOR_VEH_Emergencia',\n",
       "       'TIPCASO.RN_DESCRIPTOR_VEH_Fidelizacion',\n",
       "       'TIPCASO.RN_DESCRIPTOR_VEH_Operacion',\n",
       "       'TIPCASO.RN_DESCRIPTOR_VEH_Operaciones',\n",
       "       'TIPCASO.RN_DESCRIPTOR_VEH_Reclamo',\n",
       "       'TIPCASO.RN_DESCRIPTOR_VEH_Relacionamiento',\n",
       "       'TIPCASO.RN_DESCRIPTOR_VEH_Requerimientos',\n",
       "       'TIPCASO.RN_DESCRIPTOR_VEH_Solicitud',\n",
       "       'TIPCASO.RN_DESCRIPTOR_VEH_Sugerencias',\n",
       "       'TIPCASO.RN_DESCRIPTOR_noveh_Atenciones',\n",
       "       'TIPCASO.RN_DESCRIPTOR_noveh_Consulta',\n",
       "       'TIPCASO.RN_DESCRIPTOR_noveh_Disconformidades',\n",
       "       'TIPCASO.RN_DESCRIPTOR_noveh_Emergencia',\n",
       "       'TIPCASO.RN_DESCRIPTOR_noveh_Fidelizacion',\n",
       "       'TIPCASO.RN_DESCRIPTOR_noveh_Operacion',\n",
       "       'TIPCASO.RN_DESCRIPTOR_noveh_Operaciones',\n",
       "       'TIPCASO.RN_DESCRIPTOR_noveh_Reclamo',\n",
       "       'TIPCASO.RN_DESCRIPTOR_noveh_Relacionamiento',\n",
       "       'TIPCASO.RN_DESCRIPTOR_noveh_Requerimientos',\n",
       "       'TIPCASO.RN_DESCRIPTOR_noveh_Solicitud',\n",
       "       'TIPCASO.RN_DESCRIPTOR_noveh_Sugerencias'],\n",
       "      dtype='object')"
      ]
     },
     "execution_count": 9,
     "metadata": {},
     "output_type": "execute_result"
    }
   ],
   "source": [
    "dataset_ini.columns"
   ]
  },
  {
   "cell_type": "markdown",
   "metadata": {},
   "source": [
    "## Procesamiento Parte 2"
   ]
  },
  {
   "cell_type": "code",
   "execution_count": 10,
   "metadata": {
    "collapsed": true
   },
   "outputs": [],
   "source": [
    "tabla_veh_temp = dataset_ini[['PERIODO','CUC', 'P_AUTO']]"
   ]
  },
  {
   "cell_type": "code",
   "execution_count": 11,
   "metadata": {
    "collapsed": false
   },
   "outputs": [
    {
     "data": {
      "text/html": [
       "<div>\n",
       "<table border=\"1\" class=\"dataframe\">\n",
       "  <thead>\n",
       "    <tr style=\"text-align: right;\">\n",
       "      <th></th>\n",
       "      <th>PERIODO</th>\n",
       "      <th>CUC</th>\n",
       "      <th>P_AUTO</th>\n",
       "      <th>NUMEROS</th>\n",
       "    </tr>\n",
       "  </thead>\n",
       "  <tbody>\n",
       "    <tr>\n",
       "      <th>0</th>\n",
       "      <td>201303</td>\n",
       "      <td>4-33334660</td>\n",
       "      <td>G8T792</td>\n",
       "      <td>3</td>\n",
       "    </tr>\n",
       "    <tr>\n",
       "      <th>1</th>\n",
       "      <td>201304</td>\n",
       "      <td>4-33334660</td>\n",
       "      <td>G8T792</td>\n",
       "      <td>4</td>\n",
       "    </tr>\n",
       "    <tr>\n",
       "      <th>2</th>\n",
       "      <td>201305</td>\n",
       "      <td>4-33334660</td>\n",
       "      <td>G8T792</td>\n",
       "      <td>5</td>\n",
       "    </tr>\n",
       "    <tr>\n",
       "      <th>3</th>\n",
       "      <td>201306</td>\n",
       "      <td>4-33334660</td>\n",
       "      <td>G8T792</td>\n",
       "      <td>6</td>\n",
       "    </tr>\n",
       "    <tr>\n",
       "      <th>4</th>\n",
       "      <td>201307</td>\n",
       "      <td>4-33334660</td>\n",
       "      <td>G8T792</td>\n",
       "      <td>7</td>\n",
       "    </tr>\n",
       "  </tbody>\n",
       "</table>\n",
       "</div>"
      ],
      "text/plain": [
       "   PERIODO         CUC  P_AUTO  NUMEROS\n",
       "0   201303  4-33334660  G8T792        3\n",
       "1   201304  4-33334660  G8T792        4\n",
       "2   201305  4-33334660  G8T792        5\n",
       "3   201306  4-33334660  G8T792        6\n",
       "4   201307  4-33334660  G8T792        7"
      ]
     },
     "execution_count": 11,
     "metadata": {},
     "output_type": "execute_result"
    }
   ],
   "source": [
    "tabla_veh_temp = pd.merge(tabla_veh_temp, homologador_fechas, how=\"left\", on = ['PERIODO'])\n",
    "tabla_veh_temp.head()"
   ]
  },
  {
   "cell_type": "code",
   "execution_count": 12,
   "metadata": {
    "collapsed": false
   },
   "outputs": [
    {
     "data": {
      "text/html": [
       "<div>\n",
       "<table border=\"1\" class=\"dataframe\">\n",
       "  <thead>\n",
       "    <tr style=\"text-align: right;\">\n",
       "      <th></th>\n",
       "      <th>PERIODO</th>\n",
       "      <th>CUC</th>\n",
       "      <th>P_AUTO</th>\n",
       "      <th>NUM_FACTURAS</th>\n",
       "      <th>MONTO_DOLARES</th>\n",
       "    </tr>\n",
       "  </thead>\n",
       "  <tbody>\n",
       "    <tr>\n",
       "      <th>0</th>\n",
       "      <td>201404</td>\n",
       "      <td>4-33334660</td>\n",
       "      <td>G8T792</td>\n",
       "      <td>1.0</td>\n",
       "      <td>826.0</td>\n",
       "    </tr>\n",
       "    <tr>\n",
       "      <th>1</th>\n",
       "      <td>201405</td>\n",
       "      <td>4-33334660</td>\n",
       "      <td>G8T792</td>\n",
       "      <td>1.0</td>\n",
       "      <td>826.0</td>\n",
       "    </tr>\n",
       "    <tr>\n",
       "      <th>2</th>\n",
       "      <td>201406</td>\n",
       "      <td>4-33334660</td>\n",
       "      <td>G8T792</td>\n",
       "      <td>1.0</td>\n",
       "      <td>826.0</td>\n",
       "    </tr>\n",
       "    <tr>\n",
       "      <th>3</th>\n",
       "      <td>201304</td>\n",
       "      <td>4-33344342</td>\n",
       "      <td>G4J803</td>\n",
       "      <td>1.0</td>\n",
       "      <td>182.0</td>\n",
       "    </tr>\n",
       "    <tr>\n",
       "      <th>4</th>\n",
       "      <td>201305</td>\n",
       "      <td>4-33344342</td>\n",
       "      <td>G4J803</td>\n",
       "      <td>1.0</td>\n",
       "      <td>178.0</td>\n",
       "    </tr>\n",
       "  </tbody>\n",
       "</table>\n",
       "</div>"
      ],
      "text/plain": [
       "   PERIODO         CUC  P_AUTO  NUM_FACTURAS  MONTO_DOLARES\n",
       "0   201404  4-33334660  G8T792           1.0          826.0\n",
       "1   201405  4-33334660  G8T792           1.0          826.0\n",
       "2   201406  4-33334660  G8T792           1.0          826.0\n",
       "3   201304  4-33344342  G4J803           1.0          182.0\n",
       "4   201305  4-33344342  G4J803           1.0          178.0"
      ]
     },
     "execution_count": 12,
     "metadata": {},
     "output_type": "execute_result"
    }
   ],
   "source": [
    "tabla_cobranzas_temp = bd_cobranzas_proc[['PERIODO','CUC','P_AUTO','NUM_FACTURAS', 'MONTO_DOLARES']]\n",
    "tabla_cobranzas_temp.head()"
   ]
  },
  {
   "cell_type": "code",
   "execution_count": 13,
   "metadata": {
    "collapsed": false
   },
   "outputs": [
    {
     "data": {
      "text/html": [
       "<div>\n",
       "<table border=\"1\" class=\"dataframe\">\n",
       "  <thead>\n",
       "    <tr style=\"text-align: right;\">\n",
       "      <th></th>\n",
       "      <th>PERIODO</th>\n",
       "      <th>CUC</th>\n",
       "      <th>P_AUTO</th>\n",
       "      <th>NUM_FACTURAS</th>\n",
       "      <th>MONTO_DOLARES</th>\n",
       "      <th>NUMEROS</th>\n",
       "    </tr>\n",
       "  </thead>\n",
       "  <tbody>\n",
       "    <tr>\n",
       "      <th>0</th>\n",
       "      <td>201404</td>\n",
       "      <td>4-33334660</td>\n",
       "      <td>G8T792</td>\n",
       "      <td>1.0</td>\n",
       "      <td>826.0</td>\n",
       "      <td>16</td>\n",
       "    </tr>\n",
       "    <tr>\n",
       "      <th>1</th>\n",
       "      <td>201405</td>\n",
       "      <td>4-33334660</td>\n",
       "      <td>G8T792</td>\n",
       "      <td>1.0</td>\n",
       "      <td>826.0</td>\n",
       "      <td>17</td>\n",
       "    </tr>\n",
       "    <tr>\n",
       "      <th>2</th>\n",
       "      <td>201406</td>\n",
       "      <td>4-33334660</td>\n",
       "      <td>G8T792</td>\n",
       "      <td>1.0</td>\n",
       "      <td>826.0</td>\n",
       "      <td>18</td>\n",
       "    </tr>\n",
       "    <tr>\n",
       "      <th>3</th>\n",
       "      <td>201304</td>\n",
       "      <td>4-33344342</td>\n",
       "      <td>G4J803</td>\n",
       "      <td>1.0</td>\n",
       "      <td>182.0</td>\n",
       "      <td>4</td>\n",
       "    </tr>\n",
       "    <tr>\n",
       "      <th>4</th>\n",
       "      <td>201305</td>\n",
       "      <td>4-33344342</td>\n",
       "      <td>G4J803</td>\n",
       "      <td>1.0</td>\n",
       "      <td>178.0</td>\n",
       "      <td>5</td>\n",
       "    </tr>\n",
       "  </tbody>\n",
       "</table>\n",
       "</div>"
      ],
      "text/plain": [
       "   PERIODO         CUC  P_AUTO  NUM_FACTURAS  MONTO_DOLARES  NUMEROS\n",
       "0   201404  4-33334660  G8T792           1.0          826.0       16\n",
       "1   201405  4-33334660  G8T792           1.0          826.0       17\n",
       "2   201406  4-33334660  G8T792           1.0          826.0       18\n",
       "3   201304  4-33344342  G4J803           1.0          182.0        4\n",
       "4   201305  4-33344342  G4J803           1.0          178.0        5"
      ]
     },
     "execution_count": 13,
     "metadata": {},
     "output_type": "execute_result"
    }
   ],
   "source": [
    "tabla_cobranzas_temp = pd.merge(tabla_cobranzas_temp, homologador_fechas, how=\"left\", on = ['PERIODO'])\n",
    "tabla_cobranzas_temp.head()"
   ]
  },
  {
   "cell_type": "markdown",
   "metadata": {},
   "source": [
    "## Generar Historico No pagos"
   ]
  },
  {
   "cell_type": "code",
   "execution_count": 14,
   "metadata": {
    "collapsed": false
   },
   "outputs": [],
   "source": [
    "rango = range(1,10)\n",
    "for i in rango:\n",
    "    numeros='NUMEROS_0'+str(i)\n",
    "    tabla_veh_temp[numeros] = tabla_veh_temp['NUMEROS'] - i\n",
    "    dataset = pd.merge(tabla_veh_temp, tabla_cobranzas_temp, how=\"left\", left_on = [\"CUC\",\"P_AUTO\",numeros], right_on = [\"CUC\",\"P_AUTO\",\"NUMEROS\"],suffixes = ('','_y'))\n",
    "    monto_dolares = 'MONTO_DOLARES_0'+str(i)\n",
    "    num_facturas = 'NUM_FACTURAS_0'+ str(i)\n",
    "    tabla_veh_temp[monto_dolares] = dataset['MONTO_DOLARES']\n",
    "    tabla_veh_temp[num_facturas] = dataset['NUM_FACTURAS']"
   ]
  },
  {
   "cell_type": "code",
   "execution_count": 15,
   "metadata": {
    "collapsed": false,
    "scrolled": false
   },
   "outputs": [
    {
     "data": {
      "text/plain": [
       "['PERIODO',\n",
       " 'CUC',\n",
       " 'P_AUTO',\n",
       " 'NUMEROS',\n",
       " 'NUMEROS_01',\n",
       " 'MONTO_DOLARES_01',\n",
       " 'NUM_FACTURAS_01',\n",
       " 'NUMEROS_02',\n",
       " 'MONTO_DOLARES_02',\n",
       " 'NUM_FACTURAS_02',\n",
       " 'NUMEROS_03',\n",
       " 'MONTO_DOLARES_03',\n",
       " 'NUM_FACTURAS_03',\n",
       " 'NUMEROS_04',\n",
       " 'MONTO_DOLARES_04',\n",
       " 'NUM_FACTURAS_04',\n",
       " 'NUMEROS_05',\n",
       " 'MONTO_DOLARES_05',\n",
       " 'NUM_FACTURAS_05',\n",
       " 'NUMEROS_06',\n",
       " 'MONTO_DOLARES_06',\n",
       " 'NUM_FACTURAS_06',\n",
       " 'NUMEROS_07',\n",
       " 'MONTO_DOLARES_07',\n",
       " 'NUM_FACTURAS_07',\n",
       " 'NUMEROS_08',\n",
       " 'MONTO_DOLARES_08',\n",
       " 'NUM_FACTURAS_08',\n",
       " 'NUMEROS_09',\n",
       " 'MONTO_DOLARES_09',\n",
       " 'NUM_FACTURAS_09']"
      ]
     },
     "execution_count": 15,
     "metadata": {},
     "output_type": "execute_result"
    }
   ],
   "source": [
    "list(tabla_veh_temp.columns)"
   ]
  },
  {
   "cell_type": "code",
   "execution_count": 16,
   "metadata": {
    "collapsed": true
   },
   "outputs": [],
   "source": [
    "var_select_t = ['PERIODO',\n",
    " 'CUC',\n",
    " 'P_AUTO',\n",
    " 'MONTO_DOLARES_01',\n",
    " 'NUM_FACTURAS_01',\n",
    " 'MONTO_DOLARES_02',\n",
    " 'NUM_FACTURAS_02',\n",
    " 'MONTO_DOLARES_03',\n",
    " 'NUM_FACTURAS_03',\n",
    " 'MONTO_DOLARES_04',\n",
    " 'NUM_FACTURAS_04',\n",
    " 'MONTO_DOLARES_05',\n",
    " 'NUM_FACTURAS_05',\n",
    " 'MONTO_DOLARES_06',\n",
    " 'NUM_FACTURAS_06',\n",
    " 'MONTO_DOLARES_07',\n",
    " 'NUM_FACTURAS_07',\n",
    " 'MONTO_DOLARES_08',\n",
    " 'NUM_FACTURAS_08',\n",
    " 'MONTO_DOLARES_09',\n",
    " 'NUM_FACTURAS_09']"
   ]
  },
  {
   "cell_type": "code",
   "execution_count": 17,
   "metadata": {
    "collapsed": false,
    "scrolled": true
   },
   "outputs": [],
   "source": [
    "tabla_veh_temp = tabla_veh_temp[var_select_t]"
   ]
  },
  {
   "cell_type": "code",
   "execution_count": 18,
   "metadata": {
    "collapsed": false,
    "scrolled": true
   },
   "outputs": [
    {
     "data": {
      "text/plain": [
       "PERIODO                   0\n",
       "CUC                       0\n",
       "P_AUTO                    0\n",
       "MONTO_DOLARES_01    1510424\n",
       "NUM_FACTURAS_01     1510424\n",
       "MONTO_DOLARES_02    1540345\n",
       "NUM_FACTURAS_02     1540345\n",
       "MONTO_DOLARES_03    1568729\n",
       "NUM_FACTURAS_03     1568729\n",
       "MONTO_DOLARES_04    1583547\n",
       "NUM_FACTURAS_04     1583547\n",
       "MONTO_DOLARES_05    1595804\n",
       "NUM_FACTURAS_05     1595804\n",
       "MONTO_DOLARES_06    1609660\n",
       "NUM_FACTURAS_06     1609660\n",
       "MONTO_DOLARES_07    1624590\n",
       "NUM_FACTURAS_07     1624590\n",
       "MONTO_DOLARES_08    1640827\n",
       "NUM_FACTURAS_08     1640827\n",
       "MONTO_DOLARES_09    1660674\n",
       "NUM_FACTURAS_09     1660674\n",
       "dtype: int64"
      ]
     },
     "execution_count": 18,
     "metadata": {},
     "output_type": "execute_result"
    }
   ],
   "source": [
    "tabla_veh_temp.isnull().sum()"
   ]
  },
  {
   "cell_type": "code",
   "execution_count": 19,
   "metadata": {
    "collapsed": false
   },
   "outputs": [],
   "source": [
    "var_select_t2 = [\n",
    " 'NUM_FACTURAS_01',\n",
    " 'NUM_FACTURAS_02',\n",
    " 'NUM_FACTURAS_03',\n",
    " 'NUM_FACTURAS_04',\n",
    " 'NUM_FACTURAS_05',\n",
    " 'NUM_FACTURAS_06',\n",
    " 'NUM_FACTURAS_07',\n",
    " 'NUM_FACTURAS_08',\n",
    " 'NUM_FACTURAS_09',\n",
    " 'MONTO_DOLARES_01',\n",
    " 'MONTO_DOLARES_02',\n",
    " 'MONTO_DOLARES_03',\n",
    " 'MONTO_DOLARES_04',\n",
    " 'MONTO_DOLARES_05',\n",
    " 'MONTO_DOLARES_06',\n",
    " 'MONTO_DOLARES_07',\n",
    " 'MONTO_DOLARES_08',\n",
    " 'MONTO_DOLARES_09']"
   ]
  },
  {
   "cell_type": "code",
   "execution_count": 20,
   "metadata": {
    "collapsed": false
   },
   "outputs": [],
   "source": [
    "for var in var_select_t2:\n",
    "    tabla_veh_temp[var].fillna(0, inplace=True)"
   ]
  },
  {
   "cell_type": "code",
   "execution_count": 21,
   "metadata": {
    "collapsed": false
   },
   "outputs": [
    {
     "data": {
      "text/html": [
       "<div>\n",
       "<table border=\"1\" class=\"dataframe\">\n",
       "  <thead>\n",
       "    <tr style=\"text-align: right;\">\n",
       "      <th></th>\n",
       "      <th>PERIODO</th>\n",
       "      <th>CUC</th>\n",
       "      <th>P_AUTO</th>\n",
       "      <th>MONTO_DOLARES_01</th>\n",
       "      <th>NUM_FACTURAS_01</th>\n",
       "      <th>MONTO_DOLARES_02</th>\n",
       "      <th>NUM_FACTURAS_02</th>\n",
       "      <th>MONTO_DOLARES_03</th>\n",
       "      <th>NUM_FACTURAS_03</th>\n",
       "      <th>MONTO_DOLARES_04</th>\n",
       "      <th>...</th>\n",
       "      <th>MONTO_DOLARES_05</th>\n",
       "      <th>NUM_FACTURAS_05</th>\n",
       "      <th>MONTO_DOLARES_06</th>\n",
       "      <th>NUM_FACTURAS_06</th>\n",
       "      <th>MONTO_DOLARES_07</th>\n",
       "      <th>NUM_FACTURAS_07</th>\n",
       "      <th>MONTO_DOLARES_08</th>\n",
       "      <th>NUM_FACTURAS_08</th>\n",
       "      <th>MONTO_DOLARES_09</th>\n",
       "      <th>NUM_FACTURAS_09</th>\n",
       "    </tr>\n",
       "  </thead>\n",
       "  <tbody>\n",
       "    <tr>\n",
       "      <th>0</th>\n",
       "      <td>201303</td>\n",
       "      <td>4-33334660</td>\n",
       "      <td>G8T792</td>\n",
       "      <td>0.0</td>\n",
       "      <td>0.0</td>\n",
       "      <td>0.0</td>\n",
       "      <td>0.0</td>\n",
       "      <td>0.0</td>\n",
       "      <td>0.0</td>\n",
       "      <td>0.0</td>\n",
       "      <td>...</td>\n",
       "      <td>0.0</td>\n",
       "      <td>0.0</td>\n",
       "      <td>0.0</td>\n",
       "      <td>0.0</td>\n",
       "      <td>0.0</td>\n",
       "      <td>0.0</td>\n",
       "      <td>0.0</td>\n",
       "      <td>0.0</td>\n",
       "      <td>0.0</td>\n",
       "      <td>0.0</td>\n",
       "    </tr>\n",
       "    <tr>\n",
       "      <th>1</th>\n",
       "      <td>201304</td>\n",
       "      <td>4-33334660</td>\n",
       "      <td>G8T792</td>\n",
       "      <td>0.0</td>\n",
       "      <td>0.0</td>\n",
       "      <td>0.0</td>\n",
       "      <td>0.0</td>\n",
       "      <td>0.0</td>\n",
       "      <td>0.0</td>\n",
       "      <td>0.0</td>\n",
       "      <td>...</td>\n",
       "      <td>0.0</td>\n",
       "      <td>0.0</td>\n",
       "      <td>0.0</td>\n",
       "      <td>0.0</td>\n",
       "      <td>0.0</td>\n",
       "      <td>0.0</td>\n",
       "      <td>0.0</td>\n",
       "      <td>0.0</td>\n",
       "      <td>0.0</td>\n",
       "      <td>0.0</td>\n",
       "    </tr>\n",
       "    <tr>\n",
       "      <th>2</th>\n",
       "      <td>201305</td>\n",
       "      <td>4-33334660</td>\n",
       "      <td>G8T792</td>\n",
       "      <td>0.0</td>\n",
       "      <td>0.0</td>\n",
       "      <td>0.0</td>\n",
       "      <td>0.0</td>\n",
       "      <td>0.0</td>\n",
       "      <td>0.0</td>\n",
       "      <td>0.0</td>\n",
       "      <td>...</td>\n",
       "      <td>0.0</td>\n",
       "      <td>0.0</td>\n",
       "      <td>0.0</td>\n",
       "      <td>0.0</td>\n",
       "      <td>0.0</td>\n",
       "      <td>0.0</td>\n",
       "      <td>0.0</td>\n",
       "      <td>0.0</td>\n",
       "      <td>0.0</td>\n",
       "      <td>0.0</td>\n",
       "    </tr>\n",
       "    <tr>\n",
       "      <th>3</th>\n",
       "      <td>201306</td>\n",
       "      <td>4-33334660</td>\n",
       "      <td>G8T792</td>\n",
       "      <td>0.0</td>\n",
       "      <td>0.0</td>\n",
       "      <td>0.0</td>\n",
       "      <td>0.0</td>\n",
       "      <td>0.0</td>\n",
       "      <td>0.0</td>\n",
       "      <td>0.0</td>\n",
       "      <td>...</td>\n",
       "      <td>0.0</td>\n",
       "      <td>0.0</td>\n",
       "      <td>0.0</td>\n",
       "      <td>0.0</td>\n",
       "      <td>0.0</td>\n",
       "      <td>0.0</td>\n",
       "      <td>0.0</td>\n",
       "      <td>0.0</td>\n",
       "      <td>0.0</td>\n",
       "      <td>0.0</td>\n",
       "    </tr>\n",
       "    <tr>\n",
       "      <th>4</th>\n",
       "      <td>201307</td>\n",
       "      <td>4-33334660</td>\n",
       "      <td>G8T792</td>\n",
       "      <td>0.0</td>\n",
       "      <td>0.0</td>\n",
       "      <td>0.0</td>\n",
       "      <td>0.0</td>\n",
       "      <td>0.0</td>\n",
       "      <td>0.0</td>\n",
       "      <td>0.0</td>\n",
       "      <td>...</td>\n",
       "      <td>0.0</td>\n",
       "      <td>0.0</td>\n",
       "      <td>0.0</td>\n",
       "      <td>0.0</td>\n",
       "      <td>0.0</td>\n",
       "      <td>0.0</td>\n",
       "      <td>0.0</td>\n",
       "      <td>0.0</td>\n",
       "      <td>0.0</td>\n",
       "      <td>0.0</td>\n",
       "    </tr>\n",
       "  </tbody>\n",
       "</table>\n",
       "<p>5 rows × 21 columns</p>\n",
       "</div>"
      ],
      "text/plain": [
       "   PERIODO         CUC  P_AUTO  MONTO_DOLARES_01  NUM_FACTURAS_01  \\\n",
       "0   201303  4-33334660  G8T792               0.0              0.0   \n",
       "1   201304  4-33334660  G8T792               0.0              0.0   \n",
       "2   201305  4-33334660  G8T792               0.0              0.0   \n",
       "3   201306  4-33334660  G8T792               0.0              0.0   \n",
       "4   201307  4-33334660  G8T792               0.0              0.0   \n",
       "\n",
       "   MONTO_DOLARES_02  NUM_FACTURAS_02  MONTO_DOLARES_03  NUM_FACTURAS_03  \\\n",
       "0               0.0              0.0               0.0              0.0   \n",
       "1               0.0              0.0               0.0              0.0   \n",
       "2               0.0              0.0               0.0              0.0   \n",
       "3               0.0              0.0               0.0              0.0   \n",
       "4               0.0              0.0               0.0              0.0   \n",
       "\n",
       "   MONTO_DOLARES_04       ...         MONTO_DOLARES_05  NUM_FACTURAS_05  \\\n",
       "0               0.0       ...                      0.0              0.0   \n",
       "1               0.0       ...                      0.0              0.0   \n",
       "2               0.0       ...                      0.0              0.0   \n",
       "3               0.0       ...                      0.0              0.0   \n",
       "4               0.0       ...                      0.0              0.0   \n",
       "\n",
       "   MONTO_DOLARES_06  NUM_FACTURAS_06  MONTO_DOLARES_07  NUM_FACTURAS_07  \\\n",
       "0               0.0              0.0               0.0              0.0   \n",
       "1               0.0              0.0               0.0              0.0   \n",
       "2               0.0              0.0               0.0              0.0   \n",
       "3               0.0              0.0               0.0              0.0   \n",
       "4               0.0              0.0               0.0              0.0   \n",
       "\n",
       "   MONTO_DOLARES_08  NUM_FACTURAS_08  MONTO_DOLARES_09  NUM_FACTURAS_09  \n",
       "0               0.0              0.0               0.0              0.0  \n",
       "1               0.0              0.0               0.0              0.0  \n",
       "2               0.0              0.0               0.0              0.0  \n",
       "3               0.0              0.0               0.0              0.0  \n",
       "4               0.0              0.0               0.0              0.0  \n",
       "\n",
       "[5 rows x 21 columns]"
      ]
     },
     "execution_count": 21,
     "metadata": {},
     "output_type": "execute_result"
    }
   ],
   "source": [
    "tabla_veh_temp.head()"
   ]
  },
  {
   "cell_type": "markdown",
   "metadata": {},
   "source": [
    "for feature in var_select_t2:\n",
    "    print(\"-------------------------------------------------------------------------------\")\n",
    "    print(tabla_veh_temp.groupby(feature, axis = 0)[feature].count().sort_values(ascending = False))"
   ]
  },
  {
   "cell_type": "code",
   "execution_count": 22,
   "metadata": {
    "collapsed": false
   },
   "outputs": [
    {
     "data": {
      "text/plain": [
       "1807616"
      ]
     },
     "execution_count": 22,
     "metadata": {},
     "output_type": "execute_result"
    }
   ],
   "source": [
    "len(tabla_veh_temp)"
   ]
  },
  {
   "cell_type": "code",
   "execution_count": 23,
   "metadata": {
    "collapsed": false
   },
   "outputs": [],
   "source": [
    "train_pf = pd.merge(dataset_ini, tabla_veh_temp, how=\"left\", on = ['PERIODO','CUC','P_AUTO'])"
   ]
  },
  {
   "cell_type": "code",
   "execution_count": 24,
   "metadata": {
    "collapsed": false
   },
   "outputs": [
    {
     "data": {
      "text/html": [
       "<div>\n",
       "<table border=\"1\" class=\"dataframe\">\n",
       "  <thead>\n",
       "    <tr style=\"text-align: right;\">\n",
       "      <th></th>\n",
       "      <th>PERIODO</th>\n",
       "      <th>NSE_RIMAC</th>\n",
       "      <th>NUM_PRODUCTOS</th>\n",
       "      <th>SEGMENTO_INTERNO</th>\n",
       "      <th>OK</th>\n",
       "      <th>CPP</th>\n",
       "      <th>DEFICIENTE</th>\n",
       "      <th>DUDOSO</th>\n",
       "      <th>PERDIDA</th>\n",
       "      <th>DEUDA_HIINI</th>\n",
       "      <th>...</th>\n",
       "      <th>MONTO_DOLARES_05</th>\n",
       "      <th>NUM_FACTURAS_05</th>\n",
       "      <th>MONTO_DOLARES_06</th>\n",
       "      <th>NUM_FACTURAS_06</th>\n",
       "      <th>MONTO_DOLARES_07</th>\n",
       "      <th>NUM_FACTURAS_07</th>\n",
       "      <th>MONTO_DOLARES_08</th>\n",
       "      <th>NUM_FACTURAS_08</th>\n",
       "      <th>MONTO_DOLARES_09</th>\n",
       "      <th>NUM_FACTURAS_09</th>\n",
       "    </tr>\n",
       "  </thead>\n",
       "  <tbody>\n",
       "    <tr>\n",
       "      <th>0</th>\n",
       "      <td>201303</td>\n",
       "      <td>C2</td>\n",
       "      <td>1.0</td>\n",
       "      <td>6.MASIVO</td>\n",
       "      <td>NaN</td>\n",
       "      <td>NaN</td>\n",
       "      <td>NaN</td>\n",
       "      <td>NaN</td>\n",
       "      <td>NaN</td>\n",
       "      <td>NaN</td>\n",
       "      <td>...</td>\n",
       "      <td>0.0</td>\n",
       "      <td>0.0</td>\n",
       "      <td>0.0</td>\n",
       "      <td>0.0</td>\n",
       "      <td>0.0</td>\n",
       "      <td>0.0</td>\n",
       "      <td>0.0</td>\n",
       "      <td>0.0</td>\n",
       "      <td>0.0</td>\n",
       "      <td>0.0</td>\n",
       "    </tr>\n",
       "    <tr>\n",
       "      <th>1</th>\n",
       "      <td>201304</td>\n",
       "      <td>C2</td>\n",
       "      <td>1.0</td>\n",
       "      <td>6.MASIVO</td>\n",
       "      <td>NaN</td>\n",
       "      <td>NaN</td>\n",
       "      <td>NaN</td>\n",
       "      <td>NaN</td>\n",
       "      <td>NaN</td>\n",
       "      <td>NaN</td>\n",
       "      <td>...</td>\n",
       "      <td>0.0</td>\n",
       "      <td>0.0</td>\n",
       "      <td>0.0</td>\n",
       "      <td>0.0</td>\n",
       "      <td>0.0</td>\n",
       "      <td>0.0</td>\n",
       "      <td>0.0</td>\n",
       "      <td>0.0</td>\n",
       "      <td>0.0</td>\n",
       "      <td>0.0</td>\n",
       "    </tr>\n",
       "    <tr>\n",
       "      <th>2</th>\n",
       "      <td>201305</td>\n",
       "      <td>C2</td>\n",
       "      <td>1.0</td>\n",
       "      <td>6.MASIVO</td>\n",
       "      <td>NaN</td>\n",
       "      <td>NaN</td>\n",
       "      <td>NaN</td>\n",
       "      <td>NaN</td>\n",
       "      <td>NaN</td>\n",
       "      <td>NaN</td>\n",
       "      <td>...</td>\n",
       "      <td>0.0</td>\n",
       "      <td>0.0</td>\n",
       "      <td>0.0</td>\n",
       "      <td>0.0</td>\n",
       "      <td>0.0</td>\n",
       "      <td>0.0</td>\n",
       "      <td>0.0</td>\n",
       "      <td>0.0</td>\n",
       "      <td>0.0</td>\n",
       "      <td>0.0</td>\n",
       "    </tr>\n",
       "    <tr>\n",
       "      <th>3</th>\n",
       "      <td>201306</td>\n",
       "      <td>C2</td>\n",
       "      <td>1.0</td>\n",
       "      <td>6.MASIVO</td>\n",
       "      <td>NaN</td>\n",
       "      <td>NaN</td>\n",
       "      <td>NaN</td>\n",
       "      <td>NaN</td>\n",
       "      <td>NaN</td>\n",
       "      <td>NaN</td>\n",
       "      <td>...</td>\n",
       "      <td>0.0</td>\n",
       "      <td>0.0</td>\n",
       "      <td>0.0</td>\n",
       "      <td>0.0</td>\n",
       "      <td>0.0</td>\n",
       "      <td>0.0</td>\n",
       "      <td>0.0</td>\n",
       "      <td>0.0</td>\n",
       "      <td>0.0</td>\n",
       "      <td>0.0</td>\n",
       "    </tr>\n",
       "    <tr>\n",
       "      <th>4</th>\n",
       "      <td>201307</td>\n",
       "      <td>C2</td>\n",
       "      <td>1.0</td>\n",
       "      <td>6.MASIVO</td>\n",
       "      <td>NaN</td>\n",
       "      <td>NaN</td>\n",
       "      <td>NaN</td>\n",
       "      <td>NaN</td>\n",
       "      <td>NaN</td>\n",
       "      <td>NaN</td>\n",
       "      <td>...</td>\n",
       "      <td>0.0</td>\n",
       "      <td>0.0</td>\n",
       "      <td>0.0</td>\n",
       "      <td>0.0</td>\n",
       "      <td>0.0</td>\n",
       "      <td>0.0</td>\n",
       "      <td>0.0</td>\n",
       "      <td>0.0</td>\n",
       "      <td>0.0</td>\n",
       "      <td>0.0</td>\n",
       "    </tr>\n",
       "  </tbody>\n",
       "</table>\n",
       "<p>5 rows × 84 columns</p>\n",
       "</div>"
      ],
      "text/plain": [
       "   PERIODO NSE_RIMAC  NUM_PRODUCTOS SEGMENTO_INTERNO  OK  CPP  DEFICIENTE  \\\n",
       "0   201303        C2            1.0         6.MASIVO NaN  NaN         NaN   \n",
       "1   201304        C2            1.0         6.MASIVO NaN  NaN         NaN   \n",
       "2   201305        C2            1.0         6.MASIVO NaN  NaN         NaN   \n",
       "3   201306        C2            1.0         6.MASIVO NaN  NaN         NaN   \n",
       "4   201307        C2            1.0         6.MASIVO NaN  NaN         NaN   \n",
       "\n",
       "   DUDOSO  PERDIDA  DEUDA_HIINI       ...         MONTO_DOLARES_05  \\\n",
       "0     NaN      NaN          NaN       ...                      0.0   \n",
       "1     NaN      NaN          NaN       ...                      0.0   \n",
       "2     NaN      NaN          NaN       ...                      0.0   \n",
       "3     NaN      NaN          NaN       ...                      0.0   \n",
       "4     NaN      NaN          NaN       ...                      0.0   \n",
       "\n",
       "   NUM_FACTURAS_05  MONTO_DOLARES_06  NUM_FACTURAS_06  MONTO_DOLARES_07  \\\n",
       "0              0.0               0.0              0.0               0.0   \n",
       "1              0.0               0.0              0.0               0.0   \n",
       "2              0.0               0.0              0.0               0.0   \n",
       "3              0.0               0.0              0.0               0.0   \n",
       "4              0.0               0.0              0.0               0.0   \n",
       "\n",
       "   NUM_FACTURAS_07  MONTO_DOLARES_08  NUM_FACTURAS_08  MONTO_DOLARES_09  \\\n",
       "0              0.0               0.0              0.0               0.0   \n",
       "1              0.0               0.0              0.0               0.0   \n",
       "2              0.0               0.0              0.0               0.0   \n",
       "3              0.0               0.0              0.0               0.0   \n",
       "4              0.0               0.0              0.0               0.0   \n",
       "\n",
       "   NUM_FACTURAS_09  \n",
       "0              0.0  \n",
       "1              0.0  \n",
       "2              0.0  \n",
       "3              0.0  \n",
       "4              0.0  \n",
       "\n",
       "[5 rows x 84 columns]"
      ]
     },
     "execution_count": 24,
     "metadata": {},
     "output_type": "execute_result"
    }
   ],
   "source": [
    "train_pf.head()"
   ]
  },
  {
   "cell_type": "code",
   "execution_count": null,
   "metadata": {
    "collapsed": true
   },
   "outputs": [],
   "source": []
  },
  {
   "cell_type": "code",
   "execution_count": null,
   "metadata": {
    "collapsed": true
   },
   "outputs": [],
   "source": []
  },
  {
   "cell_type": "markdown",
   "metadata": {},
   "source": [
    "## Generar Taget"
   ]
  },
  {
   "cell_type": "code",
   "execution_count": 25,
   "metadata": {
    "collapsed": false
   },
   "outputs": [
    {
     "data": {
      "text/html": [
       "<div>\n",
       "<table border=\"1\" class=\"dataframe\">\n",
       "  <thead>\n",
       "    <tr style=\"text-align: right;\">\n",
       "      <th></th>\n",
       "      <th>PERIODO</th>\n",
       "      <th>CUC</th>\n",
       "      <th>P_AUTO</th>\n",
       "      <th>MONTO_DOLARES_01</th>\n",
       "      <th>NUM_FACTURAS_01</th>\n",
       "      <th>MONTO_DOLARES_02</th>\n",
       "      <th>NUM_FACTURAS_02</th>\n",
       "      <th>MONTO_DOLARES_03</th>\n",
       "      <th>NUM_FACTURAS_03</th>\n",
       "      <th>MONTO_DOLARES_04</th>\n",
       "      <th>...</th>\n",
       "      <th>NUM_FACTURAS_05</th>\n",
       "      <th>MONTO_DOLARES_06</th>\n",
       "      <th>NUM_FACTURAS_06</th>\n",
       "      <th>MONTO_DOLARES_07</th>\n",
       "      <th>NUM_FACTURAS_07</th>\n",
       "      <th>MONTO_DOLARES_08</th>\n",
       "      <th>NUM_FACTURAS_08</th>\n",
       "      <th>MONTO_DOLARES_09</th>\n",
       "      <th>NUM_FACTURAS_09</th>\n",
       "      <th>NUMEROS</th>\n",
       "    </tr>\n",
       "  </thead>\n",
       "  <tbody>\n",
       "    <tr>\n",
       "      <th>0</th>\n",
       "      <td>201303</td>\n",
       "      <td>4-33334660</td>\n",
       "      <td>G8T792</td>\n",
       "      <td>0.0</td>\n",
       "      <td>0.0</td>\n",
       "      <td>0.0</td>\n",
       "      <td>0.0</td>\n",
       "      <td>0.0</td>\n",
       "      <td>0.0</td>\n",
       "      <td>0.0</td>\n",
       "      <td>...</td>\n",
       "      <td>0.0</td>\n",
       "      <td>0.0</td>\n",
       "      <td>0.0</td>\n",
       "      <td>0.0</td>\n",
       "      <td>0.0</td>\n",
       "      <td>0.0</td>\n",
       "      <td>0.0</td>\n",
       "      <td>0.0</td>\n",
       "      <td>0.0</td>\n",
       "      <td>3</td>\n",
       "    </tr>\n",
       "    <tr>\n",
       "      <th>1</th>\n",
       "      <td>201304</td>\n",
       "      <td>4-33334660</td>\n",
       "      <td>G8T792</td>\n",
       "      <td>0.0</td>\n",
       "      <td>0.0</td>\n",
       "      <td>0.0</td>\n",
       "      <td>0.0</td>\n",
       "      <td>0.0</td>\n",
       "      <td>0.0</td>\n",
       "      <td>0.0</td>\n",
       "      <td>...</td>\n",
       "      <td>0.0</td>\n",
       "      <td>0.0</td>\n",
       "      <td>0.0</td>\n",
       "      <td>0.0</td>\n",
       "      <td>0.0</td>\n",
       "      <td>0.0</td>\n",
       "      <td>0.0</td>\n",
       "      <td>0.0</td>\n",
       "      <td>0.0</td>\n",
       "      <td>4</td>\n",
       "    </tr>\n",
       "    <tr>\n",
       "      <th>2</th>\n",
       "      <td>201305</td>\n",
       "      <td>4-33334660</td>\n",
       "      <td>G8T792</td>\n",
       "      <td>0.0</td>\n",
       "      <td>0.0</td>\n",
       "      <td>0.0</td>\n",
       "      <td>0.0</td>\n",
       "      <td>0.0</td>\n",
       "      <td>0.0</td>\n",
       "      <td>0.0</td>\n",
       "      <td>...</td>\n",
       "      <td>0.0</td>\n",
       "      <td>0.0</td>\n",
       "      <td>0.0</td>\n",
       "      <td>0.0</td>\n",
       "      <td>0.0</td>\n",
       "      <td>0.0</td>\n",
       "      <td>0.0</td>\n",
       "      <td>0.0</td>\n",
       "      <td>0.0</td>\n",
       "      <td>5</td>\n",
       "    </tr>\n",
       "    <tr>\n",
       "      <th>3</th>\n",
       "      <td>201306</td>\n",
       "      <td>4-33334660</td>\n",
       "      <td>G8T792</td>\n",
       "      <td>0.0</td>\n",
       "      <td>0.0</td>\n",
       "      <td>0.0</td>\n",
       "      <td>0.0</td>\n",
       "      <td>0.0</td>\n",
       "      <td>0.0</td>\n",
       "      <td>0.0</td>\n",
       "      <td>...</td>\n",
       "      <td>0.0</td>\n",
       "      <td>0.0</td>\n",
       "      <td>0.0</td>\n",
       "      <td>0.0</td>\n",
       "      <td>0.0</td>\n",
       "      <td>0.0</td>\n",
       "      <td>0.0</td>\n",
       "      <td>0.0</td>\n",
       "      <td>0.0</td>\n",
       "      <td>6</td>\n",
       "    </tr>\n",
       "    <tr>\n",
       "      <th>4</th>\n",
       "      <td>201307</td>\n",
       "      <td>4-33334660</td>\n",
       "      <td>G8T792</td>\n",
       "      <td>0.0</td>\n",
       "      <td>0.0</td>\n",
       "      <td>0.0</td>\n",
       "      <td>0.0</td>\n",
       "      <td>0.0</td>\n",
       "      <td>0.0</td>\n",
       "      <td>0.0</td>\n",
       "      <td>...</td>\n",
       "      <td>0.0</td>\n",
       "      <td>0.0</td>\n",
       "      <td>0.0</td>\n",
       "      <td>0.0</td>\n",
       "      <td>0.0</td>\n",
       "      <td>0.0</td>\n",
       "      <td>0.0</td>\n",
       "      <td>0.0</td>\n",
       "      <td>0.0</td>\n",
       "      <td>7</td>\n",
       "    </tr>\n",
       "  </tbody>\n",
       "</table>\n",
       "<p>5 rows × 22 columns</p>\n",
       "</div>"
      ],
      "text/plain": [
       "   PERIODO         CUC  P_AUTO  MONTO_DOLARES_01  NUM_FACTURAS_01  \\\n",
       "0   201303  4-33334660  G8T792               0.0              0.0   \n",
       "1   201304  4-33334660  G8T792               0.0              0.0   \n",
       "2   201305  4-33334660  G8T792               0.0              0.0   \n",
       "3   201306  4-33334660  G8T792               0.0              0.0   \n",
       "4   201307  4-33334660  G8T792               0.0              0.0   \n",
       "\n",
       "   MONTO_DOLARES_02  NUM_FACTURAS_02  MONTO_DOLARES_03  NUM_FACTURAS_03  \\\n",
       "0               0.0              0.0               0.0              0.0   \n",
       "1               0.0              0.0               0.0              0.0   \n",
       "2               0.0              0.0               0.0              0.0   \n",
       "3               0.0              0.0               0.0              0.0   \n",
       "4               0.0              0.0               0.0              0.0   \n",
       "\n",
       "   MONTO_DOLARES_04   ...     NUM_FACTURAS_05  MONTO_DOLARES_06  \\\n",
       "0               0.0   ...                 0.0               0.0   \n",
       "1               0.0   ...                 0.0               0.0   \n",
       "2               0.0   ...                 0.0               0.0   \n",
       "3               0.0   ...                 0.0               0.0   \n",
       "4               0.0   ...                 0.0               0.0   \n",
       "\n",
       "   NUM_FACTURAS_06  MONTO_DOLARES_07  NUM_FACTURAS_07  MONTO_DOLARES_08  \\\n",
       "0              0.0               0.0              0.0               0.0   \n",
       "1              0.0               0.0              0.0               0.0   \n",
       "2              0.0               0.0              0.0               0.0   \n",
       "3              0.0               0.0              0.0               0.0   \n",
       "4              0.0               0.0              0.0               0.0   \n",
       "\n",
       "   NUM_FACTURAS_08  MONTO_DOLARES_09  NUM_FACTURAS_09  NUMEROS  \n",
       "0              0.0               0.0              0.0        3  \n",
       "1              0.0               0.0              0.0        4  \n",
       "2              0.0               0.0              0.0        5  \n",
       "3              0.0               0.0              0.0        6  \n",
       "4              0.0               0.0              0.0        7  \n",
       "\n",
       "[5 rows x 22 columns]"
      ]
     },
     "execution_count": 25,
     "metadata": {},
     "output_type": "execute_result"
    }
   ],
   "source": [
    "tabla_veh_temp = pd.merge(tabla_veh_temp, homologador_fechas, how=\"left\", on = ['PERIODO'])\n",
    "tabla_veh_temp.head()"
   ]
  },
  {
   "cell_type": "code",
   "execution_count": 26,
   "metadata": {
    "collapsed": false
   },
   "outputs": [
    {
     "data": {
      "text/plain": [
       "Index(['PERIODO', 'CUC', 'P_AUTO', 'MONTO_DOLARES_01', 'NUM_FACTURAS_01',\n",
       "       'MONTO_DOLARES_02', 'NUM_FACTURAS_02', 'MONTO_DOLARES_03',\n",
       "       'NUM_FACTURAS_03', 'MONTO_DOLARES_04', 'NUM_FACTURAS_04',\n",
       "       'MONTO_DOLARES_05', 'NUM_FACTURAS_05', 'MONTO_DOLARES_06',\n",
       "       'NUM_FACTURAS_06', 'MONTO_DOLARES_07', 'NUM_FACTURAS_07',\n",
       "       'MONTO_DOLARES_08', 'NUM_FACTURAS_08', 'MONTO_DOLARES_09',\n",
       "       'NUM_FACTURAS_09', 'NUMEROS'],\n",
       "      dtype='object')"
      ]
     },
     "execution_count": 26,
     "metadata": {},
     "output_type": "execute_result"
    }
   ],
   "source": [
    "tabla_veh_temp.columns"
   ]
  },
  {
   "cell_type": "code",
   "execution_count": 27,
   "metadata": {
    "collapsed": false,
    "scrolled": true
   },
   "outputs": [],
   "source": [
    "tabla_veh_temp['NUMEROS'] = tabla_veh_temp['NUMEROS'] + 1"
   ]
  },
  {
   "cell_type": "code",
   "execution_count": 28,
   "metadata": {
    "collapsed": false,
    "scrolled": true
   },
   "outputs": [],
   "source": [
    "temp = pd.merge(tabla_veh_temp, tabla_cobranzas_temp, how=\"left\", on = ['NUMEROS','CUC','P_AUTO'])"
   ]
  },
  {
   "cell_type": "code",
   "execution_count": 29,
   "metadata": {
    "collapsed": false
   },
   "outputs": [
    {
     "data": {
      "text/html": [
       "<div>\n",
       "<table border=\"1\" class=\"dataframe\">\n",
       "  <thead>\n",
       "    <tr style=\"text-align: right;\">\n",
       "      <th></th>\n",
       "      <th>PERIODO_x</th>\n",
       "      <th>CUC</th>\n",
       "      <th>P_AUTO</th>\n",
       "      <th>MONTO_DOLARES_01</th>\n",
       "      <th>NUM_FACTURAS_01</th>\n",
       "      <th>MONTO_DOLARES_02</th>\n",
       "      <th>NUM_FACTURAS_02</th>\n",
       "      <th>MONTO_DOLARES_03</th>\n",
       "      <th>NUM_FACTURAS_03</th>\n",
       "      <th>MONTO_DOLARES_04</th>\n",
       "      <th>...</th>\n",
       "      <th>MONTO_DOLARES_07</th>\n",
       "      <th>NUM_FACTURAS_07</th>\n",
       "      <th>MONTO_DOLARES_08</th>\n",
       "      <th>NUM_FACTURAS_08</th>\n",
       "      <th>MONTO_DOLARES_09</th>\n",
       "      <th>NUM_FACTURAS_09</th>\n",
       "      <th>NUMEROS</th>\n",
       "      <th>PERIODO_y</th>\n",
       "      <th>NUM_FACTURAS</th>\n",
       "      <th>MONTO_DOLARES</th>\n",
       "    </tr>\n",
       "  </thead>\n",
       "  <tbody>\n",
       "    <tr>\n",
       "      <th>0</th>\n",
       "      <td>201303</td>\n",
       "      <td>4-33334660</td>\n",
       "      <td>G8T792</td>\n",
       "      <td>0.0</td>\n",
       "      <td>0.0</td>\n",
       "      <td>0.0</td>\n",
       "      <td>0.0</td>\n",
       "      <td>0.0</td>\n",
       "      <td>0.0</td>\n",
       "      <td>0.0</td>\n",
       "      <td>...</td>\n",
       "      <td>0.0</td>\n",
       "      <td>0.0</td>\n",
       "      <td>0.0</td>\n",
       "      <td>0.0</td>\n",
       "      <td>0.0</td>\n",
       "      <td>0.0</td>\n",
       "      <td>4</td>\n",
       "      <td>NaN</td>\n",
       "      <td>NaN</td>\n",
       "      <td>NaN</td>\n",
       "    </tr>\n",
       "    <tr>\n",
       "      <th>1</th>\n",
       "      <td>201304</td>\n",
       "      <td>4-33334660</td>\n",
       "      <td>G8T792</td>\n",
       "      <td>0.0</td>\n",
       "      <td>0.0</td>\n",
       "      <td>0.0</td>\n",
       "      <td>0.0</td>\n",
       "      <td>0.0</td>\n",
       "      <td>0.0</td>\n",
       "      <td>0.0</td>\n",
       "      <td>...</td>\n",
       "      <td>0.0</td>\n",
       "      <td>0.0</td>\n",
       "      <td>0.0</td>\n",
       "      <td>0.0</td>\n",
       "      <td>0.0</td>\n",
       "      <td>0.0</td>\n",
       "      <td>5</td>\n",
       "      <td>NaN</td>\n",
       "      <td>NaN</td>\n",
       "      <td>NaN</td>\n",
       "    </tr>\n",
       "    <tr>\n",
       "      <th>2</th>\n",
       "      <td>201305</td>\n",
       "      <td>4-33334660</td>\n",
       "      <td>G8T792</td>\n",
       "      <td>0.0</td>\n",
       "      <td>0.0</td>\n",
       "      <td>0.0</td>\n",
       "      <td>0.0</td>\n",
       "      <td>0.0</td>\n",
       "      <td>0.0</td>\n",
       "      <td>0.0</td>\n",
       "      <td>...</td>\n",
       "      <td>0.0</td>\n",
       "      <td>0.0</td>\n",
       "      <td>0.0</td>\n",
       "      <td>0.0</td>\n",
       "      <td>0.0</td>\n",
       "      <td>0.0</td>\n",
       "      <td>6</td>\n",
       "      <td>NaN</td>\n",
       "      <td>NaN</td>\n",
       "      <td>NaN</td>\n",
       "    </tr>\n",
       "    <tr>\n",
       "      <th>3</th>\n",
       "      <td>201306</td>\n",
       "      <td>4-33334660</td>\n",
       "      <td>G8T792</td>\n",
       "      <td>0.0</td>\n",
       "      <td>0.0</td>\n",
       "      <td>0.0</td>\n",
       "      <td>0.0</td>\n",
       "      <td>0.0</td>\n",
       "      <td>0.0</td>\n",
       "      <td>0.0</td>\n",
       "      <td>...</td>\n",
       "      <td>0.0</td>\n",
       "      <td>0.0</td>\n",
       "      <td>0.0</td>\n",
       "      <td>0.0</td>\n",
       "      <td>0.0</td>\n",
       "      <td>0.0</td>\n",
       "      <td>7</td>\n",
       "      <td>NaN</td>\n",
       "      <td>NaN</td>\n",
       "      <td>NaN</td>\n",
       "    </tr>\n",
       "    <tr>\n",
       "      <th>4</th>\n",
       "      <td>201307</td>\n",
       "      <td>4-33334660</td>\n",
       "      <td>G8T792</td>\n",
       "      <td>0.0</td>\n",
       "      <td>0.0</td>\n",
       "      <td>0.0</td>\n",
       "      <td>0.0</td>\n",
       "      <td>0.0</td>\n",
       "      <td>0.0</td>\n",
       "      <td>0.0</td>\n",
       "      <td>...</td>\n",
       "      <td>0.0</td>\n",
       "      <td>0.0</td>\n",
       "      <td>0.0</td>\n",
       "      <td>0.0</td>\n",
       "      <td>0.0</td>\n",
       "      <td>0.0</td>\n",
       "      <td>8</td>\n",
       "      <td>NaN</td>\n",
       "      <td>NaN</td>\n",
       "      <td>NaN</td>\n",
       "    </tr>\n",
       "  </tbody>\n",
       "</table>\n",
       "<p>5 rows × 25 columns</p>\n",
       "</div>"
      ],
      "text/plain": [
       "   PERIODO_x         CUC  P_AUTO  MONTO_DOLARES_01  NUM_FACTURAS_01  \\\n",
       "0     201303  4-33334660  G8T792               0.0              0.0   \n",
       "1     201304  4-33334660  G8T792               0.0              0.0   \n",
       "2     201305  4-33334660  G8T792               0.0              0.0   \n",
       "3     201306  4-33334660  G8T792               0.0              0.0   \n",
       "4     201307  4-33334660  G8T792               0.0              0.0   \n",
       "\n",
       "   MONTO_DOLARES_02  NUM_FACTURAS_02  MONTO_DOLARES_03  NUM_FACTURAS_03  \\\n",
       "0               0.0              0.0               0.0              0.0   \n",
       "1               0.0              0.0               0.0              0.0   \n",
       "2               0.0              0.0               0.0              0.0   \n",
       "3               0.0              0.0               0.0              0.0   \n",
       "4               0.0              0.0               0.0              0.0   \n",
       "\n",
       "   MONTO_DOLARES_04      ...        MONTO_DOLARES_07  NUM_FACTURAS_07  \\\n",
       "0               0.0      ...                     0.0              0.0   \n",
       "1               0.0      ...                     0.0              0.0   \n",
       "2               0.0      ...                     0.0              0.0   \n",
       "3               0.0      ...                     0.0              0.0   \n",
       "4               0.0      ...                     0.0              0.0   \n",
       "\n",
       "   MONTO_DOLARES_08  NUM_FACTURAS_08  MONTO_DOLARES_09  NUM_FACTURAS_09  \\\n",
       "0               0.0              0.0               0.0              0.0   \n",
       "1               0.0              0.0               0.0              0.0   \n",
       "2               0.0              0.0               0.0              0.0   \n",
       "3               0.0              0.0               0.0              0.0   \n",
       "4               0.0              0.0               0.0              0.0   \n",
       "\n",
       "   NUMEROS  PERIODO_y  NUM_FACTURAS  MONTO_DOLARES  \n",
       "0        4        NaN           NaN            NaN  \n",
       "1        5        NaN           NaN            NaN  \n",
       "2        6        NaN           NaN            NaN  \n",
       "3        7        NaN           NaN            NaN  \n",
       "4        8        NaN           NaN            NaN  \n",
       "\n",
       "[5 rows x 25 columns]"
      ]
     },
     "execution_count": 29,
     "metadata": {},
     "output_type": "execute_result"
    }
   ],
   "source": [
    "temp.head()"
   ]
  },
  {
   "cell_type": "code",
   "execution_count": 30,
   "metadata": {
    "collapsed": true
   },
   "outputs": [],
   "source": [
    "temp = temp[['PERIODO_x','CUC','P_AUTO','NUM_FACTURAS']]"
   ]
  },
  {
   "cell_type": "code",
   "execution_count": 31,
   "metadata": {
    "collapsed": false
   },
   "outputs": [
    {
     "data": {
      "text/plain": [
       "Index(['PERIODO_x', 'CUC', 'P_AUTO', 'NUM_FACTURAS'], dtype='object')"
      ]
     },
     "execution_count": 31,
     "metadata": {},
     "output_type": "execute_result"
    }
   ],
   "source": [
    "temp.columns"
   ]
  },
  {
   "cell_type": "code",
   "execution_count": 32,
   "metadata": {
    "collapsed": false
   },
   "outputs": [],
   "source": [
    "temp.rename(columns={'PERIODO_x':'PERIODO', 'NUM_FACTURAS': 'TARGET_NUM_FACTURAS'}, inplace=True)"
   ]
  },
  {
   "cell_type": "code",
   "execution_count": 33,
   "metadata": {
    "collapsed": false
   },
   "outputs": [
    {
     "data": {
      "text/plain": [
       "Index(['PERIODO', 'CUC', 'P_AUTO', 'TARGET_NUM_FACTURAS'], dtype='object')"
      ]
     },
     "execution_count": 33,
     "metadata": {},
     "output_type": "execute_result"
    }
   ],
   "source": [
    "temp.columns"
   ]
  },
  {
   "cell_type": "code",
   "execution_count": 34,
   "metadata": {
    "collapsed": true
   },
   "outputs": [],
   "source": [
    "temp.loc[(temp['TARGET_NUM_FACTURAS'].isnull()),\"TARGET\"] = 0\n",
    "temp.loc[(-temp['TARGET_NUM_FACTURAS'].isnull()),\"TARGET\"] = 1"
   ]
  },
  {
   "cell_type": "code",
   "execution_count": 35,
   "metadata": {
    "collapsed": true
   },
   "outputs": [],
   "source": [
    "# Falta unir al Gran Dataset"
   ]
  },
  {
   "cell_type": "code",
   "execution_count": 36,
   "metadata": {
    "collapsed": true
   },
   "outputs": [],
   "source": [
    "train = pd.merge(train_pf, temp[['PERIODO','CUC','P_AUTO','TARGET']], how=\"left\", on = ['PERIODO','CUC','P_AUTO'])"
   ]
  },
  {
   "cell_type": "markdown",
   "metadata": {},
   "source": [
    "## Descripciones Data Train"
   ]
  },
  {
   "cell_type": "code",
   "execution_count": 37,
   "metadata": {
    "collapsed": false
   },
   "outputs": [
    {
     "data": {
      "text/plain": [
       "1807616"
      ]
     },
     "execution_count": 37,
     "metadata": {},
     "output_type": "execute_result"
    }
   ],
   "source": [
    "len(train)"
   ]
  },
  {
   "cell_type": "code",
   "execution_count": 38,
   "metadata": {
    "collapsed": true
   },
   "outputs": [],
   "source": [
    "train.to_csv(\"C:/Users/Keven/Desktop/RIMAC_CHALLENGE/DS_Generados/BD_Cobranza_ProcDatos_02.txt\", sep = ',', index = False)"
   ]
  },
  {
   "cell_type": "code",
   "execution_count": null,
   "metadata": {
    "collapsed": true
   },
   "outputs": [],
   "source": []
  }
 ],
 "metadata": {
  "kernelspec": {
   "display_name": "Python 3",
   "language": "python",
   "name": "python3"
  },
  "language_info": {
   "codemirror_mode": {
    "name": "ipython",
    "version": 3
   },
   "file_extension": ".py",
   "mimetype": "text/x-python",
   "name": "python",
   "nbconvert_exporter": "python",
   "pygments_lexer": "ipython3",
   "version": "3.6.0"
  }
 },
 "nbformat": 4,
 "nbformat_minor": 2
}
